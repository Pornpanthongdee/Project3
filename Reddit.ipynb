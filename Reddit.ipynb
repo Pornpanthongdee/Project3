{
 "cells": [
  {
   "cell_type": "markdown",
   "id": "1fc66b71",
   "metadata": {},
   "source": [
    "**In the world of games, there are some classics that are never going out of style.**\n",
    "\n",
    "One of those is Mario Party, which has become a staple in gaming culture over the past 20 years.\n",
    "\n",
    "Another game that's been around for decades is The Legend of Zelda: Ocarina of Time. Both of these games were made by Nintendo and have helped define the company's brand identity in recent years."
   ]
  },
  {
   "cell_type": "code",
   "execution_count": 1,
   "id": "dbe46841",
   "metadata": {},
   "outputs": [],
   "source": [
    "import requests\n",
    "import time\n",
    "import nltk\n",
    "import pandas as pd\n",
    "import regex as re\n",
    "import numpy as np\n",
    "\n",
    "from nltk.corpus import stopwords\n",
    "from nltk.tokenize import RegexpTokenizer\n",
    "from nltk.stem import WordNetLemmatizer\n",
    "\n",
    "from sklearn.feature_extraction.text import CountVectorizer, TfidfVectorizer\n",
    "from sklearn.model_selection import train_test_split, cross_val_score, GridSearchCV\n",
    "from sklearn.linear_model import LogisticRegression\n",
    "from sklearn.neighbors import KNeighborsClassifier\n",
    "from sklearn.ensemble import ExtraTreesClassifier, RandomForestClassifier\n",
    "from sklearn.tree import DecisionTreeClassifier"
   ]
  },
  {
   "cell_type": "code",
   "execution_count": 2,
   "id": "318e76aa",
   "metadata": {},
   "outputs": [],
   "source": [
    "url = 'https://www.reddit.com/hot.json'"
   ]
  },
  {
   "cell_type": "code",
   "execution_count": 5,
   "id": "a374026c",
   "metadata": {},
   "outputs": [],
   "source": [
    "headers = {'User-agent':'Eye eye bot 00'}"
   ]
  },
  {
   "cell_type": "code",
   "execution_count": 6,
   "id": "097bae4d",
   "metadata": {},
   "outputs": [],
   "source": [
    "\n",
    "res = requests.get(url,headers=headers)"
   ]
  },
  {
   "cell_type": "code",
   "execution_count": 7,
   "id": "96bc181a",
   "metadata": {},
   "outputs": [
    {
     "data": {
      "text/plain": [
       "200"
      ]
     },
     "execution_count": 7,
     "metadata": {},
     "output_type": "execute_result"
    }
   ],
   "source": [
    "res.status_code"
   ]
  },
  {
   "cell_type": "code",
   "execution_count": 10,
   "id": "e6cf07a6",
   "metadata": {},
   "outputs": [],
   "source": [
    "the_json = res.json()"
   ]
  },
  {
   "cell_type": "code",
   "execution_count": 11,
   "id": "3d60cedf",
   "metadata": {},
   "outputs": [
    {
     "data": {
      "text/plain": [
       "['data', 'kind']"
      ]
     },
     "execution_count": 11,
     "metadata": {},
     "output_type": "execute_result"
    }
   ],
   "source": [
    "sorted(the_json.keys())"
   ]
  },
  {
   "cell_type": "code",
   "execution_count": 13,
   "id": "0988f4ac",
   "metadata": {},
   "outputs": [
    {
     "data": {
      "text/plain": [
       "['after', 'before', 'children', 'dist', 'geo_filter', 'modhash']"
      ]
     },
     "execution_count": 13,
     "metadata": {},
     "output_type": "execute_result"
    }
   ],
   "source": [
    "sorted(the_json['data'].keys())"
   ]
  },
  {
   "cell_type": "code",
   "execution_count": 14,
   "id": "81cfd3bb",
   "metadata": {},
   "outputs": [
    {
     "data": {
      "text/plain": [
       "25"
      ]
     },
     "execution_count": 14,
     "metadata": {},
     "output_type": "execute_result"
    }
   ],
   "source": [
    "len(the_json['data']['children'])"
   ]
  },
  {
   "cell_type": "code",
   "execution_count": 16,
   "id": "39442e31",
   "metadata": {},
   "outputs": [
    {
     "data": {
      "text/html": [
       "<div>\n",
       "<style scoped>\n",
       "    .dataframe tbody tr th:only-of-type {\n",
       "        vertical-align: middle;\n",
       "    }\n",
       "\n",
       "    .dataframe tbody tr th {\n",
       "        vertical-align: top;\n",
       "    }\n",
       "\n",
       "    .dataframe thead th {\n",
       "        text-align: right;\n",
       "    }\n",
       "</style>\n",
       "<table border=\"1\" class=\"dataframe\">\n",
       "  <thead>\n",
       "    <tr style=\"text-align: right;\">\n",
       "      <th></th>\n",
       "      <th>kind</th>\n",
       "      <th>data</th>\n",
       "    </tr>\n",
       "  </thead>\n",
       "  <tbody>\n",
       "    <tr>\n",
       "      <th>0</th>\n",
       "      <td>t3</td>\n",
       "      <td>{'approved_at_utc': None, 'subreddit': 'AskRed...</td>\n",
       "    </tr>\n",
       "    <tr>\n",
       "      <th>1</th>\n",
       "      <td>t3</td>\n",
       "      <td>{'approved_at_utc': None, 'subreddit': 'meirl'...</td>\n",
       "    </tr>\n",
       "    <tr>\n",
       "      <th>2</th>\n",
       "      <td>t3</td>\n",
       "      <td>{'approved_at_utc': None, 'subreddit': 'DnD', ...</td>\n",
       "    </tr>\n",
       "    <tr>\n",
       "      <th>3</th>\n",
       "      <td>t3</td>\n",
       "      <td>{'approved_at_utc': None, 'subreddit': 'antiwo...</td>\n",
       "    </tr>\n",
       "    <tr>\n",
       "      <th>4</th>\n",
       "      <td>t3</td>\n",
       "      <td>{'approved_at_utc': None, 'subreddit': 'funny'...</td>\n",
       "    </tr>\n",
       "    <tr>\n",
       "      <th>5</th>\n",
       "      <td>t3</td>\n",
       "      <td>{'approved_at_utc': None, 'subreddit': 'WhiteP...</td>\n",
       "    </tr>\n",
       "    <tr>\n",
       "      <th>6</th>\n",
       "      <td>t3</td>\n",
       "      <td>{'approved_at_utc': None, 'subreddit': 'politi...</td>\n",
       "    </tr>\n",
       "    <tr>\n",
       "      <th>7</th>\n",
       "      <td>t3</td>\n",
       "      <td>{'approved_at_utc': None, 'subreddit': 'nba', ...</td>\n",
       "    </tr>\n",
       "    <tr>\n",
       "      <th>8</th>\n",
       "      <td>t3</td>\n",
       "      <td>{'approved_at_utc': None, 'subreddit': 'yousee...</td>\n",
       "    </tr>\n",
       "    <tr>\n",
       "      <th>9</th>\n",
       "      <td>t3</td>\n",
       "      <td>{'approved_at_utc': None, 'subreddit': 'atheis...</td>\n",
       "    </tr>\n",
       "    <tr>\n",
       "      <th>10</th>\n",
       "      <td>t3</td>\n",
       "      <td>{'approved_at_utc': None, 'subreddit': 'HolUp'...</td>\n",
       "    </tr>\n",
       "    <tr>\n",
       "      <th>11</th>\n",
       "      <td>t3</td>\n",
       "      <td>{'approved_at_utc': None, 'subreddit': 'CFB', ...</td>\n",
       "    </tr>\n",
       "    <tr>\n",
       "      <th>12</th>\n",
       "      <td>t3</td>\n",
       "      <td>{'approved_at_utc': None, 'subreddit': 'Public...</td>\n",
       "    </tr>\n",
       "    <tr>\n",
       "      <th>13</th>\n",
       "      <td>t3</td>\n",
       "      <td>{'approved_at_utc': None, 'subreddit': 'mildly...</td>\n",
       "    </tr>\n",
       "    <tr>\n",
       "      <th>14</th>\n",
       "      <td>t3</td>\n",
       "      <td>{'approved_at_utc': None, 'subreddit': 'tumblr...</td>\n",
       "    </tr>\n",
       "    <tr>\n",
       "      <th>15</th>\n",
       "      <td>t3</td>\n",
       "      <td>{'approved_at_utc': None, 'subreddit': 'antiwo...</td>\n",
       "    </tr>\n",
       "    <tr>\n",
       "      <th>16</th>\n",
       "      <td>t3</td>\n",
       "      <td>{'approved_at_utc': None, 'subreddit': 'Progra...</td>\n",
       "    </tr>\n",
       "    <tr>\n",
       "      <th>17</th>\n",
       "      <td>t3</td>\n",
       "      <td>{'approved_at_utc': None, 'subreddit': 'Abrupt...</td>\n",
       "    </tr>\n",
       "    <tr>\n",
       "      <th>18</th>\n",
       "      <td>t3</td>\n",
       "      <td>{'approved_at_utc': None, 'subreddit': 'league...</td>\n",
       "    </tr>\n",
       "    <tr>\n",
       "      <th>19</th>\n",
       "      <td>t3</td>\n",
       "      <td>{'approved_at_utc': None, 'subreddit': 'Damnth...</td>\n",
       "    </tr>\n",
       "    <tr>\n",
       "      <th>20</th>\n",
       "      <td>t3</td>\n",
       "      <td>{'approved_at_utc': None, 'subreddit': 'gifs',...</td>\n",
       "    </tr>\n",
       "    <tr>\n",
       "      <th>21</th>\n",
       "      <td>t3</td>\n",
       "      <td>{'approved_at_utc': None, 'subreddit': 'todayi...</td>\n",
       "    </tr>\n",
       "    <tr>\n",
       "      <th>22</th>\n",
       "      <td>t3</td>\n",
       "      <td>{'approved_at_utc': None, 'subreddit': 'terrib...</td>\n",
       "    </tr>\n",
       "    <tr>\n",
       "      <th>23</th>\n",
       "      <td>t3</td>\n",
       "      <td>{'approved_at_utc': None, 'subreddit': 'Shower...</td>\n",
       "    </tr>\n",
       "    <tr>\n",
       "      <th>24</th>\n",
       "      <td>t3</td>\n",
       "      <td>{'approved_at_utc': None, 'subreddit': 'worldn...</td>\n",
       "    </tr>\n",
       "  </tbody>\n",
       "</table>\n",
       "</div>"
      ],
      "text/plain": [
       "   kind                                               data\n",
       "0    t3  {'approved_at_utc': None, 'subreddit': 'AskRed...\n",
       "1    t3  {'approved_at_utc': None, 'subreddit': 'meirl'...\n",
       "2    t3  {'approved_at_utc': None, 'subreddit': 'DnD', ...\n",
       "3    t3  {'approved_at_utc': None, 'subreddit': 'antiwo...\n",
       "4    t3  {'approved_at_utc': None, 'subreddit': 'funny'...\n",
       "5    t3  {'approved_at_utc': None, 'subreddit': 'WhiteP...\n",
       "6    t3  {'approved_at_utc': None, 'subreddit': 'politi...\n",
       "7    t3  {'approved_at_utc': None, 'subreddit': 'nba', ...\n",
       "8    t3  {'approved_at_utc': None, 'subreddit': 'yousee...\n",
       "9    t3  {'approved_at_utc': None, 'subreddit': 'atheis...\n",
       "10   t3  {'approved_at_utc': None, 'subreddit': 'HolUp'...\n",
       "11   t3  {'approved_at_utc': None, 'subreddit': 'CFB', ...\n",
       "12   t3  {'approved_at_utc': None, 'subreddit': 'Public...\n",
       "13   t3  {'approved_at_utc': None, 'subreddit': 'mildly...\n",
       "14   t3  {'approved_at_utc': None, 'subreddit': 'tumblr...\n",
       "15   t3  {'approved_at_utc': None, 'subreddit': 'antiwo...\n",
       "16   t3  {'approved_at_utc': None, 'subreddit': 'Progra...\n",
       "17   t3  {'approved_at_utc': None, 'subreddit': 'Abrupt...\n",
       "18   t3  {'approved_at_utc': None, 'subreddit': 'league...\n",
       "19   t3  {'approved_at_utc': None, 'subreddit': 'Damnth...\n",
       "20   t3  {'approved_at_utc': None, 'subreddit': 'gifs',...\n",
       "21   t3  {'approved_at_utc': None, 'subreddit': 'todayi...\n",
       "22   t3  {'approved_at_utc': None, 'subreddit': 'terrib...\n",
       "23   t3  {'approved_at_utc': None, 'subreddit': 'Shower...\n",
       "24   t3  {'approved_at_utc': None, 'subreddit': 'worldn..."
      ]
     },
     "execution_count": 16,
     "metadata": {},
     "output_type": "execute_result"
    }
   ],
   "source": [
    "pd.DataFrame(the_json['data']['children'])"
   ]
  },
  {
   "cell_type": "code",
   "execution_count": 17,
   "id": "e8b335a4",
   "metadata": {},
   "outputs": [
    {
     "data": {
      "text/plain": [
       "{'approved_at_utc': None,\n",
       " 'subreddit': 'AskReddit',\n",
       " 'selftext': '',\n",
       " 'author_fullname': 't2_8ub49van',\n",
       " 'saved': False,\n",
       " 'mod_reason_title': None,\n",
       " 'gilded': 0,\n",
       " 'clicked': False,\n",
       " 'title': 'What is something ancient that only an Internet Veteran can remember?',\n",
       " 'link_flair_richtext': [],\n",
       " 'subreddit_name_prefixed': 'r/AskReddit',\n",
       " 'hidden': False,\n",
       " 'pwls': 6,\n",
       " 'link_flair_css_class': None,\n",
       " 'downs': 0,\n",
       " 'thumbnail_height': None,\n",
       " 'top_awarded_type': None,\n",
       " 'hide_score': False,\n",
       " 'name': 't3_xz2zt9',\n",
       " 'quarantine': False,\n",
       " 'link_flair_text_color': 'dark',\n",
       " 'upvote_ratio': 0.94,\n",
       " 'author_flair_background_color': None,\n",
       " 'subreddit_type': 'public',\n",
       " 'ups': 3402,\n",
       " 'total_awards_received': 2,\n",
       " 'media_embed': {},\n",
       " 'thumbnail_width': None,\n",
       " 'author_flair_template_id': None,\n",
       " 'is_original_content': False,\n",
       " 'user_reports': [],\n",
       " 'secure_media': None,\n",
       " 'is_reddit_media_domain': False,\n",
       " 'is_meta': False,\n",
       " 'category': None,\n",
       " 'secure_media_embed': {},\n",
       " 'link_flair_text': None,\n",
       " 'can_mod_post': False,\n",
       " 'score': 3402,\n",
       " 'approved_by': None,\n",
       " 'is_created_from_ads_ui': False,\n",
       " 'author_premium': False,\n",
       " 'thumbnail': 'self',\n",
       " 'edited': False,\n",
       " 'author_flair_css_class': None,\n",
       " 'author_flair_richtext': [],\n",
       " 'gildings': {},\n",
       " 'content_categories': None,\n",
       " 'is_self': True,\n",
       " 'mod_note': None,\n",
       " 'created': 1665261502.0,\n",
       " 'link_flair_type': 'text',\n",
       " 'wls': 6,\n",
       " 'removed_by_category': None,\n",
       " 'banned_by': None,\n",
       " 'author_flair_type': 'text',\n",
       " 'domain': 'self.AskReddit',\n",
       " 'allow_live_comments': True,\n",
       " 'selftext_html': None,\n",
       " 'likes': None,\n",
       " 'suggested_sort': None,\n",
       " 'banned_at_utc': None,\n",
       " 'view_count': None,\n",
       " 'archived': False,\n",
       " 'no_follow': False,\n",
       " 'is_crosspostable': False,\n",
       " 'pinned': False,\n",
       " 'over_18': False,\n",
       " 'all_awardings': [{'giver_coin_reward': None,\n",
       "   'subreddit_id': None,\n",
       "   'is_new': False,\n",
       "   'days_of_drip_extension': None,\n",
       "   'coin_price': 125,\n",
       "   'id': 'award_5f123e3d-4f48-42f4-9c11-e98b566d5897',\n",
       "   'penny_donate': None,\n",
       "   'award_sub_type': 'GLOBAL',\n",
       "   'coin_reward': 0,\n",
       "   'icon_url': 'https://i.redd.it/award_images/t5_22cerq/5izbv4fn0md41_Wholesome.png',\n",
       "   'days_of_premium': None,\n",
       "   'tiers_by_required_awardings': None,\n",
       "   'resized_icons': [{'url': 'https://preview.redd.it/award_images/t5_22cerq/5izbv4fn0md41_Wholesome.png?width=16&amp;height=16&amp;auto=webp&amp;s=92932f465d58e4c16b12b6eac4ca07d27e3d11c0',\n",
       "     'width': 16,\n",
       "     'height': 16},\n",
       "    {'url': 'https://preview.redd.it/award_images/t5_22cerq/5izbv4fn0md41_Wholesome.png?width=32&amp;height=32&amp;auto=webp&amp;s=d11484a208d68a318bf9d4fcf371171a1cb6a7ef',\n",
       "     'width': 32,\n",
       "     'height': 32},\n",
       "    {'url': 'https://preview.redd.it/award_images/t5_22cerq/5izbv4fn0md41_Wholesome.png?width=48&amp;height=48&amp;auto=webp&amp;s=febdf28b6f39f7da7eb1365325b85e0bb49a9f63',\n",
       "     'width': 48,\n",
       "     'height': 48},\n",
       "    {'url': 'https://preview.redd.it/award_images/t5_22cerq/5izbv4fn0md41_Wholesome.png?width=64&amp;height=64&amp;auto=webp&amp;s=b4406a2d88bf86fa3dc8a45aacf7e0c7bdccc4fb',\n",
       "     'width': 64,\n",
       "     'height': 64},\n",
       "    {'url': 'https://preview.redd.it/award_images/t5_22cerq/5izbv4fn0md41_Wholesome.png?width=128&amp;height=128&amp;auto=webp&amp;s=19555b13e3e196b62eeb9160d1ac1d1b372dcb0b',\n",
       "     'width': 128,\n",
       "     'height': 128}],\n",
       "   'icon_width': 2048,\n",
       "   'static_icon_width': 2048,\n",
       "   'start_date': None,\n",
       "   'is_enabled': True,\n",
       "   'awardings_required_to_grant_benefits': None,\n",
       "   'description': 'When you come across a feel-good thing.',\n",
       "   'end_date': None,\n",
       "   'sticky_duration_seconds': None,\n",
       "   'subreddit_coin_reward': 0,\n",
       "   'count': 1,\n",
       "   'static_icon_height': 2048,\n",
       "   'name': 'Wholesome',\n",
       "   'resized_static_icons': [{'url': 'https://preview.redd.it/award_images/t5_22cerq/5izbv4fn0md41_Wholesome.png?width=16&amp;height=16&amp;auto=webp&amp;s=92932f465d58e4c16b12b6eac4ca07d27e3d11c0',\n",
       "     'width': 16,\n",
       "     'height': 16},\n",
       "    {'url': 'https://preview.redd.it/award_images/t5_22cerq/5izbv4fn0md41_Wholesome.png?width=32&amp;height=32&amp;auto=webp&amp;s=d11484a208d68a318bf9d4fcf371171a1cb6a7ef',\n",
       "     'width': 32,\n",
       "     'height': 32},\n",
       "    {'url': 'https://preview.redd.it/award_images/t5_22cerq/5izbv4fn0md41_Wholesome.png?width=48&amp;height=48&amp;auto=webp&amp;s=febdf28b6f39f7da7eb1365325b85e0bb49a9f63',\n",
       "     'width': 48,\n",
       "     'height': 48},\n",
       "    {'url': 'https://preview.redd.it/award_images/t5_22cerq/5izbv4fn0md41_Wholesome.png?width=64&amp;height=64&amp;auto=webp&amp;s=b4406a2d88bf86fa3dc8a45aacf7e0c7bdccc4fb',\n",
       "     'width': 64,\n",
       "     'height': 64},\n",
       "    {'url': 'https://preview.redd.it/award_images/t5_22cerq/5izbv4fn0md41_Wholesome.png?width=128&amp;height=128&amp;auto=webp&amp;s=19555b13e3e196b62eeb9160d1ac1d1b372dcb0b',\n",
       "     'width': 128,\n",
       "     'height': 128}],\n",
       "   'icon_format': None,\n",
       "   'icon_height': 2048,\n",
       "   'penny_price': None,\n",
       "   'award_type': 'global',\n",
       "   'static_icon_url': 'https://i.redd.it/award_images/t5_22cerq/5izbv4fn0md41_Wholesome.png'},\n",
       "  {'giver_coin_reward': None,\n",
       "   'subreddit_id': None,\n",
       "   'is_new': False,\n",
       "   'days_of_drip_extension': None,\n",
       "   'coin_price': 150,\n",
       "   'id': 'award_f44611f1-b89e-46dc-97fe-892280b13b82',\n",
       "   'penny_donate': None,\n",
       "   'award_sub_type': 'GLOBAL',\n",
       "   'coin_reward': 0,\n",
       "   'icon_url': 'https://i.redd.it/award_images/t5_22cerq/klvxk1wggfd41_Helpful.png',\n",
       "   'days_of_premium': None,\n",
       "   'tiers_by_required_awardings': None,\n",
       "   'resized_icons': [{'url': 'https://preview.redd.it/award_images/t5_22cerq/klvxk1wggfd41_Helpful.png?width=16&amp;height=16&amp;auto=webp&amp;s=a5662dfbdb402bf67866c050aa76c31c147c2f45',\n",
       "     'width': 16,\n",
       "     'height': 16},\n",
       "    {'url': 'https://preview.redd.it/award_images/t5_22cerq/klvxk1wggfd41_Helpful.png?width=32&amp;height=32&amp;auto=webp&amp;s=a6882eb3f380e8e88009789f4d0072e17b8c59f1',\n",
       "     'width': 32,\n",
       "     'height': 32},\n",
       "    {'url': 'https://preview.redd.it/award_images/t5_22cerq/klvxk1wggfd41_Helpful.png?width=48&amp;height=48&amp;auto=webp&amp;s=e50064b090879e8a0b55e433f6ee61d5cb5fbe1d',\n",
       "     'width': 48,\n",
       "     'height': 48},\n",
       "    {'url': 'https://preview.redd.it/award_images/t5_22cerq/klvxk1wggfd41_Helpful.png?width=64&amp;height=64&amp;auto=webp&amp;s=8e5bb2e76683cb6b161830bcdd9642049d6adc11',\n",
       "     'width': 64,\n",
       "     'height': 64},\n",
       "    {'url': 'https://preview.redd.it/award_images/t5_22cerq/klvxk1wggfd41_Helpful.png?width=128&amp;height=128&amp;auto=webp&amp;s=eda4a9246f95f42ee6940cc0ec65306fd20de878',\n",
       "     'width': 128,\n",
       "     'height': 128}],\n",
       "   'icon_width': 2048,\n",
       "   'static_icon_width': 2048,\n",
       "   'start_date': None,\n",
       "   'is_enabled': True,\n",
       "   'awardings_required_to_grant_benefits': None,\n",
       "   'description': 'Thank you stranger. Shows the award.',\n",
       "   'end_date': None,\n",
       "   'sticky_duration_seconds': None,\n",
       "   'subreddit_coin_reward': 0,\n",
       "   'count': 1,\n",
       "   'static_icon_height': 2048,\n",
       "   'name': 'Helpful',\n",
       "   'resized_static_icons': [{'url': 'https://preview.redd.it/award_images/t5_22cerq/klvxk1wggfd41_Helpful.png?width=16&amp;height=16&amp;auto=webp&amp;s=a5662dfbdb402bf67866c050aa76c31c147c2f45',\n",
       "     'width': 16,\n",
       "     'height': 16},\n",
       "    {'url': 'https://preview.redd.it/award_images/t5_22cerq/klvxk1wggfd41_Helpful.png?width=32&amp;height=32&amp;auto=webp&amp;s=a6882eb3f380e8e88009789f4d0072e17b8c59f1',\n",
       "     'width': 32,\n",
       "     'height': 32},\n",
       "    {'url': 'https://preview.redd.it/award_images/t5_22cerq/klvxk1wggfd41_Helpful.png?width=48&amp;height=48&amp;auto=webp&amp;s=e50064b090879e8a0b55e433f6ee61d5cb5fbe1d',\n",
       "     'width': 48,\n",
       "     'height': 48},\n",
       "    {'url': 'https://preview.redd.it/award_images/t5_22cerq/klvxk1wggfd41_Helpful.png?width=64&amp;height=64&amp;auto=webp&amp;s=8e5bb2e76683cb6b161830bcdd9642049d6adc11',\n",
       "     'width': 64,\n",
       "     'height': 64},\n",
       "    {'url': 'https://preview.redd.it/award_images/t5_22cerq/klvxk1wggfd41_Helpful.png?width=128&amp;height=128&amp;auto=webp&amp;s=eda4a9246f95f42ee6940cc0ec65306fd20de878',\n",
       "     'width': 128,\n",
       "     'height': 128}],\n",
       "   'icon_format': None,\n",
       "   'icon_height': 2048,\n",
       "   'penny_price': None,\n",
       "   'award_type': 'global',\n",
       "   'static_icon_url': 'https://i.redd.it/award_images/t5_22cerq/klvxk1wggfd41_Helpful.png'}],\n",
       " 'awarders': [],\n",
       " 'media_only': False,\n",
       " 'can_gild': False,\n",
       " 'spoiler': False,\n",
       " 'locked': False,\n",
       " 'author_flair_text': None,\n",
       " 'treatment_tags': [],\n",
       " 'visited': False,\n",
       " 'removed_by': None,\n",
       " 'num_reports': None,\n",
       " 'distinguished': None,\n",
       " 'subreddit_id': 't5_2qh1i',\n",
       " 'author_is_blocked': False,\n",
       " 'mod_reason_by': None,\n",
       " 'removal_reason': None,\n",
       " 'link_flair_background_color': '',\n",
       " 'id': 'xz2zt9',\n",
       " 'is_robot_indexable': True,\n",
       " 'report_reasons': None,\n",
       " 'author': 'good_fella1',\n",
       " 'discussion_type': None,\n",
       " 'num_comments': 6679,\n",
       " 'send_replies': True,\n",
       " 'whitelist_status': 'all_ads',\n",
       " 'contest_mode': False,\n",
       " 'mod_reports': [],\n",
       " 'author_patreon_flair': False,\n",
       " 'author_flair_text_color': None,\n",
       " 'permalink': '/r/AskReddit/comments/xz2zt9/what_is_something_ancient_that_only_an_internet/',\n",
       " 'parent_whitelist_status': 'all_ads',\n",
       " 'stickied': False,\n",
       " 'url': 'https://www.reddit.com/r/AskReddit/comments/xz2zt9/what_is_something_ancient_that_only_an_internet/',\n",
       " 'subreddit_subscribers': 37631947,\n",
       " 'created_utc': 1665261502.0,\n",
       " 'num_crossposts': 3,\n",
       " 'media': None,\n",
       " 'is_video': False}"
      ]
     },
     "execution_count": 17,
     "metadata": {},
     "output_type": "execute_result"
    }
   ],
   "source": [
    "the_json['data']['children'][0]['data']"
   ]
  },
  {
   "cell_type": "code",
   "execution_count": 18,
   "id": "b1a72858",
   "metadata": {},
   "outputs": [
    {
     "data": {
      "text/plain": [
       "25"
      ]
     },
     "execution_count": 18,
     "metadata": {},
     "output_type": "execute_result"
    }
   ],
   "source": [
    "len(the_json['data']['children'])"
   ]
  },
  {
   "cell_type": "code",
   "execution_count": 19,
   "id": "51a109ac",
   "metadata": {},
   "outputs": [
    {
     "data": {
      "text/plain": [
       "'t3_xz3tn3'"
      ]
     },
     "execution_count": 19,
     "metadata": {},
     "output_type": "execute_result"
    }
   ],
   "source": [
    "the_json['data']['after']"
   ]
  },
  {
   "cell_type": "code",
   "execution_count": 21,
   "id": "77e9797f",
   "metadata": {},
   "outputs": [
    {
     "data": {
      "text/plain": [
       "['t3_xz2zt9',\n",
       " 't3_xz6iys',\n",
       " 't3_xys8ez',\n",
       " 't3_xz6wxs',\n",
       " 't3_xz606h',\n",
       " 't3_xz3j1m',\n",
       " 't3_xz5kdd',\n",
       " 't3_xz2lol',\n",
       " 't3_xz5b7t',\n",
       " 't3_xz4g6n',\n",
       " 't3_xz6jss',\n",
       " 't3_xz0zxm',\n",
       " 't3_xyvzdl',\n",
       " 't3_xz6yke',\n",
       " 't3_xz4zte',\n",
       " 't3_xyv3w9',\n",
       " 't3_xz2clc',\n",
       " 't3_xyx9q2',\n",
       " 't3_xz7fpc',\n",
       " 't3_xz26n3',\n",
       " 't3_xz5llc',\n",
       " 't3_xz224y',\n",
       " 't3_xyrabm',\n",
       " 't3_xz3ft0',\n",
       " 't3_xz3tn3']"
      ]
     },
     "execution_count": 21,
     "metadata": {},
     "output_type": "execute_result"
    }
   ],
   "source": [
    "[post['data']['name'] for post in the_json['data']['children']]"
   ]
  },
  {
   "cell_type": "code",
   "execution_count": 22,
   "id": "bda2edc9",
   "metadata": {},
   "outputs": [],
   "source": [
    "param = {'after':'t3_xz3tn3'}"
   ]
  },
  {
   "cell_type": "code",
   "execution_count": 23,
   "id": "3cf4a99f",
   "metadata": {},
   "outputs": [
    {
     "data": {
      "text/plain": [
       "<Response [200]>"
      ]
     },
     "execution_count": 23,
     "metadata": {},
     "output_type": "execute_result"
    }
   ],
   "source": [
    "requests.get(url,params =param, headers= headers )"
   ]
  },
  {
   "cell_type": "code",
   "execution_count": 28,
   "id": "4defef06",
   "metadata": {},
   "outputs": [],
   "source": [
    "# The function 'reddit_to_csv' will take three arguments: \n",
    "# 1. the subreddit being scraped; 2. the filename, or the name\n",
    "# the csv file will be given; and 3. the number of requests \n",
    "# the user would like to make of reddit's API. \n",
    "\n",
    "def reddit_to_csv(subreddit, filename, n_requests=1):\n",
    "    \n",
    "    #Create an empty list to be used later in function:\n",
    "    posts = []\n",
    "    \n",
    "    #Create User-Agent to avoid 429 res.status_code:\n",
    "    headers = {'User-agent':'Eye eye bot 00'}\n",
    "    \n",
    "    #Establish that 'after' (a variable used later) is None type:\n",
    "    after = None\n",
    "    \n",
    "    #for loop n_requests iterations (n_requests is established by user):\n",
    "    for i in range(n_requests):\n",
    "        print(i)\n",
    "        \n",
    "        if after == None:\n",
    "            params = {}\n",
    "        else:\n",
    "            params = {'after': after}\n",
    "        #Assign 'url' to reddit's base url, plus whatever subreddit \n",
    "        #the user provides,plus .json for clean results:\n",
    "        #url = 'https://www.reddit.com/hot.json'\n",
    "        url = 'https://www.reddit.com/' + str(subreddit) + '/.json'\n",
    "        \n",
    "        #Set my res variable equal to the results from requests.get, \n",
    "        #and the parameters set above like 'url' or 'params':\n",
    "        res = requests.get(url,params=params,headers=headers)\n",
    "        \n",
    "        #Conditional statement to ensure access to the API is approved:\n",
    "        if res.status_code ==200:\n",
    "            the_json = res.json()\n",
    "            \n",
    "            for x in range(len(the_json['data']['children'])):\n",
    "                \n",
    "                #Create temporary dictionary to add results of each post to:\n",
    "                temp_dict = {}\n",
    "                #After looking through the json results, I've selected the below information about the posts\n",
    "                #as those that can potentially add value to my model's results.\n",
    "                temp_dict['subreddit'] = the_json['data']['children'][x]['data']['subreddit']\n",
    "                temp_dict['title'] = the_json['data']['children'][x]['data']['title']\n",
    "                temp_dict['post_paragraph'] = the_json['data']['children'][x]['data']['selftext']\n",
    "                temp_dict['clicked'] = the_json['data']['children'][x]['data']['clicked']\n",
    "                temp_dict['ups'] = the_json['data']['children'][x]['data']['ups']\n",
    "                temp_dict['downs'] = the_json['data']['children'][x]['data']['downs']\n",
    "                temp_dict['likes'] = the_json['data']['children'][x]['data']['likes']\n",
    "                temp_dict['category'] = the_json['data']['children'][x]['data']['category']\n",
    "                temp_dict['number_of_comments'] = the_json['data']['children'][x]['data']['num_comments']\n",
    "                temp_dict['score'] = the_json['data']['children'][x]['data']['score']\n",
    "                temp_dict['author_flair_css_class'] = the_json['data']['children'][x]['data']['author_flair_css_class']\n",
    "                temp_dict['subreddit_type'] = the_json['data']['children'][x]['data']['subreddit_type']\n",
    "                \n",
    "                #Add the temporary dictionary to 'posts',the list of each post's dictionary of information:\n",
    "                posts.append(temp_dict)\n",
    "                #posts.extend(the_json['data']['children'])\n",
    "            after = the_json['data']['after']\n",
    "            \n",
    "        else:\n",
    "            print(res.status_code)\n",
    "            break\n",
    "        time.sleep(1)\n",
    "        \n",
    "    #Turn the list of post dictionaries into a pandas DataFrame:\n",
    "    posts_df = pd.DataFrame(posts)\n",
    "    \n",
    "    #Drop any duplicate rows that may have been pulled:\n",
    "    posts_df.drop_duplicates(inplace = True)\n",
    "    \n",
    "    #Rearrange the columns into a more logical order:\n",
    "    posts_df = posts_df[['subreddit', 'title', 'clicked', 'ups', 'downs', 'post_paragraph', 'likes', 'number_of_comments', 'category', 'score', 'author_flair_css_class', 'subreddit_type']]\n",
    "    \n",
    "    #Save the DataFrame as a .csv file:\n",
    "    posts_df.to_csv(str(filename), index = False, sep = \",\")\n",
    "\n",
    "\n",
    "        "
   ]
  },
  {
   "cell_type": "code",
   "execution_count": 30,
   "id": "d2ed47af",
   "metadata": {},
   "outputs": [
    {
     "name": "stdout",
     "output_type": "stream",
     "text": [
      "0\n",
      "1\n",
      "2\n",
      "3\n",
      "4\n",
      "5\n",
      "6\n",
      "7\n",
      "8\n",
      "9\n",
      "10\n",
      "11\n",
      "12\n",
      "13\n",
      "14\n",
      "15\n",
      "16\n",
      "17\n",
      "18\n",
      "19\n",
      "20\n",
      "21\n",
      "22\n",
      "23\n",
      "24\n",
      "25\n",
      "26\n",
      "27\n",
      "28\n",
      "29\n",
      "30\n",
      "31\n",
      "32\n",
      "33\n",
      "34\n",
      "35\n",
      "36\n",
      "37\n",
      "38\n",
      "39\n",
      "40\n",
      "41\n",
      "42\n",
      "43\n",
      "44\n",
      "45\n",
      "46\n",
      "47\n",
      "48\n",
      "49\n",
      "50\n",
      "51\n",
      "52\n",
      "53\n",
      "54\n",
      "55\n",
      "56\n",
      "57\n",
      "58\n",
      "59\n",
      "60\n",
      "61\n",
      "62\n",
      "63\n",
      "64\n",
      "65\n",
      "66\n",
      "67\n",
      "68\n",
      "69\n",
      "70\n",
      "71\n",
      "72\n",
      "73\n",
      "74\n",
      "75\n",
      "76\n",
      "77\n",
      "78\n",
      "79\n",
      "80\n",
      "81\n",
      "82\n",
      "83\n",
      "84\n",
      "85\n",
      "86\n",
      "87\n",
      "88\n",
      "89\n",
      "90\n",
      "91\n",
      "92\n",
      "93\n",
      "94\n",
      "95\n",
      "96\n",
      "97\n",
      "98\n",
      "99\n",
      "100\n",
      "101\n",
      "102\n",
      "103\n",
      "104\n",
      "105\n",
      "106\n",
      "107\n",
      "108\n",
      "109\n",
      "110\n",
      "111\n",
      "112\n",
      "113\n",
      "114\n",
      "115\n",
      "116\n",
      "117\n",
      "118\n",
      "119\n",
      "120\n",
      "121\n",
      "122\n",
      "123\n",
      "124\n",
      "125\n",
      "126\n",
      "127\n",
      "128\n",
      "129\n",
      "130\n",
      "131\n",
      "132\n",
      "133\n",
      "134\n",
      "135\n",
      "136\n",
      "137\n",
      "138\n",
      "139\n",
      "140\n",
      "141\n",
      "142\n",
      "143\n",
      "144\n",
      "145\n",
      "146\n",
      "147\n",
      "148\n",
      "149\n"
     ]
    }
   ],
   "source": [
    "#Load and save the data as CSV\n",
    "reddit_to_csv(subreddit = 'r/MARIOPARTY',\n",
    "              n_requests = 150,\n",
    "              filename = 'mario_party_reddit_posts.csv')"
   ]
  },
  {
   "cell_type": "code",
   "execution_count": 31,
   "id": "8bbdd8a5",
   "metadata": {},
   "outputs": [
    {
     "name": "stdout",
     "output_type": "stream",
     "text": [
      "0\n",
      "1\n",
      "2\n",
      "3\n",
      "4\n",
      "5\n",
      "6\n",
      "7\n",
      "8\n",
      "9\n",
      "10\n",
      "11\n",
      "12\n",
      "13\n",
      "14\n",
      "15\n",
      "16\n",
      "17\n",
      "18\n",
      "19\n",
      "20\n",
      "21\n",
      "22\n",
      "23\n",
      "24\n",
      "25\n",
      "26\n",
      "27\n",
      "28\n",
      "29\n",
      "30\n",
      "31\n",
      "32\n",
      "33\n",
      "34\n",
      "35\n",
      "36\n",
      "37\n",
      "38\n",
      "39\n",
      "40\n",
      "41\n",
      "42\n",
      "43\n",
      "44\n",
      "45\n",
      "46\n",
      "47\n",
      "48\n",
      "49\n",
      "50\n",
      "51\n",
      "52\n",
      "53\n",
      "54\n",
      "55\n",
      "56\n",
      "57\n",
      "58\n",
      "59\n",
      "60\n",
      "61\n",
      "62\n",
      "63\n",
      "64\n",
      "65\n",
      "66\n",
      "67\n",
      "68\n",
      "69\n",
      "70\n",
      "71\n",
      "72\n",
      "73\n",
      "74\n",
      "75\n",
      "76\n",
      "77\n",
      "78\n",
      "79\n",
      "80\n",
      "81\n",
      "82\n",
      "83\n",
      "84\n",
      "85\n",
      "86\n",
      "87\n",
      "88\n",
      "89\n",
      "90\n",
      "91\n",
      "92\n",
      "93\n",
      "94\n",
      "95\n",
      "96\n",
      "97\n",
      "98\n",
      "99\n",
      "100\n",
      "101\n",
      "102\n",
      "103\n",
      "104\n",
      "105\n",
      "106\n",
      "107\n",
      "108\n",
      "109\n",
      "110\n",
      "111\n",
      "112\n",
      "113\n",
      "114\n",
      "115\n",
      "116\n",
      "117\n",
      "118\n",
      "119\n",
      "120\n",
      "121\n",
      "122\n",
      "123\n",
      "124\n",
      "125\n",
      "126\n",
      "127\n",
      "128\n",
      "129\n",
      "130\n",
      "131\n",
      "132\n",
      "133\n",
      "134\n",
      "135\n",
      "136\n",
      "137\n",
      "138\n",
      "139\n",
      "140\n",
      "141\n",
      "142\n",
      "143\n",
      "144\n",
      "145\n",
      "146\n",
      "147\n",
      "148\n",
      "149\n"
     ]
    }
   ],
   "source": [
    "#Load and save the data as CSV\n",
    "reddit_to_csv(subreddit = 'r/zelda',\n",
    "              n_requests = 150,\n",
    "              filename = 'zelda_reddit_posts.csv')"
   ]
  },
  {
   "cell_type": "code",
   "execution_count": 33,
   "id": "e2e852e7",
   "metadata": {},
   "outputs": [
    {
     "data": {
      "text/html": [
       "<div>\n",
       "<style scoped>\n",
       "    .dataframe tbody tr th:only-of-type {\n",
       "        vertical-align: middle;\n",
       "    }\n",
       "\n",
       "    .dataframe tbody tr th {\n",
       "        vertical-align: top;\n",
       "    }\n",
       "\n",
       "    .dataframe thead th {\n",
       "        text-align: right;\n",
       "    }\n",
       "</style>\n",
       "<table border=\"1\" class=\"dataframe\">\n",
       "  <thead>\n",
       "    <tr style=\"text-align: right;\">\n",
       "      <th></th>\n",
       "      <th>subreddit</th>\n",
       "      <th>title</th>\n",
       "      <th>clicked</th>\n",
       "      <th>ups</th>\n",
       "      <th>downs</th>\n",
       "      <th>post_paragraph</th>\n",
       "      <th>likes</th>\n",
       "      <th>number_of_comments</th>\n",
       "      <th>category</th>\n",
       "      <th>score</th>\n",
       "      <th>author_flair_css_class</th>\n",
       "      <th>subreddit_type</th>\n",
       "    </tr>\n",
       "  </thead>\n",
       "  <tbody>\n",
       "    <tr>\n",
       "      <th>0</th>\n",
       "      <td>MARIOPARTY</td>\n",
       "      <td>Looking for buddies to play Mario Party Supers...</td>\n",
       "      <td>False</td>\n",
       "      <td>290</td>\n",
       "      <td>0</td>\n",
       "      <td>NaN</td>\n",
       "      <td>NaN</td>\n",
       "      <td>80</td>\n",
       "      <td>NaN</td>\n",
       "      <td>290</td>\n",
       "      <td>wario</td>\n",
       "      <td>public</td>\n",
       "    </tr>\n",
       "    <tr>\n",
       "      <th>1</th>\n",
       "      <td>MARIOPARTY</td>\n",
       "      <td>Mario Party Superstars Most Wanted DLC 🌟 Surve...</td>\n",
       "      <td>False</td>\n",
       "      <td>178</td>\n",
       "      <td>0</td>\n",
       "      <td>Thanks all for filling out our survey!\\n\\nWith...</td>\n",
       "      <td>NaN</td>\n",
       "      <td>49</td>\n",
       "      <td>NaN</td>\n",
       "      <td>178</td>\n",
       "      <td>wario</td>\n",
       "      <td>public</td>\n",
       "    </tr>\n",
       "  </tbody>\n",
       "</table>\n",
       "</div>"
      ],
      "text/plain": [
       "    subreddit                                              title  clicked  \\\n",
       "0  MARIOPARTY  Looking for buddies to play Mario Party Supers...    False   \n",
       "1  MARIOPARTY  Mario Party Superstars Most Wanted DLC 🌟 Surve...    False   \n",
       "\n",
       "   ups  downs                                     post_paragraph  likes  \\\n",
       "0  290      0                                                NaN    NaN   \n",
       "1  178      0  Thanks all for filling out our survey!\\n\\nWith...    NaN   \n",
       "\n",
       "   number_of_comments  category  score author_flair_css_class subreddit_type  \n",
       "0                  80       NaN    290                  wario         public  \n",
       "1                  49       NaN    178                  wario         public  "
      ]
     },
     "execution_count": 33,
     "metadata": {},
     "output_type": "execute_result"
    }
   ],
   "source": [
    "mario_party_df = pd.read_csv('./mario_party_reddit_posts.csv')\n",
    "mario_party_df.head(2)"
   ]
  },
  {
   "cell_type": "code",
   "execution_count": 34,
   "id": "fb3f3b5e",
   "metadata": {},
   "outputs": [
    {
     "data": {
      "text/plain": [
       "(2110, 12)"
      ]
     },
     "execution_count": 34,
     "metadata": {},
     "output_type": "execute_result"
    }
   ],
   "source": [
    "mario_party_df.shape"
   ]
  },
  {
   "cell_type": "code",
   "execution_count": 37,
   "id": "2ead40b3",
   "metadata": {},
   "outputs": [
    {
     "data": {
      "text/html": [
       "<div>\n",
       "<style scoped>\n",
       "    .dataframe tbody tr th:only-of-type {\n",
       "        vertical-align: middle;\n",
       "    }\n",
       "\n",
       "    .dataframe tbody tr th {\n",
       "        vertical-align: top;\n",
       "    }\n",
       "\n",
       "    .dataframe thead th {\n",
       "        text-align: right;\n",
       "    }\n",
       "</style>\n",
       "<table border=\"1\" class=\"dataframe\">\n",
       "  <thead>\n",
       "    <tr style=\"text-align: right;\">\n",
       "      <th></th>\n",
       "      <th>subreddit</th>\n",
       "      <th>title</th>\n",
       "      <th>clicked</th>\n",
       "      <th>ups</th>\n",
       "      <th>downs</th>\n",
       "      <th>post_paragraph</th>\n",
       "      <th>likes</th>\n",
       "      <th>number_of_comments</th>\n",
       "      <th>category</th>\n",
       "      <th>score</th>\n",
       "      <th>author_flair_css_class</th>\n",
       "      <th>subreddit_type</th>\n",
       "    </tr>\n",
       "  </thead>\n",
       "  <tbody>\n",
       "    <tr>\n",
       "      <th>0</th>\n",
       "      <td>zelda</td>\n",
       "      <td>r/Zelda Meta Discussion - Rule 2: Mark Spoilers</td>\n",
       "      <td>False</td>\n",
       "      <td>5</td>\n",
       "      <td>0</td>\n",
       "      <td>Hi r/Zelda,\\n\\nTo continue discussing the subr...</td>\n",
       "      <td>NaN</td>\n",
       "      <td>4</td>\n",
       "      <td>NaN</td>\n",
       "      <td>5</td>\n",
       "      <td>rito</td>\n",
       "      <td>public</td>\n",
       "    </tr>\n",
       "    <tr>\n",
       "      <th>1</th>\n",
       "      <td>zelda</td>\n",
       "      <td>Today is Self-Post Sunday. Only self-posts are...</td>\n",
       "      <td>False</td>\n",
       "      <td>2</td>\n",
       "      <td>0</td>\n",
       "      <td>Self-Post Sundays are our main discussion day....</td>\n",
       "      <td>NaN</td>\n",
       "      <td>0</td>\n",
       "      <td>NaN</td>\n",
       "      <td>2</td>\n",
       "      <td>hylian</td>\n",
       "      <td>public</td>\n",
       "    </tr>\n",
       "  </tbody>\n",
       "</table>\n",
       "</div>"
      ],
      "text/plain": [
       "  subreddit                                              title  clicked  ups  \\\n",
       "0     zelda    r/Zelda Meta Discussion - Rule 2: Mark Spoilers    False    5   \n",
       "1     zelda  Today is Self-Post Sunday. Only self-posts are...    False    2   \n",
       "\n",
       "   downs                                     post_paragraph  likes  \\\n",
       "0      0  Hi r/Zelda,\\n\\nTo continue discussing the subr...    NaN   \n",
       "1      0  Self-Post Sundays are our main discussion day....    NaN   \n",
       "\n",
       "   number_of_comments  category  score author_flair_css_class subreddit_type  \n",
       "0                   4       NaN      5                   rito         public  \n",
       "1                   0       NaN      2                 hylian         public  "
      ]
     },
     "execution_count": 37,
     "metadata": {},
     "output_type": "execute_result"
    }
   ],
   "source": [
    "zelda_df = pd.read_csv('./zelda_reddit_posts.csv')\n",
    "zelda_df.head(2)"
   ]
  },
  {
   "cell_type": "code",
   "execution_count": 39,
   "id": "9b728fdc",
   "metadata": {},
   "outputs": [
    {
     "data": {
      "text/plain": [
       "(2431, 12)"
      ]
     },
     "execution_count": 39,
     "metadata": {},
     "output_type": "execute_result"
    }
   ],
   "source": [
    "zelda_df.shape"
   ]
  },
  {
   "cell_type": "markdown",
   "id": "66134c14",
   "metadata": {},
   "source": [
    "**Appened the Mario and Zelda files**"
   ]
  },
  {
   "cell_type": "code",
   "execution_count": 41,
   "id": "4060e74b",
   "metadata": {},
   "outputs": [],
   "source": [
    "df = mario_party_df.append(zelda_df, ignore_index=True)"
   ]
  },
  {
   "cell_type": "code",
   "execution_count": 44,
   "id": "0aa519c3",
   "metadata": {},
   "outputs": [
    {
     "data": {
      "text/plain": [
       "(4541, 12)"
      ]
     },
     "execution_count": 44,
     "metadata": {},
     "output_type": "execute_result"
    }
   ],
   "source": [
    "df.shape"
   ]
  },
  {
   "cell_type": "markdown",
   "id": "c3af20a4",
   "metadata": {},
   "source": [
    "**CSV CHECKPOINT (check the data again).**"
   ]
  },
  {
   "cell_type": "code",
   "execution_count": 45,
   "id": "ff71f99a",
   "metadata": {},
   "outputs": [
    {
     "data": {
      "text/html": [
       "<div>\n",
       "<style scoped>\n",
       "    .dataframe tbody tr th:only-of-type {\n",
       "        vertical-align: middle;\n",
       "    }\n",
       "\n",
       "    .dataframe tbody tr th {\n",
       "        vertical-align: top;\n",
       "    }\n",
       "\n",
       "    .dataframe thead th {\n",
       "        text-align: right;\n",
       "    }\n",
       "</style>\n",
       "<table border=\"1\" class=\"dataframe\">\n",
       "  <thead>\n",
       "    <tr style=\"text-align: right;\">\n",
       "      <th></th>\n",
       "      <th>subreddit</th>\n",
       "      <th>title</th>\n",
       "      <th>clicked</th>\n",
       "      <th>ups</th>\n",
       "      <th>downs</th>\n",
       "      <th>post_paragraph</th>\n",
       "      <th>likes</th>\n",
       "      <th>number_of_comments</th>\n",
       "      <th>category</th>\n",
       "      <th>score</th>\n",
       "      <th>author_flair_css_class</th>\n",
       "      <th>subreddit_type</th>\n",
       "    </tr>\n",
       "  </thead>\n",
       "  <tbody>\n",
       "    <tr>\n",
       "      <th>0</th>\n",
       "      <td>MARIOPARTY</td>\n",
       "      <td>Looking for buddies to play Mario Party Supers...</td>\n",
       "      <td>False</td>\n",
       "      <td>290</td>\n",
       "      <td>0</td>\n",
       "      <td>NaN</td>\n",
       "      <td>NaN</td>\n",
       "      <td>80</td>\n",
       "      <td>NaN</td>\n",
       "      <td>290</td>\n",
       "      <td>wario</td>\n",
       "      <td>public</td>\n",
       "    </tr>\n",
       "    <tr>\n",
       "      <th>1</th>\n",
       "      <td>MARIOPARTY</td>\n",
       "      <td>Mario Party Superstars Most Wanted DLC 🌟 Surve...</td>\n",
       "      <td>False</td>\n",
       "      <td>178</td>\n",
       "      <td>0</td>\n",
       "      <td>Thanks all for filling out our survey!\\n\\nWith...</td>\n",
       "      <td>NaN</td>\n",
       "      <td>49</td>\n",
       "      <td>NaN</td>\n",
       "      <td>178</td>\n",
       "      <td>wario</td>\n",
       "      <td>public</td>\n",
       "    </tr>\n",
       "    <tr>\n",
       "      <th>2</th>\n",
       "      <td>MARIOPARTY</td>\n",
       "      <td>let’s talk about our favourite mario party boa...</td>\n",
       "      <td>False</td>\n",
       "      <td>10</td>\n",
       "      <td>0</td>\n",
       "      <td>go ahead⬇️⬇️⬇️</td>\n",
       "      <td>NaN</td>\n",
       "      <td>36</td>\n",
       "      <td>NaN</td>\n",
       "      <td>10</td>\n",
       "      <td>noflair</td>\n",
       "      <td>public</td>\n",
       "    </tr>\n",
       "    <tr>\n",
       "      <th>3</th>\n",
       "      <td>MARIOPARTY</td>\n",
       "      <td>what is your favorite mario party board of all...</td>\n",
       "      <td>False</td>\n",
       "      <td>1</td>\n",
       "      <td>0</td>\n",
       "      <td>Keep the responses comin!</td>\n",
       "      <td>NaN</td>\n",
       "      <td>0</td>\n",
       "      <td>NaN</td>\n",
       "      <td>1</td>\n",
       "      <td>noflair</td>\n",
       "      <td>public</td>\n",
       "    </tr>\n",
       "    <tr>\n",
       "      <th>4</th>\n",
       "      <td>MARIOPARTY</td>\n",
       "      <td>Mario Party 8 BS</td>\n",
       "      <td>False</td>\n",
       "      <td>1</td>\n",
       "      <td>0</td>\n",
       "      <td>I am trying to unlock hammer bro or blooper. I...</td>\n",
       "      <td>NaN</td>\n",
       "      <td>3</td>\n",
       "      <td>NaN</td>\n",
       "      <td>1</td>\n",
       "      <td>noflair</td>\n",
       "      <td>public</td>\n",
       "    </tr>\n",
       "  </tbody>\n",
       "</table>\n",
       "</div>"
      ],
      "text/plain": [
       "    subreddit                                              title  clicked  \\\n",
       "0  MARIOPARTY  Looking for buddies to play Mario Party Supers...    False   \n",
       "1  MARIOPARTY  Mario Party Superstars Most Wanted DLC 🌟 Surve...    False   \n",
       "2  MARIOPARTY  let’s talk about our favourite mario party boa...    False   \n",
       "3  MARIOPARTY  what is your favorite mario party board of all...    False   \n",
       "4  MARIOPARTY                                   Mario Party 8 BS    False   \n",
       "\n",
       "   ups  downs                                     post_paragraph  likes  \\\n",
       "0  290      0                                                NaN    NaN   \n",
       "1  178      0  Thanks all for filling out our survey!\\n\\nWith...    NaN   \n",
       "2   10      0                                     go ahead⬇️⬇️⬇️    NaN   \n",
       "3    1      0                          Keep the responses comin!    NaN   \n",
       "4    1      0  I am trying to unlock hammer bro or blooper. I...    NaN   \n",
       "\n",
       "   number_of_comments  category  score author_flair_css_class subreddit_type  \n",
       "0                  80       NaN    290                  wario         public  \n",
       "1                  49       NaN    178                  wario         public  \n",
       "2                  36       NaN     10                noflair         public  \n",
       "3                   0       NaN      1                noflair         public  \n",
       "4                   3       NaN      1                noflair         public  "
      ]
     },
     "execution_count": 45,
     "metadata": {},
     "output_type": "execute_result"
    }
   ],
   "source": [
    "df.head(5)"
   ]
  },
  {
   "cell_type": "code",
   "execution_count": 46,
   "id": "caf73cd2",
   "metadata": {},
   "outputs": [
    {
     "data": {
      "text/plain": [
       "(4541, 12)"
      ]
     },
     "execution_count": 46,
     "metadata": {},
     "output_type": "execute_result"
    }
   ],
   "source": [
    "df.shape"
   ]
  },
  {
   "cell_type": "code",
   "execution_count": 47,
   "id": "f275defb",
   "metadata": {},
   "outputs": [
    {
     "data": {
      "text/plain": [
       "(2431, 12)"
      ]
     },
     "execution_count": 47,
     "metadata": {},
     "output_type": "execute_result"
    }
   ],
   "source": [
    "zelda_df.shape"
   ]
  },
  {
   "cell_type": "code",
   "execution_count": 49,
   "id": "c36f0d97",
   "metadata": {},
   "outputs": [
    {
     "data": {
      "text/plain": [
       "(2110, 12)"
      ]
     },
     "execution_count": 49,
     "metadata": {},
     "output_type": "execute_result"
    }
   ],
   "source": [
    "mario_party_df.shape"
   ]
  },
  {
   "cell_type": "code",
   "execution_count": 50,
   "id": "be608c9a",
   "metadata": {},
   "outputs": [
    {
     "data": {
      "text/plain": [
       "4541"
      ]
     },
     "execution_count": 50,
     "metadata": {},
     "output_type": "execute_result"
    }
   ],
   "source": [
    "2431+2110"
   ]
  },
  {
   "cell_type": "markdown",
   "id": "781458a0",
   "metadata": {},
   "source": [
    "**Create a 'target' column (will equal 1 if the post's subreddit is Mario Party, and 0 if the post's subreddit is Smash Bros. Ultimate):**"
   ]
  },
  {
   "cell_type": "code",
   "execution_count": 51,
   "id": "9fae8bbe",
   "metadata": {},
   "outputs": [],
   "source": [
    "df['target'] = np.where(df['subreddit'] == 'MARIOPARTY', 1, 0)"
   ]
  },
  {
   "cell_type": "code",
   "execution_count": 53,
   "id": "d2a8569e",
   "metadata": {},
   "outputs": [
    {
     "data": {
      "text/html": [
       "<div>\n",
       "<style scoped>\n",
       "    .dataframe tbody tr th:only-of-type {\n",
       "        vertical-align: middle;\n",
       "    }\n",
       "\n",
       "    .dataframe tbody tr th {\n",
       "        vertical-align: top;\n",
       "    }\n",
       "\n",
       "    .dataframe thead th {\n",
       "        text-align: right;\n",
       "    }\n",
       "</style>\n",
       "<table border=\"1\" class=\"dataframe\">\n",
       "  <thead>\n",
       "    <tr style=\"text-align: right;\">\n",
       "      <th></th>\n",
       "      <th>subreddit</th>\n",
       "      <th>title</th>\n",
       "      <th>clicked</th>\n",
       "      <th>ups</th>\n",
       "      <th>downs</th>\n",
       "      <th>post_paragraph</th>\n",
       "      <th>likes</th>\n",
       "      <th>number_of_comments</th>\n",
       "      <th>category</th>\n",
       "      <th>score</th>\n",
       "      <th>author_flair_css_class</th>\n",
       "      <th>subreddit_type</th>\n",
       "      <th>target</th>\n",
       "    </tr>\n",
       "  </thead>\n",
       "  <tbody>\n",
       "    <tr>\n",
       "      <th>0</th>\n",
       "      <td>MARIOPARTY</td>\n",
       "      <td>Looking for buddies to play Mario Party Supers...</td>\n",
       "      <td>False</td>\n",
       "      <td>290</td>\n",
       "      <td>0</td>\n",
       "      <td>NaN</td>\n",
       "      <td>NaN</td>\n",
       "      <td>80</td>\n",
       "      <td>NaN</td>\n",
       "      <td>290</td>\n",
       "      <td>wario</td>\n",
       "      <td>public</td>\n",
       "      <td>1</td>\n",
       "    </tr>\n",
       "    <tr>\n",
       "      <th>1</th>\n",
       "      <td>MARIOPARTY</td>\n",
       "      <td>Mario Party Superstars Most Wanted DLC 🌟 Surve...</td>\n",
       "      <td>False</td>\n",
       "      <td>178</td>\n",
       "      <td>0</td>\n",
       "      <td>Thanks all for filling out our survey!\\n\\nWith...</td>\n",
       "      <td>NaN</td>\n",
       "      <td>49</td>\n",
       "      <td>NaN</td>\n",
       "      <td>178</td>\n",
       "      <td>wario</td>\n",
       "      <td>public</td>\n",
       "      <td>1</td>\n",
       "    </tr>\n",
       "    <tr>\n",
       "      <th>2</th>\n",
       "      <td>MARIOPARTY</td>\n",
       "      <td>let’s talk about our favourite mario party boa...</td>\n",
       "      <td>False</td>\n",
       "      <td>10</td>\n",
       "      <td>0</td>\n",
       "      <td>go ahead⬇️⬇️⬇️</td>\n",
       "      <td>NaN</td>\n",
       "      <td>36</td>\n",
       "      <td>NaN</td>\n",
       "      <td>10</td>\n",
       "      <td>noflair</td>\n",
       "      <td>public</td>\n",
       "      <td>1</td>\n",
       "    </tr>\n",
       "  </tbody>\n",
       "</table>\n",
       "</div>"
      ],
      "text/plain": [
       "    subreddit                                              title  clicked  \\\n",
       "0  MARIOPARTY  Looking for buddies to play Mario Party Supers...    False   \n",
       "1  MARIOPARTY  Mario Party Superstars Most Wanted DLC 🌟 Surve...    False   \n",
       "2  MARIOPARTY  let’s talk about our favourite mario party boa...    False   \n",
       "\n",
       "   ups  downs                                     post_paragraph  likes  \\\n",
       "0  290      0                                                NaN    NaN   \n",
       "1  178      0  Thanks all for filling out our survey!\\n\\nWith...    NaN   \n",
       "2   10      0                                     go ahead⬇️⬇️⬇️    NaN   \n",
       "\n",
       "   number_of_comments  category  score author_flair_css_class subreddit_type  \\\n",
       "0                  80       NaN    290                  wario         public   \n",
       "1                  49       NaN    178                  wario         public   \n",
       "2                  36       NaN     10                noflair         public   \n",
       "\n",
       "   target  \n",
       "0       1  \n",
       "1       1  \n",
       "2       1  "
      ]
     },
     "execution_count": 53,
     "metadata": {},
     "output_type": "execute_result"
    }
   ],
   "source": [
    "df.head(3)"
   ]
  },
  {
   "cell_type": "markdown",
   "id": "8a6b6c8d",
   "metadata": {},
   "source": [
    "**Look for columns that don't have any values and can be dropped**"
   ]
  },
  {
   "cell_type": "code",
   "execution_count": 54,
   "id": "6b63fdb1",
   "metadata": {},
   "outputs": [
    {
     "data": {
      "text/plain": [
       "4541"
      ]
     },
     "execution_count": 54,
     "metadata": {},
     "output_type": "execute_result"
    }
   ],
   "source": [
    "df['likes'].isnull().sum()"
   ]
  },
  {
   "cell_type": "code",
   "execution_count": 55,
   "id": "613e8670",
   "metadata": {},
   "outputs": [
    {
     "data": {
      "text/plain": [
       "4541"
      ]
     },
     "execution_count": 55,
     "metadata": {},
     "output_type": "execute_result"
    }
   ],
   "source": [
    "df['category'].isnull().sum()"
   ]
  },
  {
   "cell_type": "markdown",
   "id": "55dff6fa",
   "metadata": {},
   "source": [
    "**The column 'clicked' is not empty, but the column values are purely False, therefore I will drop 'clicked' as well. The same for columns 'downs' and 'subreddit_type' which are purely 0's and 'public', respectively.**"
   ]
  },
  {
   "cell_type": "code",
   "execution_count": 56,
   "id": "f8b022e5",
   "metadata": {},
   "outputs": [
    {
     "data": {
      "text/plain": [
       "False    4541\n",
       "Name: clicked, dtype: int64"
      ]
     },
     "execution_count": 56,
     "metadata": {},
     "output_type": "execute_result"
    }
   ],
   "source": [
    "df['clicked'].value_counts()"
   ]
  },
  {
   "cell_type": "code",
   "execution_count": 57,
   "id": "da1aa9fb",
   "metadata": {},
   "outputs": [
    {
     "data": {
      "text/plain": [
       "0    4541\n",
       "Name: downs, dtype: int64"
      ]
     },
     "execution_count": 57,
     "metadata": {},
     "output_type": "execute_result"
    }
   ],
   "source": [
    "df['downs'].value_counts()"
   ]
  },
  {
   "cell_type": "code",
   "execution_count": 58,
   "id": "035f9c87",
   "metadata": {},
   "outputs": [
    {
     "data": {
      "text/plain": [
       "public    4541\n",
       "Name: subreddit_type, dtype: int64"
      ]
     },
     "execution_count": 58,
     "metadata": {},
     "output_type": "execute_result"
    }
   ],
   "source": [
    "df['subreddit_type'].value_counts()"
   ]
  },
  {
   "cell_type": "code",
   "execution_count": 59,
   "id": "15702269",
   "metadata": {},
   "outputs": [],
   "source": [
    "df_drop_list = ['likes', 'category', 'clicked', 'downs', 'subreddit_type']"
   ]
  },
  {
   "cell_type": "code",
   "execution_count": 60,
   "id": "c8373f8a",
   "metadata": {},
   "outputs": [],
   "source": [
    "df.drop(df_drop_list, axis=1, inplace=True)"
   ]
  },
  {
   "cell_type": "code",
   "execution_count": 61,
   "id": "aa733347",
   "metadata": {},
   "outputs": [
    {
     "data": {
      "text/plain": [
       "(4541, 8)"
      ]
     },
     "execution_count": 61,
     "metadata": {},
     "output_type": "execute_result"
    }
   ],
   "source": [
    "df.shape"
   ]
  },
  {
   "cell_type": "code",
   "execution_count": 62,
   "id": "25da2355",
   "metadata": {},
   "outputs": [],
   "source": [
    "df.to_csv('master_df.csv', index=False, sep=\",\")"
   ]
  },
  {
   "cell_type": "markdown",
   "id": "08087cb6",
   "metadata": {},
   "source": [
    "**Set Tokenizer**"
   ]
  },
  {
   "cell_type": "code",
   "execution_count": 63,
   "id": "a5665e95",
   "metadata": {},
   "outputs": [],
   "source": [
    "tokenizer = RegexpTokenizer(r'\\w+|\\$[\\d\\.]+|\\S+')"
   ]
  },
  {
   "cell_type": "code",
   "execution_count": 64,
   "id": "2a91b8bd",
   "metadata": {},
   "outputs": [],
   "source": [
    "lemmatizer = WordNetLemmatizer()"
   ]
  },
  {
   "cell_type": "code",
   "execution_count": 65,
   "id": "2d32f400",
   "metadata": {},
   "outputs": [],
   "source": [
    "df = pd.read_csv('./master_df.csv')"
   ]
  },
  {
   "cell_type": "code",
   "execution_count": 66,
   "id": "07e12f6f",
   "metadata": {},
   "outputs": [
    {
     "data": {
      "text/plain": [
       "Index(['subreddit', 'title', 'ups', 'post_paragraph', 'number_of_comments',\n",
       "       'score', 'author_flair_css_class', 'target'],\n",
       "      dtype='object')"
      ]
     },
     "execution_count": 66,
     "metadata": {},
     "output_type": "execute_result"
    }
   ],
   "source": [
    "df.columns"
   ]
  },
  {
   "cell_type": "markdown",
   "id": "7d8ccb20",
   "metadata": {},
   "source": [
    "**Create function that takes a column containing text and returns the lemmatized version in a new 'cleaned' column**"
   ]
  },
  {
   "cell_type": "code",
   "execution_count": 67,
   "id": "3d6870ba",
   "metadata": {},
   "outputs": [],
   "source": [
    "def column_cleaner(column, df=df):\n",
    "    #For some reason, I was running into errors trying to run this code until I added the code\n",
    "    #below (df[column+'_clean'] = \"\"), establishing from the beginning that the new column to be created\n",
    "    #exists in the dataframe and contains nothing but empty strings.\n",
    "    \n",
    "    df[column+'_clean'] = \"\"\n",
    "    \n",
    "    #for loop through each row in the column:\n",
    "    for i in range(len(df[column])):\n",
    "        \n",
    "        #Tokenize, or separate, each word in column's string into its own string (prep for lemmatization):\n",
    "        col_tok = []\n",
    "        col_tok.extend(tokenizer.tokenize(df[column][i].lower()))\n",
    "        col_token = []\n",
    "        [col_token.append(s) for s in col_tok if s not in col_token]\n",
    "        \n",
    "        #Lemmatize the words (cut the word to its base/root, for improved model results):\n",
    "        col_lem = []\n",
    "        for x in range(len(col_token)):\n",
    "            col_lem.append(lemmatizer.lemmatize(col_token[x]))\n",
    "        \n",
    "        #Remove characters and numbers (for improved model results, hopefully):\n",
    "        letters_only_col = []\n",
    "        for c in range(len(col_lem)):\n",
    "            letters_only_col.append(re.sub(\"[^a-zA-Z]\", \"\", col_lem[c]))\n",
    "        \n",
    "        #Remove stopwords (for improved model results):\n",
    "        col_words = [w for w in letters_only_col if not w in stopwords.words('english')]\n",
    "        \n",
    "        #Remove 'cheat' words (words that are in the subreddit's name and also in the column)\n",
    "        cheat_words = ['mario', 'party', 'marioparty', 'smash', 'bros', 'ultimate', 'smashbrosultimate', 'super']\n",
    "        col_words = [w for w in letters_only_col if not w in cheat_words]\n",
    "        \n",
    "        #Ensure that there are no 'None' objects in title_words:\n",
    "        col_words = list(filter(None, col_words))\n",
    "\n",
    "        #Join the lemmatized words - stopwords back to one long string (prep for\n",
    "        #vectorization, done outside/after this function):\n",
    "        col_words = \" \".join(col_words)\n",
    "\n",
    "        #Fill new column with 'cleaned' string from column:\n",
    "        df[column+'_clean'][i] = col_words"
   ]
  },
  {
   "cell_type": "code",
   "execution_count": 68,
   "id": "c75c1f03",
   "metadata": {},
   "outputs": [
    {
     "name": "stderr",
     "output_type": "stream",
     "text": [
      "<ipython-input-67-a5c2561915b6>:42: SettingWithCopyWarning: \n",
      "A value is trying to be set on a copy of a slice from a DataFrame\n",
      "\n",
      "See the caveats in the documentation: https://pandas.pydata.org/pandas-docs/stable/user_guide/indexing.html#returning-a-view-versus-a-copy\n",
      "  df[column+'_clean'][i] = col_words\n"
     ]
    }
   ],
   "source": [
    "column_cleaner(column='title', df=df)"
   ]
  },
  {
   "cell_type": "code",
   "execution_count": 69,
   "id": "90cdb8b6",
   "metadata": {},
   "outputs": [
    {
     "data": {
      "text/plain": [
       "0                                                  NaN\n",
       "1    Thanks all for filling out our survey!\\n\\nWith...\n",
       "2                                       go ahead⬇️⬇️⬇️\n",
       "3                            Keep the responses comin!\n",
       "4    I am trying to unlock hammer bro or blooper. I...\n",
       "Name: post_paragraph, dtype: object"
      ]
     },
     "execution_count": 69,
     "metadata": {},
     "output_type": "execute_result"
    }
   ],
   "source": [
    "df['post_paragraph'].head()"
   ]
  },
  {
   "cell_type": "code",
   "execution_count": 70,
   "id": "542e880f",
   "metadata": {},
   "outputs": [],
   "source": [
    "df['post_paragraph'] = df['post_paragraph'].replace(np.nan, \"\")"
   ]
  },
  {
   "cell_type": "code",
   "execution_count": 71,
   "id": "e77d1688",
   "metadata": {},
   "outputs": [
    {
     "name": "stderr",
     "output_type": "stream",
     "text": [
      "<ipython-input-67-a5c2561915b6>:42: SettingWithCopyWarning: \n",
      "A value is trying to be set on a copy of a slice from a DataFrame\n",
      "\n",
      "See the caveats in the documentation: https://pandas.pydata.org/pandas-docs/stable/user_guide/indexing.html#returning-a-view-versus-a-copy\n",
      "  df[column+'_clean'][i] = col_words\n"
     ]
    }
   ],
   "source": [
    "column_cleaner(column='post_paragraph', df=df)"
   ]
  },
  {
   "cell_type": "markdown",
   "id": "dbcb9d8d",
   "metadata": {},
   "source": [
    "**Save version of DataFrame**"
   ]
  },
  {
   "cell_type": "code",
   "execution_count": 72,
   "id": "ba1f23ae",
   "metadata": {},
   "outputs": [],
   "source": [
    "df.to_csv('master_df_cleaned.csv', index=False, sep=\",\")"
   ]
  },
  {
   "cell_type": "code",
   "execution_count": 73,
   "id": "c2ccab2f",
   "metadata": {},
   "outputs": [
    {
     "data": {
      "text/html": [
       "<div>\n",
       "<style scoped>\n",
       "    .dataframe tbody tr th:only-of-type {\n",
       "        vertical-align: middle;\n",
       "    }\n",
       "\n",
       "    .dataframe tbody tr th {\n",
       "        vertical-align: top;\n",
       "    }\n",
       "\n",
       "    .dataframe thead th {\n",
       "        text-align: right;\n",
       "    }\n",
       "</style>\n",
       "<table border=\"1\" class=\"dataframe\">\n",
       "  <thead>\n",
       "    <tr style=\"text-align: right;\">\n",
       "      <th></th>\n",
       "      <th>subreddit</th>\n",
       "      <th>title</th>\n",
       "      <th>ups</th>\n",
       "      <th>post_paragraph</th>\n",
       "      <th>number_of_comments</th>\n",
       "      <th>score</th>\n",
       "      <th>author_flair_css_class</th>\n",
       "      <th>target</th>\n",
       "      <th>title_clean</th>\n",
       "      <th>post_paragraph_clean</th>\n",
       "    </tr>\n",
       "  </thead>\n",
       "  <tbody>\n",
       "    <tr>\n",
       "      <th>0</th>\n",
       "      <td>MARIOPARTY</td>\n",
       "      <td>Looking for buddies to play Mario Party Supers...</td>\n",
       "      <td>290</td>\n",
       "      <td></td>\n",
       "      <td>80</td>\n",
       "      <td>290</td>\n",
       "      <td>wario</td>\n",
       "      <td>1</td>\n",
       "      <td>looking for buddy to play superstar on switch ...</td>\n",
       "      <td></td>\n",
       "    </tr>\n",
       "    <tr>\n",
       "      <th>1</th>\n",
       "      <td>MARIOPARTY</td>\n",
       "      <td>Mario Party Superstars Most Wanted DLC 🌟 Surve...</td>\n",
       "      <td>178</td>\n",
       "      <td>Thanks all for filling out our survey!\\n\\nWith...</td>\n",
       "      <td>49</td>\n",
       "      <td>178</td>\n",
       "      <td>wario</td>\n",
       "      <td>1</td>\n",
       "      <td>superstar most wanted dlc survey result</td>\n",
       "      <td>thanks all for filling out our survey with res...</td>\n",
       "    </tr>\n",
       "    <tr>\n",
       "      <th>2</th>\n",
       "      <td>MARIOPARTY</td>\n",
       "      <td>let’s talk about our favourite mario party boa...</td>\n",
       "      <td>10</td>\n",
       "      <td>go ahead⬇️⬇️⬇️</td>\n",
       "      <td>36</td>\n",
       "      <td>10</td>\n",
       "      <td>noflair</td>\n",
       "      <td>1</td>\n",
       "      <td>let s talk about our favourite board because w...</td>\n",
       "      <td>go ahead</td>\n",
       "    </tr>\n",
       "  </tbody>\n",
       "</table>\n",
       "</div>"
      ],
      "text/plain": [
       "    subreddit                                              title  ups  \\\n",
       "0  MARIOPARTY  Looking for buddies to play Mario Party Supers...  290   \n",
       "1  MARIOPARTY  Mario Party Superstars Most Wanted DLC 🌟 Surve...  178   \n",
       "2  MARIOPARTY  let’s talk about our favourite mario party boa...   10   \n",
       "\n",
       "                                      post_paragraph  number_of_comments  \\\n",
       "0                                                                     80   \n",
       "1  Thanks all for filling out our survey!\\n\\nWith...                  49   \n",
       "2                                     go ahead⬇️⬇️⬇️                  36   \n",
       "\n",
       "   score author_flair_css_class  target  \\\n",
       "0    290                  wario       1   \n",
       "1    178                  wario       1   \n",
       "2     10                noflair       1   \n",
       "\n",
       "                                         title_clean  \\\n",
       "0  looking for buddy to play superstar on switch ...   \n",
       "1            superstar most wanted dlc survey result   \n",
       "2  let s talk about our favourite board because w...   \n",
       "\n",
       "                                post_paragraph_clean  \n",
       "0                                                     \n",
       "1  thanks all for filling out our survey with res...  \n",
       "2                                           go ahead  "
      ]
     },
     "execution_count": 73,
     "metadata": {},
     "output_type": "execute_result"
    }
   ],
   "source": [
    "df.head(3)"
   ]
  },
  {
   "cell_type": "markdown",
   "id": "dedf9114",
   "metadata": {},
   "source": [
    "**Create CountVectorize Function**"
   ]
  },
  {
   "cell_type": "code",
   "execution_count": 74,
   "id": "4c01ab0e",
   "metadata": {},
   "outputs": [],
   "source": [
    "def count_vec_column(column, func_df=df):\n",
    "    #Instantiate CountVectorizer:\n",
    "    vect = CountVectorizer()\n",
    "    \n",
    "    #Create temporary variable X_text that takes on the fit/transformed results of the column:\n",
    "    X_text = vect.fit_transform(func_df[column])\n",
    "    \n",
    "    #Turn X_text into an array (prep to easily make a DataFrame):\n",
    "    X_text = X_text.toarray()\n",
    "    \n",
    "    #Create a temporary DataFrame with each word/word-pair/word-group as the columns:\n",
    "    temp_df = pd.DataFrame(X_text,\n",
    "                           columns=vect.get_feature_names())\n",
    "    \n",
    "    #Add the original column name to the beginning of the new columns' names to differentiate from which column\n",
    "    # the vectorized words came from (this may impact the strength of the model):\n",
    "    for i in range(len(temp_df.columns)):\n",
    "        #print(i)\n",
    "        temp_df.rename(columns={temp_df.columns[i]: column + '_' + temp_df.columns[i]}, inplace=True)\n",
    "    \n",
    "    #Combine the two DataFrames:\n",
    "    func_df = pd.concat([func_df, temp_df], axis=1, join_axes=[func_df.index])\n",
    "    return func_df"
   ]
  },
  {
   "cell_type": "markdown",
   "id": "1106af55",
   "metadata": {},
   "source": [
    "**Create TF-IDF Function**"
   ]
  },
  {
   "cell_type": "code",
   "execution_count": 75,
   "id": "d186c751",
   "metadata": {},
   "outputs": [],
   "source": [
    "def tfidf_column(column, func_df=df):\n",
    "    #Instantiate TfidfVectorizer:\n",
    "    tfidf_vect = TfidfVectorizer()\n",
    "    \n",
    "    #Create temporary variable X_text that takes on the fit/transformed results of the column:\n",
    "    X_text = tfidf_vect.fit_transform(func_df[column])\n",
    "    \n",
    "    #Turn X_text into an array (prep to easily make a DataFrame):\n",
    "    X_text = X_text.toarray()\n",
    "    \n",
    "    #Create a temporary DataFrame with each word/word-pair/word-group as the columns:\n",
    "    temp_df = pd.DataFrame(X_text,\n",
    "                           columns=tfidf_vect.get_feature_names())\n",
    "    \n",
    "    #Add the original column name to the beginning of the new columns' names to differentiate from which column\n",
    "    # the tf-idf vectorized words came from (this may impact the strength of the model):\n",
    "    for i in range(len(temp_df.columns)):\n",
    "        #print(i)\n",
    "        temp_df.rename(columns={temp_df.columns[i]: column + '_' + temp_df.columns[i]}, inplace=True)\n",
    "    \n",
    "    #Combine the two DataFrames:\n",
    "    func_df = pd.concat([func_df, temp_df], axis=1, join_axes=[func_df.index])\n",
    "    return func_df"
   ]
  }
 ],
 "metadata": {
  "kernelspec": {
   "display_name": "Python 3",
   "language": "python",
   "name": "python3"
  },
  "language_info": {
   "codemirror_mode": {
    "name": "ipython",
    "version": 3
   },
   "file_extension": ".py",
   "mimetype": "text/x-python",
   "name": "python",
   "nbconvert_exporter": "python",
   "pygments_lexer": "ipython3",
   "version": "3.8.8"
  },
  "toc": {
   "base_numbering": 1,
   "nav_menu": {},
   "number_sections": true,
   "sideBar": true,
   "skip_h1_title": false,
   "title_cell": "Table of Contents",
   "title_sidebar": "Contents",
   "toc_cell": false,
   "toc_position": {},
   "toc_section_display": true,
   "toc_window_display": false
  }
 },
 "nbformat": 4,
 "nbformat_minor": 5
}
