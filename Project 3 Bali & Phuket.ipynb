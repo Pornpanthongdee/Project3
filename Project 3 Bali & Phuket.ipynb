{
 "cells": [
  {
   "cell_type": "code",
   "execution_count": 208,
   "id": "a57a3e92",
   "metadata": {},
   "outputs": [],
   "source": [
    "import requests\n",
    "import time\n",
    "import nltk\n",
    "import pandas as pd\n",
    "import regex as re\n",
    "import numpy as np\n",
    "\n",
    "from nltk.corpus import stopwords\n",
    "from nltk.tokenize import RegexpTokenizer\n",
    "from nltk.stem import WordNetLemmatizer\n",
    "\n",
    "from sklearn.feature_extraction.text import CountVectorizer, TfidfVectorizer\n",
    "from sklearn.model_selection import train_test_split, cross_val_score, GridSearchCV\n",
    "from sklearn.linear_model import LogisticRegression\n",
    "from sklearn.neighbors import KNeighborsClassifier\n",
    "from sklearn.ensemble import ExtraTreesClassifier, RandomForestClassifier\n",
    "from sklearn.tree import DecisionTreeClassifier\n",
    "\n",
    "from sklearn.pipeline import Pipeline\n",
    "from sklearn.naive_bayes import MultinomialNB # NLP classification\n",
    "from sklearn.metrics import confusion_matrix, plot_confusion_matrix"
   ]
  },
  {
   "cell_type": "code",
   "execution_count": 209,
   "id": "2b87f984",
   "metadata": {},
   "outputs": [],
   "source": [
    "url = 'https://www.reddit.com/hot.json'"
   ]
  },
  {
   "cell_type": "code",
   "execution_count": 210,
   "id": "85e26734",
   "metadata": {},
   "outputs": [],
   "source": [
    "headers = {'User-agent':'Eye eye bot 00'}"
   ]
  },
  {
   "cell_type": "code",
   "execution_count": 211,
   "id": "8e6867df",
   "metadata": {},
   "outputs": [],
   "source": [
    "res = requests.get(url,headers=headers)"
   ]
  },
  {
   "cell_type": "code",
   "execution_count": 212,
   "id": "47786540",
   "metadata": {},
   "outputs": [
    {
     "data": {
      "text/plain": [
       "200"
      ]
     },
     "execution_count": 212,
     "metadata": {},
     "output_type": "execute_result"
    }
   ],
   "source": [
    "res.status_code"
   ]
  },
  {
   "cell_type": "code",
   "execution_count": 213,
   "id": "b72f34ba",
   "metadata": {},
   "outputs": [],
   "source": [
    "the_json = res.json()"
   ]
  },
  {
   "cell_type": "code",
   "execution_count": 214,
   "id": "41af8931",
   "metadata": {},
   "outputs": [
    {
     "data": {
      "text/plain": [
       "['data', 'kind']"
      ]
     },
     "execution_count": 214,
     "metadata": {},
     "output_type": "execute_result"
    }
   ],
   "source": [
    "sorted(the_json.keys())"
   ]
  },
  {
   "cell_type": "code",
   "execution_count": 215,
   "id": "624481ff",
   "metadata": {},
   "outputs": [
    {
     "data": {
      "text/plain": [
       "['after', 'before', 'children', 'dist', 'geo_filter', 'modhash']"
      ]
     },
     "execution_count": 215,
     "metadata": {},
     "output_type": "execute_result"
    }
   ],
   "source": [
    "sorted(the_json['data'].keys())"
   ]
  },
  {
   "cell_type": "code",
   "execution_count": 216,
   "id": "e35ac2a1",
   "metadata": {},
   "outputs": [
    {
     "data": {
      "text/plain": [
       "25"
      ]
     },
     "execution_count": 216,
     "metadata": {},
     "output_type": "execute_result"
    }
   ],
   "source": [
    "len(the_json['data']['children'])"
   ]
  },
  {
   "cell_type": "code",
   "execution_count": 217,
   "id": "e236fb20",
   "metadata": {},
   "outputs": [
    {
     "data": {
      "text/html": [
       "<div>\n",
       "<style scoped>\n",
       "    .dataframe tbody tr th:only-of-type {\n",
       "        vertical-align: middle;\n",
       "    }\n",
       "\n",
       "    .dataframe tbody tr th {\n",
       "        vertical-align: top;\n",
       "    }\n",
       "\n",
       "    .dataframe thead th {\n",
       "        text-align: right;\n",
       "    }\n",
       "</style>\n",
       "<table border=\"1\" class=\"dataframe\">\n",
       "  <thead>\n",
       "    <tr style=\"text-align: right;\">\n",
       "      <th></th>\n",
       "      <th>kind</th>\n",
       "      <th>data</th>\n",
       "    </tr>\n",
       "  </thead>\n",
       "  <tbody>\n",
       "    <tr>\n",
       "      <th>0</th>\n",
       "      <td>t3</td>\n",
       "      <td>{'approved_at_utc': None, 'subreddit': 'AskRed...</td>\n",
       "    </tr>\n",
       "    <tr>\n",
       "      <th>1</th>\n",
       "      <td>t3</td>\n",
       "      <td>{'approved_at_utc': None, 'subreddit': 'worldn...</td>\n",
       "    </tr>\n",
       "    <tr>\n",
       "      <th>2</th>\n",
       "      <td>t3</td>\n",
       "      <td>{'approved_at_utc': None, 'subreddit': 'wallst...</td>\n",
       "    </tr>\n",
       "    <tr>\n",
       "      <th>3</th>\n",
       "      <td>t3</td>\n",
       "      <td>{'approved_at_utc': None, 'subreddit': 'aww', ...</td>\n",
       "    </tr>\n",
       "    <tr>\n",
       "      <th>4</th>\n",
       "      <td>t3</td>\n",
       "      <td>{'approved_at_utc': None, 'subreddit': 'Wellth...</td>\n",
       "    </tr>\n",
       "    <tr>\n",
       "      <th>5</th>\n",
       "      <td>t3</td>\n",
       "      <td>{'approved_at_utc': None, 'subreddit': 'politi...</td>\n",
       "    </tr>\n",
       "    <tr>\n",
       "      <th>6</th>\n",
       "      <td>t3</td>\n",
       "      <td>{'approved_at_utc': None, 'subreddit': 'memes'...</td>\n",
       "    </tr>\n",
       "    <tr>\n",
       "      <th>7</th>\n",
       "      <td>t3</td>\n",
       "      <td>{'approved_at_utc': None, 'subreddit': 'Combat...</td>\n",
       "    </tr>\n",
       "    <tr>\n",
       "      <th>8</th>\n",
       "      <td>t3</td>\n",
       "      <td>{'approved_at_utc': None, 'subreddit': 'Bikini...</td>\n",
       "    </tr>\n",
       "    <tr>\n",
       "      <th>9</th>\n",
       "      <td>t3</td>\n",
       "      <td>{'approved_at_utc': None, 'subreddit': 'politi...</td>\n",
       "    </tr>\n",
       "    <tr>\n",
       "      <th>10</th>\n",
       "      <td>t3</td>\n",
       "      <td>{'approved_at_utc': None, 'subreddit': 'mildly...</td>\n",
       "    </tr>\n",
       "    <tr>\n",
       "      <th>11</th>\n",
       "      <td>t3</td>\n",
       "      <td>{'approved_at_utc': None, 'subreddit': 'nextfu...</td>\n",
       "    </tr>\n",
       "    <tr>\n",
       "      <th>12</th>\n",
       "      <td>t3</td>\n",
       "      <td>{'approved_at_utc': None, 'subreddit': 'facepa...</td>\n",
       "    </tr>\n",
       "    <tr>\n",
       "      <th>13</th>\n",
       "      <td>t3</td>\n",
       "      <td>{'approved_at_utc': None, 'subreddit': 'halo',...</td>\n",
       "    </tr>\n",
       "    <tr>\n",
       "      <th>14</th>\n",
       "      <td>t3</td>\n",
       "      <td>{'approved_at_utc': None, 'subreddit': 'CrazyF...</td>\n",
       "    </tr>\n",
       "    <tr>\n",
       "      <th>15</th>\n",
       "      <td>t3</td>\n",
       "      <td>{'approved_at_utc': None, 'subreddit': 'ThatsI...</td>\n",
       "    </tr>\n",
       "    <tr>\n",
       "      <th>16</th>\n",
       "      <td>t3</td>\n",
       "      <td>{'approved_at_utc': None, 'subreddit': 'Public...</td>\n",
       "    </tr>\n",
       "    <tr>\n",
       "      <th>17</th>\n",
       "      <td>t3</td>\n",
       "      <td>{'approved_at_utc': None, 'subreddit': 'pics',...</td>\n",
       "    </tr>\n",
       "    <tr>\n",
       "      <th>18</th>\n",
       "      <td>t3</td>\n",
       "      <td>{'approved_at_utc': None, 'subreddit': 'WinStu...</td>\n",
       "    </tr>\n",
       "    <tr>\n",
       "      <th>19</th>\n",
       "      <td>t3</td>\n",
       "      <td>{'approved_at_utc': None, 'subreddit': 'europe...</td>\n",
       "    </tr>\n",
       "    <tr>\n",
       "      <th>20</th>\n",
       "      <td>t3</td>\n",
       "      <td>{'approved_at_utc': None, 'subreddit': 'league...</td>\n",
       "    </tr>\n",
       "    <tr>\n",
       "      <th>21</th>\n",
       "      <td>t3</td>\n",
       "      <td>{'approved_at_utc': None, 'subreddit': 'therew...</td>\n",
       "    </tr>\n",
       "    <tr>\n",
       "      <th>22</th>\n",
       "      <td>t3</td>\n",
       "      <td>{'approved_at_utc': None, 'subreddit': 'Whatco...</td>\n",
       "    </tr>\n",
       "    <tr>\n",
       "      <th>23</th>\n",
       "      <td>t3</td>\n",
       "      <td>{'approved_at_utc': None, 'subreddit': 'formul...</td>\n",
       "    </tr>\n",
       "    <tr>\n",
       "      <th>24</th>\n",
       "      <td>t3</td>\n",
       "      <td>{'approved_at_utc': None, 'subreddit': 'pcmast...</td>\n",
       "    </tr>\n",
       "  </tbody>\n",
       "</table>\n",
       "</div>"
      ],
      "text/plain": [
       "   kind                                               data\n",
       "0    t3  {'approved_at_utc': None, 'subreddit': 'AskRed...\n",
       "1    t3  {'approved_at_utc': None, 'subreddit': 'worldn...\n",
       "2    t3  {'approved_at_utc': None, 'subreddit': 'wallst...\n",
       "3    t3  {'approved_at_utc': None, 'subreddit': 'aww', ...\n",
       "4    t3  {'approved_at_utc': None, 'subreddit': 'Wellth...\n",
       "5    t3  {'approved_at_utc': None, 'subreddit': 'politi...\n",
       "6    t3  {'approved_at_utc': None, 'subreddit': 'memes'...\n",
       "7    t3  {'approved_at_utc': None, 'subreddit': 'Combat...\n",
       "8    t3  {'approved_at_utc': None, 'subreddit': 'Bikini...\n",
       "9    t3  {'approved_at_utc': None, 'subreddit': 'politi...\n",
       "10   t3  {'approved_at_utc': None, 'subreddit': 'mildly...\n",
       "11   t3  {'approved_at_utc': None, 'subreddit': 'nextfu...\n",
       "12   t3  {'approved_at_utc': None, 'subreddit': 'facepa...\n",
       "13   t3  {'approved_at_utc': None, 'subreddit': 'halo',...\n",
       "14   t3  {'approved_at_utc': None, 'subreddit': 'CrazyF...\n",
       "15   t3  {'approved_at_utc': None, 'subreddit': 'ThatsI...\n",
       "16   t3  {'approved_at_utc': None, 'subreddit': 'Public...\n",
       "17   t3  {'approved_at_utc': None, 'subreddit': 'pics',...\n",
       "18   t3  {'approved_at_utc': None, 'subreddit': 'WinStu...\n",
       "19   t3  {'approved_at_utc': None, 'subreddit': 'europe...\n",
       "20   t3  {'approved_at_utc': None, 'subreddit': 'league...\n",
       "21   t3  {'approved_at_utc': None, 'subreddit': 'therew...\n",
       "22   t3  {'approved_at_utc': None, 'subreddit': 'Whatco...\n",
       "23   t3  {'approved_at_utc': None, 'subreddit': 'formul...\n",
       "24   t3  {'approved_at_utc': None, 'subreddit': 'pcmast..."
      ]
     },
     "execution_count": 217,
     "metadata": {},
     "output_type": "execute_result"
    }
   ],
   "source": [
    "pd.DataFrame(the_json['data']['children'])"
   ]
  },
  {
   "cell_type": "code",
   "execution_count": 218,
   "id": "54717a4e",
   "metadata": {},
   "outputs": [
    {
     "data": {
      "text/plain": [
       "{'approved_at_utc': None,\n",
       " 'subreddit': 'AskReddit',\n",
       " 'selftext': '',\n",
       " 'author_fullname': 't2_4ttwva09',\n",
       " 'saved': False,\n",
       " 'mod_reason_title': None,\n",
       " 'gilded': 0,\n",
       " 'clicked': False,\n",
       " 'title': 'Film snobs of Reddit, who was the single worst casting choice in Hollywood film history?',\n",
       " 'link_flair_richtext': [],\n",
       " 'subreddit_name_prefixed': 'r/AskReddit',\n",
       " 'hidden': False,\n",
       " 'pwls': 6,\n",
       " 'link_flair_css_class': None,\n",
       " 'downs': 0,\n",
       " 'thumbnail_height': None,\n",
       " 'top_awarded_type': None,\n",
       " 'hide_score': False,\n",
       " 'name': 't3_y01xtf',\n",
       " 'quarantine': False,\n",
       " 'link_flair_text_color': 'dark',\n",
       " 'upvote_ratio': 0.92,\n",
       " 'author_flair_background_color': None,\n",
       " 'subreddit_type': 'public',\n",
       " 'ups': 16813,\n",
       " 'total_awards_received': 5,\n",
       " 'media_embed': {},\n",
       " 'thumbnail_width': None,\n",
       " 'author_flair_template_id': None,\n",
       " 'is_original_content': False,\n",
       " 'user_reports': [],\n",
       " 'secure_media': None,\n",
       " 'is_reddit_media_domain': False,\n",
       " 'is_meta': False,\n",
       " 'category': None,\n",
       " 'secure_media_embed': {},\n",
       " 'link_flair_text': None,\n",
       " 'can_mod_post': False,\n",
       " 'score': 16813,\n",
       " 'approved_by': None,\n",
       " 'is_created_from_ads_ui': False,\n",
       " 'author_premium': False,\n",
       " 'thumbnail': 'self',\n",
       " 'edited': False,\n",
       " 'author_flair_css_class': None,\n",
       " 'author_flair_richtext': [],\n",
       " 'gildings': {'gid_1': 1},\n",
       " 'content_categories': None,\n",
       " 'is_self': True,\n",
       " 'mod_note': None,\n",
       " 'created': 1665365287.0,\n",
       " 'link_flair_type': 'text',\n",
       " 'wls': 6,\n",
       " 'removed_by_category': None,\n",
       " 'banned_by': None,\n",
       " 'author_flair_type': 'text',\n",
       " 'domain': 'self.AskReddit',\n",
       " 'allow_live_comments': True,\n",
       " 'selftext_html': None,\n",
       " 'likes': None,\n",
       " 'suggested_sort': None,\n",
       " 'banned_at_utc': None,\n",
       " 'view_count': None,\n",
       " 'archived': False,\n",
       " 'no_follow': False,\n",
       " 'is_crosspostable': False,\n",
       " 'pinned': False,\n",
       " 'over_18': False,\n",
       " 'all_awardings': [{'giver_coin_reward': None,\n",
       "   'subreddit_id': None,\n",
       "   'is_new': False,\n",
       "   'days_of_drip_extension': None,\n",
       "   'coin_price': 125,\n",
       "   'id': 'award_5f123e3d-4f48-42f4-9c11-e98b566d5897',\n",
       "   'penny_donate': None,\n",
       "   'award_sub_type': 'GLOBAL',\n",
       "   'coin_reward': 0,\n",
       "   'icon_url': 'https://i.redd.it/award_images/t5_22cerq/5izbv4fn0md41_Wholesome.png',\n",
       "   'days_of_premium': None,\n",
       "   'tiers_by_required_awardings': None,\n",
       "   'resized_icons': [{'url': 'https://preview.redd.it/award_images/t5_22cerq/5izbv4fn0md41_Wholesome.png?width=16&amp;height=16&amp;auto=webp&amp;s=92932f465d58e4c16b12b6eac4ca07d27e3d11c0',\n",
       "     'width': 16,\n",
       "     'height': 16},\n",
       "    {'url': 'https://preview.redd.it/award_images/t5_22cerq/5izbv4fn0md41_Wholesome.png?width=32&amp;height=32&amp;auto=webp&amp;s=d11484a208d68a318bf9d4fcf371171a1cb6a7ef',\n",
       "     'width': 32,\n",
       "     'height': 32},\n",
       "    {'url': 'https://preview.redd.it/award_images/t5_22cerq/5izbv4fn0md41_Wholesome.png?width=48&amp;height=48&amp;auto=webp&amp;s=febdf28b6f39f7da7eb1365325b85e0bb49a9f63',\n",
       "     'width': 48,\n",
       "     'height': 48},\n",
       "    {'url': 'https://preview.redd.it/award_images/t5_22cerq/5izbv4fn0md41_Wholesome.png?width=64&amp;height=64&amp;auto=webp&amp;s=b4406a2d88bf86fa3dc8a45aacf7e0c7bdccc4fb',\n",
       "     'width': 64,\n",
       "     'height': 64},\n",
       "    {'url': 'https://preview.redd.it/award_images/t5_22cerq/5izbv4fn0md41_Wholesome.png?width=128&amp;height=128&amp;auto=webp&amp;s=19555b13e3e196b62eeb9160d1ac1d1b372dcb0b',\n",
       "     'width': 128,\n",
       "     'height': 128}],\n",
       "   'icon_width': 2048,\n",
       "   'static_icon_width': 2048,\n",
       "   'start_date': None,\n",
       "   'is_enabled': True,\n",
       "   'awardings_required_to_grant_benefits': None,\n",
       "   'description': 'When you come across a feel-good thing.',\n",
       "   'end_date': None,\n",
       "   'sticky_duration_seconds': None,\n",
       "   'subreddit_coin_reward': 0,\n",
       "   'count': 2,\n",
       "   'static_icon_height': 2048,\n",
       "   'name': 'Wholesome',\n",
       "   'resized_static_icons': [{'url': 'https://preview.redd.it/award_images/t5_22cerq/5izbv4fn0md41_Wholesome.png?width=16&amp;height=16&amp;auto=webp&amp;s=92932f465d58e4c16b12b6eac4ca07d27e3d11c0',\n",
       "     'width': 16,\n",
       "     'height': 16},\n",
       "    {'url': 'https://preview.redd.it/award_images/t5_22cerq/5izbv4fn0md41_Wholesome.png?width=32&amp;height=32&amp;auto=webp&amp;s=d11484a208d68a318bf9d4fcf371171a1cb6a7ef',\n",
       "     'width': 32,\n",
       "     'height': 32},\n",
       "    {'url': 'https://preview.redd.it/award_images/t5_22cerq/5izbv4fn0md41_Wholesome.png?width=48&amp;height=48&amp;auto=webp&amp;s=febdf28b6f39f7da7eb1365325b85e0bb49a9f63',\n",
       "     'width': 48,\n",
       "     'height': 48},\n",
       "    {'url': 'https://preview.redd.it/award_images/t5_22cerq/5izbv4fn0md41_Wholesome.png?width=64&amp;height=64&amp;auto=webp&amp;s=b4406a2d88bf86fa3dc8a45aacf7e0c7bdccc4fb',\n",
       "     'width': 64,\n",
       "     'height': 64},\n",
       "    {'url': 'https://preview.redd.it/award_images/t5_22cerq/5izbv4fn0md41_Wholesome.png?width=128&amp;height=128&amp;auto=webp&amp;s=19555b13e3e196b62eeb9160d1ac1d1b372dcb0b',\n",
       "     'width': 128,\n",
       "     'height': 128}],\n",
       "   'icon_format': None,\n",
       "   'icon_height': 2048,\n",
       "   'penny_price': None,\n",
       "   'award_type': 'global',\n",
       "   'static_icon_url': 'https://i.redd.it/award_images/t5_22cerq/5izbv4fn0md41_Wholesome.png'},\n",
       "  {'giver_coin_reward': None,\n",
       "   'subreddit_id': None,\n",
       "   'is_new': False,\n",
       "   'days_of_drip_extension': None,\n",
       "   'coin_price': 150,\n",
       "   'id': 'award_f44611f1-b89e-46dc-97fe-892280b13b82',\n",
       "   'penny_donate': None,\n",
       "   'award_sub_type': 'GLOBAL',\n",
       "   'coin_reward': 0,\n",
       "   'icon_url': 'https://i.redd.it/award_images/t5_22cerq/klvxk1wggfd41_Helpful.png',\n",
       "   'days_of_premium': None,\n",
       "   'tiers_by_required_awardings': None,\n",
       "   'resized_icons': [{'url': 'https://preview.redd.it/award_images/t5_22cerq/klvxk1wggfd41_Helpful.png?width=16&amp;height=16&amp;auto=webp&amp;s=a5662dfbdb402bf67866c050aa76c31c147c2f45',\n",
       "     'width': 16,\n",
       "     'height': 16},\n",
       "    {'url': 'https://preview.redd.it/award_images/t5_22cerq/klvxk1wggfd41_Helpful.png?width=32&amp;height=32&amp;auto=webp&amp;s=a6882eb3f380e8e88009789f4d0072e17b8c59f1',\n",
       "     'width': 32,\n",
       "     'height': 32},\n",
       "    {'url': 'https://preview.redd.it/award_images/t5_22cerq/klvxk1wggfd41_Helpful.png?width=48&amp;height=48&amp;auto=webp&amp;s=e50064b090879e8a0b55e433f6ee61d5cb5fbe1d',\n",
       "     'width': 48,\n",
       "     'height': 48},\n",
       "    {'url': 'https://preview.redd.it/award_images/t5_22cerq/klvxk1wggfd41_Helpful.png?width=64&amp;height=64&amp;auto=webp&amp;s=8e5bb2e76683cb6b161830bcdd9642049d6adc11',\n",
       "     'width': 64,\n",
       "     'height': 64},\n",
       "    {'url': 'https://preview.redd.it/award_images/t5_22cerq/klvxk1wggfd41_Helpful.png?width=128&amp;height=128&amp;auto=webp&amp;s=eda4a9246f95f42ee6940cc0ec65306fd20de878',\n",
       "     'width': 128,\n",
       "     'height': 128}],\n",
       "   'icon_width': 2048,\n",
       "   'static_icon_width': 2048,\n",
       "   'start_date': None,\n",
       "   'is_enabled': True,\n",
       "   'awardings_required_to_grant_benefits': None,\n",
       "   'description': 'Thank you stranger. Shows the award.',\n",
       "   'end_date': None,\n",
       "   'sticky_duration_seconds': None,\n",
       "   'subreddit_coin_reward': 0,\n",
       "   'count': 2,\n",
       "   'static_icon_height': 2048,\n",
       "   'name': 'Helpful',\n",
       "   'resized_static_icons': [{'url': 'https://preview.redd.it/award_images/t5_22cerq/klvxk1wggfd41_Helpful.png?width=16&amp;height=16&amp;auto=webp&amp;s=a5662dfbdb402bf67866c050aa76c31c147c2f45',\n",
       "     'width': 16,\n",
       "     'height': 16},\n",
       "    {'url': 'https://preview.redd.it/award_images/t5_22cerq/klvxk1wggfd41_Helpful.png?width=32&amp;height=32&amp;auto=webp&amp;s=a6882eb3f380e8e88009789f4d0072e17b8c59f1',\n",
       "     'width': 32,\n",
       "     'height': 32},\n",
       "    {'url': 'https://preview.redd.it/award_images/t5_22cerq/klvxk1wggfd41_Helpful.png?width=48&amp;height=48&amp;auto=webp&amp;s=e50064b090879e8a0b55e433f6ee61d5cb5fbe1d',\n",
       "     'width': 48,\n",
       "     'height': 48},\n",
       "    {'url': 'https://preview.redd.it/award_images/t5_22cerq/klvxk1wggfd41_Helpful.png?width=64&amp;height=64&amp;auto=webp&amp;s=8e5bb2e76683cb6b161830bcdd9642049d6adc11',\n",
       "     'width': 64,\n",
       "     'height': 64},\n",
       "    {'url': 'https://preview.redd.it/award_images/t5_22cerq/klvxk1wggfd41_Helpful.png?width=128&amp;height=128&amp;auto=webp&amp;s=eda4a9246f95f42ee6940cc0ec65306fd20de878',\n",
       "     'width': 128,\n",
       "     'height': 128}],\n",
       "   'icon_format': None,\n",
       "   'icon_height': 2048,\n",
       "   'penny_price': None,\n",
       "   'award_type': 'global',\n",
       "   'static_icon_url': 'https://i.redd.it/award_images/t5_22cerq/klvxk1wggfd41_Helpful.png'},\n",
       "  {'giver_coin_reward': None,\n",
       "   'subreddit_id': None,\n",
       "   'is_new': False,\n",
       "   'days_of_drip_extension': None,\n",
       "   'coin_price': 100,\n",
       "   'id': 'gid_1',\n",
       "   'penny_donate': None,\n",
       "   'award_sub_type': 'GLOBAL',\n",
       "   'coin_reward': 0,\n",
       "   'icon_url': 'https://www.redditstatic.com/gold/awards/icon/silver_512.png',\n",
       "   'days_of_premium': None,\n",
       "   'tiers_by_required_awardings': None,\n",
       "   'resized_icons': [{'url': 'https://www.redditstatic.com/gold/awards/icon/silver_16.png',\n",
       "     'width': 16,\n",
       "     'height': 16},\n",
       "    {'url': 'https://www.redditstatic.com/gold/awards/icon/silver_32.png',\n",
       "     'width': 32,\n",
       "     'height': 32},\n",
       "    {'url': 'https://www.redditstatic.com/gold/awards/icon/silver_48.png',\n",
       "     'width': 48,\n",
       "     'height': 48},\n",
       "    {'url': 'https://www.redditstatic.com/gold/awards/icon/silver_64.png',\n",
       "     'width': 64,\n",
       "     'height': 64},\n",
       "    {'url': 'https://www.redditstatic.com/gold/awards/icon/silver_128.png',\n",
       "     'width': 128,\n",
       "     'height': 128}],\n",
       "   'icon_width': 512,\n",
       "   'static_icon_width': 512,\n",
       "   'start_date': None,\n",
       "   'is_enabled': True,\n",
       "   'awardings_required_to_grant_benefits': None,\n",
       "   'description': \"Shows the Silver Award... and that's it.\",\n",
       "   'end_date': None,\n",
       "   'sticky_duration_seconds': None,\n",
       "   'subreddit_coin_reward': 0,\n",
       "   'count': 1,\n",
       "   'static_icon_height': 512,\n",
       "   'name': 'Silver',\n",
       "   'resized_static_icons': [{'url': 'https://www.redditstatic.com/gold/awards/icon/silver_16.png',\n",
       "     'width': 16,\n",
       "     'height': 16},\n",
       "    {'url': 'https://www.redditstatic.com/gold/awards/icon/silver_32.png',\n",
       "     'width': 32,\n",
       "     'height': 32},\n",
       "    {'url': 'https://www.redditstatic.com/gold/awards/icon/silver_48.png',\n",
       "     'width': 48,\n",
       "     'height': 48},\n",
       "    {'url': 'https://www.redditstatic.com/gold/awards/icon/silver_64.png',\n",
       "     'width': 64,\n",
       "     'height': 64},\n",
       "    {'url': 'https://www.redditstatic.com/gold/awards/icon/silver_128.png',\n",
       "     'width': 128,\n",
       "     'height': 128}],\n",
       "   'icon_format': None,\n",
       "   'icon_height': 512,\n",
       "   'penny_price': None,\n",
       "   'award_type': 'global',\n",
       "   'static_icon_url': 'https://www.redditstatic.com/gold/awards/icon/silver_512.png'}],\n",
       " 'awarders': [],\n",
       " 'media_only': False,\n",
       " 'can_gild': False,\n",
       " 'spoiler': False,\n",
       " 'locked': False,\n",
       " 'author_flair_text': None,\n",
       " 'treatment_tags': [],\n",
       " 'visited': False,\n",
       " 'removed_by': None,\n",
       " 'num_reports': None,\n",
       " 'distinguished': None,\n",
       " 'subreddit_id': 't5_2qh1i',\n",
       " 'author_is_blocked': False,\n",
       " 'mod_reason_by': None,\n",
       " 'removal_reason': None,\n",
       " 'link_flair_background_color': '',\n",
       " 'id': 'y01xtf',\n",
       " 'is_robot_indexable': True,\n",
       " 'report_reasons': None,\n",
       " 'author': 'gavelpounder91',\n",
       " 'discussion_type': None,\n",
       " 'num_comments': 11951,\n",
       " 'send_replies': True,\n",
       " 'whitelist_status': 'all_ads',\n",
       " 'contest_mode': False,\n",
       " 'mod_reports': [],\n",
       " 'author_patreon_flair': False,\n",
       " 'author_flair_text_color': None,\n",
       " 'permalink': '/r/AskReddit/comments/y01xtf/film_snobs_of_reddit_who_was_the_single_worst/',\n",
       " 'parent_whitelist_status': 'all_ads',\n",
       " 'stickied': False,\n",
       " 'url': 'https://www.reddit.com/r/AskReddit/comments/y01xtf/film_snobs_of_reddit_who_was_the_single_worst/',\n",
       " 'subreddit_subscribers': 37662764,\n",
       " 'created_utc': 1665365287.0,\n",
       " 'num_crossposts': 6,\n",
       " 'media': None,\n",
       " 'is_video': False}"
      ]
     },
     "execution_count": 218,
     "metadata": {},
     "output_type": "execute_result"
    }
   ],
   "source": [
    "the_json['data']['children'][0]['data']"
   ]
  },
  {
   "cell_type": "code",
   "execution_count": 219,
   "id": "d9d23376",
   "metadata": {},
   "outputs": [
    {
     "data": {
      "text/plain": [
       "25"
      ]
     },
     "execution_count": 219,
     "metadata": {},
     "output_type": "execute_result"
    }
   ],
   "source": [
    "len(the_json['data']['children'])"
   ]
  },
  {
   "cell_type": "code",
   "execution_count": 220,
   "id": "4d7436dd",
   "metadata": {},
   "outputs": [
    {
     "data": {
      "text/plain": [
       "'t3_y08ddj'"
      ]
     },
     "execution_count": 220,
     "metadata": {},
     "output_type": "execute_result"
    }
   ],
   "source": [
    "the_json['data']['after']"
   ]
  },
  {
   "cell_type": "code",
   "execution_count": 221,
   "id": "9298bb55",
   "metadata": {},
   "outputs": [
    {
     "data": {
      "text/plain": [
       "['t3_y01xtf',\n",
       " 't3_y0b8ob',\n",
       " 't3_y0gnis',\n",
       " 't3_y0gn5x',\n",
       " 't3_xzze6l',\n",
       " 't3_y0bbul',\n",
       " 't3_y0d0ui',\n",
       " 't3_y07k7i',\n",
       " 't3_y0gkr2',\n",
       " 't3_y0gvbl',\n",
       " 't3_y06q08',\n",
       " 't3_y0e7kl',\n",
       " 't3_y0fbkj',\n",
       " 't3_y0fe3h',\n",
       " 't3_y0apl8',\n",
       " 't3_y0amuo',\n",
       " 't3_y07ac9',\n",
       " 't3_y0d2zr',\n",
       " 't3_y0c5vj',\n",
       " 't3_y06y7c',\n",
       " 't3_y088qb',\n",
       " 't3_y0gloi',\n",
       " 't3_y094zq',\n",
       " 't3_y0h3jg',\n",
       " 't3_y08ddj']"
      ]
     },
     "execution_count": 221,
     "metadata": {},
     "output_type": "execute_result"
    }
   ],
   "source": [
    "[post['data']['name'] for post in the_json['data']['children']]"
   ]
  },
  {
   "cell_type": "code",
   "execution_count": 222,
   "id": "f44af2ff",
   "metadata": {},
   "outputs": [],
   "source": [
    "param = {'after':'t3_xz3tn3'}"
   ]
  },
  {
   "cell_type": "code",
   "execution_count": 223,
   "id": "619ceb17",
   "metadata": {},
   "outputs": [
    {
     "data": {
      "text/plain": [
       "<Response [200]>"
      ]
     },
     "execution_count": 223,
     "metadata": {},
     "output_type": "execute_result"
    }
   ],
   "source": [
    "requests.get(url,params =param, headers= headers )"
   ]
  },
  {
   "cell_type": "code",
   "execution_count": 224,
   "id": "c6ab719f",
   "metadata": {},
   "outputs": [],
   "source": [
    "# The function 'reddit_to_csv' will take three arguments: \n",
    "# 1. the subreddit being scraped; 2. the filename, or the name\n",
    "# the csv file will be given; and 3. the number of requests \n",
    "# the user would like to make of reddit's API. \n",
    "\n",
    "def reddit_to_csv(subreddit, filename, n_requests=1):\n",
    "    \n",
    "    #Create an empty list to be used later in function:\n",
    "    posts = []\n",
    "    \n",
    "    #Create User-Agent to avoid 429 res.status_code:\n",
    "    headers = {'User-agent':'Eye eye bot 00'}\n",
    "    \n",
    "    #Establish that 'after' (a variable used later) is None type:\n",
    "    after = None\n",
    "    \n",
    "    #for loop n_requests iterations (n_requests is established by user):\n",
    "    for i in range(n_requests):\n",
    "        print(i)\n",
    "        \n",
    "        if after == None:\n",
    "            params = {}\n",
    "        else:\n",
    "            params = {'after': after}\n",
    "        #Assign 'url' to reddit's base url, plus whatever subreddit \n",
    "        #the user provides,plus .json for clean results:\n",
    "        #url = 'https://www.reddit.com/hot.json'\n",
    "        url = 'https://www.reddit.com/' + str(subreddit) + '/.json'\n",
    "        \n",
    "        #Set my res variable equal to the results from requests.get, \n",
    "        #and the parameters set above like 'url' or 'params':\n",
    "        res = requests.get(url,params=params,headers=headers)\n",
    "        \n",
    "        #Conditional statement to ensure access to the API is approved:\n",
    "        if res.status_code ==200:\n",
    "            the_json = res.json()\n",
    "            \n",
    "            for x in range(len(the_json['data']['children'])):\n",
    "                \n",
    "                #Create temporary dictionary to add results of each post to:\n",
    "                temp_dict = {}\n",
    "                #After looking through the json results, I've selected the below information about the posts\n",
    "                #as those that can potentially add value to my model's results.\n",
    "                temp_dict['subreddit'] = the_json['data']['children'][x]['data']['subreddit']\n",
    "                temp_dict['title'] = the_json['data']['children'][x]['data']['title']\n",
    "                temp_dict['post_paragraph'] = the_json['data']['children'][x]['data']['selftext']\n",
    "                temp_dict['clicked'] = the_json['data']['children'][x]['data']['clicked']\n",
    "                temp_dict['ups'] = the_json['data']['children'][x]['data']['ups']\n",
    "                temp_dict['downs'] = the_json['data']['children'][x]['data']['downs']\n",
    "                temp_dict['likes'] = the_json['data']['children'][x]['data']['likes']\n",
    "                temp_dict['category'] = the_json['data']['children'][x]['data']['category']\n",
    "                temp_dict['number_of_comments'] = the_json['data']['children'][x]['data']['num_comments']\n",
    "                temp_dict['score'] = the_json['data']['children'][x]['data']['score']\n",
    "                temp_dict['author_flair_css_class'] = the_json['data']['children'][x]['data']['author_flair_css_class']\n",
    "                temp_dict['subreddit_type'] = the_json['data']['children'][x]['data']['subreddit_type']\n",
    "                \n",
    "                #Add the temporary dictionary to 'posts',the list of each post's dictionary of information:\n",
    "                posts.append(temp_dict)\n",
    "                #posts.extend(the_json['data']['children'])\n",
    "            after = the_json['data']['after']\n",
    "            \n",
    "        else:\n",
    "            print(res.status_code)\n",
    "            break\n",
    "        time.sleep(1)\n",
    "        \n",
    "    #Turn the list of post dictionaries into a pandas DataFrame:\n",
    "    posts_df = pd.DataFrame(posts)\n",
    "    \n",
    "    #Drop any duplicate rows that may have been pulled:\n",
    "    posts_df.drop_duplicates(inplace = True)\n",
    "    \n",
    "    #Rearrange the columns into a more logical order:\n",
    "    posts_df = posts_df[['subreddit', 'title', 'clicked', 'ups', 'downs', 'post_paragraph', 'likes', 'number_of_comments', 'category', 'score', 'author_flair_css_class', 'subreddit_type']]\n",
    "    \n",
    "    #Save the DataFrame as a .csv file:\n",
    "    posts_df.to_csv(str(filename), index = False, sep = \",\")\n",
    "\n",
    "\n",
    "        "
   ]
  },
  {
   "cell_type": "code",
   "execution_count": 225,
   "id": "da74a527",
   "metadata": {},
   "outputs": [
    {
     "name": "stdout",
     "output_type": "stream",
     "text": [
      "0\n",
      "1\n",
      "2\n",
      "3\n",
      "4\n",
      "5\n",
      "6\n",
      "7\n",
      "8\n",
      "9\n",
      "10\n",
      "11\n",
      "12\n",
      "13\n",
      "14\n",
      "15\n",
      "16\n",
      "17\n",
      "18\n",
      "19\n",
      "20\n",
      "21\n",
      "22\n",
      "23\n",
      "24\n",
      "25\n",
      "26\n",
      "27\n",
      "28\n",
      "29\n",
      "30\n",
      "31\n",
      "32\n",
      "33\n",
      "34\n",
      "35\n",
      "36\n",
      "37\n",
      "38\n",
      "39\n",
      "40\n",
      "41\n",
      "42\n",
      "43\n",
      "44\n",
      "45\n",
      "46\n",
      "47\n",
      "48\n",
      "49\n",
      "50\n",
      "51\n",
      "52\n",
      "53\n",
      "54\n",
      "55\n",
      "56\n",
      "57\n",
      "58\n",
      "59\n",
      "60\n",
      "61\n",
      "62\n",
      "63\n",
      "64\n",
      "65\n",
      "66\n",
      "67\n",
      "68\n",
      "69\n",
      "70\n",
      "71\n",
      "72\n",
      "73\n",
      "74\n",
      "75\n",
      "76\n",
      "77\n",
      "78\n",
      "79\n",
      "80\n",
      "81\n",
      "82\n",
      "83\n",
      "84\n",
      "85\n",
      "86\n",
      "87\n",
      "88\n",
      "89\n",
      "90\n",
      "91\n",
      "92\n",
      "93\n",
      "94\n",
      "95\n",
      "96\n",
      "97\n",
      "98\n",
      "99\n",
      "100\n",
      "101\n",
      "102\n",
      "103\n",
      "104\n",
      "105\n",
      "106\n",
      "107\n",
      "108\n",
      "109\n",
      "110\n",
      "111\n",
      "112\n",
      "113\n",
      "114\n",
      "115\n",
      "116\n",
      "117\n",
      "118\n",
      "119\n",
      "120\n",
      "121\n",
      "122\n",
      "123\n",
      "124\n",
      "125\n",
      "126\n",
      "127\n",
      "128\n",
      "129\n",
      "130\n",
      "131\n",
      "132\n",
      "133\n",
      "134\n",
      "135\n",
      "136\n",
      "137\n",
      "138\n",
      "139\n",
      "140\n",
      "141\n",
      "142\n",
      "143\n",
      "144\n",
      "145\n",
      "146\n",
      "147\n",
      "148\n",
      "149\n"
     ]
    }
   ],
   "source": [
    "#Load and save the data as CSV\n",
    "reddit_to_csv(subreddit = 'r/bali',\n",
    "              n_requests = 150,\n",
    "              filename = 'mario_reddit_posts.csv')"
   ]
  },
  {
   "cell_type": "code",
   "execution_count": 226,
   "id": "f706c78f",
   "metadata": {},
   "outputs": [
    {
     "name": "stdout",
     "output_type": "stream",
     "text": [
      "0\n",
      "1\n",
      "2\n",
      "3\n",
      "4\n",
      "5\n",
      "6\n",
      "7\n",
      "8\n",
      "9\n",
      "10\n",
      "11\n",
      "12\n",
      "13\n",
      "14\n",
      "15\n",
      "16\n",
      "17\n",
      "18\n",
      "19\n",
      "20\n",
      "21\n",
      "22\n",
      "23\n",
      "24\n",
      "25\n",
      "26\n",
      "27\n",
      "28\n",
      "29\n",
      "30\n",
      "31\n",
      "32\n",
      "33\n",
      "34\n",
      "35\n",
      "36\n",
      "37\n",
      "38\n",
      "39\n",
      "40\n",
      "41\n",
      "42\n",
      "43\n",
      "44\n",
      "45\n",
      "46\n",
      "47\n",
      "48\n",
      "49\n",
      "50\n",
      "51\n",
      "52\n",
      "53\n",
      "54\n",
      "55\n",
      "56\n",
      "57\n",
      "58\n",
      "59\n",
      "60\n",
      "61\n",
      "62\n",
      "63\n",
      "64\n",
      "65\n",
      "66\n",
      "67\n",
      "68\n",
      "69\n",
      "70\n",
      "71\n",
      "72\n",
      "73\n",
      "74\n",
      "75\n",
      "76\n",
      "77\n",
      "78\n",
      "79\n",
      "80\n",
      "81\n",
      "82\n",
      "83\n",
      "84\n",
      "85\n",
      "86\n",
      "87\n",
      "88\n",
      "89\n",
      "90\n",
      "91\n",
      "92\n",
      "93\n",
      "94\n",
      "95\n",
      "96\n",
      "97\n",
      "98\n",
      "99\n",
      "100\n",
      "101\n",
      "102\n",
      "103\n",
      "104\n",
      "105\n",
      "106\n",
      "107\n",
      "108\n",
      "109\n",
      "110\n",
      "111\n",
      "112\n",
      "113\n",
      "114\n",
      "115\n",
      "116\n",
      "117\n",
      "118\n",
      "119\n",
      "120\n",
      "121\n",
      "122\n",
      "123\n",
      "124\n",
      "125\n",
      "126\n",
      "127\n",
      "128\n",
      "129\n",
      "130\n",
      "131\n",
      "132\n",
      "133\n",
      "134\n",
      "135\n",
      "136\n",
      "137\n",
      "138\n",
      "139\n",
      "140\n",
      "141\n",
      "142\n",
      "143\n",
      "144\n",
      "145\n",
      "146\n",
      "147\n",
      "148\n",
      "149\n"
     ]
    }
   ],
   "source": [
    "#Load and save the data as CSV\n",
    "reddit_to_csv(subreddit = 'r/phuket',\n",
    "              n_requests = 150,\n",
    "              filename = 'zelda_reddit_posts.csv')"
   ]
  },
  {
   "cell_type": "code",
   "execution_count": 227,
   "id": "20f69c15",
   "metadata": {},
   "outputs": [
    {
     "data": {
      "text/html": [
       "<div>\n",
       "<style scoped>\n",
       "    .dataframe tbody tr th:only-of-type {\n",
       "        vertical-align: middle;\n",
       "    }\n",
       "\n",
       "    .dataframe tbody tr th {\n",
       "        vertical-align: top;\n",
       "    }\n",
       "\n",
       "    .dataframe thead th {\n",
       "        text-align: right;\n",
       "    }\n",
       "</style>\n",
       "<table border=\"1\" class=\"dataframe\">\n",
       "  <thead>\n",
       "    <tr style=\"text-align: right;\">\n",
       "      <th></th>\n",
       "      <th>subreddit</th>\n",
       "      <th>title</th>\n",
       "      <th>clicked</th>\n",
       "      <th>ups</th>\n",
       "      <th>downs</th>\n",
       "      <th>post_paragraph</th>\n",
       "      <th>likes</th>\n",
       "      <th>number_of_comments</th>\n",
       "      <th>category</th>\n",
       "      <th>score</th>\n",
       "      <th>author_flair_css_class</th>\n",
       "      <th>subreddit_type</th>\n",
       "    </tr>\n",
       "  </thead>\n",
       "  <tbody>\n",
       "    <tr>\n",
       "      <th>0</th>\n",
       "      <td>bali</td>\n",
       "      <td>Bali Talks - Monthly post for October, 2022</td>\n",
       "      <td>False</td>\n",
       "      <td>1</td>\n",
       "      <td>0</td>\n",
       "      <td>Dear Community,\\n\\nThis is your place to discu...</td>\n",
       "      <td>NaN</td>\n",
       "      <td>10</td>\n",
       "      <td>NaN</td>\n",
       "      <td>1</td>\n",
       "      <td>NaN</td>\n",
       "      <td>public</td>\n",
       "    </tr>\n",
       "    <tr>\n",
       "      <th>1</th>\n",
       "      <td>bali</td>\n",
       "      <td>README: Entry Requirements</td>\n",
       "      <td>False</td>\n",
       "      <td>76</td>\n",
       "      <td>0</td>\n",
       "      <td>Below is a guide for international tourists lo...</td>\n",
       "      <td>NaN</td>\n",
       "      <td>112</td>\n",
       "      <td>NaN</td>\n",
       "      <td>76</td>\n",
       "      <td>NaN</td>\n",
       "      <td>public</td>\n",
       "    </tr>\n",
       "  </tbody>\n",
       "</table>\n",
       "</div>"
      ],
      "text/plain": [
       "  subreddit                                        title  clicked  ups  downs  \\\n",
       "0      bali  Bali Talks - Monthly post for October, 2022    False    1      0   \n",
       "1      bali                   README: Entry Requirements    False   76      0   \n",
       "\n",
       "                                      post_paragraph  likes  \\\n",
       "0  Dear Community,\\n\\nThis is your place to discu...    NaN   \n",
       "1  Below is a guide for international tourists lo...    NaN   \n",
       "\n",
       "   number_of_comments  category  score  author_flair_css_class subreddit_type  \n",
       "0                  10       NaN      1                     NaN         public  \n",
       "1                 112       NaN     76                     NaN         public  "
      ]
     },
     "execution_count": 227,
     "metadata": {},
     "output_type": "execute_result"
    }
   ],
   "source": [
    "mario_df = pd.read_csv('./mario_reddit_posts.csv')\n",
    "mario_df.head(2)"
   ]
  },
  {
   "cell_type": "code",
   "execution_count": 228,
   "id": "80cb9116",
   "metadata": {},
   "outputs": [
    {
     "data": {
      "text/plain": [
       "(1273, 12)"
      ]
     },
     "execution_count": 228,
     "metadata": {},
     "output_type": "execute_result"
    }
   ],
   "source": [
    "mario_df.shape"
   ]
  },
  {
   "cell_type": "code",
   "execution_count": 229,
   "id": "b3e3f0ef",
   "metadata": {},
   "outputs": [
    {
     "data": {
      "text/html": [
       "<div>\n",
       "<style scoped>\n",
       "    .dataframe tbody tr th:only-of-type {\n",
       "        vertical-align: middle;\n",
       "    }\n",
       "\n",
       "    .dataframe tbody tr th {\n",
       "        vertical-align: top;\n",
       "    }\n",
       "\n",
       "    .dataframe thead th {\n",
       "        text-align: right;\n",
       "    }\n",
       "</style>\n",
       "<table border=\"1\" class=\"dataframe\">\n",
       "  <thead>\n",
       "    <tr style=\"text-align: right;\">\n",
       "      <th></th>\n",
       "      <th>subreddit</th>\n",
       "      <th>title</th>\n",
       "      <th>clicked</th>\n",
       "      <th>ups</th>\n",
       "      <th>downs</th>\n",
       "      <th>post_paragraph</th>\n",
       "      <th>likes</th>\n",
       "      <th>number_of_comments</th>\n",
       "      <th>category</th>\n",
       "      <th>score</th>\n",
       "      <th>author_flair_css_class</th>\n",
       "      <th>subreddit_type</th>\n",
       "    </tr>\n",
       "  </thead>\n",
       "  <tbody>\n",
       "    <tr>\n",
       "      <th>0</th>\n",
       "      <td>phuket</td>\n",
       "      <td>Cannabis in Phuket</td>\n",
       "      <td>False</td>\n",
       "      <td>6</td>\n",
       "      <td>0</td>\n",
       "      <td>I just read about the \"legalization\" of cannab...</td>\n",
       "      <td>NaN</td>\n",
       "      <td>11</td>\n",
       "      <td>NaN</td>\n",
       "      <td>6</td>\n",
       "      <td>NaN</td>\n",
       "      <td>public</td>\n",
       "    </tr>\n",
       "    <tr>\n",
       "      <th>1</th>\n",
       "      <td>phuket</td>\n",
       "      <td>Taxi to patong</td>\n",
       "      <td>False</td>\n",
       "      <td>0</td>\n",
       "      <td>0</td>\n",
       "      <td>How much should i spend for a taxi from Karon ...</td>\n",
       "      <td>NaN</td>\n",
       "      <td>3</td>\n",
       "      <td>NaN</td>\n",
       "      <td>0</td>\n",
       "      <td>NaN</td>\n",
       "      <td>public</td>\n",
       "    </tr>\n",
       "  </tbody>\n",
       "</table>\n",
       "</div>"
      ],
      "text/plain": [
       "  subreddit               title  clicked  ups  downs  \\\n",
       "0    phuket  Cannabis in Phuket    False    6      0   \n",
       "1    phuket      Taxi to patong    False    0      0   \n",
       "\n",
       "                                      post_paragraph  likes  \\\n",
       "0  I just read about the \"legalization\" of cannab...    NaN   \n",
       "1  How much should i spend for a taxi from Karon ...    NaN   \n",
       "\n",
       "   number_of_comments  category  score  author_flair_css_class subreddit_type  \n",
       "0                  11       NaN      6                     NaN         public  \n",
       "1                   3       NaN      0                     NaN         public  "
      ]
     },
     "execution_count": 229,
     "metadata": {},
     "output_type": "execute_result"
    }
   ],
   "source": [
    "zelda_df = pd.read_csv('./zelda_reddit_posts.csv')\n",
    "zelda_df.head(2)"
   ]
  },
  {
   "cell_type": "code",
   "execution_count": 230,
   "id": "7b64ac72",
   "metadata": {},
   "outputs": [
    {
     "data": {
      "text/plain": [
       "(1330, 12)"
      ]
     },
     "execution_count": 230,
     "metadata": {},
     "output_type": "execute_result"
    }
   ],
   "source": [
    "zelda_df.shape"
   ]
  },
  {
   "cell_type": "markdown",
   "id": "7ab98ace",
   "metadata": {},
   "source": [
    "**Appened the Mario and Zelda files**"
   ]
  },
  {
   "cell_type": "code",
   "execution_count": 231,
   "id": "2242d2e7",
   "metadata": {},
   "outputs": [],
   "source": [
    "df = mario_df.append(zelda_df, ignore_index=True)"
   ]
  },
  {
   "cell_type": "code",
   "execution_count": 232,
   "id": "e2b460db",
   "metadata": {},
   "outputs": [
    {
     "data": {
      "text/plain": [
       "(2603, 12)"
      ]
     },
     "execution_count": 232,
     "metadata": {},
     "output_type": "execute_result"
    }
   ],
   "source": [
    "df.shape"
   ]
  },
  {
   "cell_type": "markdown",
   "id": "81eef94e",
   "metadata": {},
   "source": [
    "**CSV CHECKPOINT (check the data again).**"
   ]
  },
  {
   "cell_type": "code",
   "execution_count": 233,
   "id": "1596b325",
   "metadata": {},
   "outputs": [
    {
     "data": {
      "text/html": [
       "<div>\n",
       "<style scoped>\n",
       "    .dataframe tbody tr th:only-of-type {\n",
       "        vertical-align: middle;\n",
       "    }\n",
       "\n",
       "    .dataframe tbody tr th {\n",
       "        vertical-align: top;\n",
       "    }\n",
       "\n",
       "    .dataframe thead th {\n",
       "        text-align: right;\n",
       "    }\n",
       "</style>\n",
       "<table border=\"1\" class=\"dataframe\">\n",
       "  <thead>\n",
       "    <tr style=\"text-align: right;\">\n",
       "      <th></th>\n",
       "      <th>subreddit</th>\n",
       "      <th>title</th>\n",
       "      <th>clicked</th>\n",
       "      <th>ups</th>\n",
       "      <th>downs</th>\n",
       "      <th>post_paragraph</th>\n",
       "      <th>likes</th>\n",
       "      <th>number_of_comments</th>\n",
       "      <th>category</th>\n",
       "      <th>score</th>\n",
       "      <th>author_flair_css_class</th>\n",
       "      <th>subreddit_type</th>\n",
       "    </tr>\n",
       "  </thead>\n",
       "  <tbody>\n",
       "    <tr>\n",
       "      <th>0</th>\n",
       "      <td>bali</td>\n",
       "      <td>Bali Talks - Monthly post for October, 2022</td>\n",
       "      <td>False</td>\n",
       "      <td>1</td>\n",
       "      <td>0</td>\n",
       "      <td>Dear Community,\\n\\nThis is your place to discu...</td>\n",
       "      <td>NaN</td>\n",
       "      <td>10</td>\n",
       "      <td>NaN</td>\n",
       "      <td>1</td>\n",
       "      <td>NaN</td>\n",
       "      <td>public</td>\n",
       "    </tr>\n",
       "    <tr>\n",
       "      <th>1</th>\n",
       "      <td>bali</td>\n",
       "      <td>README: Entry Requirements</td>\n",
       "      <td>False</td>\n",
       "      <td>76</td>\n",
       "      <td>0</td>\n",
       "      <td>Below is a guide for international tourists lo...</td>\n",
       "      <td>NaN</td>\n",
       "      <td>112</td>\n",
       "      <td>NaN</td>\n",
       "      <td>76</td>\n",
       "      <td>NaN</td>\n",
       "      <td>public</td>\n",
       "    </tr>\n",
       "    <tr>\n",
       "      <th>2</th>\n",
       "      <td>bali</td>\n",
       "      <td>mma/boxing morning class close to Kuta</td>\n",
       "      <td>False</td>\n",
       "      <td>3</td>\n",
       "      <td>0</td>\n",
       "      <td>Hi guys, going for 2 weeks. Will most likely s...</td>\n",
       "      <td>NaN</td>\n",
       "      <td>0</td>\n",
       "      <td>NaN</td>\n",
       "      <td>3</td>\n",
       "      <td>NaN</td>\n",
       "      <td>public</td>\n",
       "    </tr>\n",
       "    <tr>\n",
       "      <th>3</th>\n",
       "      <td>bali</td>\n",
       "      <td>Recommendations for private tours that pick up...</td>\n",
       "      <td>False</td>\n",
       "      <td>2</td>\n",
       "      <td>0</td>\n",
       "      <td>Would love any advice or recommendations. Stay...</td>\n",
       "      <td>NaN</td>\n",
       "      <td>0</td>\n",
       "      <td>NaN</td>\n",
       "      <td>2</td>\n",
       "      <td>NaN</td>\n",
       "      <td>public</td>\n",
       "    </tr>\n",
       "    <tr>\n",
       "      <th>4</th>\n",
       "      <td>bali</td>\n",
       "      <td>How do people get around Penida? Are there mot...</td>\n",
       "      <td>False</td>\n",
       "      <td>6</td>\n",
       "      <td>0</td>\n",
       "      <td>NaN</td>\n",
       "      <td>NaN</td>\n",
       "      <td>12</td>\n",
       "      <td>NaN</td>\n",
       "      <td>6</td>\n",
       "      <td>NaN</td>\n",
       "      <td>public</td>\n",
       "    </tr>\n",
       "  </tbody>\n",
       "</table>\n",
       "</div>"
      ],
      "text/plain": [
       "  subreddit                                              title  clicked  ups  \\\n",
       "0      bali        Bali Talks - Monthly post for October, 2022    False    1   \n",
       "1      bali                         README: Entry Requirements    False   76   \n",
       "2      bali             mma/boxing morning class close to Kuta    False    3   \n",
       "3      bali  Recommendations for private tours that pick up...    False    2   \n",
       "4      bali  How do people get around Penida? Are there mot...    False    6   \n",
       "\n",
       "   downs                                     post_paragraph  likes  \\\n",
       "0      0  Dear Community,\\n\\nThis is your place to discu...    NaN   \n",
       "1      0  Below is a guide for international tourists lo...    NaN   \n",
       "2      0  Hi guys, going for 2 weeks. Will most likely s...    NaN   \n",
       "3      0  Would love any advice or recommendations. Stay...    NaN   \n",
       "4      0                                                NaN    NaN   \n",
       "\n",
       "   number_of_comments  category  score  author_flair_css_class subreddit_type  \n",
       "0                  10       NaN      1                     NaN         public  \n",
       "1                 112       NaN     76                     NaN         public  \n",
       "2                   0       NaN      3                     NaN         public  \n",
       "3                   0       NaN      2                     NaN         public  \n",
       "4                  12       NaN      6                     NaN         public  "
      ]
     },
     "execution_count": 233,
     "metadata": {},
     "output_type": "execute_result"
    }
   ],
   "source": [
    "df.head(5)"
   ]
  },
  {
   "cell_type": "code",
   "execution_count": 234,
   "id": "720e8b8b",
   "metadata": {},
   "outputs": [
    {
     "data": {
      "text/plain": [
       "(2603, 12)"
      ]
     },
     "execution_count": 234,
     "metadata": {},
     "output_type": "execute_result"
    }
   ],
   "source": [
    "df.shape"
   ]
  },
  {
   "cell_type": "code",
   "execution_count": 235,
   "id": "af98a45a",
   "metadata": {},
   "outputs": [
    {
     "data": {
      "text/plain": [
       "(1330, 12)"
      ]
     },
     "execution_count": 235,
     "metadata": {},
     "output_type": "execute_result"
    }
   ],
   "source": [
    "zelda_df.shape"
   ]
  },
  {
   "cell_type": "code",
   "execution_count": 236,
   "id": "d7d1a329",
   "metadata": {},
   "outputs": [
    {
     "data": {
      "text/plain": [
       "(1273, 12)"
      ]
     },
     "execution_count": 236,
     "metadata": {},
     "output_type": "execute_result"
    }
   ],
   "source": [
    "mario_df.shape"
   ]
  },
  {
   "cell_type": "code",
   "execution_count": 238,
   "id": "509af679",
   "metadata": {},
   "outputs": [
    {
     "data": {
      "text/plain": [
       "2603"
      ]
     },
     "execution_count": 238,
     "metadata": {},
     "output_type": "execute_result"
    }
   ],
   "source": [
    "1330+1273"
   ]
  },
  {
   "cell_type": "markdown",
   "id": "6f3b2a62",
   "metadata": {},
   "source": [
    "**Create a 'target' column (will equal 1 if the post's subreddit is Mario, and 0 if the post's subreddit is Zelda. Ultimate):**"
   ]
  },
  {
   "cell_type": "code",
   "execution_count": 239,
   "id": "5556bdfa",
   "metadata": {},
   "outputs": [],
   "source": [
    "df['target'] = np.where(df['subreddit'] == 'mario', 1, 0)"
   ]
  },
  {
   "cell_type": "code",
   "execution_count": 240,
   "id": "3a84a261",
   "metadata": {},
   "outputs": [
    {
     "data": {
      "text/html": [
       "<div>\n",
       "<style scoped>\n",
       "    .dataframe tbody tr th:only-of-type {\n",
       "        vertical-align: middle;\n",
       "    }\n",
       "\n",
       "    .dataframe tbody tr th {\n",
       "        vertical-align: top;\n",
       "    }\n",
       "\n",
       "    .dataframe thead th {\n",
       "        text-align: right;\n",
       "    }\n",
       "</style>\n",
       "<table border=\"1\" class=\"dataframe\">\n",
       "  <thead>\n",
       "    <tr style=\"text-align: right;\">\n",
       "      <th></th>\n",
       "      <th>subreddit</th>\n",
       "      <th>title</th>\n",
       "      <th>clicked</th>\n",
       "      <th>ups</th>\n",
       "      <th>downs</th>\n",
       "      <th>post_paragraph</th>\n",
       "      <th>likes</th>\n",
       "      <th>number_of_comments</th>\n",
       "      <th>category</th>\n",
       "      <th>score</th>\n",
       "      <th>author_flair_css_class</th>\n",
       "      <th>subreddit_type</th>\n",
       "      <th>target</th>\n",
       "    </tr>\n",
       "  </thead>\n",
       "  <tbody>\n",
       "    <tr>\n",
       "      <th>0</th>\n",
       "      <td>bali</td>\n",
       "      <td>Bali Talks - Monthly post for October, 2022</td>\n",
       "      <td>False</td>\n",
       "      <td>1</td>\n",
       "      <td>0</td>\n",
       "      <td>Dear Community,\\n\\nThis is your place to discu...</td>\n",
       "      <td>NaN</td>\n",
       "      <td>10</td>\n",
       "      <td>NaN</td>\n",
       "      <td>1</td>\n",
       "      <td>NaN</td>\n",
       "      <td>public</td>\n",
       "      <td>0</td>\n",
       "    </tr>\n",
       "    <tr>\n",
       "      <th>1</th>\n",
       "      <td>bali</td>\n",
       "      <td>README: Entry Requirements</td>\n",
       "      <td>False</td>\n",
       "      <td>76</td>\n",
       "      <td>0</td>\n",
       "      <td>Below is a guide for international tourists lo...</td>\n",
       "      <td>NaN</td>\n",
       "      <td>112</td>\n",
       "      <td>NaN</td>\n",
       "      <td>76</td>\n",
       "      <td>NaN</td>\n",
       "      <td>public</td>\n",
       "      <td>0</td>\n",
       "    </tr>\n",
       "    <tr>\n",
       "      <th>2</th>\n",
       "      <td>bali</td>\n",
       "      <td>mma/boxing morning class close to Kuta</td>\n",
       "      <td>False</td>\n",
       "      <td>3</td>\n",
       "      <td>0</td>\n",
       "      <td>Hi guys, going for 2 weeks. Will most likely s...</td>\n",
       "      <td>NaN</td>\n",
       "      <td>0</td>\n",
       "      <td>NaN</td>\n",
       "      <td>3</td>\n",
       "      <td>NaN</td>\n",
       "      <td>public</td>\n",
       "      <td>0</td>\n",
       "    </tr>\n",
       "  </tbody>\n",
       "</table>\n",
       "</div>"
      ],
      "text/plain": [
       "  subreddit                                        title  clicked  ups  downs  \\\n",
       "0      bali  Bali Talks - Monthly post for October, 2022    False    1      0   \n",
       "1      bali                   README: Entry Requirements    False   76      0   \n",
       "2      bali       mma/boxing morning class close to Kuta    False    3      0   \n",
       "\n",
       "                                      post_paragraph  likes  \\\n",
       "0  Dear Community,\\n\\nThis is your place to discu...    NaN   \n",
       "1  Below is a guide for international tourists lo...    NaN   \n",
       "2  Hi guys, going for 2 weeks. Will most likely s...    NaN   \n",
       "\n",
       "   number_of_comments  category  score  author_flair_css_class subreddit_type  \\\n",
       "0                  10       NaN      1                     NaN         public   \n",
       "1                 112       NaN     76                     NaN         public   \n",
       "2                   0       NaN      3                     NaN         public   \n",
       "\n",
       "   target  \n",
       "0       0  \n",
       "1       0  \n",
       "2       0  "
      ]
     },
     "execution_count": 240,
     "metadata": {},
     "output_type": "execute_result"
    }
   ],
   "source": [
    "df.head(3)"
   ]
  },
  {
   "cell_type": "markdown",
   "id": "acc64afe",
   "metadata": {},
   "source": [
    "**Look for columns that don't have any values and can be dropped**"
   ]
  },
  {
   "cell_type": "code",
   "execution_count": 241,
   "id": "3e8d4d58",
   "metadata": {},
   "outputs": [
    {
     "data": {
      "text/plain": [
       "2603"
      ]
     },
     "execution_count": 241,
     "metadata": {},
     "output_type": "execute_result"
    }
   ],
   "source": [
    "df['likes'].isnull().sum()"
   ]
  },
  {
   "cell_type": "code",
   "execution_count": 242,
   "id": "bedd0e93",
   "metadata": {},
   "outputs": [
    {
     "data": {
      "text/plain": [
       "2603"
      ]
     },
     "execution_count": 242,
     "metadata": {},
     "output_type": "execute_result"
    }
   ],
   "source": [
    "df['category'].isnull().sum()"
   ]
  },
  {
   "cell_type": "markdown",
   "id": "d584d6e3",
   "metadata": {},
   "source": [
    "**The column 'clicked' is not empty, but the column values are purely False, therefore I will drop 'clicked' as well. The same for columns 'downs' and 'subreddit_type' which are purely 0's and 'public', respectively.**"
   ]
  },
  {
   "cell_type": "code",
   "execution_count": 243,
   "id": "ee81a4e9",
   "metadata": {},
   "outputs": [
    {
     "data": {
      "text/plain": [
       "False    2603\n",
       "Name: clicked, dtype: int64"
      ]
     },
     "execution_count": 243,
     "metadata": {},
     "output_type": "execute_result"
    }
   ],
   "source": [
    "df['clicked'].value_counts()"
   ]
  },
  {
   "cell_type": "code",
   "execution_count": 244,
   "id": "a90ee0ba",
   "metadata": {},
   "outputs": [
    {
     "data": {
      "text/plain": [
       "0    2603\n",
       "Name: downs, dtype: int64"
      ]
     },
     "execution_count": 244,
     "metadata": {},
     "output_type": "execute_result"
    }
   ],
   "source": [
    "df['downs'].value_counts()"
   ]
  },
  {
   "cell_type": "code",
   "execution_count": 245,
   "id": "4417a8a9",
   "metadata": {},
   "outputs": [
    {
     "data": {
      "text/plain": [
       "public    2603\n",
       "Name: subreddit_type, dtype: int64"
      ]
     },
     "execution_count": 245,
     "metadata": {},
     "output_type": "execute_result"
    }
   ],
   "source": [
    "df['subreddit_type'].value_counts()"
   ]
  },
  {
   "cell_type": "code",
   "execution_count": 246,
   "id": "6224d545",
   "metadata": {},
   "outputs": [],
   "source": [
    "df_drop_list = ['likes', 'category', 'clicked', 'downs', 'subreddit_type']"
   ]
  },
  {
   "cell_type": "code",
   "execution_count": 247,
   "id": "edc94c0c",
   "metadata": {},
   "outputs": [],
   "source": [
    "df.drop(df_drop_list, axis=1, inplace=True)"
   ]
  },
  {
   "cell_type": "code",
   "execution_count": 248,
   "id": "bcb55e8e",
   "metadata": {},
   "outputs": [
    {
     "data": {
      "text/plain": [
       "(2603, 8)"
      ]
     },
     "execution_count": 248,
     "metadata": {},
     "output_type": "execute_result"
    }
   ],
   "source": [
    "df.shape"
   ]
  },
  {
   "cell_type": "code",
   "execution_count": 249,
   "id": "dff78f36",
   "metadata": {},
   "outputs": [],
   "source": [
    "df.to_csv('master_df.csv', index=False, sep=\",\")"
   ]
  },
  {
   "cell_type": "markdown",
   "id": "487fffe6",
   "metadata": {},
   "source": [
    "**Set Tokenizer**"
   ]
  },
  {
   "cell_type": "code",
   "execution_count": 250,
   "id": "135d5f3f",
   "metadata": {},
   "outputs": [],
   "source": [
    "tokenizer = RegexpTokenizer(r'\\w+|\\$[\\d\\.]+|\\S+')"
   ]
  },
  {
   "cell_type": "code",
   "execution_count": 251,
   "id": "fb0654a6",
   "metadata": {},
   "outputs": [],
   "source": [
    "lemmatizer = WordNetLemmatizer()"
   ]
  },
  {
   "cell_type": "code",
   "execution_count": 252,
   "id": "003583df",
   "metadata": {},
   "outputs": [],
   "source": [
    "df = pd.read_csv('./master_df.csv')"
   ]
  },
  {
   "cell_type": "code",
   "execution_count": 253,
   "id": "133068b4",
   "metadata": {},
   "outputs": [
    {
     "data": {
      "text/plain": [
       "Index(['subreddit', 'title', 'ups', 'post_paragraph', 'number_of_comments',\n",
       "       'score', 'author_flair_css_class', 'target'],\n",
       "      dtype='object')"
      ]
     },
     "execution_count": 253,
     "metadata": {},
     "output_type": "execute_result"
    }
   ],
   "source": [
    "df.columns"
   ]
  },
  {
   "cell_type": "markdown",
   "id": "c61aa2c2",
   "metadata": {},
   "source": [
    "**Create function that takes a column containing text and returns the lemmatized version in a new 'cleaned' column**"
   ]
  },
  {
   "cell_type": "code",
   "execution_count": 256,
   "id": "ab89d096",
   "metadata": {},
   "outputs": [],
   "source": [
    "def column_cleaner(column, df=df):\n",
    "    #For some reason, I was running into errors trying to run this code until I added the code\n",
    "    #below (df[column+'_clean'] = \"\"), establishing from the beginning that the new column to be created\n",
    "    #exists in the dataframe and contains nothing but empty strings.\n",
    "    \n",
    "    df[column+'_clean'] = \"\"\n",
    "    \n",
    "    #for loop through each row in the column:\n",
    "    for i in range(len(df[column])):\n",
    "        \n",
    "        #Tokenize, or separate, each word in column's string into its own string (prep for lemmatization):\n",
    "        col_tok = []\n",
    "        col_tok.extend(tokenizer.tokenize(df[column][i].lower()))\n",
    "        col_token = []\n",
    "        [col_token.append(s) for s in col_tok if s not in col_token]\n",
    "        \n",
    "        #Lemmatize the words (cut the word to its base/root, for improved model results):\n",
    "        col_lem = []\n",
    "        for x in range(len(col_token)):\n",
    "            col_lem.append(lemmatizer.lemmatize(col_token[x]))\n",
    "        \n",
    "        #Remove characters and numbers (for improved model results, hopefully):\n",
    "        letters_only_col = []\n",
    "        for c in range(len(col_lem)):\n",
    "            letters_only_col.append(re.sub(\"[^a-zA-Z]\", \"\", col_lem[c]))\n",
    "        \n",
    "        #Remove stopwords (for improved model results):\n",
    "        col_words = [w for w in letters_only_col if not w in stopwords.words('english')]\n",
    "        \n",
    "        #Remove 'cheat' words (words that are in the subreddit's name and also in the column)\n",
    "        cheat_words = ['beach']\n",
    "        col_words = [w for w in letters_only_col if not w in cheat_words]\n",
    "        \n",
    "        #Ensure that there are no 'None' objects in title_words:\n",
    "        col_words = list(filter(None, col_words))\n",
    "\n",
    "        #Join the lemmatized words - stopwords back to one long string (prep for\n",
    "        #vectorization, done outside/after this function):\n",
    "        col_words = \" \".join(col_words)\n",
    "\n",
    "        #Fill new column with 'cleaned' string from column:\n",
    "        df[column+'_clean'][i] = col_words"
   ]
  },
  {
   "cell_type": "code",
   "execution_count": 257,
   "id": "43b26fe8",
   "metadata": {},
   "outputs": [
    {
     "name": "stderr",
     "output_type": "stream",
     "text": [
      "<ipython-input-256-dd4c21d39ae3>:42: SettingWithCopyWarning: \n",
      "A value is trying to be set on a copy of a slice from a DataFrame\n",
      "\n",
      "See the caveats in the documentation: https://pandas.pydata.org/pandas-docs/stable/user_guide/indexing.html#returning-a-view-versus-a-copy\n",
      "  df[column+'_clean'][i] = col_words\n"
     ]
    }
   ],
   "source": [
    "column_cleaner(column='title', df=df)"
   ]
  },
  {
   "cell_type": "code",
   "execution_count": 258,
   "id": "7aa5123a",
   "metadata": {},
   "outputs": [
    {
     "data": {
      "text/plain": [
       "0    Dear Community,\\n\\nThis is your place to discu...\n",
       "1    Below is a guide for international tourists lo...\n",
       "2    Hi guys, going for 2 weeks. Will most likely s...\n",
       "3    Would love any advice or recommendations. Stay...\n",
       "4                                                  NaN\n",
       "Name: post_paragraph, dtype: object"
      ]
     },
     "execution_count": 258,
     "metadata": {},
     "output_type": "execute_result"
    }
   ],
   "source": [
    "df['post_paragraph'].head()"
   ]
  },
  {
   "cell_type": "code",
   "execution_count": 259,
   "id": "13c408c8",
   "metadata": {},
   "outputs": [],
   "source": [
    "df['post_paragraph'] = df['post_paragraph'].replace(np.nan, \"\")"
   ]
  },
  {
   "cell_type": "code",
   "execution_count": 260,
   "id": "f70cfe68",
   "metadata": {},
   "outputs": [
    {
     "name": "stderr",
     "output_type": "stream",
     "text": [
      "<ipython-input-256-dd4c21d39ae3>:42: SettingWithCopyWarning: \n",
      "A value is trying to be set on a copy of a slice from a DataFrame\n",
      "\n",
      "See the caveats in the documentation: https://pandas.pydata.org/pandas-docs/stable/user_guide/indexing.html#returning-a-view-versus-a-copy\n",
      "  df[column+'_clean'][i] = col_words\n"
     ]
    }
   ],
   "source": [
    "column_cleaner(column='post_paragraph', df=df)"
   ]
  },
  {
   "cell_type": "markdown",
   "id": "7596b244",
   "metadata": {},
   "source": [
    "**Save version of DataFrame**"
   ]
  },
  {
   "cell_type": "code",
   "execution_count": 261,
   "id": "f35de8f2",
   "metadata": {},
   "outputs": [],
   "source": [
    "df.to_csv('master_df_cleaned.csv', index=False, sep=\",\")"
   ]
  },
  {
   "cell_type": "code",
   "execution_count": 262,
   "id": "20141be9",
   "metadata": {},
   "outputs": [
    {
     "data": {
      "text/html": [
       "<div>\n",
       "<style scoped>\n",
       "    .dataframe tbody tr th:only-of-type {\n",
       "        vertical-align: middle;\n",
       "    }\n",
       "\n",
       "    .dataframe tbody tr th {\n",
       "        vertical-align: top;\n",
       "    }\n",
       "\n",
       "    .dataframe thead th {\n",
       "        text-align: right;\n",
       "    }\n",
       "</style>\n",
       "<table border=\"1\" class=\"dataframe\">\n",
       "  <thead>\n",
       "    <tr style=\"text-align: right;\">\n",
       "      <th></th>\n",
       "      <th>subreddit</th>\n",
       "      <th>title</th>\n",
       "      <th>ups</th>\n",
       "      <th>post_paragraph</th>\n",
       "      <th>number_of_comments</th>\n",
       "      <th>score</th>\n",
       "      <th>author_flair_css_class</th>\n",
       "      <th>target</th>\n",
       "      <th>title_clean</th>\n",
       "      <th>post_paragraph_clean</th>\n",
       "    </tr>\n",
       "  </thead>\n",
       "  <tbody>\n",
       "    <tr>\n",
       "      <th>0</th>\n",
       "      <td>bali</td>\n",
       "      <td>Bali Talks - Monthly post for October, 2022</td>\n",
       "      <td>1</td>\n",
       "      <td>Dear Community,\\n\\nThis is your place to discu...</td>\n",
       "      <td>10</td>\n",
       "      <td>1</td>\n",
       "      <td>NaN</td>\n",
       "      <td>0</td>\n",
       "      <td>bali talk monthly post for october</td>\n",
       "      <td>dear community this is your place to discus on...</td>\n",
       "    </tr>\n",
       "    <tr>\n",
       "      <th>1</th>\n",
       "      <td>bali</td>\n",
       "      <td>README: Entry Requirements</td>\n",
       "      <td>76</td>\n",
       "      <td>Below is a guide for international tourists lo...</td>\n",
       "      <td>112</td>\n",
       "      <td>76</td>\n",
       "      <td>NaN</td>\n",
       "      <td>0</td>\n",
       "      <td>readme entry requirement</td>\n",
       "      <td>below is a guide for international tourist loo...</td>\n",
       "    </tr>\n",
       "    <tr>\n",
       "      <th>2</th>\n",
       "      <td>bali</td>\n",
       "      <td>mma/boxing morning class close to Kuta</td>\n",
       "      <td>3</td>\n",
       "      <td>Hi guys, going for 2 weeks. Will most likely s...</td>\n",
       "      <td>0</td>\n",
       "      <td>3</td>\n",
       "      <td>NaN</td>\n",
       "      <td>0</td>\n",
       "      <td>mma boxing morning class close to kuta</td>\n",
       "      <td>hi guy going for week will most likely stay in...</td>\n",
       "    </tr>\n",
       "  </tbody>\n",
       "</table>\n",
       "</div>"
      ],
      "text/plain": [
       "  subreddit                                        title  ups  \\\n",
       "0      bali  Bali Talks - Monthly post for October, 2022    1   \n",
       "1      bali                   README: Entry Requirements   76   \n",
       "2      bali       mma/boxing morning class close to Kuta    3   \n",
       "\n",
       "                                      post_paragraph  number_of_comments  \\\n",
       "0  Dear Community,\\n\\nThis is your place to discu...                  10   \n",
       "1  Below is a guide for international tourists lo...                 112   \n",
       "2  Hi guys, going for 2 weeks. Will most likely s...                   0   \n",
       "\n",
       "   score  author_flair_css_class  target  \\\n",
       "0      1                     NaN       0   \n",
       "1     76                     NaN       0   \n",
       "2      3                     NaN       0   \n",
       "\n",
       "                              title_clean  \\\n",
       "0      bali talk monthly post for october   \n",
       "1                readme entry requirement   \n",
       "2  mma boxing morning class close to kuta   \n",
       "\n",
       "                                post_paragraph_clean  \n",
       "0  dear community this is your place to discus on...  \n",
       "1  below is a guide for international tourist loo...  \n",
       "2  hi guy going for week will most likely stay in...  "
      ]
     },
     "execution_count": 262,
     "metadata": {},
     "output_type": "execute_result"
    }
   ],
   "source": [
    "df.head(3)"
   ]
  },
  {
   "cell_type": "markdown",
   "id": "f5cc5d7b",
   "metadata": {},
   "source": [
    "**Create CountVectorize Function**"
   ]
  },
  {
   "cell_type": "code",
   "execution_count": 263,
   "id": "3723adcb",
   "metadata": {},
   "outputs": [],
   "source": [
    "def count_vec_column(column, func_df=df):\n",
    "    #Instantiate CountVectorizer:\n",
    "    vect = CountVectorizer()\n",
    "    \n",
    "    #Create temporary variable X_text that takes on the fit/transformed results of the column:\n",
    "    X_text = vect.fit_transform(func_df[column])\n",
    "    \n",
    "    #Turn X_text into an array (prep to easily make a DataFrame):\n",
    "    X_text = X_text.toarray()\n",
    "    \n",
    "    #Create a temporary DataFrame with each word/word-pair/word-group as the columns:\n",
    "    temp_df = pd.DataFrame(X_text,\n",
    "                           columns=vect.get_feature_names())\n",
    "    \n",
    "    #Add the original column name to the beginning of the new columns' names to differentiate from which column\n",
    "    # the vectorized words came from (this may impact the strength of the model):\n",
    "    for i in range(len(temp_df.columns)):\n",
    "        #print(i)\n",
    "        temp_df.rename(columns={temp_df.columns[i]: column + '_' + temp_df.columns[i]}, inplace=True)\n",
    "    \n",
    "    #Combine the two DataFrames:\n",
    "    func_df = pd.concat([func_df, temp_df], axis=1, join_axes=[func_df.index])\n",
    "    return func_df"
   ]
  },
  {
   "cell_type": "markdown",
   "id": "61795514",
   "metadata": {},
   "source": [
    "**Create TF-IDF Function**"
   ]
  },
  {
   "cell_type": "code",
   "execution_count": 264,
   "id": "23e00c74",
   "metadata": {},
   "outputs": [],
   "source": [
    "def tfidf_column(column, func_df=df):\n",
    "    #Instantiate TfidfVectorizer:\n",
    "    tfidf_vect = TfidfVectorizer()\n",
    "    \n",
    "    #Create temporary variable X_text that takes on the fit/transformed results of the column:\n",
    "    X_text = tfidf_vect.fit_transform(func_df[column])\n",
    "    \n",
    "    #Turn X_text into an array (prep to easily make a DataFrame):\n",
    "    X_text = X_text.toarray()\n",
    "    \n",
    "    #Create a temporary DataFrame with each word/word-pair/word-group as the columns:\n",
    "    temp_df = pd.DataFrame(X_text,\n",
    "                           columns=tfidf_vect.get_feature_names())\n",
    "    \n",
    "    #Add the original column name to the beginning of the new columns' names to differentiate from which column\n",
    "    # the tf-idf vectorized words came from (this may impact the strength of the model):\n",
    "    for i in range(len(temp_df.columns)):\n",
    "        #print(i)\n",
    "        temp_df.rename(columns={temp_df.columns[i]: column + '_' + temp_df.columns[i]}, inplace=True)\n",
    "    \n",
    "    #Combine the two DataFrames:\n",
    "    func_df = pd.concat([func_df, temp_df], axis=1, join_axes=[func_df.index])\n",
    "    return func_df"
   ]
  },
  {
   "cell_type": "code",
   "execution_count": 265,
   "id": "d2eb7a7e",
   "metadata": {},
   "outputs": [
    {
     "data": {
      "text/html": [
       "<div>\n",
       "<style scoped>\n",
       "    .dataframe tbody tr th:only-of-type {\n",
       "        vertical-align: middle;\n",
       "    }\n",
       "\n",
       "    .dataframe tbody tr th {\n",
       "        vertical-align: top;\n",
       "    }\n",
       "\n",
       "    .dataframe thead th {\n",
       "        text-align: right;\n",
       "    }\n",
       "</style>\n",
       "<table border=\"1\" class=\"dataframe\">\n",
       "  <thead>\n",
       "    <tr style=\"text-align: right;\">\n",
       "      <th></th>\n",
       "      <th>subreddit</th>\n",
       "      <th>title</th>\n",
       "      <th>ups</th>\n",
       "      <th>post_paragraph</th>\n",
       "      <th>number_of_comments</th>\n",
       "      <th>score</th>\n",
       "      <th>author_flair_css_class</th>\n",
       "      <th>target</th>\n",
       "      <th>title_clean</th>\n",
       "      <th>post_paragraph_clean</th>\n",
       "    </tr>\n",
       "  </thead>\n",
       "  <tbody>\n",
       "    <tr>\n",
       "      <th>0</th>\n",
       "      <td>bali</td>\n",
       "      <td>Bali Talks - Monthly post for October, 2022</td>\n",
       "      <td>1</td>\n",
       "      <td>Dear Community,\\n\\nThis is your place to discu...</td>\n",
       "      <td>10</td>\n",
       "      <td>1</td>\n",
       "      <td>NaN</td>\n",
       "      <td>0</td>\n",
       "      <td>bali talk monthly post for october</td>\n",
       "      <td>dear community this is your place to discus on...</td>\n",
       "    </tr>\n",
       "    <tr>\n",
       "      <th>1</th>\n",
       "      <td>bali</td>\n",
       "      <td>README: Entry Requirements</td>\n",
       "      <td>76</td>\n",
       "      <td>Below is a guide for international tourists lo...</td>\n",
       "      <td>112</td>\n",
       "      <td>76</td>\n",
       "      <td>NaN</td>\n",
       "      <td>0</td>\n",
       "      <td>readme entry requirement</td>\n",
       "      <td>below is a guide for international tourist loo...</td>\n",
       "    </tr>\n",
       "    <tr>\n",
       "      <th>2</th>\n",
       "      <td>bali</td>\n",
       "      <td>mma/boxing morning class close to Kuta</td>\n",
       "      <td>3</td>\n",
       "      <td>Hi guys, going for 2 weeks. Will most likely s...</td>\n",
       "      <td>0</td>\n",
       "      <td>3</td>\n",
       "      <td>NaN</td>\n",
       "      <td>0</td>\n",
       "      <td>mma boxing morning class close to kuta</td>\n",
       "      <td>hi guy going for week will most likely stay in...</td>\n",
       "    </tr>\n",
       "    <tr>\n",
       "      <th>3</th>\n",
       "      <td>bali</td>\n",
       "      <td>Recommendations for private tours that pick up...</td>\n",
       "      <td>2</td>\n",
       "      <td>Would love any advice or recommendations. Stay...</td>\n",
       "      <td>0</td>\n",
       "      <td>2</td>\n",
       "      <td>NaN</td>\n",
       "      <td>0</td>\n",
       "      <td>recommendation for private tour that pick up f...</td>\n",
       "      <td>would love any advice or recommendation stayin...</td>\n",
       "    </tr>\n",
       "    <tr>\n",
       "      <th>4</th>\n",
       "      <td>bali</td>\n",
       "      <td>How do people get around Penida? Are there mot...</td>\n",
       "      <td>6</td>\n",
       "      <td></td>\n",
       "      <td>12</td>\n",
       "      <td>6</td>\n",
       "      <td>NaN</td>\n",
       "      <td>0</td>\n",
       "      <td>how do people get around penida are there moto...</td>\n",
       "      <td></td>\n",
       "    </tr>\n",
       "    <tr>\n",
       "      <th>...</th>\n",
       "      <td>...</td>\n",
       "      <td>...</td>\n",
       "      <td>...</td>\n",
       "      <td>...</td>\n",
       "      <td>...</td>\n",
       "      <td>...</td>\n",
       "      <td>...</td>\n",
       "      <td>...</td>\n",
       "      <td>...</td>\n",
       "      <td>...</td>\n",
       "    </tr>\n",
       "    <tr>\n",
       "      <th>2598</th>\n",
       "      <td>phuket</td>\n",
       "      <td>Patong Massage Parlors</td>\n",
       "      <td>8</td>\n",
       "      <td></td>\n",
       "      <td>9</td>\n",
       "      <td>8</td>\n",
       "      <td>NaN</td>\n",
       "      <td>0</td>\n",
       "      <td>patong massage parlor</td>\n",
       "      <td></td>\n",
       "    </tr>\n",
       "    <tr>\n",
       "      <th>2599</th>\n",
       "      <td>phuket</td>\n",
       "      <td>Bangla road and nightlife Patong</td>\n",
       "      <td>3</td>\n",
       "      <td>Hello .  Was wondering what the nightlife is l...</td>\n",
       "      <td>7</td>\n",
       "      <td>3</td>\n",
       "      <td>NaN</td>\n",
       "      <td>0</td>\n",
       "      <td>bangla road and nightlife patong</td>\n",
       "      <td>hello wa wondering what the nightlife is like ...</td>\n",
       "    </tr>\n",
       "    <tr>\n",
       "      <th>2600</th>\n",
       "      <td>phuket</td>\n",
       "      <td>Worth it to move to Phuket for a few months?</td>\n",
       "      <td>15</td>\n",
       "      <td>I am a 21 year old male from Ireland. Wonderin...</td>\n",
       "      <td>35</td>\n",
       "      <td>15</td>\n",
       "      <td>NaN</td>\n",
       "      <td>0</td>\n",
       "      <td>worth it to move phuket for a few month</td>\n",
       "      <td>i am a year old male from ireland wondering wh...</td>\n",
       "    </tr>\n",
       "    <tr>\n",
       "      <th>2601</th>\n",
       "      <td>phuket</td>\n",
       "      <td>Comedy in English -- Rawai Beach</td>\n",
       "      <td>13</td>\n",
       "      <td></td>\n",
       "      <td>4</td>\n",
       "      <td>13</td>\n",
       "      <td>NaN</td>\n",
       "      <td>0</td>\n",
       "      <td>comedy in english rawai</td>\n",
       "      <td></td>\n",
       "    </tr>\n",
       "    <tr>\n",
       "      <th>2602</th>\n",
       "      <td>phuket</td>\n",
       "      <td>Muay Thai fights</td>\n",
       "      <td>4</td>\n",
       "      <td>Are there Muay Thai fights at any of the stadi...</td>\n",
       "      <td>0</td>\n",
       "      <td>4</td>\n",
       "      <td>NaN</td>\n",
       "      <td>0</td>\n",
       "      <td>muay thai fight</td>\n",
       "      <td>are there muay thai fight at any of the stadiu...</td>\n",
       "    </tr>\n",
       "  </tbody>\n",
       "</table>\n",
       "<p>2603 rows × 10 columns</p>\n",
       "</div>"
      ],
      "text/plain": [
       "     subreddit                                              title  ups  \\\n",
       "0         bali        Bali Talks - Monthly post for October, 2022    1   \n",
       "1         bali                         README: Entry Requirements   76   \n",
       "2         bali             mma/boxing morning class close to Kuta    3   \n",
       "3         bali  Recommendations for private tours that pick up...    2   \n",
       "4         bali  How do people get around Penida? Are there mot...    6   \n",
       "...        ...                                                ...  ...   \n",
       "2598    phuket                             Patong Massage Parlors    8   \n",
       "2599    phuket                   Bangla road and nightlife Patong    3   \n",
       "2600    phuket       Worth it to move to Phuket for a few months?   15   \n",
       "2601    phuket                   Comedy in English -- Rawai Beach   13   \n",
       "2602    phuket                                   Muay Thai fights    4   \n",
       "\n",
       "                                         post_paragraph  number_of_comments  \\\n",
       "0     Dear Community,\\n\\nThis is your place to discu...                  10   \n",
       "1     Below is a guide for international tourists lo...                 112   \n",
       "2     Hi guys, going for 2 weeks. Will most likely s...                   0   \n",
       "3     Would love any advice or recommendations. Stay...                   0   \n",
       "4                                                                        12   \n",
       "...                                                 ...                 ...   \n",
       "2598                                                                      9   \n",
       "2599  Hello .  Was wondering what the nightlife is l...                   7   \n",
       "2600  I am a 21 year old male from Ireland. Wonderin...                  35   \n",
       "2601                                                                      4   \n",
       "2602  Are there Muay Thai fights at any of the stadi...                   0   \n",
       "\n",
       "      score  author_flair_css_class  target  \\\n",
       "0         1                     NaN       0   \n",
       "1        76                     NaN       0   \n",
       "2         3                     NaN       0   \n",
       "3         2                     NaN       0   \n",
       "4         6                     NaN       0   \n",
       "...     ...                     ...     ...   \n",
       "2598      8                     NaN       0   \n",
       "2599      3                     NaN       0   \n",
       "2600     15                     NaN       0   \n",
       "2601     13                     NaN       0   \n",
       "2602      4                     NaN       0   \n",
       "\n",
       "                                            title_clean  \\\n",
       "0                    bali talk monthly post for october   \n",
       "1                              readme entry requirement   \n",
       "2                mma boxing morning class close to kuta   \n",
       "3     recommendation for private tour that pick up f...   \n",
       "4     how do people get around penida are there moto...   \n",
       "...                                                 ...   \n",
       "2598                              patong massage parlor   \n",
       "2599                   bangla road and nightlife patong   \n",
       "2600            worth it to move phuket for a few month   \n",
       "2601                            comedy in english rawai   \n",
       "2602                                    muay thai fight   \n",
       "\n",
       "                                   post_paragraph_clean  \n",
       "0     dear community this is your place to discus on...  \n",
       "1     below is a guide for international tourist loo...  \n",
       "2     hi guy going for week will most likely stay in...  \n",
       "3     would love any advice or recommendation stayin...  \n",
       "4                                                        \n",
       "...                                                 ...  \n",
       "2598                                                     \n",
       "2599  hello wa wondering what the nightlife is like ...  \n",
       "2600  i am a year old male from ireland wondering wh...  \n",
       "2601                                                     \n",
       "2602  are there muay thai fight at any of the stadiu...  \n",
       "\n",
       "[2603 rows x 10 columns]"
      ]
     },
     "execution_count": 265,
     "metadata": {},
     "output_type": "execute_result"
    }
   ],
   "source": [
    "df"
   ]
  },
  {
   "cell_type": "code",
   "execution_count": 266,
   "id": "8fa33ccb",
   "metadata": {},
   "outputs": [],
   "source": [
    "X = df[\"title_clean\"]\n",
    "y = df[\"target\"]"
   ]
  },
  {
   "cell_type": "code",
   "execution_count": 267,
   "id": "198ee047",
   "metadata": {},
   "outputs": [],
   "source": [
    "# Redefine training and testing sets.\n",
    "X_train, X_test, y_train, y_test = train_test_split(X,\n",
    "                                                    y,\n",
    "                                                    test_size=0.20,\n",
    "                                                    stratify=y,\n",
    "                                                    random_state=42)"
   ]
  },
  {
   "cell_type": "code",
   "execution_count": 268,
   "id": "46d9852e",
   "metadata": {},
   "outputs": [
    {
     "name": "stdout",
     "output_type": "stream",
     "text": [
      "(2082,) (521,) (2082,) (521,)\n"
     ]
    }
   ],
   "source": [
    "print(X_train.shape, X_test.shape, y_train.shape, y_test.shape)"
   ]
  },
  {
   "cell_type": "code",
   "execution_count": 269,
   "id": "c838501c",
   "metadata": {},
   "outputs": [],
   "source": [
    "# Let's set a pipeline up with two stages:\n",
    "# 1. CountVectorizer (transformer)\n",
    "# 2. Multinomial Naive Bayes (estimator)\n",
    "\n",
    "pipe = Pipeline([\n",
    "    (\"cvec\", CountVectorizer()), # Transformer (fit, transform)\n",
    "    (\"nb\", MultinomialNB()) # Estimator or model (fit, predict)    \n",
    "])\n",
    "\n",
    "# .predict() of MultinomialNB allows us to have a score to judge\n",
    "# our hyperparameters combinations when GridSearching"
   ]
  },
  {
   "cell_type": "code",
   "execution_count": 270,
   "id": "91c1a58f",
   "metadata": {},
   "outputs": [],
   "source": [
    "# Search over the following values of hyperparameters:\n",
    "# Maximum number of features fit: 2000, 3000, 4000, 5000\n",
    "# Minimum number of documents needed to include token: 2, 3\n",
    "# Maximum number of documents needed to include token: 90%, 95%\n",
    "# Check (individual tokens) and also check (individual tokens and 2-grams).\n",
    "# Check Stop_words: None or English.\n",
    "\n",
    "pipe_params = {\n",
    "    \"cvec__max_features\":[2000,3000,4000,5000],\n",
    "    \"cvec__min_df\": [2,3],\n",
    "    \"cvec__max_df\": [0.9,0.95],\n",
    "    \"cvec__ngram_range\": [(1,1),(1,2)],\n",
    "    \"cvec__stop_words\": [None,\"english\"]\n",
    "}\n",
    "\n",
    "# ngram_range of (1,1) just returns individual tokens\n",
    "# ngram_range of (1,2) just returns individual tokens AND bi-grams"
   ]
  },
  {
   "cell_type": "code",
   "execution_count": 271,
   "id": "98a17582",
   "metadata": {},
   "outputs": [],
   "source": [
    "# Instantiate GridSearchCV.\n",
    "\n",
    "gs = GridSearchCV(pipe, # what object are we optimizing?\n",
    "                  param_grid=pipe_params, # what parameters values are we searching?\n",
    "                  cv=5) # 5-fold cross-validation."
   ]
  },
  {
   "cell_type": "code",
   "execution_count": 272,
   "id": "fee86572",
   "metadata": {},
   "outputs": [
    {
     "name": "stdout",
     "output_type": "stream",
     "text": [
      "Runtime:6.4960267543792725\n"
     ]
    }
   ],
   "source": [
    "# Fit GridSearch to training data.\n",
    "start_time = time.time()\n",
    "gs.fit(X_train,y_train)\n",
    "print(f\"Runtime:{time.time()-start_time}\")"
   ]
  },
  {
   "cell_type": "code",
   "execution_count": 273,
   "id": "204337f4",
   "metadata": {},
   "outputs": [
    {
     "data": {
      "text/plain": [
       "1.0"
      ]
     },
     "execution_count": 273,
     "metadata": {},
     "output_type": "execute_result"
    }
   ],
   "source": [
    "# What's the best score?\n",
    "gs.best_score_"
   ]
  },
  {
   "cell_type": "code",
   "execution_count": 274,
   "id": "b0c0dd03",
   "metadata": {},
   "outputs": [
    {
     "data": {
      "text/plain": [
       "{'cvec__max_df': 0.9,\n",
       " 'cvec__max_features': 2000,\n",
       " 'cvec__min_df': 2,\n",
       " 'cvec__ngram_range': (1, 1),\n",
       " 'cvec__stop_words': None}"
      ]
     },
     "execution_count": 274,
     "metadata": {},
     "output_type": "execute_result"
    }
   ],
   "source": [
    "# What's the best params?\n",
    "gs.best_params_"
   ]
  },
  {
   "cell_type": "code",
   "execution_count": 275,
   "id": "7fb16f66",
   "metadata": {},
   "outputs": [
    {
     "data": {
      "text/plain": [
       "1.0"
      ]
     },
     "execution_count": 275,
     "metadata": {},
     "output_type": "execute_result"
    }
   ],
   "source": [
    "# Score model on training set.\n",
    "# What is the score on a classifier? Accuracy\n",
    "gs.score(X_train,y_train)"
   ]
  },
  {
   "cell_type": "code",
   "execution_count": 276,
   "id": "6aefa341",
   "metadata": {},
   "outputs": [
    {
     "data": {
      "text/plain": [
       "1.0"
      ]
     },
     "execution_count": 276,
     "metadata": {},
     "output_type": "execute_result"
    }
   ],
   "source": [
    "# Score model on testing set.\n",
    "gs.score(X_test,y_test)"
   ]
  },
  {
   "cell_type": "code",
   "execution_count": null,
   "id": "0682e988",
   "metadata": {},
   "outputs": [],
   "source": []
  },
  {
   "cell_type": "code",
   "execution_count": 277,
   "id": "4896d050",
   "metadata": {},
   "outputs": [],
   "source": [
    "# Let's set a pipeline up with two stages:\n",
    "# 1. TfidfVectorizer (transformer)\n",
    "# 2. Multinomial Naive Bayes (estimator)\n",
    "\n",
    "pipe_tvec = Pipeline([\n",
    "    (\"tvec\", TfidfVectorizer()), # Transformer (fit, transform)\n",
    "    (\"nb\", MultinomialNB()) # Estimator or model (fit, predict)    \n",
    "])\n",
    "\n",
    "# .predict() of MultinomialNB allows us to have a score to judge\n",
    "# our hyperparameters combinations when GridSearching"
   ]
  },
  {
   "cell_type": "code",
   "execution_count": 278,
   "id": "1a822bc7",
   "metadata": {},
   "outputs": [],
   "source": [
    "# Search over the following values of hyperparameters:\n",
    "# Maximum number of features fit: 2000, 3000, 4000, 5000\n",
    "# No stop words and english stop words\n",
    "# Check (individual tokens) and also check (individual tokens and 2-grams).\n",
    "\n",
    "pipe_tvec_params = {\"tvec__max_features\" : [2000,3000,4000,5000],\n",
    "                    \"tvec__min_df\": [2,3],\n",
    "                    \"tvec__max_df\": [0.9,0.95],\n",
    "                    \"tvec__stop_words\" : [None, \"english\"],\n",
    "                    \"tvec__ngram_range\" : [(1,1),(1,2)]\n",
    "                  }\n",
    "    "
   ]
  },
  {
   "cell_type": "code",
   "execution_count": 279,
   "id": "2009f748",
   "metadata": {},
   "outputs": [],
   "source": [
    "# Instantiate GridSearchCV.\n",
    "gs_tvec = GridSearchCV(estimator=pipe_tvec,\n",
    "                      param_grid=pipe_tvec_params,\n",
    "                      cv=5)"
   ]
  },
  {
   "cell_type": "code",
   "execution_count": 280,
   "id": "10acedfb",
   "metadata": {},
   "outputs": [
    {
     "data": {
      "text/html": [
       "<style>#sk-container-id-4 {color: black;background-color: white;}#sk-container-id-4 pre{padding: 0;}#sk-container-id-4 div.sk-toggleable {background-color: white;}#sk-container-id-4 label.sk-toggleable__label {cursor: pointer;display: block;width: 100%;margin-bottom: 0;padding: 0.3em;box-sizing: border-box;text-align: center;}#sk-container-id-4 label.sk-toggleable__label-arrow:before {content: \"▸\";float: left;margin-right: 0.25em;color: #696969;}#sk-container-id-4 label.sk-toggleable__label-arrow:hover:before {color: black;}#sk-container-id-4 div.sk-estimator:hover label.sk-toggleable__label-arrow:before {color: black;}#sk-container-id-4 div.sk-toggleable__content {max-height: 0;max-width: 0;overflow: hidden;text-align: left;background-color: #f0f8ff;}#sk-container-id-4 div.sk-toggleable__content pre {margin: 0.2em;color: black;border-radius: 0.25em;background-color: #f0f8ff;}#sk-container-id-4 input.sk-toggleable__control:checked~div.sk-toggleable__content {max-height: 200px;max-width: 100%;overflow: auto;}#sk-container-id-4 input.sk-toggleable__control:checked~label.sk-toggleable__label-arrow:before {content: \"▾\";}#sk-container-id-4 div.sk-estimator input.sk-toggleable__control:checked~label.sk-toggleable__label {background-color: #d4ebff;}#sk-container-id-4 div.sk-label input.sk-toggleable__control:checked~label.sk-toggleable__label {background-color: #d4ebff;}#sk-container-id-4 input.sk-hidden--visually {border: 0;clip: rect(1px 1px 1px 1px);clip: rect(1px, 1px, 1px, 1px);height: 1px;margin: -1px;overflow: hidden;padding: 0;position: absolute;width: 1px;}#sk-container-id-4 div.sk-estimator {font-family: monospace;background-color: #f0f8ff;border: 1px dotted black;border-radius: 0.25em;box-sizing: border-box;margin-bottom: 0.5em;}#sk-container-id-4 div.sk-estimator:hover {background-color: #d4ebff;}#sk-container-id-4 div.sk-parallel-item::after {content: \"\";width: 100%;border-bottom: 1px solid gray;flex-grow: 1;}#sk-container-id-4 div.sk-label:hover label.sk-toggleable__label {background-color: #d4ebff;}#sk-container-id-4 div.sk-serial::before {content: \"\";position: absolute;border-left: 1px solid gray;box-sizing: border-box;top: 0;bottom: 0;left: 50%;z-index: 0;}#sk-container-id-4 div.sk-serial {display: flex;flex-direction: column;align-items: center;background-color: white;padding-right: 0.2em;padding-left: 0.2em;position: relative;}#sk-container-id-4 div.sk-item {position: relative;z-index: 1;}#sk-container-id-4 div.sk-parallel {display: flex;align-items: stretch;justify-content: center;background-color: white;position: relative;}#sk-container-id-4 div.sk-item::before, #sk-container-id-4 div.sk-parallel-item::before {content: \"\";position: absolute;border-left: 1px solid gray;box-sizing: border-box;top: 0;bottom: 0;left: 50%;z-index: -1;}#sk-container-id-4 div.sk-parallel-item {display: flex;flex-direction: column;z-index: 1;position: relative;background-color: white;}#sk-container-id-4 div.sk-parallel-item:first-child::after {align-self: flex-end;width: 50%;}#sk-container-id-4 div.sk-parallel-item:last-child::after {align-self: flex-start;width: 50%;}#sk-container-id-4 div.sk-parallel-item:only-child::after {width: 0;}#sk-container-id-4 div.sk-dashed-wrapped {border: 1px dashed gray;margin: 0 0.4em 0.5em 0.4em;box-sizing: border-box;padding-bottom: 0.4em;background-color: white;}#sk-container-id-4 div.sk-label label {font-family: monospace;font-weight: bold;display: inline-block;line-height: 1.2em;}#sk-container-id-4 div.sk-label-container {text-align: center;}#sk-container-id-4 div.sk-container {/* jupyter's `normalize.less` sets `[hidden] { display: none; }` but bootstrap.min.css set `[hidden] { display: none !important; }` so we also need the `!important` here to be able to override the default hidden behavior on the sphinx rendered scikit-learn.org. See: https://github.com/scikit-learn/scikit-learn/issues/21755 */display: inline-block !important;position: relative;}#sk-container-id-4 div.sk-text-repr-fallback {display: none;}</style><div id=\"sk-container-id-4\" class=\"sk-top-container\"><div class=\"sk-text-repr-fallback\"><pre>GridSearchCV(cv=5,\n",
       "             estimator=Pipeline(steps=[(&#x27;tvec&#x27;, TfidfVectorizer()),\n",
       "                                       (&#x27;nb&#x27;, MultinomialNB())]),\n",
       "             param_grid={&#x27;tvec__max_df&#x27;: [0.9, 0.95],\n",
       "                         &#x27;tvec__max_features&#x27;: [2000, 3000, 4000, 5000],\n",
       "                         &#x27;tvec__min_df&#x27;: [2, 3],\n",
       "                         &#x27;tvec__ngram_range&#x27;: [(1, 1), (1, 2)],\n",
       "                         &#x27;tvec__stop_words&#x27;: [None, &#x27;english&#x27;]})</pre><b>In a Jupyter environment, please rerun this cell to show the HTML representation or trust the notebook. <br />On GitHub, the HTML representation is unable to render, please try loading this page with nbviewer.org.</b></div><div class=\"sk-container\" hidden><div class=\"sk-item sk-dashed-wrapped\"><div class=\"sk-label-container\"><div class=\"sk-label sk-toggleable\"><input class=\"sk-toggleable__control sk-hidden--visually\" id=\"sk-estimator-id-13\" type=\"checkbox\" ><label for=\"sk-estimator-id-13\" class=\"sk-toggleable__label sk-toggleable__label-arrow\">GridSearchCV</label><div class=\"sk-toggleable__content\"><pre>GridSearchCV(cv=5,\n",
       "             estimator=Pipeline(steps=[(&#x27;tvec&#x27;, TfidfVectorizer()),\n",
       "                                       (&#x27;nb&#x27;, MultinomialNB())]),\n",
       "             param_grid={&#x27;tvec__max_df&#x27;: [0.9, 0.95],\n",
       "                         &#x27;tvec__max_features&#x27;: [2000, 3000, 4000, 5000],\n",
       "                         &#x27;tvec__min_df&#x27;: [2, 3],\n",
       "                         &#x27;tvec__ngram_range&#x27;: [(1, 1), (1, 2)],\n",
       "                         &#x27;tvec__stop_words&#x27;: [None, &#x27;english&#x27;]})</pre></div></div></div><div class=\"sk-parallel\"><div class=\"sk-parallel-item\"><div class=\"sk-item\"><div class=\"sk-label-container\"><div class=\"sk-label sk-toggleable\"><input class=\"sk-toggleable__control sk-hidden--visually\" id=\"sk-estimator-id-14\" type=\"checkbox\" ><label for=\"sk-estimator-id-14\" class=\"sk-toggleable__label sk-toggleable__label-arrow\">estimator: Pipeline</label><div class=\"sk-toggleable__content\"><pre>Pipeline(steps=[(&#x27;tvec&#x27;, TfidfVectorizer()), (&#x27;nb&#x27;, MultinomialNB())])</pre></div></div></div><div class=\"sk-serial\"><div class=\"sk-item\"><div class=\"sk-serial\"><div class=\"sk-item\"><div class=\"sk-estimator sk-toggleable\"><input class=\"sk-toggleable__control sk-hidden--visually\" id=\"sk-estimator-id-15\" type=\"checkbox\" ><label for=\"sk-estimator-id-15\" class=\"sk-toggleable__label sk-toggleable__label-arrow\">TfidfVectorizer</label><div class=\"sk-toggleable__content\"><pre>TfidfVectorizer()</pre></div></div></div><div class=\"sk-item\"><div class=\"sk-estimator sk-toggleable\"><input class=\"sk-toggleable__control sk-hidden--visually\" id=\"sk-estimator-id-16\" type=\"checkbox\" ><label for=\"sk-estimator-id-16\" class=\"sk-toggleable__label sk-toggleable__label-arrow\">MultinomialNB</label><div class=\"sk-toggleable__content\"><pre>MultinomialNB()</pre></div></div></div></div></div></div></div></div></div></div></div></div>"
      ],
      "text/plain": [
       "GridSearchCV(cv=5,\n",
       "             estimator=Pipeline(steps=[('tvec', TfidfVectorizer()),\n",
       "                                       ('nb', MultinomialNB())]),\n",
       "             param_grid={'tvec__max_df': [0.9, 0.95],\n",
       "                         'tvec__max_features': [2000, 3000, 4000, 5000],\n",
       "                         'tvec__min_df': [2, 3],\n",
       "                         'tvec__ngram_range': [(1, 1), (1, 2)],\n",
       "                         'tvec__stop_words': [None, 'english']})"
      ]
     },
     "execution_count": 280,
     "metadata": {},
     "output_type": "execute_result"
    }
   ],
   "source": [
    "# Fit GridSearch to training data.\n",
    "gs_tvec.fit(X_train,y_train)"
   ]
  },
  {
   "cell_type": "code",
   "execution_count": 281,
   "id": "3471c1a9",
   "metadata": {},
   "outputs": [
    {
     "data": {
      "text/plain": [
       "{'tvec__max_df': 0.9,\n",
       " 'tvec__max_features': 2000,\n",
       " 'tvec__min_df': 2,\n",
       " 'tvec__ngram_range': (1, 1),\n",
       " 'tvec__stop_words': None}"
      ]
     },
     "execution_count": 281,
     "metadata": {},
     "output_type": "execute_result"
    }
   ],
   "source": [
    "gs_tvec.best_params_"
   ]
  },
  {
   "cell_type": "code",
   "execution_count": 282,
   "id": "b72c6e2c",
   "metadata": {},
   "outputs": [
    {
     "data": {
      "text/plain": [
       "1.0"
      ]
     },
     "execution_count": 282,
     "metadata": {},
     "output_type": "execute_result"
    }
   ],
   "source": [
    "# Score model on training set.\n",
    "gs_tvec.score(X_train,y_train)"
   ]
  },
  {
   "cell_type": "code",
   "execution_count": 283,
   "id": "55e8583a",
   "metadata": {},
   "outputs": [
    {
     "data": {
      "text/plain": [
       "1.0"
      ]
     },
     "execution_count": 283,
     "metadata": {},
     "output_type": "execute_result"
    }
   ],
   "source": [
    "# Score model on testing set.\n",
    "gs_tvec.score(X_test,y_test)"
   ]
  },
  {
   "cell_type": "code",
   "execution_count": 284,
   "id": "e02d1814",
   "metadata": {},
   "outputs": [
    {
     "data": {
      "text/plain": [
       "1.0"
      ]
     },
     "execution_count": 284,
     "metadata": {},
     "output_type": "execute_result"
    }
   ],
   "source": [
    "# Let's set a pipeline up with two stages:\n",
    "# 1. TfidfVectorizer (transformer)\n",
    "# 2. Multinomial Naive Bayes (estimator)\n",
    "\n",
    "pipe_tvec = Pipeline([\n",
    "    (\"tvec\", TfidfVectorizer()), # Transformer (fit, transform)\n",
    "    (\"nb\", MultinomialNB()) # Estimator or model (fit, predict)    \n",
    "])\n",
    "\n",
    "# .predict() of MultinomialNB allows us to have a score to judge\n",
    "# our hyperparameters combinations when GridSearching\n",
    "\n",
    "# Search over the following values of hyperparameters:\n",
    "# Maximum number of features fit: 2000, 3000, 4000, 5000\n",
    "# No stop words and english stop words\n",
    "# Check (individual tokens) and also check (individual tokens and 2-grams).\n",
    "\n",
    "pipe_tvec_params = {\"tvec__max_features\" : [100,500],\n",
    "                    \"tvec__stop_words\" : [None, \"english\"],\n",
    "                    \"tvec__ngram_range\" : [(1,1),(1,2)]\n",
    "                  }\n",
    "    \n",
    "\n",
    "# Instantiate GridSearchCV.\n",
    "gs_tvec = GridSearchCV(estimator=pipe_tvec,\n",
    "                      param_grid=pipe_tvec_params,\n",
    "                      cv=5)\n",
    "\n",
    "# Fit GridSearch to training data.\n",
    "gs_tvec.fit(X_train,y_train)\n",
    "\n",
    "gs_tvec.best_params_\n",
    "\n",
    "# Score model on training set.\n",
    "gs_tvec.score(X_train,y_train)\n",
    "\n",
    "# Score model on testing set.\n",
    "gs_tvec.score(X_test,y_test)"
   ]
  },
  {
   "cell_type": "markdown",
   "id": "ce9cd684",
   "metadata": {},
   "source": [
    "### Find top occuring words and remove"
   ]
  },
  {
   "cell_type": "code",
   "execution_count": 286,
   "id": "3c612ab2",
   "metadata": {},
   "outputs": [
    {
     "data": {
      "image/png": "[encoded data removed]",
      "text/plain": [
       "<Figure size 432x288 with 1 Axes>"
      ]
     },
     "metadata": {
      "needs_background": "light"
     },
     "output_type": "display_data"
    }
   ],
   "source": [
    "# Instantiate the transformer.\n",
    "tvec = TfidfVectorizer(stop_words=\"english\")\n",
    "\n",
    "# convert training data to dataframe\n",
    "X_train_df = pd.DataFrame(tvec.fit_transform(X_train).todense(), \n",
    "                          columns=tvec.get_feature_names_out())\n",
    "# Plot top 20 occuring words\n",
    "X_train_df.sum().sort_values(ascending=True).tail(20).plot(kind='barh');"
   ]
  },
  {
   "cell_type": "code",
   "execution_count": 287,
   "id": "a381852e",
   "metadata": {},
   "outputs": [
    {
     "data": {
      "image/png": "[encoded data removed]",
      "text/plain": [
       "<Figure size 432x288 with 1 Axes>"
      ]
     },
     "metadata": {
      "needs_background": "light"
     },
     "output_type": "display_data"
    }
   ],
   "source": [
    "# Instantiate the transformer.\n",
    "tvec = TfidfVectorizer(stop_words=\"english\")\n",
    "\n",
    "# convert training data to dataframe\n",
    "X_train_df = pd.DataFrame(tvec.fit_transform(df[\"title\"]).todense(), \n",
    "                          columns=tvec.get_feature_names_out())\n",
    "# Plot top 20 occuring words\n",
    "X_train_df.sum().sort_values(ascending=True).tail(20).plot(kind='barh');"
   ]
  },
  {
   "cell_type": "code",
   "execution_count": 288,
   "id": "0da85667",
   "metadata": {},
   "outputs": [
    {
     "data": {
      "image/png": "[encoded data removed]",
      "text/plain": [
       "<Figure size 432x288 with 1 Axes>"
      ]
     },
     "metadata": {
      "needs_background": "light"
     },
     "output_type": "display_data"
    }
   ],
   "source": [
    "# Instantiate the transformer.\n",
    "tvec = TfidfVectorizer(stop_words=\"english\")\n",
    "\n",
    "# convert training data to dataframe\n",
    "X_train_df = pd.DataFrame(tvec.fit_transform(df[\"title_clean\"]).todense(), \n",
    "                          columns=tvec.get_feature_names_out())\n",
    "# Plot top 20 occuring words\n",
    "X_train_df.sum().sort_values(ascending=True).tail(20).plot(kind='barh');"
   ]
  },
  {
   "cell_type": "code",
   "execution_count": null,
   "id": "fd7040d4",
   "metadata": {},
   "outputs": [],
   "source": []
  }
 ],
 "metadata": {
  "kernelspec": {
   "display_name": "Python 3",
   "language": "python",
   "name": "python3"
  },
  "language_info": {
   "codemirror_mode": {
    "name": "ipython",
    "version": 3
   },
   "file_extension": ".py",
   "mimetype": "text/x-python",
   "name": "python",
   "nbconvert_exporter": "python",
   "pygments_lexer": "ipython3",
   "version": "3.8.8"
  },
  "toc": {
   "base_numbering": 1,
   "nav_menu": {},
   "number_sections": true,
   "sideBar": true,
   "skip_h1_title": false,
   "title_cell": "Table of Contents",
   "title_sidebar": "Contents",
   "toc_cell": false,
   "toc_position": {},
   "toc_section_display": true,
   "toc_window_display": false
  }
 },
 "nbformat": 4,
 "nbformat_minor": 5
}
