{
 "cells": [
  {
   "cell_type": "markdown",
   "id": "472254a8",
   "metadata": {},
   "source": [
    "# Project 3: Reddit API NLP Classification"
   ]
  },
  {
   "cell_type": "markdown",
   "id": "757d5da1",
   "metadata": {},
   "source": [
    "## Problem Statement"
   ]
  },
  {
   "cell_type": "markdown",
   "id": "35c009a9",
   "metadata": {},
   "source": [
    "Being part of the Nintendo Marketing Team of nintendo switch, I am interested in finding out what popular topics and keyword jargons belong to the fields of Mario and Legend of Zelda. Conducting analysis on Reddit posts will allow me to craft online content and advertisements to better target people interested in casual, adventure, platformer video games.\n",
    "\n",
    "The main objective of this project is to scrape two subreddits: `r/Mario` and `r/Zelda` using Reddit's API. The scraped data from the two subreddits will then be passed through various classification models, `CountVectorizer`/`TfidVectorizer` with `Naive Bayes Classifier` and `LogisticRegression` that will assign each observation to the most likely class of subreddit. The models should help the data science marketing team of my company identify what makes the respective subreddit posts unique from one another.\n",
    "\n",
    "In this process, the subreddit posts will undergo preprocessing and EDA. The success of the models that we decide on will be determined through the highest accuracy based on the scores obtained."
   ]
  },
  {
   "cell_type": "markdown",
   "id": "9b94319c",
   "metadata": {},
   "source": [
    "## Executive Summary"
   ]
  },
  {
   "cell_type": "markdown",
   "id": "cbd159d8",
   "metadata": {},
   "source": [
    "Natural Language Processing, or NLP for short, involves using specialized machine learning techniques to make predictions about the text in a body of documents, including things like authorship attribution, sentiment analysis, text generation, and in some cases the appearance of something resembling semantic understanding.\n",
    "\n",
    "Nintendo Switch, a hybrid home console and handheld device is one of highest revenue generator of Nintendo, it had outsold the lifetime sales of Wii U, its home console predecessor.Mario Kart 8 Deluxe is the best-selling game on the platform at over 46 million copies sold The Mario franchise alone has sold 167.11 million copies on the Nintendo Switch, which is the most the franchise has ever sold on a single platform. The Legend of Zelda has also sold the most on a single platform with the Nintendo Switch with 41.13 million copies. \n",
    "\n",
    "In this project, we would like to further explore the key similarities and differences between Mario and Zelda in terms of the current discussions and topics that people are discussing on Reddit. Reddit, in recent times, have become a popular avenue for people all over the world to ask one another about different career prospects and experiences. As such, scraping Subreddit Posts gives us an interesting source of data that we can analyze to understand what are the popular topics in these respective career fields.\n",
    "\n",
    "The web scraping portion of this project is covered in another notebook. In this notebook, we will be covering the steps taken to clean and analyze the data collected, as well as further steps taken to pre-process the text data, visualize the data, use different models to find the optimal model and analyze misclassified posts."
   ]
  },
  {
   "cell_type": "markdown",
   "id": "46265f90",
   "metadata": {},
   "source": [
    "## Contents:\n",
    "- [Data Collection](#Data-Collection) (In notebook \"Data_Collection_Reddit.ipynb\")\n",
    "- [Explanatory Data Analysis](#Explanatory-Data-Analysis)\n",
    "- [Data Cleaning](#Data-Cleaning)\n",
    "- [Pre-Processing](#Pre-Processing)\n",
    "- [Data Visualization](#Data-Visualization)\n",
    "- [Modelling](#Modelling)\n",
    "- [Evaluation](#Evaluation)\n",
    "- [Conclusion](#Conclusion)\n",
    "- [Recommendations](#Recommendations)"
   ]
  },
  {
   "cell_type": "markdown",
   "id": "7b9a4383",
   "metadata": {},
   "source": [
    "### Importing Packages"
   ]
  },
  {
   "cell_type": "code",
   "execution_count": 1,
   "id": "0b08f5f8",
   "metadata": {},
   "outputs": [],
   "source": [
    "# Import libraries\n",
    "import requests\n",
    "import time\n",
    "import nltk\n",
    "import pandas as pd\n",
    "import regex as re\n",
    "import numpy as np\n",
    "import matplotlib.pyplot as plt\n",
    "import seaborn as sns\n",
    "from matplotlib_venn import venn2\n",
    "\n",
    "from nltk.corpus import stopwords\n",
    "from nltk.tokenize import RegexpTokenizer\n",
    "from nltk.stem import WordNetLemmatizer\n",
    "from nltk.sentiment.vader import SentimentIntensityAnalyzer\n",
    "\n",
    "from sklearn.feature_extraction.text import CountVectorizer, TfidfVectorizer\n",
    "from sklearn.model_selection import train_test_split, cross_val_score, GridSearchCV\n",
    "from sklearn.linear_model import LogisticRegression\n",
    "from sklearn.neighbors import KNeighborsClassifier\n",
    "from sklearn.ensemble import ExtraTreesClassifier, RandomForestClassifier\n",
    "from sklearn.tree import DecisionTreeClassifier\n",
    "\n",
    "from sklearn.pipeline import Pipeline\n",
    "from sklearn.naive_bayes import MultinomialNB # NLP classification\n",
    "from sklearn.metrics import confusion_matrix, plot_confusion_matrix, ConfusionMatrixDisplay\n",
    "\n",
    "from wordcloud import WordCloud"
   ]
  },
  {
   "cell_type": "markdown",
   "id": "785026e4",
   "metadata": {},
   "source": [
    "I have outlined my process of scraping data in the other Jupyter Notebook in this project folder. In this notebook, I will be reading in the csv files that contain my scrapped data for both the mario and zelda subreddit posts."
   ]
  },
  {
   "cell_type": "markdown",
   "id": "f996af41",
   "metadata": {},
   "source": [
    "### Read in CSV"
   ]
  },
  {
   "cell_type": "code",
   "execution_count": 2,
   "id": "9654aaab",
   "metadata": {},
   "outputs": [
    {
     "data": {
      "text/html": [
       "<div>\n",
       "<style scoped>\n",
       "    .dataframe tbody tr th:only-of-type {\n",
       "        vertical-align: middle;\n",
       "    }\n",
       "\n",
       "    .dataframe tbody tr th {\n",
       "        vertical-align: top;\n",
       "    }\n",
       "\n",
       "    .dataframe thead th {\n",
       "        text-align: right;\n",
       "    }\n",
       "</style>\n",
       "<table border=\"1\" class=\"dataframe\">\n",
       "  <thead>\n",
       "    <tr style=\"text-align: right;\">\n",
       "      <th></th>\n",
       "      <th>subreddit</th>\n",
       "      <th>title</th>\n",
       "      <th>clicked</th>\n",
       "      <th>ups</th>\n",
       "      <th>downs</th>\n",
       "      <th>post_paragraph</th>\n",
       "      <th>likes</th>\n",
       "      <th>number_of_comments</th>\n",
       "      <th>category</th>\n",
       "      <th>score</th>\n",
       "      <th>author_flair_css_class</th>\n",
       "      <th>subreddit_type</th>\n",
       "    </tr>\n",
       "  </thead>\n",
       "  <tbody>\n",
       "    <tr>\n",
       "      <th>376</th>\n",
       "      <td>Mario</td>\n",
       "      <td>You know if the movie's a success, this is goi...</td>\n",
       "      <td>False</td>\n",
       "      <td>83</td>\n",
       "      <td>0</td>\n",
       "      <td>NaN</td>\n",
       "      <td>NaN</td>\n",
       "      <td>7</td>\n",
       "      <td>NaN</td>\n",
       "      <td>83</td>\n",
       "      <td>NaN</td>\n",
       "      <td>public</td>\n",
       "    </tr>\n",
       "    <tr>\n",
       "      <th>502</th>\n",
       "      <td>Mario</td>\n",
       "      <td>For the new trailer. Characters I’ve been mean...</td>\n",
       "      <td>False</td>\n",
       "      <td>27</td>\n",
       "      <td>0</td>\n",
       "      <td>NaN</td>\n",
       "      <td>NaN</td>\n",
       "      <td>3</td>\n",
       "      <td>NaN</td>\n",
       "      <td>27</td>\n",
       "      <td>NaN</td>\n",
       "      <td>public</td>\n",
       "    </tr>\n",
       "    <tr>\n",
       "      <th>1614</th>\n",
       "      <td>Mario</td>\n",
       "      <td>Chris Pratt bad apparently</td>\n",
       "      <td>False</td>\n",
       "      <td>363</td>\n",
       "      <td>0</td>\n",
       "      <td>NaN</td>\n",
       "      <td>NaN</td>\n",
       "      <td>136</td>\n",
       "      <td>NaN</td>\n",
       "      <td>363</td>\n",
       "      <td>NaN</td>\n",
       "      <td>public</td>\n",
       "    </tr>\n",
       "    <tr>\n",
       "      <th>2052</th>\n",
       "      <td>Mario</td>\n",
       "      <td>[oc] NOW THEY HAVE A MOVIE ✨</td>\n",
       "      <td>False</td>\n",
       "      <td>208</td>\n",
       "      <td>0</td>\n",
       "      <td>NaN</td>\n",
       "      <td>NaN</td>\n",
       "      <td>2</td>\n",
       "      <td>NaN</td>\n",
       "      <td>208</td>\n",
       "      <td>NaN</td>\n",
       "      <td>public</td>\n",
       "    </tr>\n",
       "    <tr>\n",
       "      <th>1852</th>\n",
       "      <td>Mario</td>\n",
       "      <td>Man, Illumination took some liberties on this ...</td>\n",
       "      <td>False</td>\n",
       "      <td>30</td>\n",
       "      <td>0</td>\n",
       "      <td>NaN</td>\n",
       "      <td>NaN</td>\n",
       "      <td>1</td>\n",
       "      <td>NaN</td>\n",
       "      <td>30</td>\n",
       "      <td>NaN</td>\n",
       "      <td>public</td>\n",
       "    </tr>\n",
       "  </tbody>\n",
       "</table>\n",
       "</div>"
      ],
      "text/plain": [
       "     subreddit                                              title  clicked  \\\n",
       "376      Mario  You know if the movie's a success, this is goi...    False   \n",
       "502      Mario  For the new trailer. Characters I’ve been mean...    False   \n",
       "1614     Mario                         Chris Pratt bad apparently    False   \n",
       "2052     Mario                       [oc] NOW THEY HAVE A MOVIE ✨    False   \n",
       "1852     Mario  Man, Illumination took some liberties on this ...    False   \n",
       "\n",
       "      ups  downs post_paragraph  likes  number_of_comments  category  score  \\\n",
       "376    83      0            NaN    NaN                   7       NaN     83   \n",
       "502    27      0            NaN    NaN                   3       NaN     27   \n",
       "1614  363      0            NaN    NaN                 136       NaN    363   \n",
       "2052  208      0            NaN    NaN                   2       NaN    208   \n",
       "1852   30      0            NaN    NaN                   1       NaN     30   \n",
       "\n",
       "     author_flair_css_class subreddit_type  \n",
       "376                     NaN         public  \n",
       "502                     NaN         public  \n",
       "1614                    NaN         public  \n",
       "2052                    NaN         public  \n",
       "1852                    NaN         public  "
      ]
     },
     "execution_count": 2,
     "metadata": {},
     "output_type": "execute_result"
    }
   ],
   "source": [
    "mario = pd.read_csv(\"mario_reddit_posts.csv\")\n",
    "mario.sample(5)"
   ]
  },
  {
   "cell_type": "code",
   "execution_count": 3,
   "id": "86c79ba9",
   "metadata": {},
   "outputs": [
    {
     "data": {
      "text/html": [
       "<div>\n",
       "<style scoped>\n",
       "    .dataframe tbody tr th:only-of-type {\n",
       "        vertical-align: middle;\n",
       "    }\n",
       "\n",
       "    .dataframe tbody tr th {\n",
       "        vertical-align: top;\n",
       "    }\n",
       "\n",
       "    .dataframe thead th {\n",
       "        text-align: right;\n",
       "    }\n",
       "</style>\n",
       "<table border=\"1\" class=\"dataframe\">\n",
       "  <thead>\n",
       "    <tr style=\"text-align: right;\">\n",
       "      <th></th>\n",
       "      <th>subreddit</th>\n",
       "      <th>title</th>\n",
       "      <th>clicked</th>\n",
       "      <th>ups</th>\n",
       "      <th>downs</th>\n",
       "      <th>post_paragraph</th>\n",
       "      <th>likes</th>\n",
       "      <th>number_of_comments</th>\n",
       "      <th>category</th>\n",
       "      <th>score</th>\n",
       "      <th>author_flair_css_class</th>\n",
       "      <th>subreddit_type</th>\n",
       "    </tr>\n",
       "  </thead>\n",
       "  <tbody>\n",
       "    <tr>\n",
       "      <th>71</th>\n",
       "      <td>zelda</td>\n",
       "      <td>[Other] If Nintendo announced that they will l...</td>\n",
       "      <td>False</td>\n",
       "      <td>4</td>\n",
       "      <td>0</td>\n",
       "      <td>For me I’d say Wind Waker all the way, it’d ba...</td>\n",
       "      <td>NaN</td>\n",
       "      <td>31</td>\n",
       "      <td>NaN</td>\n",
       "      <td>4</td>\n",
       "      <td>NaN</td>\n",
       "      <td>public</td>\n",
       "    </tr>\n",
       "    <tr>\n",
       "      <th>356</th>\n",
       "      <td>zelda</td>\n",
       "      <td>[BOTW] Enjoy and have fun :)</td>\n",
       "      <td>False</td>\n",
       "      <td>2</td>\n",
       "      <td>0</td>\n",
       "      <td>NaN</td>\n",
       "      <td>NaN</td>\n",
       "      <td>0</td>\n",
       "      <td>NaN</td>\n",
       "      <td>2</td>\n",
       "      <td>NaN</td>\n",
       "      <td>public</td>\n",
       "    </tr>\n",
       "    <tr>\n",
       "      <th>1569</th>\n",
       "      <td>zelda</td>\n",
       "      <td>[OC] I tried making a Zelda Tears of the Kingd...</td>\n",
       "      <td>False</td>\n",
       "      <td>75</td>\n",
       "      <td>0</td>\n",
       "      <td>NaN</td>\n",
       "      <td>NaN</td>\n",
       "      <td>7</td>\n",
       "      <td>NaN</td>\n",
       "      <td>75</td>\n",
       "      <td>NaN</td>\n",
       "      <td>public</td>\n",
       "    </tr>\n",
       "    <tr>\n",
       "      <th>1078</th>\n",
       "      <td>zelda</td>\n",
       "      <td>[OC] [OOT] “Dead Hand” Sculpture I just finish...</td>\n",
       "      <td>False</td>\n",
       "      <td>898</td>\n",
       "      <td>0</td>\n",
       "      <td>NaN</td>\n",
       "      <td>NaN</td>\n",
       "      <td>97</td>\n",
       "      <td>NaN</td>\n",
       "      <td>898</td>\n",
       "      <td>NaN</td>\n",
       "      <td>public</td>\n",
       "    </tr>\n",
       "    <tr>\n",
       "      <th>1505</th>\n",
       "      <td>zelda</td>\n",
       "      <td>[BotW] Will a lot of people still play BotW af...</td>\n",
       "      <td>False</td>\n",
       "      <td>3</td>\n",
       "      <td>0</td>\n",
       "      <td>We know the sequel is coming. thoughts in BotW...</td>\n",
       "      <td>NaN</td>\n",
       "      <td>6</td>\n",
       "      <td>NaN</td>\n",
       "      <td>3</td>\n",
       "      <td>NaN</td>\n",
       "      <td>public</td>\n",
       "    </tr>\n",
       "  </tbody>\n",
       "</table>\n",
       "</div>"
      ],
      "text/plain": [
       "     subreddit                                              title  clicked  \\\n",
       "71       zelda  [Other] If Nintendo announced that they will l...    False   \n",
       "356      zelda                       [BOTW] Enjoy and have fun :)    False   \n",
       "1569     zelda  [OC] I tried making a Zelda Tears of the Kingd...    False   \n",
       "1078     zelda  [OC] [OOT] “Dead Hand” Sculpture I just finish...    False   \n",
       "1505     zelda  [BotW] Will a lot of people still play BotW af...    False   \n",
       "\n",
       "      ups  downs                                     post_paragraph  likes  \\\n",
       "71      4      0  For me I’d say Wind Waker all the way, it’d ba...    NaN   \n",
       "356     2      0                                                NaN    NaN   \n",
       "1569   75      0                                                NaN    NaN   \n",
       "1078  898      0                                                NaN    NaN   \n",
       "1505    3      0  We know the sequel is coming. thoughts in BotW...    NaN   \n",
       "\n",
       "      number_of_comments  category  score author_flair_css_class  \\\n",
       "71                    31       NaN      4                    NaN   \n",
       "356                    0       NaN      2                    NaN   \n",
       "1569                   7       NaN     75                    NaN   \n",
       "1078                  97       NaN    898                    NaN   \n",
       "1505                   6       NaN      3                    NaN   \n",
       "\n",
       "     subreddit_type  \n",
       "71           public  \n",
       "356          public  \n",
       "1569         public  \n",
       "1078         public  \n",
       "1505         public  "
      ]
     },
     "execution_count": 3,
     "metadata": {},
     "output_type": "execute_result"
    }
   ],
   "source": [
    "zelda = pd.read_csv(\"zelda_reddit_posts.csv\")\n",
    "zelda.sample(5)"
   ]
  },
  {
   "cell_type": "code",
   "execution_count": 4,
   "id": "e5f67957",
   "metadata": {},
   "outputs": [
    {
     "name": "stdout",
     "output_type": "stream",
     "text": [
      "(2258, 12)\n",
      "(2454, 12)\n"
     ]
    }
   ],
   "source": [
    "print(mario.shape)\n",
    "print(zelda.shape)"
   ]
  },
  {
   "cell_type": "code",
   "execution_count": 5,
   "id": "003583df",
   "metadata": {},
   "outputs": [
    {
     "data": {
      "text/html": [
       "<div>\n",
       "<style scoped>\n",
       "    .dataframe tbody tr th:only-of-type {\n",
       "        vertical-align: middle;\n",
       "    }\n",
       "\n",
       "    .dataframe tbody tr th {\n",
       "        vertical-align: top;\n",
       "    }\n",
       "\n",
       "    .dataframe thead th {\n",
       "        text-align: right;\n",
       "    }\n",
       "</style>\n",
       "<table border=\"1\" class=\"dataframe\">\n",
       "  <thead>\n",
       "    <tr style=\"text-align: right;\">\n",
       "      <th></th>\n",
       "      <th>subreddit</th>\n",
       "      <th>title</th>\n",
       "      <th>ups</th>\n",
       "      <th>post_paragraph</th>\n",
       "      <th>number_of_comments</th>\n",
       "      <th>score</th>\n",
       "      <th>author_flair_css_class</th>\n",
       "      <th>target</th>\n",
       "    </tr>\n",
       "  </thead>\n",
       "  <tbody>\n",
       "    <tr>\n",
       "      <th>884</th>\n",
       "      <td>Mario</td>\n",
       "      <td>Tell me which Mario-related character you want...</td>\n",
       "      <td>8</td>\n",
       "      <td>EXAMPLE: \\n\\nYour answer is \"Penny Crygor\".\\n\\...</td>\n",
       "      <td>42</td>\n",
       "      <td>8</td>\n",
       "      <td>zToad</td>\n",
       "      <td>1</td>\n",
       "    </tr>\n",
       "    <tr>\n",
       "      <th>4029</th>\n",
       "      <td>zelda</td>\n",
       "      <td>[LoZ] I had troubles finding a usable map, so ...</td>\n",
       "      <td>55</td>\n",
       "      <td>NaN</td>\n",
       "      <td>3</td>\n",
       "      <td>55</td>\n",
       "      <td>yiga</td>\n",
       "      <td>0</td>\n",
       "    </tr>\n",
       "    <tr>\n",
       "      <th>2045</th>\n",
       "      <td>Mario</td>\n",
       "      <td>coincidence</td>\n",
       "      <td>51</td>\n",
       "      <td>NaN</td>\n",
       "      <td>4</td>\n",
       "      <td>51</td>\n",
       "      <td>NaN</td>\n",
       "      <td>1</td>\n",
       "    </tr>\n",
       "    <tr>\n",
       "      <th>383</th>\n",
       "      <td>Mario</td>\n",
       "      <td>Real talk: is there any real reason to revisit...</td>\n",
       "      <td>3</td>\n",
       "      <td>NaN</td>\n",
       "      <td>4</td>\n",
       "      <td>3</td>\n",
       "      <td>NaN</td>\n",
       "      <td>1</td>\n",
       "    </tr>\n",
       "    <tr>\n",
       "      <th>2992</th>\n",
       "      <td>zelda</td>\n",
       "      <td>[ALL] Which Zelda Game Has the Best Story?</td>\n",
       "      <td>743</td>\n",
       "      <td>Strictly main story, no side stories included....</td>\n",
       "      <td>523</td>\n",
       "      <td>743</td>\n",
       "      <td>NaN</td>\n",
       "      <td>0</td>\n",
       "    </tr>\n",
       "  </tbody>\n",
       "</table>\n",
       "</div>"
      ],
      "text/plain": [
       "     subreddit                                              title  ups  \\\n",
       "884      Mario  Tell me which Mario-related character you want...    8   \n",
       "4029     zelda  [LoZ] I had troubles finding a usable map, so ...   55   \n",
       "2045     Mario                                        coincidence   51   \n",
       "383      Mario  Real talk: is there any real reason to revisit...    3   \n",
       "2992     zelda         [ALL] Which Zelda Game Has the Best Story?  743   \n",
       "\n",
       "                                         post_paragraph  number_of_comments  \\\n",
       "884   EXAMPLE: \\n\\nYour answer is \"Penny Crygor\".\\n\\...                  42   \n",
       "4029                                                NaN                   3   \n",
       "2045                                                NaN                   4   \n",
       "383                                                 NaN                   4   \n",
       "2992  Strictly main story, no side stories included....                 523   \n",
       "\n",
       "      score author_flair_css_class  target  \n",
       "884       8                  zToad       1  \n",
       "4029     55                   yiga       0  \n",
       "2045     51                    NaN       1  \n",
       "383       3                    NaN       1  \n",
       "2992    743                    NaN       0  "
      ]
     },
     "execution_count": 5,
     "metadata": {},
     "output_type": "execute_result"
    }
   ],
   "source": [
    "# Import combinded df\n",
    "df = pd.read_csv(\"./master_df.csv\")\n",
    "df.sample(5)"
   ]
  },
  {
   "cell_type": "code",
   "execution_count": 6,
   "id": "ee77c493",
   "metadata": {},
   "outputs": [
    {
     "name": "stdout",
     "output_type": "stream",
     "text": [
      "(4710, 8)\n"
     ]
    }
   ],
   "source": [
    "print(df.shape)"
   ]
  },
  {
   "cell_type": "markdown",
   "id": "f1006fdc",
   "metadata": {},
   "source": [
    "### Explanatory Data Analysis"
   ]
  },
  {
   "cell_type": "code",
   "execution_count": 7,
   "id": "07e92ba2",
   "metadata": {},
   "outputs": [
    {
     "data": {
      "text/html": [
       "<div>\n",
       "<style scoped>\n",
       "    .dataframe tbody tr th:only-of-type {\n",
       "        vertical-align: middle;\n",
       "    }\n",
       "\n",
       "    .dataframe tbody tr th {\n",
       "        vertical-align: top;\n",
       "    }\n",
       "\n",
       "    .dataframe thead th {\n",
       "        text-align: right;\n",
       "    }\n",
       "</style>\n",
       "<table border=\"1\" class=\"dataframe\">\n",
       "  <thead>\n",
       "    <tr style=\"text-align: right;\">\n",
       "      <th></th>\n",
       "      <th>subreddit</th>\n",
       "      <th>title</th>\n",
       "      <th>ups</th>\n",
       "      <th>post_paragraph</th>\n",
       "      <th>number_of_comments</th>\n",
       "      <th>score</th>\n",
       "      <th>author_flair_css_class</th>\n",
       "      <th>target</th>\n",
       "      <th>string_count</th>\n",
       "      <th>word_count</th>\n",
       "    </tr>\n",
       "  </thead>\n",
       "  <tbody>\n",
       "    <tr>\n",
       "      <th>0</th>\n",
       "      <td>Mario</td>\n",
       "      <td>Super Mario Movie Trailer MEGATHREAD</td>\n",
       "      <td>374</td>\n",
       "      <td>Want to discuss about the movie trailer? You'r...</td>\n",
       "      <td>894</td>\n",
       "      <td>374</td>\n",
       "      <td>NaN</td>\n",
       "      <td>1</td>\n",
       "      <td>36</td>\n",
       "      <td>5</td>\n",
       "    </tr>\n",
       "    <tr>\n",
       "      <th>1</th>\n",
       "      <td>Mario</td>\n",
       "      <td>Karma farming posts get removed, egregious rep...</td>\n",
       "      <td>113</td>\n",
       "      <td>First up, apologies for these out of date rule...</td>\n",
       "      <td>7</td>\n",
       "      <td>113</td>\n",
       "      <td>NaN</td>\n",
       "      <td>1</td>\n",
       "      <td>74</td>\n",
       "      <td>12</td>\n",
       "    </tr>\n",
       "    <tr>\n",
       "      <th>2</th>\n",
       "      <td>Mario</td>\n",
       "      <td>If there are power ups in the movie, how do yo...</td>\n",
       "      <td>425</td>\n",
       "      <td>NaN</td>\n",
       "      <td>59</td>\n",
       "      <td>425</td>\n",
       "      <td>NaN</td>\n",
       "      <td>1</td>\n",
       "      <td>185</td>\n",
       "      <td>38</td>\n",
       "    </tr>\n",
       "    <tr>\n",
       "      <th>3</th>\n",
       "      <td>Mario</td>\n",
       "      <td>I'm still thinking about the Mario Movie so I ...</td>\n",
       "      <td>696</td>\n",
       "      <td>NaN</td>\n",
       "      <td>29</td>\n",
       "      <td>696</td>\n",
       "      <td>NaN</td>\n",
       "      <td>1</td>\n",
       "      <td>97</td>\n",
       "      <td>20</td>\n",
       "    </tr>\n",
       "    <tr>\n",
       "      <th>4</th>\n",
       "      <td>Mario</td>\n",
       "      <td>I understand the disappointment of Charles Mar...</td>\n",
       "      <td>381</td>\n",
       "      <td>NaN</td>\n",
       "      <td>94</td>\n",
       "      <td>381</td>\n",
       "      <td>NaN</td>\n",
       "      <td>1</td>\n",
       "      <td>163</td>\n",
       "      <td>27</td>\n",
       "    </tr>\n",
       "  </tbody>\n",
       "</table>\n",
       "</div>"
      ],
      "text/plain": [
       "  subreddit                                              title  ups  \\\n",
       "0     Mario               Super Mario Movie Trailer MEGATHREAD  374   \n",
       "1     Mario  Karma farming posts get removed, egregious rep...  113   \n",
       "2     Mario  If there are power ups in the movie, how do yo...  425   \n",
       "3     Mario  I'm still thinking about the Mario Movie so I ...  696   \n",
       "4     Mario  I understand the disappointment of Charles Mar...  381   \n",
       "\n",
       "                                      post_paragraph  number_of_comments  \\\n",
       "0  Want to discuss about the movie trailer? You'r...                 894   \n",
       "1  First up, apologies for these out of date rule...                   7   \n",
       "2                                                NaN                  59   \n",
       "3                                                NaN                  29   \n",
       "4                                                NaN                  94   \n",
       "\n",
       "   score author_flair_css_class  target  string_count  word_count  \n",
       "0    374                    NaN       1            36           5  \n",
       "1    113                    NaN       1            74          12  \n",
       "2    425                    NaN       1           185          38  \n",
       "3    696                    NaN       1            97          20  \n",
       "4    381                    NaN       1           163          27  "
      ]
     },
     "execution_count": 7,
     "metadata": {},
     "output_type": "execute_result"
    }
   ],
   "source": [
    "# Creating a new column to count the len of string\n",
    "df['string_count'] = df['title'].apply(len)\n",
    "\n",
    "# Creating a new column to count the number of words\n",
    "df['word_count'] = df['title'].map(lambda row: len(row.split()))\n",
    "\n",
    "df.head()"
   ]
  },
  {
   "cell_type": "code",
   "execution_count": 8,
   "id": "aa11251d",
   "metadata": {},
   "outputs": [
    {
     "data": {
      "image/png": "[encoded data removed]",
      "text/plain": [
       "<Figure size 432x288 with 1 Axes>"
      ]
     },
     "metadata": {
      "needs_background": "light"
     },
     "output_type": "display_data"
    }
   ],
   "source": [
    "sns.histplot(df, x= \"string_count\", hue = \"subreddit\", kde = True);"
   ]
  },
  {
   "cell_type": "code",
   "execution_count": 9,
   "id": "0ab91f7d",
   "metadata": {},
   "outputs": [
    {
     "data": {
      "image/png": "[encoded data removed]",
      "text/plain": [
       "<Figure size 432x288 with 1 Axes>"
      ]
     },
     "metadata": {
      "needs_background": "light"
     },
     "output_type": "display_data"
    }
   ],
   "source": [
    "sns.histplot(df, x= \"word_count\", hue = \"subreddit\", kde = True);"
   ]
  },
  {
   "cell_type": "code",
   "execution_count": 10,
   "id": "d8fa0e9a",
   "metadata": {},
   "outputs": [
    {
     "data": {
      "text/html": [
       "<div>\n",
       "<style scoped>\n",
       "    .dataframe tbody tr th:only-of-type {\n",
       "        vertical-align: middle;\n",
       "    }\n",
       "\n",
       "    .dataframe tbody tr th {\n",
       "        vertical-align: top;\n",
       "    }\n",
       "\n",
       "    .dataframe thead th {\n",
       "        text-align: right;\n",
       "    }\n",
       "</style>\n",
       "<table border=\"1\" class=\"dataframe\">\n",
       "  <thead>\n",
       "    <tr style=\"text-align: right;\">\n",
       "      <th></th>\n",
       "      <th>ups</th>\n",
       "      <th>number_of_comments</th>\n",
       "      <th>score</th>\n",
       "      <th>target</th>\n",
       "      <th>string_count</th>\n",
       "      <th>word_count</th>\n",
       "    </tr>\n",
       "    <tr>\n",
       "      <th>subreddit</th>\n",
       "      <th></th>\n",
       "      <th></th>\n",
       "      <th></th>\n",
       "      <th></th>\n",
       "      <th></th>\n",
       "      <th></th>\n",
       "    </tr>\n",
       "  </thead>\n",
       "  <tbody>\n",
       "    <tr>\n",
       "      <th>Mario</th>\n",
       "      <td>116.519043</td>\n",
       "      <td>15.852081</td>\n",
       "      <td>116.519043</td>\n",
       "      <td>1.0</td>\n",
       "      <td>53.161205</td>\n",
       "      <td>9.830381</td>\n",
       "    </tr>\n",
       "    <tr>\n",
       "      <th>zelda</th>\n",
       "      <td>587.442496</td>\n",
       "      <td>27.479201</td>\n",
       "      <td>587.442496</td>\n",
       "      <td>0.0</td>\n",
       "      <td>66.612969</td>\n",
       "      <td>12.068108</td>\n",
       "    </tr>\n",
       "  </tbody>\n",
       "</table>\n",
       "</div>"
      ],
      "text/plain": [
       "                  ups  number_of_comments       score  target  string_count  \\\n",
       "subreddit                                                                     \n",
       "Mario      116.519043           15.852081  116.519043     1.0     53.161205   \n",
       "zelda      587.442496           27.479201  587.442496     0.0     66.612969   \n",
       "\n",
       "           word_count  \n",
       "subreddit              \n",
       "Mario        9.830381  \n",
       "zelda       12.068108  "
      ]
     },
     "execution_count": 10,
     "metadata": {},
     "output_type": "execute_result"
    }
   ],
   "source": [
    "# Overview of Numerical Columns\n",
    "df.groupby(\"subreddit\").mean()"
   ]
  },
  {
   "cell_type": "markdown",
   "id": "33ea8bca",
   "metadata": {},
   "source": [
    "There is a clear difference of score between the reddits. Mario has less active communities on Reddit with 113k members to Zelda of 2.1m members."
   ]
  },
  {
   "cell_type": "markdown",
   "id": "23310750",
   "metadata": {},
   "source": [
    "### Sentiment Analysis for each reddit"
   ]
  },
  {
   "cell_type": "code",
   "execution_count": 11,
   "id": "b62e1d57",
   "metadata": {},
   "outputs": [],
   "source": [
    "sent = SentimentIntensityAnalyzer()"
   ]
  },
  {
   "cell_type": "code",
   "execution_count": 12,
   "id": "eed04b89",
   "metadata": {},
   "outputs": [],
   "source": [
    "df['sentiment'] = df['title'].apply(sent.polarity_scores)\n",
    "df[\"compound_score\"] = [df['sentiment'][i].get('compound') for i in  range(len(df))]"
   ]
  },
  {
   "cell_type": "code",
   "execution_count": 13,
   "id": "e11a3759",
   "metadata": {},
   "outputs": [
    {
     "data": {
      "text/html": [
       "<div>\n",
       "<style scoped>\n",
       "    .dataframe tbody tr th:only-of-type {\n",
       "        vertical-align: middle;\n",
       "    }\n",
       "\n",
       "    .dataframe tbody tr th {\n",
       "        vertical-align: top;\n",
       "    }\n",
       "\n",
       "    .dataframe thead th {\n",
       "        text-align: right;\n",
       "    }\n",
       "</style>\n",
       "<table border=\"1\" class=\"dataframe\">\n",
       "  <thead>\n",
       "    <tr style=\"text-align: right;\">\n",
       "      <th></th>\n",
       "      <th>subreddit</th>\n",
       "      <th>title</th>\n",
       "      <th>ups</th>\n",
       "      <th>post_paragraph</th>\n",
       "      <th>number_of_comments</th>\n",
       "      <th>score</th>\n",
       "      <th>author_flair_css_class</th>\n",
       "      <th>target</th>\n",
       "      <th>string_count</th>\n",
       "      <th>word_count</th>\n",
       "      <th>sentiment</th>\n",
       "      <th>compound_score</th>\n",
       "    </tr>\n",
       "  </thead>\n",
       "  <tbody>\n",
       "    <tr>\n",
       "      <th>0</th>\n",
       "      <td>Mario</td>\n",
       "      <td>Super Mario Movie Trailer MEGATHREAD</td>\n",
       "      <td>374</td>\n",
       "      <td>Want to discuss about the movie trailer? You'r...</td>\n",
       "      <td>894</td>\n",
       "      <td>374</td>\n",
       "      <td>NaN</td>\n",
       "      <td>1</td>\n",
       "      <td>36</td>\n",
       "      <td>5</td>\n",
       "      <td>{'neg': 0.0, 'neu': 0.506, 'pos': 0.494, 'comp...</td>\n",
       "      <td>0.5994</td>\n",
       "    </tr>\n",
       "    <tr>\n",
       "      <th>1</th>\n",
       "      <td>Mario</td>\n",
       "      <td>Karma farming posts get removed, egregious rep...</td>\n",
       "      <td>113</td>\n",
       "      <td>First up, apologies for these out of date rule...</td>\n",
       "      <td>7</td>\n",
       "      <td>113</td>\n",
       "      <td>NaN</td>\n",
       "      <td>1</td>\n",
       "      <td>74</td>\n",
       "      <td>12</td>\n",
       "      <td>{'neg': 0.232, 'neu': 0.645, 'pos': 0.123, 'co...</td>\n",
       "      <td>-0.4019</td>\n",
       "    </tr>\n",
       "    <tr>\n",
       "      <th>2</th>\n",
       "      <td>Mario</td>\n",
       "      <td>If there are power ups in the movie, how do yo...</td>\n",
       "      <td>425</td>\n",
       "      <td>NaN</td>\n",
       "      <td>59</td>\n",
       "      <td>425</td>\n",
       "      <td>NaN</td>\n",
       "      <td>1</td>\n",
       "      <td>185</td>\n",
       "      <td>38</td>\n",
       "      <td>{'neg': 0.055, 'neu': 0.781, 'pos': 0.164, 'co...</td>\n",
       "      <td>0.6966</td>\n",
       "    </tr>\n",
       "    <tr>\n",
       "      <th>3</th>\n",
       "      <td>Mario</td>\n",
       "      <td>I'm still thinking about the Mario Movie so I ...</td>\n",
       "      <td>696</td>\n",
       "      <td>NaN</td>\n",
       "      <td>29</td>\n",
       "      <td>696</td>\n",
       "      <td>NaN</td>\n",
       "      <td>1</td>\n",
       "      <td>97</td>\n",
       "      <td>20</td>\n",
       "      <td>{'neg': 0.0, 'neu': 0.859, 'pos': 0.141, 'comp...</td>\n",
       "      <td>0.4497</td>\n",
       "    </tr>\n",
       "    <tr>\n",
       "      <th>4</th>\n",
       "      <td>Mario</td>\n",
       "      <td>I understand the disappointment of Charles Mar...</td>\n",
       "      <td>381</td>\n",
       "      <td>NaN</td>\n",
       "      <td>94</td>\n",
       "      <td>381</td>\n",
       "      <td>NaN</td>\n",
       "      <td>1</td>\n",
       "      <td>163</td>\n",
       "      <td>27</td>\n",
       "      <td>{'neg': 0.082, 'neu': 0.918, 'pos': 0.0, 'comp...</td>\n",
       "      <td>-0.2846</td>\n",
       "    </tr>\n",
       "  </tbody>\n",
       "</table>\n",
       "</div>"
      ],
      "text/plain": [
       "  subreddit                                              title  ups  \\\n",
       "0     Mario               Super Mario Movie Trailer MEGATHREAD  374   \n",
       "1     Mario  Karma farming posts get removed, egregious rep...  113   \n",
       "2     Mario  If there are power ups in the movie, how do yo...  425   \n",
       "3     Mario  I'm still thinking about the Mario Movie so I ...  696   \n",
       "4     Mario  I understand the disappointment of Charles Mar...  381   \n",
       "\n",
       "                                      post_paragraph  number_of_comments  \\\n",
       "0  Want to discuss about the movie trailer? You'r...                 894   \n",
       "1  First up, apologies for these out of date rule...                   7   \n",
       "2                                                NaN                  59   \n",
       "3                                                NaN                  29   \n",
       "4                                                NaN                  94   \n",
       "\n",
       "   score author_flair_css_class  target  string_count  word_count  \\\n",
       "0    374                    NaN       1            36           5   \n",
       "1    113                    NaN       1            74          12   \n",
       "2    425                    NaN       1           185          38   \n",
       "3    696                    NaN       1            97          20   \n",
       "4    381                    NaN       1           163          27   \n",
       "\n",
       "                                           sentiment  compound_score  \n",
       "0  {'neg': 0.0, 'neu': 0.506, 'pos': 0.494, 'comp...          0.5994  \n",
       "1  {'neg': 0.232, 'neu': 0.645, 'pos': 0.123, 'co...         -0.4019  \n",
       "2  {'neg': 0.055, 'neu': 0.781, 'pos': 0.164, 'co...          0.6966  \n",
       "3  {'neg': 0.0, 'neu': 0.859, 'pos': 0.141, 'comp...          0.4497  \n",
       "4  {'neg': 0.082, 'neu': 0.918, 'pos': 0.0, 'comp...         -0.2846  "
      ]
     },
     "execution_count": 13,
     "metadata": {},
     "output_type": "execute_result"
    }
   ],
   "source": [
    "df.head()"
   ]
  },
  {
   "cell_type": "code",
   "execution_count": 14,
   "id": "7b1076e9",
   "metadata": {},
   "outputs": [
    {
     "data": {
      "text/html": [
       "<div>\n",
       "<style scoped>\n",
       "    .dataframe tbody tr th:only-of-type {\n",
       "        vertical-align: middle;\n",
       "    }\n",
       "\n",
       "    .dataframe tbody tr th {\n",
       "        vertical-align: top;\n",
       "    }\n",
       "\n",
       "    .dataframe thead th {\n",
       "        text-align: right;\n",
       "    }\n",
       "</style>\n",
       "<table border=\"1\" class=\"dataframe\">\n",
       "  <thead>\n",
       "    <tr style=\"text-align: right;\">\n",
       "      <th></th>\n",
       "      <th>count</th>\n",
       "      <th>mean</th>\n",
       "      <th>std</th>\n",
       "      <th>min</th>\n",
       "      <th>25%</th>\n",
       "      <th>50%</th>\n",
       "      <th>75%</th>\n",
       "      <th>max</th>\n",
       "    </tr>\n",
       "    <tr>\n",
       "      <th>subreddit</th>\n",
       "      <th></th>\n",
       "      <th></th>\n",
       "      <th></th>\n",
       "      <th></th>\n",
       "      <th></th>\n",
       "      <th></th>\n",
       "      <th></th>\n",
       "      <th></th>\n",
       "    </tr>\n",
       "  </thead>\n",
       "  <tbody>\n",
       "    <tr>\n",
       "      <th>Mario</th>\n",
       "      <td>2258.0</td>\n",
       "      <td>0.126869</td>\n",
       "      <td>0.342833</td>\n",
       "      <td>-0.8807</td>\n",
       "      <td>0.0</td>\n",
       "      <td>0.0</td>\n",
       "      <td>0.4019</td>\n",
       "      <td>0.9441</td>\n",
       "    </tr>\n",
       "    <tr>\n",
       "      <th>zelda</th>\n",
       "      <td>2452.0</td>\n",
       "      <td>0.119489</td>\n",
       "      <td>0.333260</td>\n",
       "      <td>-0.9366</td>\n",
       "      <td>0.0</td>\n",
       "      <td>0.0</td>\n",
       "      <td>0.3612</td>\n",
       "      <td>0.9328</td>\n",
       "    </tr>\n",
       "  </tbody>\n",
       "</table>\n",
       "</div>"
      ],
      "text/plain": [
       "            count      mean       std     min  25%  50%     75%     max\n",
       "subreddit                                                              \n",
       "Mario      2258.0  0.126869  0.342833 -0.8807  0.0  0.0  0.4019  0.9441\n",
       "zelda      2452.0  0.119489  0.333260 -0.9366  0.0  0.0  0.3612  0.9328"
      ]
     },
     "execution_count": 14,
     "metadata": {},
     "output_type": "execute_result"
    }
   ],
   "source": [
    "df.groupby(\"subreddit\")[\"compound_score\"].describe()"
   ]
  },
  {
   "cell_type": "code",
   "execution_count": 15,
   "id": "28ed6f19",
   "metadata": {},
   "outputs": [
    {
     "data": {
      "image/png": "[encoded data removed]",
      "text/plain": [
       "<Figure size 432x288 with 1 Axes>"
      ]
     },
     "metadata": {
      "needs_background": "light"
     },
     "output_type": "display_data"
    }
   ],
   "source": [
    "sns.kdeplot(data = df, x= \"compound_score\", hue = \"subreddit\");"
   ]
  },
  {
   "cell_type": "markdown",
   "id": "12808475",
   "metadata": {},
   "source": [
    "Most of the post are neutral for both reddit threads. Mario have a slightly higher average sentiment score compared to zelda."
   ]
  },
  {
   "cell_type": "markdown",
   "id": "27d4bde8",
   "metadata": {},
   "source": [
    "### For Simplicity of the model: We would focus only on the title column of the dataframe. "
   ]
  },
  {
   "cell_type": "code",
   "execution_count": 16,
   "id": "d6c2b840",
   "metadata": {},
   "outputs": [],
   "source": [
    "df = df[[\"subreddit\",\"target\",\"title\"]]"
   ]
  },
  {
   "cell_type": "code",
   "execution_count": 17,
   "id": "baef59c9",
   "metadata": {},
   "outputs": [
    {
     "data": {
      "text/html": [
       "<div>\n",
       "<style scoped>\n",
       "    .dataframe tbody tr th:only-of-type {\n",
       "        vertical-align: middle;\n",
       "    }\n",
       "\n",
       "    .dataframe tbody tr th {\n",
       "        vertical-align: top;\n",
       "    }\n",
       "\n",
       "    .dataframe thead th {\n",
       "        text-align: right;\n",
       "    }\n",
       "</style>\n",
       "<table border=\"1\" class=\"dataframe\">\n",
       "  <thead>\n",
       "    <tr style=\"text-align: right;\">\n",
       "      <th></th>\n",
       "      <th>subreddit</th>\n",
       "      <th>target</th>\n",
       "      <th>title</th>\n",
       "    </tr>\n",
       "  </thead>\n",
       "  <tbody>\n",
       "    <tr>\n",
       "      <th>359</th>\n",
       "      <td>Mario</td>\n",
       "      <td>1</td>\n",
       "      <td>I just know Bowser will be amazing in this movie.</td>\n",
       "    </tr>\n",
       "    <tr>\n",
       "      <th>4501</th>\n",
       "      <td>zelda</td>\n",
       "      <td>0</td>\n",
       "      <td>[OC] [TP] Annual redrawing of the Midna</td>\n",
       "    </tr>\n",
       "    <tr>\n",
       "      <th>4559</th>\n",
       "      <td>zelda</td>\n",
       "      <td>0</td>\n",
       "      <td>[BotW] How exactly do you guys take good photo...</td>\n",
       "    </tr>\n",
       "    <tr>\n",
       "      <th>2047</th>\n",
       "      <td>Mario</td>\n",
       "      <td>1</td>\n",
       "      <td>[OC] [Art] King Bowser</td>\n",
       "    </tr>\n",
       "    <tr>\n",
       "      <th>4222</th>\n",
       "      <td>zelda</td>\n",
       "      <td>0</td>\n",
       "      <td>[BotW] Koroks that I made for a friend after t...</td>\n",
       "    </tr>\n",
       "  </tbody>\n",
       "</table>\n",
       "</div>"
      ],
      "text/plain": [
       "     subreddit  target                                              title\n",
       "359      Mario       1  I just know Bowser will be amazing in this movie.\n",
       "4501     zelda       0            [OC] [TP] Annual redrawing of the Midna\n",
       "4559     zelda       0  [BotW] How exactly do you guys take good photo...\n",
       "2047     Mario       1                             [OC] [Art] King Bowser\n",
       "4222     zelda       0  [BotW] Koroks that I made for a friend after t..."
      ]
     },
     "execution_count": 17,
     "metadata": {},
     "output_type": "execute_result"
    }
   ],
   "source": [
    "df.sample(5)"
   ]
  },
  {
   "cell_type": "markdown",
   "id": "4cb59dbb",
   "metadata": {},
   "source": [
    "### WordCloud Visualisation of Common Word in Mario and Zelda"
   ]
  },
  {
   "cell_type": "code",
   "execution_count": 18,
   "id": "ec197061",
   "metadata": {},
   "outputs": [
    {
     "data": {
      "image/png": "[encoded data removed]",
      "text/plain": [
       "<Figure size 432x288 with 1 Axes>"
      ]
     },
     "metadata": {
      "needs_background": "light"
     },
     "output_type": "display_data"
    }
   ],
   "source": [
    "# Create a list of word\n",
    "text= mario['title']\n",
    "\n",
    "# Create the wordcloud object\n",
    "wordcloud = WordCloud(width=480, height=480, margin=0, \n",
    "                      background_color='white').generate(str(text))\n",
    "\n",
    "# Display the generated image:\n",
    "plt.imshow(wordcloud,interpolation='bilinear')\n",
    "plt.axis(\"off\")\n",
    "plt.margins(x=0, y=0)\n",
    "plt.show()"
   ]
  },
  {
   "cell_type": "markdown",
   "id": "dabadc74",
   "metadata": {},
   "source": [
    "There is significant interested on the upcoming \"Mario Movie\". This is out of the scope for this analysis. Hence, we would remove word relating to the movie."
   ]
  },
  {
   "cell_type": "markdown",
   "id": "3fe76935",
   "metadata": {},
   "source": [
    "### Most Common Words for Mario Subreddit"
   ]
  },
  {
   "cell_type": "code",
   "execution_count": 19,
   "id": "0e930863",
   "metadata": {},
   "outputs": [
    {
     "data": {
      "text/html": [
       "<style>#sk-container-id-1 {color: black;background-color: white;}#sk-container-id-1 pre{padding: 0;}#sk-container-id-1 div.sk-toggleable {background-color: white;}#sk-container-id-1 label.sk-toggleable__label {cursor: pointer;display: block;width: 100%;margin-bottom: 0;padding: 0.3em;box-sizing: border-box;text-align: center;}#sk-container-id-1 label.sk-toggleable__label-arrow:before {content: \"▸\";float: left;margin-right: 0.25em;color: #696969;}#sk-container-id-1 label.sk-toggleable__label-arrow:hover:before {color: black;}#sk-container-id-1 div.sk-estimator:hover label.sk-toggleable__label-arrow:before {color: black;}#sk-container-id-1 div.sk-toggleable__content {max-height: 0;max-width: 0;overflow: hidden;text-align: left;background-color: #f0f8ff;}#sk-container-id-1 div.sk-toggleable__content pre {margin: 0.2em;color: black;border-radius: 0.25em;background-color: #f0f8ff;}#sk-container-id-1 input.sk-toggleable__control:checked~div.sk-toggleable__content {max-height: 200px;max-width: 100%;overflow: auto;}#sk-container-id-1 input.sk-toggleable__control:checked~label.sk-toggleable__label-arrow:before {content: \"▾\";}#sk-container-id-1 div.sk-estimator input.sk-toggleable__control:checked~label.sk-toggleable__label {background-color: #d4ebff;}#sk-container-id-1 div.sk-label input.sk-toggleable__control:checked~label.sk-toggleable__label {background-color: #d4ebff;}#sk-container-id-1 input.sk-hidden--visually {border: 0;clip: rect(1px 1px 1px 1px);clip: rect(1px, 1px, 1px, 1px);height: 1px;margin: -1px;overflow: hidden;padding: 0;position: absolute;width: 1px;}#sk-container-id-1 div.sk-estimator {font-family: monospace;background-color: #f0f8ff;border: 1px dotted black;border-radius: 0.25em;box-sizing: border-box;margin-bottom: 0.5em;}#sk-container-id-1 div.sk-estimator:hover {background-color: #d4ebff;}#sk-container-id-1 div.sk-parallel-item::after {content: \"\";width: 100%;border-bottom: 1px solid gray;flex-grow: 1;}#sk-container-id-1 div.sk-label:hover label.sk-toggleable__label {background-color: #d4ebff;}#sk-container-id-1 div.sk-serial::before {content: \"\";position: absolute;border-left: 1px solid gray;box-sizing: border-box;top: 0;bottom: 0;left: 50%;z-index: 0;}#sk-container-id-1 div.sk-serial {display: flex;flex-direction: column;align-items: center;background-color: white;padding-right: 0.2em;padding-left: 0.2em;position: relative;}#sk-container-id-1 div.sk-item {position: relative;z-index: 1;}#sk-container-id-1 div.sk-parallel {display: flex;align-items: stretch;justify-content: center;background-color: white;position: relative;}#sk-container-id-1 div.sk-item::before, #sk-container-id-1 div.sk-parallel-item::before {content: \"\";position: absolute;border-left: 1px solid gray;box-sizing: border-box;top: 0;bottom: 0;left: 50%;z-index: -1;}#sk-container-id-1 div.sk-parallel-item {display: flex;flex-direction: column;z-index: 1;position: relative;background-color: white;}#sk-container-id-1 div.sk-parallel-item:first-child::after {align-self: flex-end;width: 50%;}#sk-container-id-1 div.sk-parallel-item:last-child::after {align-self: flex-start;width: 50%;}#sk-container-id-1 div.sk-parallel-item:only-child::after {width: 0;}#sk-container-id-1 div.sk-dashed-wrapped {border: 1px dashed gray;margin: 0 0.4em 0.5em 0.4em;box-sizing: border-box;padding-bottom: 0.4em;background-color: white;}#sk-container-id-1 div.sk-label label {font-family: monospace;font-weight: bold;display: inline-block;line-height: 1.2em;}#sk-container-id-1 div.sk-label-container {text-align: center;}#sk-container-id-1 div.sk-container {/* jupyter's `normalize.less` sets `[hidden] { display: none; }` but bootstrap.min.css set `[hidden] { display: none !important; }` so we also need the `!important` here to be able to override the default hidden behavior on the sphinx rendered scikit-learn.org. See: https://github.com/scikit-learn/scikit-learn/issues/21755 */display: inline-block !important;position: relative;}#sk-container-id-1 div.sk-text-repr-fallback {display: none;}</style><div id=\"sk-container-id-1\" class=\"sk-top-container\"><div class=\"sk-text-repr-fallback\"><pre>CountVectorizer(stop_words=&#x27;english&#x27;)</pre><b>In a Jupyter environment, please rerun this cell to show the HTML representation or trust the notebook. <br />On GitHub, the HTML representation is unable to render, please try loading this page with nbviewer.org.</b></div><div class=\"sk-container\" hidden><div class=\"sk-item\"><div class=\"sk-estimator sk-toggleable\"><input class=\"sk-toggleable__control sk-hidden--visually\" id=\"sk-estimator-id-1\" type=\"checkbox\" checked><label for=\"sk-estimator-id-1\" class=\"sk-toggleable__label sk-toggleable__label-arrow\">CountVectorizer</label><div class=\"sk-toggleable__content\"><pre>CountVectorizer(stop_words=&#x27;english&#x27;)</pre></div></div></div></div></div>"
      ],
      "text/plain": [
       "CountVectorizer(stop_words='english')"
      ]
     },
     "execution_count": 19,
     "metadata": {},
     "output_type": "execute_result"
    }
   ],
   "source": [
    "cvec = CountVectorizer(stop_words=\"english\")\n",
    "cvec.fit(mario['title'])"
   ]
  },
  {
   "cell_type": "code",
   "execution_count": 20,
   "id": "e678f190",
   "metadata": {},
   "outputs": [],
   "source": [
    "# Transforming using our fitted cvec and converting the result to a DataFrame\n",
    "mario_words = pd.DataFrame(cvec.transform(mario['title']).todense(),\n",
    "                       columns=cvec.get_feature_names_out())"
   ]
  },
  {
   "cell_type": "code",
   "execution_count": 21,
   "id": "25b5fd99",
   "metadata": {
    "scrolled": true
   },
   "outputs": [
    {
     "data": {
      "text/plain": [
       "mario       989\n",
       "movie       575\n",
       "trailer     210\n",
       "super       189\n",
       "like        135\n",
       "           ... \n",
       "love         18\n",
       "wait         18\n",
       "actually     18\n",
       "daisy        18\n",
       "ll           18\n",
       "Length: 100, dtype: int64"
      ]
     },
     "execution_count": 21,
     "metadata": {},
     "output_type": "execute_result"
    }
   ],
   "source": [
    "# Finding the top 100 words that frequently appeared in mario subreddits\n",
    "mario_top = mario_words.sum(axis = 0).sort_values(ascending = False).head(100)\n",
    "mario_top"
   ]
  },
  {
   "cell_type": "code",
   "execution_count": 22,
   "id": "d05a38cb",
   "metadata": {
    "scrolled": true
   },
   "outputs": [
    {
     "data": {
      "text/plain": [
       "Index(['mario', 'movie', 'trailer', 'super', 'like', 'bowser', 'pratt',\n",
       "       'voice', 'chris', 'bros', 'just', 'new', 'think', 'good', 'look',\n",
       "       'poster', 'toad', 'did', 'know', 'guys', 'sonic', 'don', 'peach',\n",
       "       'looks', 'luigi', 'meme', 'nintendo', 've', 'game', 'people', 'time',\n",
       "       'really', 'amp', 'day', 'black', 'does', 'gonna', 'jack', 'world', '64',\n",
       "       'art', 'penguins', 'make', 'scene', 'character', 'thought', 'design',\n",
       "       'yield', 'stop', 'characters', 'sounds', 'real', 'favorite', 'games',\n",
       "       'oc', 'fan', 'bad', 'fans', 'way', 'looking', 'pretty', 'right',\n",
       "       'great', 'better', 'saw', 'brooklyn', 'thoughts', 'original', 'hard',\n",
       "       'illumination', 'theory', 'princess', 'best', 'want', 'kart', 'bingo',\n",
       "       'got', 'film', 'days', 'yoshi', 'official', 'getting', 'let', 'hope',\n",
       "       'thing', 'villain', 'mushroom', 'charles', 'vs', 'power', 'fanart',\n",
       "       'martinet', 'need', 'drawing', 'say', 'love', 'wait', 'actually',\n",
       "       'daisy', 'll'],\n",
       "      dtype='object')"
      ]
     },
     "execution_count": 22,
     "metadata": {},
     "output_type": "execute_result"
    }
   ],
   "source": [
    "# Name of Top 100 most frequent Features/Columns\n",
    "mario_pd = pd.DataFrame(data=mario_top)\n",
    "mario_pd.index"
   ]
  },
  {
   "cell_type": "code",
   "execution_count": 23,
   "id": "d6e75033",
   "metadata": {
    "scrolled": true
   },
   "outputs": [
    {
     "data": {
      "text/html": [
       "<div>\n",
       "<style scoped>\n",
       "    .dataframe tbody tr th:only-of-type {\n",
       "        vertical-align: middle;\n",
       "    }\n",
       "\n",
       "    .dataframe tbody tr th {\n",
       "        vertical-align: top;\n",
       "    }\n",
       "\n",
       "    .dataframe thead th {\n",
       "        text-align: right;\n",
       "    }\n",
       "</style>\n",
       "<table border=\"1\" class=\"dataframe\">\n",
       "  <thead>\n",
       "    <tr style=\"text-align: right;\">\n",
       "      <th></th>\n",
       "      <th>mario</th>\n",
       "      <th>movie</th>\n",
       "      <th>trailer</th>\n",
       "      <th>super</th>\n",
       "      <th>like</th>\n",
       "      <th>bowser</th>\n",
       "      <th>pratt</th>\n",
       "      <th>voice</th>\n",
       "      <th>chris</th>\n",
       "      <th>bros</th>\n",
       "      <th>...</th>\n",
       "      <th>fanart</th>\n",
       "      <th>martinet</th>\n",
       "      <th>need</th>\n",
       "      <th>drawing</th>\n",
       "      <th>say</th>\n",
       "      <th>love</th>\n",
       "      <th>wait</th>\n",
       "      <th>actually</th>\n",
       "      <th>daisy</th>\n",
       "      <th>ll</th>\n",
       "    </tr>\n",
       "  </thead>\n",
       "  <tbody>\n",
       "    <tr>\n",
       "      <th>0</th>\n",
       "      <td>1</td>\n",
       "      <td>1</td>\n",
       "      <td>1</td>\n",
       "      <td>1</td>\n",
       "      <td>0</td>\n",
       "      <td>0</td>\n",
       "      <td>0</td>\n",
       "      <td>0</td>\n",
       "      <td>0</td>\n",
       "      <td>0</td>\n",
       "      <td>...</td>\n",
       "      <td>0</td>\n",
       "      <td>0</td>\n",
       "      <td>0</td>\n",
       "      <td>0</td>\n",
       "      <td>0</td>\n",
       "      <td>0</td>\n",
       "      <td>0</td>\n",
       "      <td>0</td>\n",
       "      <td>0</td>\n",
       "      <td>0</td>\n",
       "    </tr>\n",
       "    <tr>\n",
       "      <th>1</th>\n",
       "      <td>0</td>\n",
       "      <td>0</td>\n",
       "      <td>0</td>\n",
       "      <td>0</td>\n",
       "      <td>0</td>\n",
       "      <td>0</td>\n",
       "      <td>0</td>\n",
       "      <td>0</td>\n",
       "      <td>0</td>\n",
       "      <td>0</td>\n",
       "      <td>...</td>\n",
       "      <td>0</td>\n",
       "      <td>0</td>\n",
       "      <td>0</td>\n",
       "      <td>0</td>\n",
       "      <td>0</td>\n",
       "      <td>0</td>\n",
       "      <td>0</td>\n",
       "      <td>0</td>\n",
       "      <td>0</td>\n",
       "      <td>0</td>\n",
       "    </tr>\n",
       "    <tr>\n",
       "      <th>2</th>\n",
       "      <td>1</td>\n",
       "      <td>1</td>\n",
       "      <td>0</td>\n",
       "      <td>0</td>\n",
       "      <td>0</td>\n",
       "      <td>0</td>\n",
       "      <td>0</td>\n",
       "      <td>0</td>\n",
       "      <td>0</td>\n",
       "      <td>0</td>\n",
       "      <td>...</td>\n",
       "      <td>0</td>\n",
       "      <td>0</td>\n",
       "      <td>0</td>\n",
       "      <td>0</td>\n",
       "      <td>0</td>\n",
       "      <td>0</td>\n",
       "      <td>0</td>\n",
       "      <td>0</td>\n",
       "      <td>0</td>\n",
       "      <td>1</td>\n",
       "    </tr>\n",
       "    <tr>\n",
       "      <th>3</th>\n",
       "      <td>1</td>\n",
       "      <td>1</td>\n",
       "      <td>0</td>\n",
       "      <td>0</td>\n",
       "      <td>0</td>\n",
       "      <td>0</td>\n",
       "      <td>0</td>\n",
       "      <td>0</td>\n",
       "      <td>0</td>\n",
       "      <td>0</td>\n",
       "      <td>...</td>\n",
       "      <td>0</td>\n",
       "      <td>0</td>\n",
       "      <td>0</td>\n",
       "      <td>0</td>\n",
       "      <td>0</td>\n",
       "      <td>0</td>\n",
       "      <td>0</td>\n",
       "      <td>0</td>\n",
       "      <td>0</td>\n",
       "      <td>0</td>\n",
       "    </tr>\n",
       "    <tr>\n",
       "      <th>4</th>\n",
       "      <td>1</td>\n",
       "      <td>0</td>\n",
       "      <td>0</td>\n",
       "      <td>0</td>\n",
       "      <td>0</td>\n",
       "      <td>0</td>\n",
       "      <td>1</td>\n",
       "      <td>0</td>\n",
       "      <td>1</td>\n",
       "      <td>0</td>\n",
       "      <td>...</td>\n",
       "      <td>0</td>\n",
       "      <td>1</td>\n",
       "      <td>1</td>\n",
       "      <td>0</td>\n",
       "      <td>0</td>\n",
       "      <td>0</td>\n",
       "      <td>0</td>\n",
       "      <td>0</td>\n",
       "      <td>0</td>\n",
       "      <td>0</td>\n",
       "    </tr>\n",
       "  </tbody>\n",
       "</table>\n",
       "<p>5 rows × 100 columns</p>\n",
       "</div>"
      ],
      "text/plain": [
       "   mario  movie  trailer  super  like  bowser  pratt  voice  chris  bros  ...  \\\n",
       "0      1      1        1      1     0       0      0      0      0     0  ...   \n",
       "1      0      0        0      0     0       0      0      0      0     0  ...   \n",
       "2      1      1        0      0     0       0      0      0      0     0  ...   \n",
       "3      1      1        0      0     0       0      0      0      0     0  ...   \n",
       "4      1      0        0      0     0       0      1      0      1     0  ...   \n",
       "\n",
       "   fanart  martinet  need  drawing  say  love  wait  actually  daisy  ll  \n",
       "0       0         0     0        0    0     0     0         0      0   0  \n",
       "1       0         0     0        0    0     0     0         0      0   0  \n",
       "2       0         0     0        0    0     0     0         0      0   1  \n",
       "3       0         0     0        0    0     0     0         0      0   0  \n",
       "4       0         1     1        0    0     0     0         0      0   0  \n",
       "\n",
       "[5 rows x 100 columns]"
      ]
     },
     "execution_count": 23,
     "metadata": {},
     "output_type": "execute_result"
    }
   ],
   "source": [
    "mario_top = mario_words[mario_pd.index]\n",
    "mario_top.head()"
   ]
  },
  {
   "cell_type": "code",
   "execution_count": 24,
   "id": "a29e4079",
   "metadata": {},
   "outputs": [
    {
     "name": "stdout",
     "output_type": "stream",
     "text": [
      "Most common words in Mario Subreddits\n"
     ]
    },
    {
     "data": {
      "text/plain": [
       "mario      989\n",
       "movie      575\n",
       "trailer    210\n",
       "super      189\n",
       "like       135\n",
       "bowser     122\n",
       "pratt      115\n",
       "voice      110\n",
       "chris      110\n",
       "bros       106\n",
       "just        97\n",
       "new         93\n",
       "think       77\n",
       "good        70\n",
       "look        66\n",
       "poster      66\n",
       "toad        62\n",
       "did         60\n",
       "know        59\n",
       "guys        58\n",
       "dtype: int64"
      ]
     },
     "execution_count": 24,
     "metadata": {},
     "output_type": "execute_result"
    }
   ],
   "source": [
    "# Which words appear the most in Mario subreddits?\n",
    "word_counts = mario_words.sum(axis=0)\n",
    "print(\"Most common words in Mario Subreddits\")\n",
    "word_counts.sort_values(ascending = False).head(20)"
   ]
  },
  {
   "cell_type": "code",
   "execution_count": 25,
   "id": "b4ecd27a",
   "metadata": {},
   "outputs": [],
   "source": [
    "mario_top_20 = pd.DataFrame(word_counts.sort_values(ascending = False).head(20), columns=['count'])"
   ]
  },
  {
   "cell_type": "code",
   "execution_count": 26,
   "id": "8aae64e7",
   "metadata": {},
   "outputs": [
    {
     "data": {
      "image/png": "[encoded data removed]",
      "text/plain": [
       "<Figure size 432x288 with 1 Axes>"
      ]
     },
     "metadata": {
      "needs_background": "light"
     },
     "output_type": "display_data"
    }
   ],
   "source": [
    "# Create a list of word\n",
    "text= zelda['title']\n",
    "\n",
    "# Create the wordcloud object\n",
    "wordcloud = WordCloud(width=480, height=480, margin=0, \n",
    "                      background_color='white').generate(str(text))\n",
    "\n",
    "# Display the generated image:\n",
    "plt.imshow(wordcloud,interpolation='bilinear')\n",
    "plt.axis(\"off\")\n",
    "plt.margins(x=0, y=0)\n",
    "plt.show()"
   ]
  },
  {
   "cell_type": "markdown",
   "id": "482c832e",
   "metadata": {},
   "source": [
    "There is significant mention of the characters' name and game title. This could be considered \"cheat words\" as it is irrelevant to find the characteristic of players."
   ]
  },
  {
   "cell_type": "markdown",
   "id": "d40aa723",
   "metadata": {},
   "source": [
    "### Most Common Words for Zelda Subreddit"
   ]
  },
  {
   "cell_type": "code",
   "execution_count": 27,
   "id": "7f125371",
   "metadata": {},
   "outputs": [
    {
     "data": {
      "text/html": [
       "<style>#sk-container-id-2 {color: black;background-color: white;}#sk-container-id-2 pre{padding: 0;}#sk-container-id-2 div.sk-toggleable {background-color: white;}#sk-container-id-2 label.sk-toggleable__label {cursor: pointer;display: block;width: 100%;margin-bottom: 0;padding: 0.3em;box-sizing: border-box;text-align: center;}#sk-container-id-2 label.sk-toggleable__label-arrow:before {content: \"▸\";float: left;margin-right: 0.25em;color: #696969;}#sk-container-id-2 label.sk-toggleable__label-arrow:hover:before {color: black;}#sk-container-id-2 div.sk-estimator:hover label.sk-toggleable__label-arrow:before {color: black;}#sk-container-id-2 div.sk-toggleable__content {max-height: 0;max-width: 0;overflow: hidden;text-align: left;background-color: #f0f8ff;}#sk-container-id-2 div.sk-toggleable__content pre {margin: 0.2em;color: black;border-radius: 0.25em;background-color: #f0f8ff;}#sk-container-id-2 input.sk-toggleable__control:checked~div.sk-toggleable__content {max-height: 200px;max-width: 100%;overflow: auto;}#sk-container-id-2 input.sk-toggleable__control:checked~label.sk-toggleable__label-arrow:before {content: \"▾\";}#sk-container-id-2 div.sk-estimator input.sk-toggleable__control:checked~label.sk-toggleable__label {background-color: #d4ebff;}#sk-container-id-2 div.sk-label input.sk-toggleable__control:checked~label.sk-toggleable__label {background-color: #d4ebff;}#sk-container-id-2 input.sk-hidden--visually {border: 0;clip: rect(1px 1px 1px 1px);clip: rect(1px, 1px, 1px, 1px);height: 1px;margin: -1px;overflow: hidden;padding: 0;position: absolute;width: 1px;}#sk-container-id-2 div.sk-estimator {font-family: monospace;background-color: #f0f8ff;border: 1px dotted black;border-radius: 0.25em;box-sizing: border-box;margin-bottom: 0.5em;}#sk-container-id-2 div.sk-estimator:hover {background-color: #d4ebff;}#sk-container-id-2 div.sk-parallel-item::after {content: \"\";width: 100%;border-bottom: 1px solid gray;flex-grow: 1;}#sk-container-id-2 div.sk-label:hover label.sk-toggleable__label {background-color: #d4ebff;}#sk-container-id-2 div.sk-serial::before {content: \"\";position: absolute;border-left: 1px solid gray;box-sizing: border-box;top: 0;bottom: 0;left: 50%;z-index: 0;}#sk-container-id-2 div.sk-serial {display: flex;flex-direction: column;align-items: center;background-color: white;padding-right: 0.2em;padding-left: 0.2em;position: relative;}#sk-container-id-2 div.sk-item {position: relative;z-index: 1;}#sk-container-id-2 div.sk-parallel {display: flex;align-items: stretch;justify-content: center;background-color: white;position: relative;}#sk-container-id-2 div.sk-item::before, #sk-container-id-2 div.sk-parallel-item::before {content: \"\";position: absolute;border-left: 1px solid gray;box-sizing: border-box;top: 0;bottom: 0;left: 50%;z-index: -1;}#sk-container-id-2 div.sk-parallel-item {display: flex;flex-direction: column;z-index: 1;position: relative;background-color: white;}#sk-container-id-2 div.sk-parallel-item:first-child::after {align-self: flex-end;width: 50%;}#sk-container-id-2 div.sk-parallel-item:last-child::after {align-self: flex-start;width: 50%;}#sk-container-id-2 div.sk-parallel-item:only-child::after {width: 0;}#sk-container-id-2 div.sk-dashed-wrapped {border: 1px dashed gray;margin: 0 0.4em 0.5em 0.4em;box-sizing: border-box;padding-bottom: 0.4em;background-color: white;}#sk-container-id-2 div.sk-label label {font-family: monospace;font-weight: bold;display: inline-block;line-height: 1.2em;}#sk-container-id-2 div.sk-label-container {text-align: center;}#sk-container-id-2 div.sk-container {/* jupyter's `normalize.less` sets `[hidden] { display: none; }` but bootstrap.min.css set `[hidden] { display: none !important; }` so we also need the `!important` here to be able to override the default hidden behavior on the sphinx rendered scikit-learn.org. See: https://github.com/scikit-learn/scikit-learn/issues/21755 */display: inline-block !important;position: relative;}#sk-container-id-2 div.sk-text-repr-fallback {display: none;}</style><div id=\"sk-container-id-2\" class=\"sk-top-container\"><div class=\"sk-text-repr-fallback\"><pre>CountVectorizer(stop_words=&#x27;english&#x27;)</pre><b>In a Jupyter environment, please rerun this cell to show the HTML representation or trust the notebook. <br />On GitHub, the HTML representation is unable to render, please try loading this page with nbviewer.org.</b></div><div class=\"sk-container\" hidden><div class=\"sk-item\"><div class=\"sk-estimator sk-toggleable\"><input class=\"sk-toggleable__control sk-hidden--visually\" id=\"sk-estimator-id-2\" type=\"checkbox\" checked><label for=\"sk-estimator-id-2\" class=\"sk-toggleable__label sk-toggleable__label-arrow\">CountVectorizer</label><div class=\"sk-toggleable__content\"><pre>CountVectorizer(stop_words=&#x27;english&#x27;)</pre></div></div></div></div></div>"
      ],
      "text/plain": [
       "CountVectorizer(stop_words='english')"
      ]
     },
     "execution_count": 27,
     "metadata": {},
     "output_type": "execute_result"
    }
   ],
   "source": [
    "cvec = CountVectorizer(stop_words=\"english\")\n",
    "cvec.fit(zelda['title'])"
   ]
  },
  {
   "cell_type": "code",
   "execution_count": 28,
   "id": "1f04ef36",
   "metadata": {},
   "outputs": [],
   "source": [
    "# Transforming using our fitted cvec and converting the result to a DataFrame\n",
    "zelda_words = pd.DataFrame(cvec.transform(zelda['title']).todense(),\n",
    "                       columns=cvec.get_feature_names_out())"
   ]
  },
  {
   "cell_type": "code",
   "execution_count": 29,
   "id": "6fa44459",
   "metadata": {
    "scrolled": true
   },
   "outputs": [
    {
     "data": {
      "text/plain": [
       "botw         587\n",
       "zelda        503\n",
       "totk         451\n",
       "oc           437\n",
       "link         335\n",
       "            ... \n",
       "cosplay       23\n",
       "edition       23\n",
       "beat          22\n",
       "character     22\n",
       "little        22\n",
       "Length: 100, dtype: int64"
      ]
     },
     "execution_count": 29,
     "metadata": {},
     "output_type": "execute_result"
    }
   ],
   "source": [
    "# Finding the top 100 words that frequently appeared in data science subreddits\n",
    "zelda_top = zelda_words.sum(axis = 0).sort_values(ascending = False).head(100)\n",
    "zelda_top"
   ]
  },
  {
   "cell_type": "code",
   "execution_count": 30,
   "id": "8e8ace0a",
   "metadata": {
    "scrolled": true
   },
   "outputs": [
    {
     "data": {
      "text/plain": [
       "Index(['botw', 'zelda', 'totk', 'oc', 'link', 'oot', 'game', 'tp', 'mm', 'art',\n",
       "       'ss', 'time', 'just', 'tears', 'loz', 'kingdom', 'ww', 'games', 'sword',\n",
       "       'like', 'princess', 'best', 'think', 'got', 'new', 'hyrule', 'twilight',\n",
       "       'mask', 'legend', 'wild', 'linktober', 'trailer', 'did', 'day',\n",
       "       'breath', 'majora', 'nintendo', 'favorite', 've', 'playing', 'series',\n",
       "       'today', 'la', 'ocarina', 'play', 'finished', 'drew', 'years', 'theory',\n",
       "       'skyward', 'switch', 'know', 'finally', 'guys', 'make', 'wind', 'love',\n",
       "       'does', 'way', '3d', 'fanart', 'tried', 'temple', 'version', 'waker',\n",
       "       'master', 'mc', 'discussion', 'ganondorf', 'getting', 'timeline',\n",
       "       'feel', 'spirit', 'want', 'music', 'need', 'good', 'boss', 'cover',\n",
       "       'tattoo', 'worth', 'used', 'title', 'help', 'played', 'great', 'really',\n",
       "       'alttp', 'post', 'figure', 'old', 'custom', 'midna', 'design', 'hope',\n",
       "       'cosplay', 'edition', 'beat', 'character', 'little'],\n",
       "      dtype='object')"
      ]
     },
     "execution_count": 30,
     "metadata": {},
     "output_type": "execute_result"
    }
   ],
   "source": [
    "# Name of Top 100 most frequent Features/Columns\n",
    "zelda_pd = pd.DataFrame(data=zelda_top)\n",
    "zelda_pd.index"
   ]
  },
  {
   "cell_type": "code",
   "execution_count": 31,
   "id": "e0eb1044",
   "metadata": {
    "scrolled": true
   },
   "outputs": [
    {
     "data": {
      "text/html": [
       "<div>\n",
       "<style scoped>\n",
       "    .dataframe tbody tr th:only-of-type {\n",
       "        vertical-align: middle;\n",
       "    }\n",
       "\n",
       "    .dataframe tbody tr th {\n",
       "        vertical-align: top;\n",
       "    }\n",
       "\n",
       "    .dataframe thead th {\n",
       "        text-align: right;\n",
       "    }\n",
       "</style>\n",
       "<table border=\"1\" class=\"dataframe\">\n",
       "  <thead>\n",
       "    <tr style=\"text-align: right;\">\n",
       "      <th></th>\n",
       "      <th>botw</th>\n",
       "      <th>zelda</th>\n",
       "      <th>totk</th>\n",
       "      <th>oc</th>\n",
       "      <th>link</th>\n",
       "      <th>oot</th>\n",
       "      <th>game</th>\n",
       "      <th>tp</th>\n",
       "      <th>mm</th>\n",
       "      <th>art</th>\n",
       "      <th>...</th>\n",
       "      <th>old</th>\n",
       "      <th>custom</th>\n",
       "      <th>midna</th>\n",
       "      <th>design</th>\n",
       "      <th>hope</th>\n",
       "      <th>cosplay</th>\n",
       "      <th>edition</th>\n",
       "      <th>beat</th>\n",
       "      <th>character</th>\n",
       "      <th>little</th>\n",
       "    </tr>\n",
       "  </thead>\n",
       "  <tbody>\n",
       "    <tr>\n",
       "      <th>0</th>\n",
       "      <td>0</td>\n",
       "      <td>0</td>\n",
       "      <td>0</td>\n",
       "      <td>0</td>\n",
       "      <td>0</td>\n",
       "      <td>0</td>\n",
       "      <td>0</td>\n",
       "      <td>0</td>\n",
       "      <td>0</td>\n",
       "      <td>0</td>\n",
       "      <td>...</td>\n",
       "      <td>0</td>\n",
       "      <td>0</td>\n",
       "      <td>0</td>\n",
       "      <td>0</td>\n",
       "      <td>0</td>\n",
       "      <td>0</td>\n",
       "      <td>0</td>\n",
       "      <td>0</td>\n",
       "      <td>0</td>\n",
       "      <td>0</td>\n",
       "    </tr>\n",
       "    <tr>\n",
       "      <th>1</th>\n",
       "      <td>0</td>\n",
       "      <td>1</td>\n",
       "      <td>0</td>\n",
       "      <td>0</td>\n",
       "      <td>0</td>\n",
       "      <td>0</td>\n",
       "      <td>0</td>\n",
       "      <td>0</td>\n",
       "      <td>0</td>\n",
       "      <td>0</td>\n",
       "      <td>...</td>\n",
       "      <td>0</td>\n",
       "      <td>0</td>\n",
       "      <td>0</td>\n",
       "      <td>0</td>\n",
       "      <td>0</td>\n",
       "      <td>0</td>\n",
       "      <td>0</td>\n",
       "      <td>0</td>\n",
       "      <td>0</td>\n",
       "      <td>0</td>\n",
       "    </tr>\n",
       "    <tr>\n",
       "      <th>2</th>\n",
       "      <td>1</td>\n",
       "      <td>0</td>\n",
       "      <td>0</td>\n",
       "      <td>0</td>\n",
       "      <td>0</td>\n",
       "      <td>0</td>\n",
       "      <td>0</td>\n",
       "      <td>0</td>\n",
       "      <td>0</td>\n",
       "      <td>0</td>\n",
       "      <td>...</td>\n",
       "      <td>0</td>\n",
       "      <td>0</td>\n",
       "      <td>0</td>\n",
       "      <td>0</td>\n",
       "      <td>0</td>\n",
       "      <td>0</td>\n",
       "      <td>0</td>\n",
       "      <td>0</td>\n",
       "      <td>0</td>\n",
       "      <td>0</td>\n",
       "    </tr>\n",
       "    <tr>\n",
       "      <th>3</th>\n",
       "      <td>0</td>\n",
       "      <td>0</td>\n",
       "      <td>0</td>\n",
       "      <td>0</td>\n",
       "      <td>0</td>\n",
       "      <td>0</td>\n",
       "      <td>0</td>\n",
       "      <td>0</td>\n",
       "      <td>0</td>\n",
       "      <td>0</td>\n",
       "      <td>...</td>\n",
       "      <td>0</td>\n",
       "      <td>0</td>\n",
       "      <td>0</td>\n",
       "      <td>0</td>\n",
       "      <td>0</td>\n",
       "      <td>0</td>\n",
       "      <td>0</td>\n",
       "      <td>0</td>\n",
       "      <td>0</td>\n",
       "      <td>0</td>\n",
       "    </tr>\n",
       "    <tr>\n",
       "      <th>4</th>\n",
       "      <td>0</td>\n",
       "      <td>0</td>\n",
       "      <td>0</td>\n",
       "      <td>0</td>\n",
       "      <td>1</td>\n",
       "      <td>0</td>\n",
       "      <td>0</td>\n",
       "      <td>0</td>\n",
       "      <td>0</td>\n",
       "      <td>0</td>\n",
       "      <td>...</td>\n",
       "      <td>0</td>\n",
       "      <td>0</td>\n",
       "      <td>0</td>\n",
       "      <td>0</td>\n",
       "      <td>0</td>\n",
       "      <td>0</td>\n",
       "      <td>0</td>\n",
       "      <td>0</td>\n",
       "      <td>0</td>\n",
       "      <td>0</td>\n",
       "    </tr>\n",
       "  </tbody>\n",
       "</table>\n",
       "<p>5 rows × 100 columns</p>\n",
       "</div>"
      ],
      "text/plain": [
       "   botw  zelda  totk  oc  link  oot  game  tp  mm  art  ...  old  custom  \\\n",
       "0     0      0     0   0     0    0     0   0   0    0  ...    0       0   \n",
       "1     0      1     0   0     0    0     0   0   0    0  ...    0       0   \n",
       "2     1      0     0   0     0    0     0   0   0    0  ...    0       0   \n",
       "3     0      0     0   0     0    0     0   0   0    0  ...    0       0   \n",
       "4     0      0     0   0     1    0     0   0   0    0  ...    0       0   \n",
       "\n",
       "   midna  design  hope  cosplay  edition  beat  character  little  \n",
       "0      0       0     0        0        0     0          0       0  \n",
       "1      0       0     0        0        0     0          0       0  \n",
       "2      0       0     0        0        0     0          0       0  \n",
       "3      0       0     0        0        0     0          0       0  \n",
       "4      0       0     0        0        0     0          0       0  \n",
       "\n",
       "[5 rows x 100 columns]"
      ]
     },
     "execution_count": 31,
     "metadata": {},
     "output_type": "execute_result"
    }
   ],
   "source": [
    "zelda_top = zelda_words[zelda_pd.index]\n",
    "zelda_top.head()"
   ]
  },
  {
   "cell_type": "code",
   "execution_count": 32,
   "id": "d7047db5",
   "metadata": {},
   "outputs": [
    {
     "name": "stdout",
     "output_type": "stream",
     "text": [
      "Most common words in Zelda Subreddits\n"
     ]
    },
    {
     "data": {
      "text/plain": [
       "botw       587\n",
       "zelda      503\n",
       "totk       451\n",
       "oc         437\n",
       "link       335\n",
       "oot        280\n",
       "game       206\n",
       "tp         179\n",
       "mm         152\n",
       "art        130\n",
       "ss         128\n",
       "time       124\n",
       "just       109\n",
       "tears      106\n",
       "loz         99\n",
       "kingdom     99\n",
       "ww          89\n",
       "games       88\n",
       "sword       86\n",
       "like        80\n",
       "dtype: int64"
      ]
     },
     "execution_count": 32,
     "metadata": {},
     "output_type": "execute_result"
    }
   ],
   "source": [
    "# Which words appear the most in Zelda subreddits?\n",
    "word_counts = zelda_words.sum(axis=0)\n",
    "print(\"Most common words in Zelda Subreddits\")\n",
    "word_counts.sort_values(ascending = False).head(20)"
   ]
  },
  {
   "cell_type": "code",
   "execution_count": 33,
   "id": "2a49c71f",
   "metadata": {},
   "outputs": [],
   "source": [
    "zelda_top_20 = pd.DataFrame(word_counts.sort_values(ascending = False).head(20), columns=['count'])"
   ]
  },
  {
   "cell_type": "code",
   "execution_count": 34,
   "id": "964abcf1",
   "metadata": {
    "scrolled": true
   },
   "outputs": [
    {
     "data": {
      "image/png": "[encoded data removed]",
      "text/plain": [
       "<Figure size 720x720 with 1 Axes>"
      ]
     },
     "metadata": {},
     "output_type": "display_data"
    }
   ],
   "source": [
    "plt.figure(figsize=(10,10))\n",
    "plt.title('Comparing Unique Words',fontsize=20)\n",
    "\n",
    "set_a = set(mario_top_20.index)\n",
    "set_b = set(zelda_top_20.index)\n",
    "\n",
    "venn = venn2([set_a,set_b],set_labels=['Mario','Zelda'])\n",
    "venn.get_label_by_id('100').set_text('\\n'.join(map(str,set_a-set_b)))\n",
    "venn.get_label_by_id('110').set_text('\\n'.join(map(str,set_a&set_b)))\n",
    "venn.get_label_by_id('010').set_text('\\n'.join(map(str,set_b-set_a)))\n",
    "\n",
    "venn.get_label_by_id('A').set_size(20)\n",
    "venn.get_label_by_id('B').set_size(20)\n",
    "venn.get_label_by_id('100').set_size(13)\n",
    "venn.get_label_by_id('110').set_size(13)\n",
    "venn.get_label_by_id('010').set_size(13)"
   ]
  },
  {
   "cell_type": "markdown",
   "id": "850028ab",
   "metadata": {},
   "source": [
    "## Data Cleaning"
   ]
  },
  {
   "cell_type": "markdown",
   "id": "487fffe6",
   "metadata": {},
   "source": [
    "**Set Tokenizer**"
   ]
  },
  {
   "cell_type": "code",
   "execution_count": 35,
   "id": "135d5f3f",
   "metadata": {},
   "outputs": [],
   "source": [
    "tokenizer = RegexpTokenizer(r'\\w+|\\$[\\d\\.]+|\\S+')"
   ]
  },
  {
   "cell_type": "code",
   "execution_count": 36,
   "id": "fb0654a6",
   "metadata": {},
   "outputs": [],
   "source": [
    "lemmatizer = WordNetLemmatizer()"
   ]
  },
  {
   "cell_type": "markdown",
   "id": "c61aa2c2",
   "metadata": {},
   "source": [
    "**Create function that takes a column containing text and returns the lemmatized version in a new 'cleaned' column**"
   ]
  },
  {
   "cell_type": "code",
   "execution_count": 37,
   "id": "ab89d096",
   "metadata": {},
   "outputs": [],
   "source": [
    "def column_cleaner(column, df=df):   \n",
    "    #for loop through each row in the column:\n",
    "    for i in range(len(df[column])):\n",
    "        \n",
    "        #Tokenize, or separate, each word in column's string into its own string (prep for lemmatization):\n",
    "        col_tok = []\n",
    "        col_tok.extend(tokenizer.tokenize(df[column][i].lower()))\n",
    "        col_token = []\n",
    "        [col_token.append(s) for s in col_tok if s not in col_token]\n",
    "        \n",
    "        #Lemmatize the words (cut the word to its base/root, for improved model results):\n",
    "        col_lem = []\n",
    "        for x in range(len(col_token)):\n",
    "            col_lem.append(lemmatizer.lemmatize(col_token[x]))\n",
    "        \n",
    "        #Remove characters and numbers (for improved model results, hopefully):\n",
    "        letters_only_col = []\n",
    "        for c in range(len(col_lem)):\n",
    "            letters_only_col.append(re.sub(\"[^a-zA-Z]\", \"\", col_lem[c]))\n",
    "        \n",
    "        #Remove stopwords (for improved model results):\n",
    "        col_words = [w for w in letters_only_col if not w in stopwords.words('english')]\n",
    "        \n",
    "        #Remove 'cheat' words (words that are in the subreddit's name and also in the column)\n",
    "        # Remove characters' name and game title\n",
    "                       # Mario cheatwords\n",
    "        cheat_words = ['mario', 'party', 'marioparty', 'smash', 'bros', 'browser',\n",
    "                       'ultimate', 'smashbrosultimate', 'super', 'superstar',\n",
    "                       'luigi', 'peach', 'toad', 'bowser', 'game', 'ss', 'waluigi',\n",
    "                       'daisy', 'yoshi', 'donkey', 'king boo', 'kong','diddy', \n",
    "                       'rosalina', 'toadette','toadsworth', 'captain', 'poochy',\n",
    "                       'birdo', 'pauline', 'kamek', 'kammy', 'koopa', 'jr',\n",
    "                       'wario', 'fawful', 'kart', 'paper', 'kart', 'sonic', 'dr.',\n",
    "                       \n",
    "                       # Zelda cheatwords\n",
    "                       \"zelda\", \"princess\", \"link\",\"botw\", \"totk\", \"oc\", \"oot\",\n",
    "                       'majora', 'mask', 'ocarina', 'time', \"mm\", \"hyrule\", \"tp\",\n",
    "                       'ganon', 'darklink','nightmares','twinrova','vaati',\n",
    "                       'zant', 'demise', 'yuga', 'kohga', 'master', 'twilight',\n",
    "                       'tears', 'kingdom', 'wind', 'waker', 'phantom', 'hourglass',\n",
    "                       'legend', 'awakening', 'adventure', 'skyward', 'sword',\n",
    "                       'tri',  'force', 'heroes', 'ww', 'breath', 'wild',\n",
    "                       \n",
    "                       # Mario Movie\n",
    "                       \"movie\", \"trailer\", \"chris\", \"pratt\", \"voice\", \"poster\",\n",
    "                       \"sequel\", \"remade\", \"charles\", \"martinet\", \"charlie\",\n",
    "                       \"anya\", \"jack\", \"black\", \"actor\", \"live\", \"action\",\n",
    "                       \"netflix\", \"live\", \"action\", \"cast\"] \n",
    "        col_words = [w for w in letters_only_col if not w in cheat_words]\n",
    "        \n",
    "        #Ensure that there are no 'None' objects in title_words:\n",
    "        col_words = list(filter(None, col_words))\n",
    "\n",
    "        #Join the lemmatized words - stopwords back to one long string (prep for\n",
    "        #vectorization, done outside/after this function):\n",
    "        col_words = \" \".join(col_words)\n",
    "\n",
    "        #Fill new column with 'cleaned' string from column:\n",
    "        df.loc[i,(column+'_clean')] = col_words"
   ]
  },
  {
   "cell_type": "code",
   "execution_count": 38,
   "id": "b48d51bc",
   "metadata": {},
   "outputs": [
    {
     "data": {
      "text/html": [
       "<div>\n",
       "<style scoped>\n",
       "    .dataframe tbody tr th:only-of-type {\n",
       "        vertical-align: middle;\n",
       "    }\n",
       "\n",
       "    .dataframe tbody tr th {\n",
       "        vertical-align: top;\n",
       "    }\n",
       "\n",
       "    .dataframe thead th {\n",
       "        text-align: right;\n",
       "    }\n",
       "</style>\n",
       "<table border=\"1\" class=\"dataframe\">\n",
       "  <thead>\n",
       "    <tr style=\"text-align: right;\">\n",
       "      <th></th>\n",
       "      <th>subreddit</th>\n",
       "      <th>target</th>\n",
       "      <th>title</th>\n",
       "    </tr>\n",
       "  </thead>\n",
       "  <tbody>\n",
       "    <tr>\n",
       "      <th>0</th>\n",
       "      <td>Mario</td>\n",
       "      <td>1</td>\n",
       "      <td>Super Mario Movie Trailer MEGATHREAD</td>\n",
       "    </tr>\n",
       "    <tr>\n",
       "      <th>1</th>\n",
       "      <td>Mario</td>\n",
       "      <td>1</td>\n",
       "      <td>Karma farming posts get removed, egregious rep...</td>\n",
       "    </tr>\n",
       "    <tr>\n",
       "      <th>2</th>\n",
       "      <td>Mario</td>\n",
       "      <td>1</td>\n",
       "      <td>If there are power ups in the movie, how do yo...</td>\n",
       "    </tr>\n",
       "    <tr>\n",
       "      <th>3</th>\n",
       "      <td>Mario</td>\n",
       "      <td>1</td>\n",
       "      <td>I'm still thinking about the Mario Movie so I ...</td>\n",
       "    </tr>\n",
       "    <tr>\n",
       "      <th>4</th>\n",
       "      <td>Mario</td>\n",
       "      <td>1</td>\n",
       "      <td>I understand the disappointment of Charles Mar...</td>\n",
       "    </tr>\n",
       "    <tr>\n",
       "      <th>...</th>\n",
       "      <td>...</td>\n",
       "      <td>...</td>\n",
       "      <td>...</td>\n",
       "    </tr>\n",
       "    <tr>\n",
       "      <th>4705</th>\n",
       "      <td>zelda</td>\n",
       "      <td>0</td>\n",
       "      <td>[TotK] Nintendo clears up confusion over Zelda...</td>\n",
       "    </tr>\n",
       "    <tr>\n",
       "      <th>4706</th>\n",
       "      <td>zelda</td>\n",
       "      <td>0</td>\n",
       "      <td>[BoTW] [TotK] Zelda and Link. (By @softp3ach_)</td>\n",
       "    </tr>\n",
       "    <tr>\n",
       "      <th>4707</th>\n",
       "      <td>zelda</td>\n",
       "      <td>0</td>\n",
       "      <td>[TP] [SS] - Which Zelda game is better? Twilig...</td>\n",
       "    </tr>\n",
       "    <tr>\n",
       "      <th>4708</th>\n",
       "      <td>zelda</td>\n",
       "      <td>0</td>\n",
       "      <td>[BoTW] Mid 20s problems for Zelda players</td>\n",
       "    </tr>\n",
       "    <tr>\n",
       "      <th>4709</th>\n",
       "      <td>zelda</td>\n",
       "      <td>0</td>\n",
       "      <td>[MM] Majora's Mask: How They Made The Clock To...</td>\n",
       "    </tr>\n",
       "  </tbody>\n",
       "</table>\n",
       "<p>4710 rows × 3 columns</p>\n",
       "</div>"
      ],
      "text/plain": [
       "     subreddit  target                                              title\n",
       "0        Mario       1               Super Mario Movie Trailer MEGATHREAD\n",
       "1        Mario       1  Karma farming posts get removed, egregious rep...\n",
       "2        Mario       1  If there are power ups in the movie, how do yo...\n",
       "3        Mario       1  I'm still thinking about the Mario Movie so I ...\n",
       "4        Mario       1  I understand the disappointment of Charles Mar...\n",
       "...        ...     ...                                                ...\n",
       "4705     zelda       0  [TotK] Nintendo clears up confusion over Zelda...\n",
       "4706     zelda       0     [BoTW] [TotK] Zelda and Link. (By @softp3ach_)\n",
       "4707     zelda       0  [TP] [SS] - Which Zelda game is better? Twilig...\n",
       "4708     zelda       0          [BoTW] Mid 20s problems for Zelda players\n",
       "4709     zelda       0  [MM] Majora's Mask: How They Made The Clock To...\n",
       "\n",
       "[4710 rows x 3 columns]"
      ]
     },
     "execution_count": 38,
     "metadata": {},
     "output_type": "execute_result"
    }
   ],
   "source": [
    "df"
   ]
  },
  {
   "cell_type": "code",
   "execution_count": 39,
   "id": "43b26fe8",
   "metadata": {},
   "outputs": [],
   "source": [
    "column_cleaner(column='title', df=df)"
   ]
  },
  {
   "cell_type": "markdown",
   "id": "7596b244",
   "metadata": {},
   "source": [
    "**Save version of DataFrame**"
   ]
  },
  {
   "cell_type": "code",
   "execution_count": 40,
   "id": "f35de8f2",
   "metadata": {},
   "outputs": [],
   "source": [
    "df.to_csv('master_df_cleaned.csv', index=False, sep=\",\")"
   ]
  },
  {
   "cell_type": "code",
   "execution_count": 41,
   "id": "20141be9",
   "metadata": {},
   "outputs": [
    {
     "data": {
      "text/html": [
       "<div>\n",
       "<style scoped>\n",
       "    .dataframe tbody tr th:only-of-type {\n",
       "        vertical-align: middle;\n",
       "    }\n",
       "\n",
       "    .dataframe tbody tr th {\n",
       "        vertical-align: top;\n",
       "    }\n",
       "\n",
       "    .dataframe thead th {\n",
       "        text-align: right;\n",
       "    }\n",
       "</style>\n",
       "<table border=\"1\" class=\"dataframe\">\n",
       "  <thead>\n",
       "    <tr style=\"text-align: right;\">\n",
       "      <th></th>\n",
       "      <th>subreddit</th>\n",
       "      <th>target</th>\n",
       "      <th>title</th>\n",
       "      <th>title_clean</th>\n",
       "    </tr>\n",
       "  </thead>\n",
       "  <tbody>\n",
       "    <tr>\n",
       "      <th>0</th>\n",
       "      <td>Mario</td>\n",
       "      <td>1</td>\n",
       "      <td>Super Mario Movie Trailer MEGATHREAD</td>\n",
       "      <td>megathread</td>\n",
       "    </tr>\n",
       "    <tr>\n",
       "      <th>1</th>\n",
       "      <td>Mario</td>\n",
       "      <td>1</td>\n",
       "      <td>Karma farming posts get removed, egregious rep...</td>\n",
       "      <td>karma farming post get removed egregious repos...</td>\n",
       "    </tr>\n",
       "    <tr>\n",
       "      <th>2</th>\n",
       "      <td>Mario</td>\n",
       "      <td>1</td>\n",
       "      <td>If there are power ups in the movie, how do yo...</td>\n",
       "      <td>if there are power ups in the how do you think...</td>\n",
       "    </tr>\n",
       "  </tbody>\n",
       "</table>\n",
       "</div>"
      ],
      "text/plain": [
       "  subreddit  target                                              title  \\\n",
       "0     Mario       1               Super Mario Movie Trailer MEGATHREAD   \n",
       "1     Mario       1  Karma farming posts get removed, egregious rep...   \n",
       "2     Mario       1  If there are power ups in the movie, how do yo...   \n",
       "\n",
       "                                         title_clean  \n",
       "0                                         megathread  \n",
       "1  karma farming post get removed egregious repos...  \n",
       "2  if there are power ups in the how do you think...  "
      ]
     },
     "execution_count": 41,
     "metadata": {},
     "output_type": "execute_result"
    }
   ],
   "source": [
    "df.head(3)"
   ]
  },
  {
   "cell_type": "code",
   "execution_count": 42,
   "id": "2501a4f2",
   "metadata": {},
   "outputs": [
    {
     "data": {
      "text/html": [
       "<div>\n",
       "<style scoped>\n",
       "    .dataframe tbody tr th:only-of-type {\n",
       "        vertical-align: middle;\n",
       "    }\n",
       "\n",
       "    .dataframe tbody tr th {\n",
       "        vertical-align: top;\n",
       "    }\n",
       "\n",
       "    .dataframe thead th {\n",
       "        text-align: right;\n",
       "    }\n",
       "</style>\n",
       "<table border=\"1\" class=\"dataframe\">\n",
       "  <thead>\n",
       "    <tr style=\"text-align: right;\">\n",
       "      <th></th>\n",
       "      <th>subreddit</th>\n",
       "      <th>target</th>\n",
       "      <th>title</th>\n",
       "      <th>title_clean</th>\n",
       "    </tr>\n",
       "  </thead>\n",
       "  <tbody>\n",
       "    <tr>\n",
       "      <th>4650</th>\n",
       "      <td>zelda</td>\n",
       "      <td>0</td>\n",
       "      <td>[TotK] I don’t know if anyone else realized th...</td>\n",
       "      <td>i don t know if anyone else realized this but ...</td>\n",
       "    </tr>\n",
       "    <tr>\n",
       "      <th>909</th>\n",
       "      <td>Mario</td>\n",
       "      <td>1</td>\n",
       "      <td>Who would want a full-ass recreation/amalgamat...</td>\n",
       "      <td>who would want a full ass recreation amalgamat...</td>\n",
       "    </tr>\n",
       "    <tr>\n",
       "      <th>2343</th>\n",
       "      <td>zelda</td>\n",
       "      <td>0</td>\n",
       "      <td>[MM] Found this half finished in the Band clas...</td>\n",
       "      <td>found this half finished in the band classroom...</td>\n",
       "    </tr>\n",
       "  </tbody>\n",
       "</table>\n",
       "</div>"
      ],
      "text/plain": [
       "     subreddit  target                                              title  \\\n",
       "4650     zelda       0  [TotK] I don’t know if anyone else realized th...   \n",
       "909      Mario       1  Who would want a full-ass recreation/amalgamat...   \n",
       "2343     zelda       0  [MM] Found this half finished in the Band clas...   \n",
       "\n",
       "                                            title_clean  \n",
       "4650  i don t know if anyone else realized this but ...  \n",
       "909   who would want a full ass recreation amalgamat...  \n",
       "2343  found this half finished in the band classroom...  "
      ]
     },
     "execution_count": 42,
     "metadata": {},
     "output_type": "execute_result"
    }
   ],
   "source": [
    "df.sample(3)"
   ]
  },
  {
   "cell_type": "markdown",
   "id": "4e367719",
   "metadata": {},
   "source": [
    "## Data Visualization"
   ]
  },
  {
   "cell_type": "markdown",
   "id": "8376aea9",
   "metadata": {},
   "source": [
    "### Top 25 word for Mario Game"
   ]
  },
  {
   "cell_type": "code",
   "execution_count": 43,
   "id": "242149c1",
   "metadata": {},
   "outputs": [],
   "source": [
    "def nplot(subreddit,column):\n",
    "    fig,ax = plt.subplots(1,3, figsize=(15,6))\n",
    "    fig.suptitle(\"Top 25 Most Common Words of \" + subreddit, fontsize=20)\n",
    "    geb={} # Collet top 25 word of each n-gram\n",
    "\n",
    "    for i in range(1,4): # common bigram trigram quadgram\n",
    "        word = []\n",
    "    \n",
    "        cvec = CountVectorizer(ngram_range=(i,i), stop_words=\"english\")\n",
    "        text_cvec = cvec.fit_transform(df[df['subreddit']== subreddit ][column])\n",
    "    \n",
    "        vec = pd.DataFrame(text_cvec.toarray(),columns= cvec.get_feature_names_out())\n",
    "        word.append(vec.sum().sort_values(ascending=False)[:25].index)\n",
    "        geb[i] = list(word[0])\n",
    "        ax[i-1].barh(vec.sum().sort_values(ascending=False)[:25][::-1].index,\n",
    "                 vec.sum().sort_values(ascending=False)[:25][::-1])\n",
    "        ax[i-1].set_xlabel(\"number of word\")\n",
    "        ax[i-1].set_ylabel(\"word important\")\n",
    "        ax[i-1].set_title(f\" {i}-grams\")\n",
    "        plt.tight_layout();\n",
    "\n",
    "    \n",
    "    print(f\"Word Important of each n_gram:\")\n",
    "    for x, y in geb.items():\n",
    "        print(f\"word {x}-gram\", y)\n",
    "        print(\"------------------------------------------------------------------------------------\")"
   ]
  },
  {
   "cell_type": "code",
   "execution_count": 44,
   "id": "b33d3b4d",
   "metadata": {},
   "outputs": [
    {
     "name": "stdout",
     "output_type": "stream",
     "text": [
      "Word Important of each n_gram:\n",
      "word 1-gram ['mario', 'movie', 'trailer', 'super', 'like', 'bowser', 'pratt', 'voice', 'chris', 'bros', 'just', 'new', 'think', 'good', 'look', 'poster', 'toad', 'did', 'know', 'guys', 'sonic', 'don', 'peach', 'looks', 'luigi']\n",
      "------------------------------------------------------------------------------------\n",
      "word 2-gram ['mario movie', 'super mario', 'chris pratt', 'mario bros', 'movie trailer', 'bros movie', 'movie poster', 'mario voice', 'jack black', 'new mario', 'mario 64', 'mario amp', 'look like', 'looks like', 'pratt mario', 'voice mario', 'princess peach', 'don know', 'amp sonic', 'mario kart', 'gonna stop', 'charles martinet', 'mario trailer', 'guys think', 'meme template']\n",
      "------------------------------------------------------------------------------------\n",
      "word 3-gram ['super mario bros', 'mario bros movie', 'mario movie trailer', 'super mario movie', 'new mario movie', 'chris pratt mario', 'mario movie poster', 'mario amp sonic', 'super mario 64', 'mario movie toad', 'bros movie trailer', 'toad mario movie', 'super smash bros', 'jack black bowser', 'bros movie poster', 'movie toad mario', 'chris pratt voice', 'pratt mario voice', 'movie trailer bingo', 'fighter style mario', 'mario luigi series', 'super mario brothers', 'drawing super smash', 'luigi series day', 'bros fighter style']\n",
      "------------------------------------------------------------------------------------\n"
     ]
    },
    {
     "data": {
      "image/png": "[encoded data removed]",
      "text/plain": [
       "<Figure size 1080x432 with 3 Axes>"
      ]
     },
     "metadata": {
      "needs_background": "light"
     },
     "output_type": "display_data"
    }
   ],
   "source": [
    "nplot(\"Mario\",\"title\")"
   ]
  },
  {
   "cell_type": "code",
   "execution_count": 45,
   "id": "33a17ce1",
   "metadata": {},
   "outputs": [
    {
     "name": "stdout",
     "output_type": "stream",
     "text": [
      "Word Important of each n_gram:\n",
      "word 1-gram ['like', 'look', 'just', 'new', 'think', 'wa', 'good', 'guy', 'know', 'meme', 'character', 'day', 'don', 'ha', 'did', 'thought', 'nintendo', 'fan', 'people', 'penguin', 've', 'design', 'make', 'really', 'world']\n",
      "------------------------------------------------------------------------------------\n",
      "word 2-gram ['look like', 'don know', 'gonna stop', 'guy think', 'meme template', 'wa good', 'brooklyn accent', 'don think', 'design look', 'bingo card', 'danny devito', 'look great', 'feel like', 'think look', 'people need', 'fix felix', 'drawing fighter', 'nintendo switch', 'really need', 'fighter style', 'new design', 'style series', 'just doe', 'spark hope', 'character like']\n",
      "------------------------------------------------------------------------------------\n",
      "word 3-gram ['style series day', 'fighter style series', 'design look like', 'drawing fighter style', 'amp gentleman fan', 'gentleman fan alike', 'actually sound good', 'rabbids spark hope', 'lady amp gentleman', 'star look like', 'letter fan soaked', 'happening join people', 'happened sure going', 'happened baby penguin', 'vemsy gwenom thegreyzen', 'ending credit comment', 'life stomping koopas', 'petition sub themed', 'ending comming soon', 'stuff heard speak', 'character ve meaning', 'played stuff heard', 'end terrible pretty', 'happy world pet', 'stuff come posing']\n",
      "------------------------------------------------------------------------------------\n"
     ]
    },
    {
     "data": {
      "image/png": "[encoded data removed]",
      "text/plain": [
       "<Figure size 1080x432 with 3 Axes>"
      ]
     },
     "metadata": {
      "needs_background": "light"
     },
     "output_type": "display_data"
    }
   ],
   "source": [
    "# Remove character names, game titles and movie related.\n",
    "nplot(\"Mario\",\"title_clean\")"
   ]
  },
  {
   "cell_type": "markdown",
   "id": "71e30893",
   "metadata": {},
   "source": [
    "Mario reddit are more focus on the looks of characters and meme. Moreover, there a considerable numbers of design and fan for the franchise."
   ]
  },
  {
   "cell_type": "markdown",
   "id": "ed7d7868",
   "metadata": {},
   "source": [
    "### Top 25 word for Zelda Game"
   ]
  },
  {
   "cell_type": "code",
   "execution_count": 46,
   "id": "fa2520f4",
   "metadata": {},
   "outputs": [
    {
     "name": "stdout",
     "output_type": "stream",
     "text": [
      "Word Important of each n_gram:\n",
      "word 1-gram ['botw', 'zelda', 'totk', 'oc', 'link', 'oot', 'game', 'tp', 'mm', 'art', 'ss', 'time', 'just', 'tears', 'loz', 'kingdom', 'ww', 'games', 'sword', 'like', 'princess', 'best', 'think', 'got', 'new']\n",
      "------------------------------------------------------------------------------------\n",
      "word 2-gram ['tears kingdom', 'zelda game', 'twilight princess', 'breath wild', 'legend zelda', 'majora mask', 'ocarina time', 'skyward sword', 'botw totk', 'botw oc', 'zelda link', 'wind waker', 'oot mm', 'oc botw', 'oc oot', 'zelda games', 'tp twilight', 'botw zelda', 'totk oc', 'botw link', 'oot oc', 'master sword', 'oc tp', 'zelda tears', 'need help']\n",
      "------------------------------------------------------------------------------------\n",
      "word 3-gram ['zelda tears kingdom', 'tp twilight princess', 'mm majora mask', 'botw breath wild', 'tears kingdom trailer', 'totk tears kingdom', 'ss skyward sword', 'tp wolf link', 'zelda breath wild', 'legend zelda tears', 'oc totk link', 'botw sheikah slate', 'botw princess zelda', 'ww wind waker', 'zelda game best', 'totk zelda link', 'allowed encourage discussion', 'today self post', 'twilight princess manga', 'custom mini companion', 'zelda ii adventure', 'post sunday self', 'posts allowed encourage', 'zelda meta discussion', 'encourage discussion games']\n",
      "------------------------------------------------------------------------------------\n"
     ]
    },
    {
     "data": {
      "image/png": "[encoded data removed]",
      "text/plain": [
       "<Figure size 1080x432 with 3 Axes>"
      ]
     },
     "metadata": {
      "needs_background": "light"
     },
     "output_type": "display_data"
    }
   ],
   "source": [
    "nplot(\"zelda\",\"title\")"
   ]
  },
  {
   "cell_type": "code",
   "execution_count": 47,
   "id": "8ea6e85f",
   "metadata": {},
   "outputs": [
    {
     "name": "stdout",
     "output_type": "stream",
     "text": [
      "Word Important of each n_gram:\n",
      "word 1-gram ['art', 'just', 'tear', 'loz', 'like', 'best', 'wa', 'think', 'got', 'day', 'new', 'year', 'linktober', 'make', 'did', 'guy', 'ha', 'play', 'nintendo', 'playing', 'favorite', 'series', 'drew', 'la', 'today']\n",
      "------------------------------------------------------------------------------------\n",
      "word 2-gram ['linktober day', 'need help', 'ha best', 'final bos', 'look like', 'fan art', 'thought share', 'spirit track', 've played', 'guy like', 'doe know', 'low poly', 'guy think', 'just finished', 'just got', 'mc minish', 'art style', 'mysterious figure', 'didn know', 'sheikah slate', 'best story', 've finished', 'best way', 'hope guy', 'gerudo valley']\n",
      "------------------------------------------------------------------------------------\n",
      "word 3-gram ['ha best story', 'posts allowed encourage', 'custom mini companion', 'wa lot work', 'today self post', 'self post sunday', 'meta discussion rule', 'sunday posts allowed', 'post sunday posts', 'allowed encourage discussion', 'did linktober day', 'linktober day ghost', 'mc minish cap', 'conspiracy theory believe', 'totkoc drew new', 'didn know wa', 'ouroboros logo simple', 'liked dead hand', 'took year make', 'life size tear', 'tombstone halloween year', 'leviathan hold larger', 'display gameboy custom', 'divine beast animal', 'like hour making']\n",
      "------------------------------------------------------------------------------------\n"
     ]
    },
    {
     "data": {
      "image/png": "[encoded data removed]",
      "text/plain": [
       "<Figure size 1080x432 with 3 Axes>"
      ]
     },
     "metadata": {
      "needs_background": "light"
     },
     "output_type": "display_data"
    }
   ],
   "source": [
    "# Remove character names and game titles.\n",
    "nplot(\"zelda\",\"title_clean\")"
   ]
  },
  {
   "cell_type": "markdown",
   "id": "80416693",
   "metadata": {},
   "source": [
    "Zelda reddit are more focus on the art with community led event of [linktober](https://www.linktober.com/). Moreover, there a considerable numbers of discussion on gameplay specific topics such as boss event, seasonal event and story."
   ]
  },
  {
   "cell_type": "markdown",
   "id": "0c107fa9",
   "metadata": {},
   "source": [
    "### Most Common Words for Mario Subreddit"
   ]
  },
  {
   "cell_type": "code",
   "execution_count": 48,
   "id": "a339ad19",
   "metadata": {},
   "outputs": [
    {
     "data": {
      "text/html": [
       "<style>#sk-container-id-3 {color: black;background-color: white;}#sk-container-id-3 pre{padding: 0;}#sk-container-id-3 div.sk-toggleable {background-color: white;}#sk-container-id-3 label.sk-toggleable__label {cursor: pointer;display: block;width: 100%;margin-bottom: 0;padding: 0.3em;box-sizing: border-box;text-align: center;}#sk-container-id-3 label.sk-toggleable__label-arrow:before {content: \"▸\";float: left;margin-right: 0.25em;color: #696969;}#sk-container-id-3 label.sk-toggleable__label-arrow:hover:before {color: black;}#sk-container-id-3 div.sk-estimator:hover label.sk-toggleable__label-arrow:before {color: black;}#sk-container-id-3 div.sk-toggleable__content {max-height: 0;max-width: 0;overflow: hidden;text-align: left;background-color: #f0f8ff;}#sk-container-id-3 div.sk-toggleable__content pre {margin: 0.2em;color: black;border-radius: 0.25em;background-color: #f0f8ff;}#sk-container-id-3 input.sk-toggleable__control:checked~div.sk-toggleable__content {max-height: 200px;max-width: 100%;overflow: auto;}#sk-container-id-3 input.sk-toggleable__control:checked~label.sk-toggleable__label-arrow:before {content: \"▾\";}#sk-container-id-3 div.sk-estimator input.sk-toggleable__control:checked~label.sk-toggleable__label {background-color: #d4ebff;}#sk-container-id-3 div.sk-label input.sk-toggleable__control:checked~label.sk-toggleable__label {background-color: #d4ebff;}#sk-container-id-3 input.sk-hidden--visually {border: 0;clip: rect(1px 1px 1px 1px);clip: rect(1px, 1px, 1px, 1px);height: 1px;margin: -1px;overflow: hidden;padding: 0;position: absolute;width: 1px;}#sk-container-id-3 div.sk-estimator {font-family: monospace;background-color: #f0f8ff;border: 1px dotted black;border-radius: 0.25em;box-sizing: border-box;margin-bottom: 0.5em;}#sk-container-id-3 div.sk-estimator:hover {background-color: #d4ebff;}#sk-container-id-3 div.sk-parallel-item::after {content: \"\";width: 100%;border-bottom: 1px solid gray;flex-grow: 1;}#sk-container-id-3 div.sk-label:hover label.sk-toggleable__label {background-color: #d4ebff;}#sk-container-id-3 div.sk-serial::before {content: \"\";position: absolute;border-left: 1px solid gray;box-sizing: border-box;top: 0;bottom: 0;left: 50%;z-index: 0;}#sk-container-id-3 div.sk-serial {display: flex;flex-direction: column;align-items: center;background-color: white;padding-right: 0.2em;padding-left: 0.2em;position: relative;}#sk-container-id-3 div.sk-item {position: relative;z-index: 1;}#sk-container-id-3 div.sk-parallel {display: flex;align-items: stretch;justify-content: center;background-color: white;position: relative;}#sk-container-id-3 div.sk-item::before, #sk-container-id-3 div.sk-parallel-item::before {content: \"\";position: absolute;border-left: 1px solid gray;box-sizing: border-box;top: 0;bottom: 0;left: 50%;z-index: -1;}#sk-container-id-3 div.sk-parallel-item {display: flex;flex-direction: column;z-index: 1;position: relative;background-color: white;}#sk-container-id-3 div.sk-parallel-item:first-child::after {align-self: flex-end;width: 50%;}#sk-container-id-3 div.sk-parallel-item:last-child::after {align-self: flex-start;width: 50%;}#sk-container-id-3 div.sk-parallel-item:only-child::after {width: 0;}#sk-container-id-3 div.sk-dashed-wrapped {border: 1px dashed gray;margin: 0 0.4em 0.5em 0.4em;box-sizing: border-box;padding-bottom: 0.4em;background-color: white;}#sk-container-id-3 div.sk-label label {font-family: monospace;font-weight: bold;display: inline-block;line-height: 1.2em;}#sk-container-id-3 div.sk-label-container {text-align: center;}#sk-container-id-3 div.sk-container {/* jupyter's `normalize.less` sets `[hidden] { display: none; }` but bootstrap.min.css set `[hidden] { display: none !important; }` so we also need the `!important` here to be able to override the default hidden behavior on the sphinx rendered scikit-learn.org. See: https://github.com/scikit-learn/scikit-learn/issues/21755 */display: inline-block !important;position: relative;}#sk-container-id-3 div.sk-text-repr-fallback {display: none;}</style><div id=\"sk-container-id-3\" class=\"sk-top-container\"><div class=\"sk-text-repr-fallback\"><pre>CountVectorizer(stop_words=&#x27;english&#x27;)</pre><b>In a Jupyter environment, please rerun this cell to show the HTML representation or trust the notebook. <br />On GitHub, the HTML representation is unable to render, please try loading this page with nbviewer.org.</b></div><div class=\"sk-container\" hidden><div class=\"sk-item\"><div class=\"sk-estimator sk-toggleable\"><input class=\"sk-toggleable__control sk-hidden--visually\" id=\"sk-estimator-id-3\" type=\"checkbox\" checked><label for=\"sk-estimator-id-3\" class=\"sk-toggleable__label sk-toggleable__label-arrow\">CountVectorizer</label><div class=\"sk-toggleable__content\"><pre>CountVectorizer(stop_words=&#x27;english&#x27;)</pre></div></div></div></div></div>"
      ],
      "text/plain": [
       "CountVectorizer(stop_words='english')"
      ]
     },
     "execution_count": 48,
     "metadata": {},
     "output_type": "execute_result"
    }
   ],
   "source": [
    "cvec = CountVectorizer(stop_words=\"english\")\n",
    "cvec.fit(df[df[\"subreddit\"] == \"Mario\"][\"title_clean\"])"
   ]
  },
  {
   "cell_type": "code",
   "execution_count": 49,
   "id": "d4744575",
   "metadata": {},
   "outputs": [],
   "source": [
    "# Transforming using our fitted cvec and converting the result to a DataFrame\n",
    "mario_words = pd.DataFrame(cvec.transform(df[df[\"subreddit\"] == \"Mario\"][\"title_clean\"]).todense(),\n",
    "                       columns=cvec.get_feature_names_out())"
   ]
  },
  {
   "cell_type": "code",
   "execution_count": 50,
   "id": "6bb8d4aa",
   "metadata": {
    "scrolled": true
   },
   "outputs": [
    {
     "data": {
      "text/plain": [
       "like         133\n",
       "look         116\n",
       "just          97\n",
       "new           89\n",
       "think         81\n",
       "            ... \n",
       "bit           14\n",
       "play          14\n",
       "man           14\n",
       "big           14\n",
       "different     14\n",
       "Length: 100, dtype: int64"
      ]
     },
     "execution_count": 50,
     "metadata": {},
     "output_type": "execute_result"
    }
   ],
   "source": [
    "# Finding the top 100 words that frequently appeared in mario subreddits\n",
    "mario_top = mario_words.sum(axis = 0).sort_values(ascending = False).head(100)\n",
    "mario_top"
   ]
  },
  {
   "cell_type": "code",
   "execution_count": 51,
   "id": "b6ae450d",
   "metadata": {
    "scrolled": true
   },
   "outputs": [
    {
     "data": {
      "text/plain": [
       "Index(['like', 'look', 'just', 'new', 'think', 'wa', 'good', 'guy', 'know',\n",
       "       'meme', 'character', 'day', 'don', 'ha', 'did', 'thought', 'nintendo',\n",
       "       'fan', 'people', 'penguin', 've', 'design', 'make', 'really', 'world',\n",
       "       'gonna', 'doe', 'art', 'sound', 'scene', 'stop', 'yield', 'say', 'amp',\n",
       "       'looking', 'bad', 'way', 'real', 'let', 'saw', 'right', 'favorite',\n",
       "       'pretty', 'better', 'illumination', 'hope', 'hard', 'great', 'brooklyn',\n",
       "       'want', 'best', 'villain', 'bingo', 'star', 'got', 'film', 'mushroom',\n",
       "       'fanart', 'official', 'love', 'mean', 'getting', 'power', 'post',\n",
       "       'drawing', 'need', 'year', 'come', 'style', 'theory', 'original',\n",
       "       'credit', 'wait', 'actually', 'll', 'opinion', 'thing', 'brother',\n",
       "       'plot', 'face', 'king', 'finally', 'accent', 'tell', 'series', 'feel',\n",
       "       'happened', 'image', 'leaked', 'excited', 'title', 'ai', 'teaser', 'th',\n",
       "       'going', 'bit', 'play', 'man', 'big', 'different'],\n",
       "      dtype='object')"
      ]
     },
     "execution_count": 51,
     "metadata": {},
     "output_type": "execute_result"
    }
   ],
   "source": [
    "# Name of Top 100 most frequent Features/Columns\n",
    "mario_pd = pd.DataFrame(data=mario_top)\n",
    "mario_pd.index"
   ]
  },
  {
   "cell_type": "code",
   "execution_count": 52,
   "id": "2e0957d3",
   "metadata": {
    "scrolled": true
   },
   "outputs": [
    {
     "data": {
      "text/html": [
       "<div>\n",
       "<style scoped>\n",
       "    .dataframe tbody tr th:only-of-type {\n",
       "        vertical-align: middle;\n",
       "    }\n",
       "\n",
       "    .dataframe tbody tr th {\n",
       "        vertical-align: top;\n",
       "    }\n",
       "\n",
       "    .dataframe thead th {\n",
       "        text-align: right;\n",
       "    }\n",
       "</style>\n",
       "<table border=\"1\" class=\"dataframe\">\n",
       "  <thead>\n",
       "    <tr style=\"text-align: right;\">\n",
       "      <th></th>\n",
       "      <th>like</th>\n",
       "      <th>look</th>\n",
       "      <th>just</th>\n",
       "      <th>new</th>\n",
       "      <th>think</th>\n",
       "      <th>wa</th>\n",
       "      <th>good</th>\n",
       "      <th>guy</th>\n",
       "      <th>know</th>\n",
       "      <th>meme</th>\n",
       "      <th>...</th>\n",
       "      <th>title</th>\n",
       "      <th>ai</th>\n",
       "      <th>teaser</th>\n",
       "      <th>th</th>\n",
       "      <th>going</th>\n",
       "      <th>bit</th>\n",
       "      <th>play</th>\n",
       "      <th>man</th>\n",
       "      <th>big</th>\n",
       "      <th>different</th>\n",
       "    </tr>\n",
       "  </thead>\n",
       "  <tbody>\n",
       "    <tr>\n",
       "      <th>0</th>\n",
       "      <td>0</td>\n",
       "      <td>0</td>\n",
       "      <td>0</td>\n",
       "      <td>0</td>\n",
       "      <td>0</td>\n",
       "      <td>0</td>\n",
       "      <td>0</td>\n",
       "      <td>0</td>\n",
       "      <td>0</td>\n",
       "      <td>0</td>\n",
       "      <td>...</td>\n",
       "      <td>0</td>\n",
       "      <td>0</td>\n",
       "      <td>0</td>\n",
       "      <td>0</td>\n",
       "      <td>0</td>\n",
       "      <td>0</td>\n",
       "      <td>0</td>\n",
       "      <td>0</td>\n",
       "      <td>0</td>\n",
       "      <td>0</td>\n",
       "    </tr>\n",
       "    <tr>\n",
       "      <th>1</th>\n",
       "      <td>0</td>\n",
       "      <td>0</td>\n",
       "      <td>0</td>\n",
       "      <td>0</td>\n",
       "      <td>0</td>\n",
       "      <td>0</td>\n",
       "      <td>0</td>\n",
       "      <td>0</td>\n",
       "      <td>0</td>\n",
       "      <td>0</td>\n",
       "      <td>...</td>\n",
       "      <td>0</td>\n",
       "      <td>0</td>\n",
       "      <td>0</td>\n",
       "      <td>0</td>\n",
       "      <td>0</td>\n",
       "      <td>0</td>\n",
       "      <td>0</td>\n",
       "      <td>0</td>\n",
       "      <td>0</td>\n",
       "      <td>0</td>\n",
       "    </tr>\n",
       "    <tr>\n",
       "      <th>2</th>\n",
       "      <td>0</td>\n",
       "      <td>0</td>\n",
       "      <td>1</td>\n",
       "      <td>0</td>\n",
       "      <td>1</td>\n",
       "      <td>0</td>\n",
       "      <td>0</td>\n",
       "      <td>0</td>\n",
       "      <td>0</td>\n",
       "      <td>0</td>\n",
       "      <td>...</td>\n",
       "      <td>0</td>\n",
       "      <td>0</td>\n",
       "      <td>0</td>\n",
       "      <td>0</td>\n",
       "      <td>0</td>\n",
       "      <td>0</td>\n",
       "      <td>0</td>\n",
       "      <td>0</td>\n",
       "      <td>0</td>\n",
       "      <td>0</td>\n",
       "    </tr>\n",
       "    <tr>\n",
       "      <th>3</th>\n",
       "      <td>0</td>\n",
       "      <td>0</td>\n",
       "      <td>0</td>\n",
       "      <td>0</td>\n",
       "      <td>0</td>\n",
       "      <td>0</td>\n",
       "      <td>0</td>\n",
       "      <td>0</td>\n",
       "      <td>0</td>\n",
       "      <td>0</td>\n",
       "      <td>...</td>\n",
       "      <td>0</td>\n",
       "      <td>0</td>\n",
       "      <td>0</td>\n",
       "      <td>0</td>\n",
       "      <td>0</td>\n",
       "      <td>0</td>\n",
       "      <td>0</td>\n",
       "      <td>0</td>\n",
       "      <td>0</td>\n",
       "      <td>0</td>\n",
       "    </tr>\n",
       "    <tr>\n",
       "      <th>4</th>\n",
       "      <td>0</td>\n",
       "      <td>0</td>\n",
       "      <td>0</td>\n",
       "      <td>0</td>\n",
       "      <td>0</td>\n",
       "      <td>0</td>\n",
       "      <td>0</td>\n",
       "      <td>0</td>\n",
       "      <td>0</td>\n",
       "      <td>0</td>\n",
       "      <td>...</td>\n",
       "      <td>0</td>\n",
       "      <td>0</td>\n",
       "      <td>0</td>\n",
       "      <td>0</td>\n",
       "      <td>0</td>\n",
       "      <td>0</td>\n",
       "      <td>0</td>\n",
       "      <td>0</td>\n",
       "      <td>0</td>\n",
       "      <td>0</td>\n",
       "    </tr>\n",
       "  </tbody>\n",
       "</table>\n",
       "<p>5 rows × 100 columns</p>\n",
       "</div>"
      ],
      "text/plain": [
       "   like  look  just  new  think  wa  good  guy  know  meme  ...  title  ai  \\\n",
       "0     0     0     0    0      0   0     0    0     0     0  ...      0   0   \n",
       "1     0     0     0    0      0   0     0    0     0     0  ...      0   0   \n",
       "2     0     0     1    0      1   0     0    0     0     0  ...      0   0   \n",
       "3     0     0     0    0      0   0     0    0     0     0  ...      0   0   \n",
       "4     0     0     0    0      0   0     0    0     0     0  ...      0   0   \n",
       "\n",
       "   teaser  th  going  bit  play  man  big  different  \n",
       "0       0   0      0    0     0    0    0          0  \n",
       "1       0   0      0    0     0    0    0          0  \n",
       "2       0   0      0    0     0    0    0          0  \n",
       "3       0   0      0    0     0    0    0          0  \n",
       "4       0   0      0    0     0    0    0          0  \n",
       "\n",
       "[5 rows x 100 columns]"
      ]
     },
     "execution_count": 52,
     "metadata": {},
     "output_type": "execute_result"
    }
   ],
   "source": [
    "mario_top = mario_words[mario_pd.index]\n",
    "mario_top.head()"
   ]
  },
  {
   "cell_type": "code",
   "execution_count": 53,
   "id": "ab3851b5",
   "metadata": {},
   "outputs": [
    {
     "name": "stdout",
     "output_type": "stream",
     "text": [
      "Most common words in Mario Subreddits\n"
     ]
    },
    {
     "data": {
      "text/plain": [
       "like         133\n",
       "look         116\n",
       "just          97\n",
       "new           89\n",
       "think         81\n",
       "wa            70\n",
       "good          67\n",
       "guy           65\n",
       "know          59\n",
       "meme          58\n",
       "character     57\n",
       "day           55\n",
       "don           54\n",
       "ha            53\n",
       "did           52\n",
       "thought       51\n",
       "nintendo      46\n",
       "fan           45\n",
       "people        45\n",
       "penguin       43\n",
       "dtype: int64"
      ]
     },
     "execution_count": 53,
     "metadata": {},
     "output_type": "execute_result"
    }
   ],
   "source": [
    "# Which words appear the most in Mario subreddits?\n",
    "word_counts = mario_words.sum(axis=0)\n",
    "print(\"Most common words in Mario Subreddits\")\n",
    "word_counts.sort_values(ascending = False).head(20)"
   ]
  },
  {
   "cell_type": "code",
   "execution_count": 54,
   "id": "10275bc7",
   "metadata": {},
   "outputs": [],
   "source": [
    "mario_top_20 = pd.DataFrame(word_counts.sort_values(ascending = False).head(20), columns=['count'])"
   ]
  },
  {
   "cell_type": "code",
   "execution_count": 55,
   "id": "b43b06d4",
   "metadata": {},
   "outputs": [
    {
     "data": {
      "image/png": "[encoded data removed]",
      "text/plain": [
       "<Figure size 432x288 with 1 Axes>"
      ]
     },
     "metadata": {
      "needs_background": "light"
     },
     "output_type": "display_data"
    }
   ],
   "source": [
    "# Create a list of word\n",
    "text= mario['title']\n",
    "\n",
    "# Create the wordcloud object\n",
    "wordcloud = WordCloud(width=480, height=480, margin=0, \n",
    "                      background_color='white').generate(str(text))\n",
    "\n",
    "# Display the generated image:\n",
    "plt.imshow(wordcloud,interpolation='bilinear')\n",
    "plt.axis(\"off\")\n",
    "plt.margins(x=0, y=0)\n",
    "plt.show()"
   ]
  },
  {
   "cell_type": "markdown",
   "id": "36bd250f",
   "metadata": {},
   "source": [
    "There is significant mention of the characters' name and game title. This could be considered \"cheat words\" as it is irrelevant to find the characteristic of players."
   ]
  },
  {
   "cell_type": "markdown",
   "id": "56c4006c",
   "metadata": {},
   "source": [
    "### Most Common Words for Zelda Subreddit"
   ]
  },
  {
   "cell_type": "code",
   "execution_count": 56,
   "id": "24bfb6c8",
   "metadata": {},
   "outputs": [
    {
     "data": {
      "text/html": [
       "<style>#sk-container-id-4 {color: black;background-color: white;}#sk-container-id-4 pre{padding: 0;}#sk-container-id-4 div.sk-toggleable {background-color: white;}#sk-container-id-4 label.sk-toggleable__label {cursor: pointer;display: block;width: 100%;margin-bottom: 0;padding: 0.3em;box-sizing: border-box;text-align: center;}#sk-container-id-4 label.sk-toggleable__label-arrow:before {content: \"▸\";float: left;margin-right: 0.25em;color: #696969;}#sk-container-id-4 label.sk-toggleable__label-arrow:hover:before {color: black;}#sk-container-id-4 div.sk-estimator:hover label.sk-toggleable__label-arrow:before {color: black;}#sk-container-id-4 div.sk-toggleable__content {max-height: 0;max-width: 0;overflow: hidden;text-align: left;background-color: #f0f8ff;}#sk-container-id-4 div.sk-toggleable__content pre {margin: 0.2em;color: black;border-radius: 0.25em;background-color: #f0f8ff;}#sk-container-id-4 input.sk-toggleable__control:checked~div.sk-toggleable__content {max-height: 200px;max-width: 100%;overflow: auto;}#sk-container-id-4 input.sk-toggleable__control:checked~label.sk-toggleable__label-arrow:before {content: \"▾\";}#sk-container-id-4 div.sk-estimator input.sk-toggleable__control:checked~label.sk-toggleable__label {background-color: #d4ebff;}#sk-container-id-4 div.sk-label input.sk-toggleable__control:checked~label.sk-toggleable__label {background-color: #d4ebff;}#sk-container-id-4 input.sk-hidden--visually {border: 0;clip: rect(1px 1px 1px 1px);clip: rect(1px, 1px, 1px, 1px);height: 1px;margin: -1px;overflow: hidden;padding: 0;position: absolute;width: 1px;}#sk-container-id-4 div.sk-estimator {font-family: monospace;background-color: #f0f8ff;border: 1px dotted black;border-radius: 0.25em;box-sizing: border-box;margin-bottom: 0.5em;}#sk-container-id-4 div.sk-estimator:hover {background-color: #d4ebff;}#sk-container-id-4 div.sk-parallel-item::after {content: \"\";width: 100%;border-bottom: 1px solid gray;flex-grow: 1;}#sk-container-id-4 div.sk-label:hover label.sk-toggleable__label {background-color: #d4ebff;}#sk-container-id-4 div.sk-serial::before {content: \"\";position: absolute;border-left: 1px solid gray;box-sizing: border-box;top: 0;bottom: 0;left: 50%;z-index: 0;}#sk-container-id-4 div.sk-serial {display: flex;flex-direction: column;align-items: center;background-color: white;padding-right: 0.2em;padding-left: 0.2em;position: relative;}#sk-container-id-4 div.sk-item {position: relative;z-index: 1;}#sk-container-id-4 div.sk-parallel {display: flex;align-items: stretch;justify-content: center;background-color: white;position: relative;}#sk-container-id-4 div.sk-item::before, #sk-container-id-4 div.sk-parallel-item::before {content: \"\";position: absolute;border-left: 1px solid gray;box-sizing: border-box;top: 0;bottom: 0;left: 50%;z-index: -1;}#sk-container-id-4 div.sk-parallel-item {display: flex;flex-direction: column;z-index: 1;position: relative;background-color: white;}#sk-container-id-4 div.sk-parallel-item:first-child::after {align-self: flex-end;width: 50%;}#sk-container-id-4 div.sk-parallel-item:last-child::after {align-self: flex-start;width: 50%;}#sk-container-id-4 div.sk-parallel-item:only-child::after {width: 0;}#sk-container-id-4 div.sk-dashed-wrapped {border: 1px dashed gray;margin: 0 0.4em 0.5em 0.4em;box-sizing: border-box;padding-bottom: 0.4em;background-color: white;}#sk-container-id-4 div.sk-label label {font-family: monospace;font-weight: bold;display: inline-block;line-height: 1.2em;}#sk-container-id-4 div.sk-label-container {text-align: center;}#sk-container-id-4 div.sk-container {/* jupyter's `normalize.less` sets `[hidden] { display: none; }` but bootstrap.min.css set `[hidden] { display: none !important; }` so we also need the `!important` here to be able to override the default hidden behavior on the sphinx rendered scikit-learn.org. See: https://github.com/scikit-learn/scikit-learn/issues/21755 */display: inline-block !important;position: relative;}#sk-container-id-4 div.sk-text-repr-fallback {display: none;}</style><div id=\"sk-container-id-4\" class=\"sk-top-container\"><div class=\"sk-text-repr-fallback\"><pre>CountVectorizer(stop_words=&#x27;english&#x27;)</pre><b>In a Jupyter environment, please rerun this cell to show the HTML representation or trust the notebook. <br />On GitHub, the HTML representation is unable to render, please try loading this page with nbviewer.org.</b></div><div class=\"sk-container\" hidden><div class=\"sk-item\"><div class=\"sk-estimator sk-toggleable\"><input class=\"sk-toggleable__control sk-hidden--visually\" id=\"sk-estimator-id-4\" type=\"checkbox\" checked><label for=\"sk-estimator-id-4\" class=\"sk-toggleable__label sk-toggleable__label-arrow\">CountVectorizer</label><div class=\"sk-toggleable__content\"><pre>CountVectorizer(stop_words=&#x27;english&#x27;)</pre></div></div></div></div></div>"
      ],
      "text/plain": [
       "CountVectorizer(stop_words='english')"
      ]
     },
     "execution_count": 56,
     "metadata": {},
     "output_type": "execute_result"
    }
   ],
   "source": [
    "cvec = CountVectorizer(stop_words=\"english\")\n",
    "cvec.fit(df[df[\"subreddit\"] == \"zelda\"][\"title_clean\"])"
   ]
  },
  {
   "cell_type": "code",
   "execution_count": 57,
   "id": "f5928cf8",
   "metadata": {},
   "outputs": [],
   "source": [
    "# Transforming using our fitted cvec and converting the result to a DataFrame\n",
    "zelda_words = pd.DataFrame(cvec.transform(df[df[\"subreddit\"] == \"zelda\"][\"title_clean\"]).todense(),\n",
    "                       columns=cvec.get_feature_names_out())"
   ]
  },
  {
   "cell_type": "code",
   "execution_count": 58,
   "id": "8d3f928b",
   "metadata": {
    "scrolled": true
   },
   "outputs": [
    {
     "data": {
      "text/plain": [
       "art       131\n",
       "just      104\n",
       "tear       98\n",
       "loz        93\n",
       "like       80\n",
       "         ... \n",
       "manga      20\n",
       "ai         19\n",
       "month      19\n",
       "pretty     19\n",
       "st         19\n",
       "Length: 100, dtype: int64"
      ]
     },
     "execution_count": 58,
     "metadata": {},
     "output_type": "execute_result"
    }
   ],
   "source": [
    "# Finding the top 100 words that frequently appeared in data science subreddits\n",
    "zelda_top = zelda_words.sum(axis = 0).sort_values(ascending = False).head(100)\n",
    "zelda_top"
   ]
  },
  {
   "cell_type": "code",
   "execution_count": 59,
   "id": "8f178a9c",
   "metadata": {
    "scrolled": true
   },
   "outputs": [
    {
     "data": {
      "text/plain": [
       "Index(['art', 'just', 'tear', 'loz', 'like', 'best', 'wa', 'think', 'got',\n",
       "       'day', 'new', 'year', 'linktober', 'make', 'did', 'guy', 'ha', 'play',\n",
       "       'nintendo', 'playing', 'favorite', 'series', 'drew', 'la', 'today',\n",
       "       'finished', 've', 'way', 'theory', 'know', 'love', 'switch', 'doe',\n",
       "       'finally', 'version', 'fanart', 'tried', 'tattoo', 'look', 'need',\n",
       "       'timeline', 'want', 'title', 'design', 'drawing', 'feel', 'ganondorf',\n",
       "       'character', 'getting', 'discussion', 'temple', 'spirit', 'good',\n",
       "       'thing', 'hero', 'mc', 'figure', 'used', 'world', 'alttp', 'great',\n",
       "       'fan', 'really', 'post', 'lot', 'help', 'theme', 'midna', 'old', 'song',\n",
       "       'custom', 'style', 'friend', 'edition', 'music', 'worth', 'bos', 'hope',\n",
       "       'cosplay', 'inspired', 'korok', 'little', 'played', 'thought', 'cover',\n",
       "       'piece', 'wii', 'themed', 'concept', 'isn', 'recently', 'dungeon',\n",
       "       'opinion', 'island', 'beat', 'manga', 'ai', 'month', 'pretty', 'st'],\n",
       "      dtype='object')"
      ]
     },
     "execution_count": 59,
     "metadata": {},
     "output_type": "execute_result"
    }
   ],
   "source": [
    "# Name of Top 100 most frequent Features/Columns\n",
    "zelda_pd = pd.DataFrame(data=zelda_top)\n",
    "zelda_pd.index"
   ]
  },
  {
   "cell_type": "code",
   "execution_count": 60,
   "id": "c8017380",
   "metadata": {
    "scrolled": true
   },
   "outputs": [
    {
     "data": {
      "text/html": [
       "<div>\n",
       "<style scoped>\n",
       "    .dataframe tbody tr th:only-of-type {\n",
       "        vertical-align: middle;\n",
       "    }\n",
       "\n",
       "    .dataframe tbody tr th {\n",
       "        vertical-align: top;\n",
       "    }\n",
       "\n",
       "    .dataframe thead th {\n",
       "        text-align: right;\n",
       "    }\n",
       "</style>\n",
       "<table border=\"1\" class=\"dataframe\">\n",
       "  <thead>\n",
       "    <tr style=\"text-align: right;\">\n",
       "      <th></th>\n",
       "      <th>art</th>\n",
       "      <th>just</th>\n",
       "      <th>tear</th>\n",
       "      <th>loz</th>\n",
       "      <th>like</th>\n",
       "      <th>best</th>\n",
       "      <th>wa</th>\n",
       "      <th>think</th>\n",
       "      <th>got</th>\n",
       "      <th>day</th>\n",
       "      <th>...</th>\n",
       "      <th>recently</th>\n",
       "      <th>dungeon</th>\n",
       "      <th>opinion</th>\n",
       "      <th>island</th>\n",
       "      <th>beat</th>\n",
       "      <th>manga</th>\n",
       "      <th>ai</th>\n",
       "      <th>month</th>\n",
       "      <th>pretty</th>\n",
       "      <th>st</th>\n",
       "    </tr>\n",
       "  </thead>\n",
       "  <tbody>\n",
       "    <tr>\n",
       "      <th>0</th>\n",
       "      <td>0</td>\n",
       "      <td>0</td>\n",
       "      <td>0</td>\n",
       "      <td>0</td>\n",
       "      <td>0</td>\n",
       "      <td>0</td>\n",
       "      <td>0</td>\n",
       "      <td>0</td>\n",
       "      <td>0</td>\n",
       "      <td>0</td>\n",
       "      <td>...</td>\n",
       "      <td>0</td>\n",
       "      <td>0</td>\n",
       "      <td>0</td>\n",
       "      <td>0</td>\n",
       "      <td>0</td>\n",
       "      <td>0</td>\n",
       "      <td>0</td>\n",
       "      <td>0</td>\n",
       "      <td>0</td>\n",
       "      <td>0</td>\n",
       "    </tr>\n",
       "    <tr>\n",
       "      <th>1</th>\n",
       "      <td>0</td>\n",
       "      <td>0</td>\n",
       "      <td>0</td>\n",
       "      <td>0</td>\n",
       "      <td>0</td>\n",
       "      <td>0</td>\n",
       "      <td>0</td>\n",
       "      <td>0</td>\n",
       "      <td>0</td>\n",
       "      <td>0</td>\n",
       "      <td>...</td>\n",
       "      <td>0</td>\n",
       "      <td>0</td>\n",
       "      <td>0</td>\n",
       "      <td>0</td>\n",
       "      <td>0</td>\n",
       "      <td>0</td>\n",
       "      <td>0</td>\n",
       "      <td>0</td>\n",
       "      <td>0</td>\n",
       "      <td>0</td>\n",
       "    </tr>\n",
       "    <tr>\n",
       "      <th>2</th>\n",
       "      <td>0</td>\n",
       "      <td>0</td>\n",
       "      <td>0</td>\n",
       "      <td>0</td>\n",
       "      <td>0</td>\n",
       "      <td>0</td>\n",
       "      <td>0</td>\n",
       "      <td>0</td>\n",
       "      <td>0</td>\n",
       "      <td>0</td>\n",
       "      <td>...</td>\n",
       "      <td>0</td>\n",
       "      <td>0</td>\n",
       "      <td>0</td>\n",
       "      <td>0</td>\n",
       "      <td>0</td>\n",
       "      <td>0</td>\n",
       "      <td>0</td>\n",
       "      <td>0</td>\n",
       "      <td>0</td>\n",
       "      <td>0</td>\n",
       "    </tr>\n",
       "    <tr>\n",
       "      <th>3</th>\n",
       "      <td>0</td>\n",
       "      <td>1</td>\n",
       "      <td>0</td>\n",
       "      <td>0</td>\n",
       "      <td>0</td>\n",
       "      <td>0</td>\n",
       "      <td>0</td>\n",
       "      <td>0</td>\n",
       "      <td>0</td>\n",
       "      <td>0</td>\n",
       "      <td>...</td>\n",
       "      <td>0</td>\n",
       "      <td>0</td>\n",
       "      <td>0</td>\n",
       "      <td>0</td>\n",
       "      <td>0</td>\n",
       "      <td>0</td>\n",
       "      <td>0</td>\n",
       "      <td>0</td>\n",
       "      <td>0</td>\n",
       "      <td>0</td>\n",
       "    </tr>\n",
       "    <tr>\n",
       "      <th>4</th>\n",
       "      <td>0</td>\n",
       "      <td>0</td>\n",
       "      <td>0</td>\n",
       "      <td>0</td>\n",
       "      <td>0</td>\n",
       "      <td>0</td>\n",
       "      <td>0</td>\n",
       "      <td>0</td>\n",
       "      <td>0</td>\n",
       "      <td>0</td>\n",
       "      <td>...</td>\n",
       "      <td>0</td>\n",
       "      <td>0</td>\n",
       "      <td>0</td>\n",
       "      <td>0</td>\n",
       "      <td>0</td>\n",
       "      <td>0</td>\n",
       "      <td>0</td>\n",
       "      <td>0</td>\n",
       "      <td>0</td>\n",
       "      <td>0</td>\n",
       "    </tr>\n",
       "  </tbody>\n",
       "</table>\n",
       "<p>5 rows × 100 columns</p>\n",
       "</div>"
      ],
      "text/plain": [
       "   art  just  tear  loz  like  best  wa  think  got  day  ...  recently  \\\n",
       "0    0     0     0    0     0     0   0      0    0    0  ...         0   \n",
       "1    0     0     0    0     0     0   0      0    0    0  ...         0   \n",
       "2    0     0     0    0     0     0   0      0    0    0  ...         0   \n",
       "3    0     1     0    0     0     0   0      0    0    0  ...         0   \n",
       "4    0     0     0    0     0     0   0      0    0    0  ...         0   \n",
       "\n",
       "   dungeon  opinion  island  beat  manga  ai  month  pretty  st  \n",
       "0        0        0       0     0      0   0      0       0   0  \n",
       "1        0        0       0     0      0   0      0       0   0  \n",
       "2        0        0       0     0      0   0      0       0   0  \n",
       "3        0        0       0     0      0   0      0       0   0  \n",
       "4        0        0       0     0      0   0      0       0   0  \n",
       "\n",
       "[5 rows x 100 columns]"
      ]
     },
     "execution_count": 60,
     "metadata": {},
     "output_type": "execute_result"
    }
   ],
   "source": [
    "zelda_top = zelda_words[zelda_pd.index]\n",
    "zelda_top.head()"
   ]
  },
  {
   "cell_type": "code",
   "execution_count": 61,
   "id": "c4ab16da",
   "metadata": {},
   "outputs": [
    {
     "name": "stdout",
     "output_type": "stream",
     "text": [
      "Most common words in Zelda Subreddits\n"
     ]
    },
    {
     "data": {
      "text/plain": [
       "art          131\n",
       "just         104\n",
       "tear          98\n",
       "loz           93\n",
       "like          80\n",
       "best          77\n",
       "wa            74\n",
       "think         68\n",
       "got           63\n",
       "day           61\n",
       "new           61\n",
       "year          57\n",
       "linktober     56\n",
       "make          55\n",
       "did           55\n",
       "guy           54\n",
       "ha            52\n",
       "play          51\n",
       "nintendo      51\n",
       "playing       50\n",
       "dtype: int64"
      ]
     },
     "execution_count": 61,
     "metadata": {},
     "output_type": "execute_result"
    }
   ],
   "source": [
    "# Which words appear the most in Zelda subreddits?\n",
    "word_counts = zelda_words.sum(axis=0)\n",
    "print(\"Most common words in Zelda Subreddits\")\n",
    "word_counts.sort_values(ascending = False).head(20)"
   ]
  },
  {
   "cell_type": "code",
   "execution_count": 62,
   "id": "aa0756fc",
   "metadata": {},
   "outputs": [],
   "source": [
    "zelda_top_20 = pd.DataFrame(word_counts.sort_values(ascending = False).head(20), columns=['count'])"
   ]
  },
  {
   "cell_type": "code",
   "execution_count": 63,
   "id": "e9a73ab5",
   "metadata": {
    "scrolled": false
   },
   "outputs": [
    {
     "data": {
      "image/png": "[encoded data removed]",
      "text/plain": [
       "<Figure size 720x720 with 1 Axes>"
      ]
     },
     "metadata": {},
     "output_type": "display_data"
    }
   ],
   "source": [
    "plt.figure(figsize=(10,10))\n",
    "plt.title('Comparing Unique Words',fontsize=20)\n",
    "\n",
    "set_a = set(mario_top_20.index)\n",
    "set_b = set(zelda_top_20.index)\n",
    "\n",
    "venn = venn2([set_a,set_b],set_labels=['Mario','Zelda'])\n",
    "venn.get_label_by_id('100').set_text('\\n'.join(map(str,set_a-set_b)))\n",
    "venn.get_label_by_id('110').set_text('\\n'.join(map(str,set_a&set_b)))\n",
    "venn.get_label_by_id('010').set_text('\\n'.join(map(str,set_b-set_a)))\n",
    "\n",
    "venn.get_label_by_id('A').set_size(20)\n",
    "venn.get_label_by_id('B').set_size(20)\n",
    "venn.get_label_by_id('100').set_size(13)\n",
    "venn.get_label_by_id('110').set_size(13)\n",
    "venn.get_label_by_id('010').set_size(13)"
   ]
  },
  {
   "cell_type": "markdown",
   "id": "429fc9ce",
   "metadata": {},
   "source": [
    "## Modelling"
   ]
  },
  {
   "cell_type": "markdown",
   "id": "df6aed27",
   "metadata": {},
   "source": [
    "### Naive Bayes -  MultinomialNB\n",
    "\n",
    "The Naive Bayes classification algorithm is a classification modelling technique that relies on Bayes Theorem and assumes that our features are independent of one another. The advantage of making such an assumption is that it makes it easier to calcualte probabilities but it is incredibly unrealistic especially in the case of text data. While our classiciations might be accurate, our predicted probabilities will usually be inaccurate. In particular, we will be using the `MultinomialNB` model in this case."
   ]
  },
  {
   "cell_type": "markdown",
   "id": "9014166e",
   "metadata": {},
   "source": [
    "### Messy Title Model (Baseline Model)"
   ]
  },
  {
   "cell_type": "code",
   "execution_count": 64,
   "id": "575da401",
   "metadata": {},
   "outputs": [],
   "source": [
    "X = df[\"title\"]\n",
    "y = df[\"target\"]"
   ]
  },
  {
   "cell_type": "code",
   "execution_count": 65,
   "id": "8b7e951f",
   "metadata": {},
   "outputs": [],
   "source": [
    "# Redefine training and testing sets.\n",
    "X_train, X_test, y_train, y_test = train_test_split(X,\n",
    "                                                    y,\n",
    "                                                    test_size=0.20,\n",
    "                                                    stratify=y,\n",
    "                                                    random_state=42)"
   ]
  },
  {
   "cell_type": "code",
   "execution_count": 66,
   "id": "46d9852e",
   "metadata": {},
   "outputs": [
    {
     "name": "stdout",
     "output_type": "stream",
     "text": [
      "(3768,) (942,) (3768,) (942,)\n"
     ]
    }
   ],
   "source": [
    "print(X_train.shape, X_test.shape, y_train.shape, y_test.shape)"
   ]
  },
  {
   "cell_type": "code",
   "execution_count": 67,
   "id": "c838501c",
   "metadata": {},
   "outputs": [],
   "source": [
    "# Let's set a pipeline up with two stages:\n",
    "# 1. CountVectorizer (transformer)\n",
    "# 2. Multinomial Naive Bayes (estimator)\n",
    "\n",
    "pipe = Pipeline([\n",
    "    (\"cvec\", CountVectorizer()), # Transformer (fit, transform)\n",
    "    (\"nb\", MultinomialNB()) # Estimator or model (fit, predict)    \n",
    "])\n",
    "\n",
    "# .predict() of MultinomialNB allows us to have a score to judge\n",
    "# our hyperparameters combinations when GridSearching"
   ]
  },
  {
   "cell_type": "code",
   "execution_count": 68,
   "id": "91c1a58f",
   "metadata": {},
   "outputs": [],
   "source": [
    "# Search over the following values of hyperparameters:\n",
    "# Maximum number of features fit: 500, 1000, 1500, 2000\n",
    "# Minimum number of documents needed to include token: 2, 3\n",
    "# Maximum number of documents needed to include token: 90%, 95%\n",
    "# Check (individual tokens) and also check (individual tokens and 2-grams).\n",
    "# Check Stop_words: None or English.\n",
    "\n",
    "pipe_params = {\n",
    "    \"cvec__max_features\":[500,1000,1500,2000],\n",
    "    \"cvec__min_df\": [2,3],\n",
    "    \"cvec__max_df\": [0.9,0.95],\n",
    "    \"cvec__ngram_range\": [(1,1),(1,2)],\n",
    "    \"cvec__stop_words\": [None,\"english\"]\n",
    "}\n",
    "\n",
    "# ngram_range of (1,1) just returns individual tokens\n",
    "# ngram_range of (1,2) just returns individual tokens AND bi-grams"
   ]
  },
  {
   "cell_type": "code",
   "execution_count": 69,
   "id": "98a17582",
   "metadata": {},
   "outputs": [],
   "source": [
    "# Instantiate GridSearchCV.\n",
    "\n",
    "gs = GridSearchCV(pipe, # what object are we optimizing?\n",
    "                  param_grid=pipe_params, # what parameters values are we searching?\n",
    "                  cv=5) # 5-fold cross-validation."
   ]
  },
  {
   "cell_type": "code",
   "execution_count": 70,
   "id": "fee86572",
   "metadata": {},
   "outputs": [
    {
     "name": "stdout",
     "output_type": "stream",
     "text": [
      "Runtime:19.901428937911987\n"
     ]
    }
   ],
   "source": [
    "# Fit GridSearch to training data.\n",
    "start_time = time.time()\n",
    "gs.fit(X_train,y_train)\n",
    "print(f\"Runtime:{time.time()-start_time}\")"
   ]
  },
  {
   "cell_type": "code",
   "execution_count": 71,
   "id": "204337f4",
   "metadata": {},
   "outputs": [
    {
     "data": {
      "text/plain": [
       "0.9673553355103017"
      ]
     },
     "execution_count": 71,
     "metadata": {},
     "output_type": "execute_result"
    }
   ],
   "source": [
    "# What's the best score?\n",
    "gs.best_score_"
   ]
  },
  {
   "cell_type": "code",
   "execution_count": 72,
   "id": "b0c0dd03",
   "metadata": {},
   "outputs": [
    {
     "data": {
      "text/plain": [
       "{'cvec__max_df': 0.9,\n",
       " 'cvec__max_features': 2000,\n",
       " 'cvec__min_df': 2,\n",
       " 'cvec__ngram_range': (1, 1),\n",
       " 'cvec__stop_words': None}"
      ]
     },
     "execution_count": 72,
     "metadata": {},
     "output_type": "execute_result"
    }
   ],
   "source": [
    "# What's the best params?\n",
    "gs.best_params_"
   ]
  },
  {
   "cell_type": "code",
   "execution_count": 73,
   "id": "7fb16f66",
   "metadata": {},
   "outputs": [
    {
     "data": {
      "text/plain": [
       "0.9803609341825902"
      ]
     },
     "execution_count": 73,
     "metadata": {},
     "output_type": "execute_result"
    }
   ],
   "source": [
    "# Score model on training set.\n",
    "# What is the score on a classifier? Accuracy\n",
    "gs.score(X_train,y_train)"
   ]
  },
  {
   "cell_type": "code",
   "execution_count": 74,
   "id": "6aefa341",
   "metadata": {},
   "outputs": [
    {
     "data": {
      "text/plain": [
       "0.9543524416135881"
      ]
     },
     "execution_count": 74,
     "metadata": {},
     "output_type": "execute_result"
    }
   ],
   "source": [
    "# Score model on testing set.\n",
    "gs.score(X_test,y_test)"
   ]
  },
  {
   "cell_type": "code",
   "execution_count": 75,
   "id": "3d175d81",
   "metadata": {},
   "outputs": [
    {
     "data": {
      "image/png": "[encoded data removed]",
      "text/plain": [
       "<Figure size 432x288 with 1 Axes>"
      ]
     },
     "metadata": {
      "needs_background": "light"
     },
     "output_type": "display_data"
    }
   ],
   "source": [
    "# Instantiate the transformer.\n",
    "tvec = TfidfVectorizer(stop_words=\"english\")\n",
    "\n",
    "# convert training data to dataframe\n",
    "X_train_df = pd.DataFrame(tvec.fit_transform(X_train).todense(), \n",
    "                          columns=tvec.get_feature_names_out())\n",
    "# Plot top 20 occuring words\n",
    "X_train_df.sum().sort_values(ascending=True).tail(20).plot(kind='barh')\n",
    "plt.title(\"Top 20 Common Words from both Subreddits\");"
   ]
  },
  {
   "cell_type": "markdown",
   "id": "71c7786d",
   "metadata": {},
   "source": [
    "Mario's character is mentioned more often than Zelda's. This is likely due to the movie as the release of the trailer for the new video game movie. The attention is mostly negative as the internet usually reacts. This is not beneficial to our analysis of video games. Hence, it would be removed."
   ]
  },
  {
   "cell_type": "markdown",
   "id": "f49addf0",
   "metadata": {},
   "source": [
    "## Cleaned Title Model (Remove \"Cheat words\")"
   ]
  },
  {
   "cell_type": "code",
   "execution_count": 76,
   "id": "8fa33ccb",
   "metadata": {},
   "outputs": [],
   "source": [
    "X = df[\"title_clean\"]\n",
    "y = df[\"target\"]"
   ]
  },
  {
   "cell_type": "code",
   "execution_count": 77,
   "id": "198ee047",
   "metadata": {},
   "outputs": [],
   "source": [
    "# Redefine training and testing sets.\n",
    "X_train, X_test, y_train, y_test = train_test_split(X,\n",
    "                                                    y,\n",
    "                                                    test_size=0.20,\n",
    "                                                    stratify=y,\n",
    "                                                    random_state=42)"
   ]
  },
  {
   "cell_type": "code",
   "execution_count": 78,
   "id": "0683f4c2",
   "metadata": {},
   "outputs": [
    {
     "name": "stdout",
     "output_type": "stream",
     "text": [
      "(3768,) (942,) (3768,) (942,)\n"
     ]
    }
   ],
   "source": [
    "print(X_train.shape, X_test.shape, y_train.shape, y_test.shape)"
   ]
  },
  {
   "cell_type": "code",
   "execution_count": 79,
   "id": "e8e1950e",
   "metadata": {},
   "outputs": [],
   "source": [
    "# Let's set a pipeline up with two stages:\n",
    "# 1. CountVectorizer (transformer)\n",
    "# 2. Multinomial Naive Bayes (estimator)\n",
    "\n",
    "pipe = Pipeline([\n",
    "    (\"cvec\", CountVectorizer()), # Transformer (fit, transform)\n",
    "    (\"nb\", MultinomialNB()) # Estimator or model (fit, predict)    \n",
    "])\n",
    "\n",
    "# .predict() of MultinomialNB allows us to have a score to judge\n",
    "# our hyperparameters combinations when GridSearching"
   ]
  },
  {
   "cell_type": "code",
   "execution_count": 80,
   "id": "da5754c3",
   "metadata": {},
   "outputs": [],
   "source": [
    "# Search over the following values of hyperparameters:\n",
    "# Maximum number of features fit: 500, 1000, 1500, 2000\n",
    "# Minimum number of documents needed to include token: 2, 3\n",
    "# Maximum number of documents needed to include token: 90%, 95%\n",
    "# Check (individual tokens) and also check (individual tokens and 2-grams).\n",
    "# Check Stop_words: None or English.\n",
    "\n",
    "pipe_params = {\n",
    "    \"cvec__max_features\":[500,1000,1500,2000],\n",
    "    \"cvec__min_df\": [2,3],\n",
    "    \"cvec__max_df\": [0.9,0.95],\n",
    "    \"cvec__ngram_range\": [(1,1),(1,2)],\n",
    "    \"cvec__stop_words\": [None,\"english\"]\n",
    "}\n",
    "\n",
    "# ngram_range of (1,1) just returns individual tokens\n",
    "# ngram_range of (1,2) just returns individual tokens AND bi-grams"
   ]
  },
  {
   "cell_type": "code",
   "execution_count": 81,
   "id": "b9f9cb62",
   "metadata": {},
   "outputs": [],
   "source": [
    "# Instantiate GridSearchCV.\n",
    "\n",
    "gs = GridSearchCV(pipe, # what object are we optimizing?\n",
    "                  param_grid=pipe_params, # what parameters values are we searching?\n",
    "                  cv=5) # 5-fold cross-validation."
   ]
  },
  {
   "cell_type": "code",
   "execution_count": 82,
   "id": "1177e6a9",
   "metadata": {},
   "outputs": [
    {
     "name": "stdout",
     "output_type": "stream",
     "text": [
      "Runtime:16.873473644256592\n"
     ]
    }
   ],
   "source": [
    "# Fit GridSearch to training data.\n",
    "start_time = time.time()\n",
    "gs.fit(X_train,y_train)\n",
    "print(f\"Runtime:{time.time()-start_time}\")"
   ]
  },
  {
   "cell_type": "code",
   "execution_count": 83,
   "id": "9ad36f42",
   "metadata": {},
   "outputs": [
    {
     "data": {
      "text/plain": [
       "0.8524434534188622"
      ]
     },
     "execution_count": 83,
     "metadata": {},
     "output_type": "execute_result"
    }
   ],
   "source": [
    "# What's the best score?\n",
    "gs.best_score_"
   ]
  },
  {
   "cell_type": "code",
   "execution_count": 84,
   "id": "cd67dfaa",
   "metadata": {},
   "outputs": [
    {
     "data": {
      "text/plain": [
       "{'cvec__max_df': 0.9,\n",
       " 'cvec__max_features': 2000,\n",
       " 'cvec__min_df': 2,\n",
       " 'cvec__ngram_range': (1, 1),\n",
       " 'cvec__stop_words': None}"
      ]
     },
     "execution_count": 84,
     "metadata": {},
     "output_type": "execute_result"
    }
   ],
   "source": [
    "# What's the best params?\n",
    "gs.best_params_"
   ]
  },
  {
   "cell_type": "code",
   "execution_count": 85,
   "id": "f747520d",
   "metadata": {},
   "outputs": [
    {
     "data": {
      "text/plain": [
       "0.9179936305732485"
      ]
     },
     "execution_count": 85,
     "metadata": {},
     "output_type": "execute_result"
    }
   ],
   "source": [
    "# Score model on training set.\n",
    "# What is the score on a classifier? Accuracy\n",
    "gs.score(X_train,y_train)"
   ]
  },
  {
   "cell_type": "code",
   "execution_count": 86,
   "id": "4e0d0d29",
   "metadata": {},
   "outputs": [
    {
     "data": {
      "text/plain": [
       "0.8450106157112527"
      ]
     },
     "execution_count": 86,
     "metadata": {},
     "output_type": "execute_result"
    }
   ],
   "source": [
    "# Score model on testing set.\n",
    "gs.score(X_test,y_test)"
   ]
  },
  {
   "cell_type": "code",
   "execution_count": 87,
   "id": "e41f58f7",
   "metadata": {},
   "outputs": [],
   "source": [
    "# Define score model dataframe for comparison\n",
    "list_of_rows = []\n",
    "score_df = pd.DataFrame()\n",
    "\n",
    "def modelscore(gsmodel,transformer,model,cheatword):\n",
    "    s = pd.Series({\"Transformer\": transformer, #\"CountVectorizer\",\"Tfid\" \n",
    "               \"Model\" : model, #\"MultinomialNB\",\"Logistic\"\n",
    "               \"Cheat Word\" : cheatword , #\"Included\" , \"Excluded\"\n",
    "               \"Train Score\" : gsmodel.score(X_train,y_train),\n",
    "               \"Test Score\" : gsmodel.score(X_test,y_test)\n",
    "               })\n",
    "    list_of_rows.append(s) \n",
    "    global score_df\n",
    "    score_df = pd.DataFrame(list_of_rows)\n",
    "    print(score_df)"
   ]
  },
  {
   "cell_type": "code",
   "execution_count": 88,
   "id": "f593ba07",
   "metadata": {},
   "outputs": [
    {
     "name": "stdout",
     "output_type": "stream",
     "text": [
      "       Transformer          Model Cheat Word  Train Score  Test Score\n",
      "0  CountVectorizer  MultinomialNB   Excluded     0.917994    0.845011\n"
     ]
    }
   ],
   "source": [
    "modelscore(gs, \"CountVectorizer\", \"MultinomialNB\", \"Excluded\")"
   ]
  },
  {
   "cell_type": "code",
   "execution_count": 89,
   "id": "4d9177de",
   "metadata": {},
   "outputs": [
    {
     "data": {
      "text/html": [
       "<div>\n",
       "<style scoped>\n",
       "    .dataframe tbody tr th:only-of-type {\n",
       "        vertical-align: middle;\n",
       "    }\n",
       "\n",
       "    .dataframe tbody tr th {\n",
       "        vertical-align: top;\n",
       "    }\n",
       "\n",
       "    .dataframe thead th {\n",
       "        text-align: right;\n",
       "    }\n",
       "</style>\n",
       "<table border=\"1\" class=\"dataframe\">\n",
       "  <thead>\n",
       "    <tr style=\"text-align: right;\">\n",
       "      <th></th>\n",
       "      <th>Transformer</th>\n",
       "      <th>Model</th>\n",
       "      <th>Cheat Word</th>\n",
       "      <th>Train Score</th>\n",
       "      <th>Test Score</th>\n",
       "    </tr>\n",
       "  </thead>\n",
       "  <tbody>\n",
       "    <tr>\n",
       "      <th>0</th>\n",
       "      <td>CountVectorizer</td>\n",
       "      <td>MultinomialNB</td>\n",
       "      <td>Excluded</td>\n",
       "      <td>0.917994</td>\n",
       "      <td>0.845011</td>\n",
       "    </tr>\n",
       "  </tbody>\n",
       "</table>\n",
       "</div>"
      ],
      "text/plain": [
       "       Transformer          Model Cheat Word  Train Score  Test Score\n",
       "0  CountVectorizer  MultinomialNB   Excluded     0.917994    0.845011"
      ]
     },
     "execution_count": 89,
     "metadata": {},
     "output_type": "execute_result"
    }
   ],
   "source": [
    "score_df.head()"
   ]
  },
  {
   "cell_type": "code",
   "execution_count": 90,
   "id": "4896d050",
   "metadata": {},
   "outputs": [],
   "source": [
    "# Let's set a pipeline up with two stages:\n",
    "# 1. TfidfVectorizer (transformer)\n",
    "# 2. Multinomial Naive Bayes (estimator)\n",
    "\n",
    "pipe_tvec = Pipeline([\n",
    "    (\"tvec\", TfidfVectorizer()), # Transformer (fit, transform)\n",
    "    (\"nb\", MultinomialNB()) # Estimator or model (fit, predict)    \n",
    "])\n",
    "\n",
    "# .predict() of MultinomialNB allows us to have a score to judge\n",
    "# our hyperparameters combinations when GridSearching"
   ]
  },
  {
   "cell_type": "code",
   "execution_count": 91,
   "id": "1a822bc7",
   "metadata": {},
   "outputs": [],
   "source": [
    "# Search over the following values of hyperparameters:\n",
    "# Maximum number of features fit: 500, 1000, 1500, 2000\n",
    "# No stop words and english stop words\n",
    "# Check (individual tokens) and also check (individual tokens and 2-grams).\n",
    "\n",
    "pipe_tvec_params = {\"tvec__max_features\" : [500,1000,1500,2000],\n",
    "                    \"tvec__min_df\": [2,3],\n",
    "                    \"tvec__max_df\": [0.9,0.95],\n",
    "                    \"tvec__stop_words\" : [None, \"english\"],\n",
    "                    \"tvec__ngram_range\" : [(1,1),(1,2)]\n",
    "                  }\n",
    "    "
   ]
  },
  {
   "cell_type": "code",
   "execution_count": 92,
   "id": "2009f748",
   "metadata": {},
   "outputs": [],
   "source": [
    "# Instantiate GridSearchCV.\n",
    "gs_tvec = GridSearchCV(estimator=pipe_tvec,\n",
    "                      param_grid=pipe_tvec_params,\n",
    "                      cv=5)"
   ]
  },
  {
   "cell_type": "code",
   "execution_count": 93,
   "id": "10acedfb",
   "metadata": {},
   "outputs": [
    {
     "data": {
      "text/html": [
       "<style>#sk-container-id-5 {color: black;background-color: white;}#sk-container-id-5 pre{padding: 0;}#sk-container-id-5 div.sk-toggleable {background-color: white;}#sk-container-id-5 label.sk-toggleable__label {cursor: pointer;display: block;width: 100%;margin-bottom: 0;padding: 0.3em;box-sizing: border-box;text-align: center;}#sk-container-id-5 label.sk-toggleable__label-arrow:before {content: \"▸\";float: left;margin-right: 0.25em;color: #696969;}#sk-container-id-5 label.sk-toggleable__label-arrow:hover:before {color: black;}#sk-container-id-5 div.sk-estimator:hover label.sk-toggleable__label-arrow:before {color: black;}#sk-container-id-5 div.sk-toggleable__content {max-height: 0;max-width: 0;overflow: hidden;text-align: left;background-color: #f0f8ff;}#sk-container-id-5 div.sk-toggleable__content pre {margin: 0.2em;color: black;border-radius: 0.25em;background-color: #f0f8ff;}#sk-container-id-5 input.sk-toggleable__control:checked~div.sk-toggleable__content {max-height: 200px;max-width: 100%;overflow: auto;}#sk-container-id-5 input.sk-toggleable__control:checked~label.sk-toggleable__label-arrow:before {content: \"▾\";}#sk-container-id-5 div.sk-estimator input.sk-toggleable__control:checked~label.sk-toggleable__label {background-color: #d4ebff;}#sk-container-id-5 div.sk-label input.sk-toggleable__control:checked~label.sk-toggleable__label {background-color: #d4ebff;}#sk-container-id-5 input.sk-hidden--visually {border: 0;clip: rect(1px 1px 1px 1px);clip: rect(1px, 1px, 1px, 1px);height: 1px;margin: -1px;overflow: hidden;padding: 0;position: absolute;width: 1px;}#sk-container-id-5 div.sk-estimator {font-family: monospace;background-color: #f0f8ff;border: 1px dotted black;border-radius: 0.25em;box-sizing: border-box;margin-bottom: 0.5em;}#sk-container-id-5 div.sk-estimator:hover {background-color: #d4ebff;}#sk-container-id-5 div.sk-parallel-item::after {content: \"\";width: 100%;border-bottom: 1px solid gray;flex-grow: 1;}#sk-container-id-5 div.sk-label:hover label.sk-toggleable__label {background-color: #d4ebff;}#sk-container-id-5 div.sk-serial::before {content: \"\";position: absolute;border-left: 1px solid gray;box-sizing: border-box;top: 0;bottom: 0;left: 50%;z-index: 0;}#sk-container-id-5 div.sk-serial {display: flex;flex-direction: column;align-items: center;background-color: white;padding-right: 0.2em;padding-left: 0.2em;position: relative;}#sk-container-id-5 div.sk-item {position: relative;z-index: 1;}#sk-container-id-5 div.sk-parallel {display: flex;align-items: stretch;justify-content: center;background-color: white;position: relative;}#sk-container-id-5 div.sk-item::before, #sk-container-id-5 div.sk-parallel-item::before {content: \"\";position: absolute;border-left: 1px solid gray;box-sizing: border-box;top: 0;bottom: 0;left: 50%;z-index: -1;}#sk-container-id-5 div.sk-parallel-item {display: flex;flex-direction: column;z-index: 1;position: relative;background-color: white;}#sk-container-id-5 div.sk-parallel-item:first-child::after {align-self: flex-end;width: 50%;}#sk-container-id-5 div.sk-parallel-item:last-child::after {align-self: flex-start;width: 50%;}#sk-container-id-5 div.sk-parallel-item:only-child::after {width: 0;}#sk-container-id-5 div.sk-dashed-wrapped {border: 1px dashed gray;margin: 0 0.4em 0.5em 0.4em;box-sizing: border-box;padding-bottom: 0.4em;background-color: white;}#sk-container-id-5 div.sk-label label {font-family: monospace;font-weight: bold;display: inline-block;line-height: 1.2em;}#sk-container-id-5 div.sk-label-container {text-align: center;}#sk-container-id-5 div.sk-container {/* jupyter's `normalize.less` sets `[hidden] { display: none; }` but bootstrap.min.css set `[hidden] { display: none !important; }` so we also need the `!important` here to be able to override the default hidden behavior on the sphinx rendered scikit-learn.org. See: https://github.com/scikit-learn/scikit-learn/issues/21755 */display: inline-block !important;position: relative;}#sk-container-id-5 div.sk-text-repr-fallback {display: none;}</style><div id=\"sk-container-id-5\" class=\"sk-top-container\"><div class=\"sk-text-repr-fallback\"><pre>GridSearchCV(cv=5,\n",
       "             estimator=Pipeline(steps=[(&#x27;tvec&#x27;, TfidfVectorizer()),\n",
       "                                       (&#x27;nb&#x27;, MultinomialNB())]),\n",
       "             param_grid={&#x27;tvec__max_df&#x27;: [0.9, 0.95],\n",
       "                         &#x27;tvec__max_features&#x27;: [500, 1000, 1500, 2000],\n",
       "                         &#x27;tvec__min_df&#x27;: [2, 3],\n",
       "                         &#x27;tvec__ngram_range&#x27;: [(1, 1), (1, 2)],\n",
       "                         &#x27;tvec__stop_words&#x27;: [None, &#x27;english&#x27;]})</pre><b>In a Jupyter environment, please rerun this cell to show the HTML representation or trust the notebook. <br />On GitHub, the HTML representation is unable to render, please try loading this page with nbviewer.org.</b></div><div class=\"sk-container\" hidden><div class=\"sk-item sk-dashed-wrapped\"><div class=\"sk-label-container\"><div class=\"sk-label sk-toggleable\"><input class=\"sk-toggleable__control sk-hidden--visually\" id=\"sk-estimator-id-5\" type=\"checkbox\" ><label for=\"sk-estimator-id-5\" class=\"sk-toggleable__label sk-toggleable__label-arrow\">GridSearchCV</label><div class=\"sk-toggleable__content\"><pre>GridSearchCV(cv=5,\n",
       "             estimator=Pipeline(steps=[(&#x27;tvec&#x27;, TfidfVectorizer()),\n",
       "                                       (&#x27;nb&#x27;, MultinomialNB())]),\n",
       "             param_grid={&#x27;tvec__max_df&#x27;: [0.9, 0.95],\n",
       "                         &#x27;tvec__max_features&#x27;: [500, 1000, 1500, 2000],\n",
       "                         &#x27;tvec__min_df&#x27;: [2, 3],\n",
       "                         &#x27;tvec__ngram_range&#x27;: [(1, 1), (1, 2)],\n",
       "                         &#x27;tvec__stop_words&#x27;: [None, &#x27;english&#x27;]})</pre></div></div></div><div class=\"sk-parallel\"><div class=\"sk-parallel-item\"><div class=\"sk-item\"><div class=\"sk-label-container\"><div class=\"sk-label sk-toggleable\"><input class=\"sk-toggleable__control sk-hidden--visually\" id=\"sk-estimator-id-6\" type=\"checkbox\" ><label for=\"sk-estimator-id-6\" class=\"sk-toggleable__label sk-toggleable__label-arrow\">estimator: Pipeline</label><div class=\"sk-toggleable__content\"><pre>Pipeline(steps=[(&#x27;tvec&#x27;, TfidfVectorizer()), (&#x27;nb&#x27;, MultinomialNB())])</pre></div></div></div><div class=\"sk-serial\"><div class=\"sk-item\"><div class=\"sk-serial\"><div class=\"sk-item\"><div class=\"sk-estimator sk-toggleable\"><input class=\"sk-toggleable__control sk-hidden--visually\" id=\"sk-estimator-id-7\" type=\"checkbox\" ><label for=\"sk-estimator-id-7\" class=\"sk-toggleable__label sk-toggleable__label-arrow\">TfidfVectorizer</label><div class=\"sk-toggleable__content\"><pre>TfidfVectorizer()</pre></div></div></div><div class=\"sk-item\"><div class=\"sk-estimator sk-toggleable\"><input class=\"sk-toggleable__control sk-hidden--visually\" id=\"sk-estimator-id-8\" type=\"checkbox\" ><label for=\"sk-estimator-id-8\" class=\"sk-toggleable__label sk-toggleable__label-arrow\">MultinomialNB</label><div class=\"sk-toggleable__content\"><pre>MultinomialNB()</pre></div></div></div></div></div></div></div></div></div></div></div></div>"
      ],
      "text/plain": [
       "GridSearchCV(cv=5,\n",
       "             estimator=Pipeline(steps=[('tvec', TfidfVectorizer()),\n",
       "                                       ('nb', MultinomialNB())]),\n",
       "             param_grid={'tvec__max_df': [0.9, 0.95],\n",
       "                         'tvec__max_features': [500, 1000, 1500, 2000],\n",
       "                         'tvec__min_df': [2, 3],\n",
       "                         'tvec__ngram_range': [(1, 1), (1, 2)],\n",
       "                         'tvec__stop_words': [None, 'english']})"
      ]
     },
     "execution_count": 93,
     "metadata": {},
     "output_type": "execute_result"
    }
   ],
   "source": [
    "# Fit GridSearch to training data.\n",
    "gs_tvec.fit(X_train,y_train)"
   ]
  },
  {
   "cell_type": "code",
   "execution_count": 94,
   "id": "3471c1a9",
   "metadata": {},
   "outputs": [
    {
     "data": {
      "text/plain": [
       "{'tvec__max_df': 0.9,\n",
       " 'tvec__max_features': 2000,\n",
       " 'tvec__min_df': 2,\n",
       " 'tvec__ngram_range': (1, 1),\n",
       " 'tvec__stop_words': None}"
      ]
     },
     "execution_count": 94,
     "metadata": {},
     "output_type": "execute_result"
    }
   ],
   "source": [
    "gs_tvec.best_params_"
   ]
  },
  {
   "cell_type": "code",
   "execution_count": 95,
   "id": "b72c6e2c",
   "metadata": {},
   "outputs": [
    {
     "data": {
      "text/plain": [
       "0.9267515923566879"
      ]
     },
     "execution_count": 95,
     "metadata": {},
     "output_type": "execute_result"
    }
   ],
   "source": [
    "# Score model on training set.\n",
    "gs_tvec.score(X_train,y_train)"
   ]
  },
  {
   "cell_type": "code",
   "execution_count": 96,
   "id": "55e8583a",
   "metadata": {},
   "outputs": [
    {
     "data": {
      "text/plain": [
       "0.8460721868365181"
      ]
     },
     "execution_count": 96,
     "metadata": {},
     "output_type": "execute_result"
    }
   ],
   "source": [
    "# Score model on testing set.\n",
    "gs_tvec.score(X_test,y_test)"
   ]
  },
  {
   "cell_type": "code",
   "execution_count": 97,
   "id": "bf83a9f8",
   "metadata": {},
   "outputs": [
    {
     "name": "stdout",
     "output_type": "stream",
     "text": [
      "       Transformer          Model Cheat Word  Train Score  Test Score\n",
      "0  CountVectorizer  MultinomialNB   Excluded     0.917994    0.845011\n",
      "1  TfidfVectorizer  MultinomialNB   Excluded     0.926752    0.846072\n"
     ]
    }
   ],
   "source": [
    "modelscore(gs_tvec, \"TfidfVectorizer\", \"MultinomialNB\", \"Excluded\")"
   ]
  },
  {
   "cell_type": "markdown",
   "id": "d0b2c7c3",
   "metadata": {},
   "source": [
    "## Logistic Regression Models"
   ]
  },
  {
   "cell_type": "markdown",
   "id": "75634f05",
   "metadata": {},
   "source": [
    "Logistic regression is the most common binary classification algorithm. It will predict continuous probabilities between 0 and 1"
   ]
  },
  {
   "cell_type": "code",
   "execution_count": 98,
   "id": "eb6c9f47",
   "metadata": {},
   "outputs": [
    {
     "name": "stdout",
     "output_type": "stream",
     "text": [
      "{'cvec__max_df': 0.9, 'cvec__max_features': 2000, 'cvec__min_df': 2, 'cvec__ngram_range': (1, 2), 'cvec__stop_words': None}\n",
      "       Transformer          Model Cheat Word  Train Score  Test Score\n",
      "0  CountVectorizer  MultinomialNB   Excluded     0.917994    0.845011\n",
      "1  TfidfVectorizer  MultinomialNB   Excluded     0.926752    0.846072\n",
      "2  CountVectorizer       Logistic   Excluded     0.967887    0.907643\n"
     ]
    }
   ],
   "source": [
    "# Let's set a pipeline up with two stages:\n",
    "# 1. CountfVectorizer (transformer)\n",
    "# 2. LogisticRegression (estimator)\n",
    "\n",
    "pipe_cvec_log = Pipeline([\n",
    "    (\"cvec\", CountVectorizer()), # Transformer (fit, transform)\n",
    "    (\"logreg\", LogisticRegression()) # Estimator or model (fit, predict)    \n",
    "])\n",
    "\n",
    "# .predict() of MultinomialNB allows us to have a score to judge\n",
    "# our hyperparameters combinations when GridSearching\n",
    "\n",
    "# Search over the following values of hyperparameters:\n",
    "# Maximum number of features fit: 500, 1000, 1500, 2000\n",
    "# No stop words and english stop words\n",
    "# Check (individual tokens) and also check (individual tokens and 2-grams).\n",
    "\n",
    "pipe_cvec_log_params = {\"cvec__max_features\":[500, 1000, 1500, 2000],\n",
    "                        \"cvec__min_df\": [2,3],\n",
    "                        \"cvec__max_df\": [0.9,0.95],\n",
    "                        \"cvec__ngram_range\": [(1,1),(1,2)],\n",
    "                        \"cvec__stop_words\": [None,\"english\"],\n",
    "                       }\n",
    "    \n",
    "\n",
    "# Instantiate GridSearchCV.\n",
    "gs_cvec_log = GridSearchCV(estimator=pipe_cvec_log,\n",
    "                      param_grid=pipe_cvec_log_params,\n",
    "                      cv=5)\n",
    "\n",
    "# Fit GridSearch to training data.\n",
    "gs_cvec_log.fit(X_train,y_train)\n",
    "\n",
    "# Check best parameter\n",
    "print(gs_cvec_log.best_params_)\n",
    "\n",
    "# Score model on training set.\n",
    "gs_cvec_log.score(X_train,y_train)\n",
    "\n",
    "# Score model on testing set.\n",
    "gs_cvec_log.score(X_test,y_test)\n",
    "\n",
    "# Prediction\n",
    "y_preds_cvec_log = gs_cvec_log.predict(X_test)\n",
    "\n",
    "# Probability \n",
    "pred_proba_cvec_log = gs_cvec_log.predict_proba(X_test)\n",
    "\n",
    "# Save model score to score dataframe\n",
    "modelscore(gs_cvec_log, \"CountVectorizer\", \"Logistic\", \"Excluded\")"
   ]
  },
  {
   "cell_type": "code",
   "execution_count": 99,
   "id": "c46d2c7d",
   "metadata": {},
   "outputs": [
    {
     "data": {
      "text/plain": [
       "Int64Index([3130, 2844, 4296,  972,   78, 3091, 1604, 4079, 2676,  491,\n",
       "            ...\n",
       "            4068, 4188, 4523, 4593, 2832, 3397, 3318, 2259, 1656, 1938],\n",
       "           dtype='int64', length=942)"
      ]
     },
     "execution_count": 99,
     "metadata": {},
     "output_type": "execute_result"
    }
   ],
   "source": [
    "X_test.index"
   ]
  },
  {
   "cell_type": "code",
   "execution_count": 100,
   "id": "313bad76",
   "metadata": {},
   "outputs": [
    {
     "name": "stdout",
     "output_type": "stream",
     "text": [
      "       Transformer          Model Cheat Word  Train Score  Test Score\n",
      "0  CountVectorizer  MultinomialNB   Excluded     0.917994    0.845011\n",
      "1  TfidfVectorizer  MultinomialNB   Excluded     0.926752    0.846072\n",
      "2  CountVectorizer       Logistic   Excluded     0.967887    0.907643\n",
      "3  TfidfVectorizer       Logistic   Excluded     0.957272    0.892781\n"
     ]
    }
   ],
   "source": [
    "# Let's set a pipeline up with two stages:\n",
    "# 1. TfidVectorizer (transformer)\n",
    "# 2. LogisticRegression (estimator)\n",
    "\n",
    "pipe_tvec_log = Pipeline([\n",
    "    (\"tvec\", TfidfVectorizer()), # Transformer (fit, transform)\n",
    "    (\"logreg\", LogisticRegression()) # Estimator or model (fit, predict)    \n",
    "])\n",
    "\n",
    "# .predict() of MultinomialNB allows us to have a score to judge\n",
    "# our hyperparameters combinations when GridSearching\n",
    "\n",
    "# Search over the following values of hyperparameters:\n",
    "# Maximum number of features fit: 2000, 3000, 4000, 5000\n",
    "# No stop words and english stop words\n",
    "# Check (individual tokens) and also check (individual tokens and 2-grams).\n",
    "\n",
    "pipe_tvec_log_params = {\"tvec__max_features\" : [2000,3000,4000,5000],\n",
    "                        \"tvec__min_df\": [2,3],\n",
    "                        \"tvec__max_df\": [0.9,0.95],\n",
    "                        \"tvec__stop_words\" : [None, \"english\"],\n",
    "                        \"tvec__ngram_range\" : [(1,1),(1,2)]\n",
    "                       }\n",
    "    \n",
    "\n",
    "# Instantiate GridSearchCV.\n",
    "gs_tvec_log = GridSearchCV(estimator=pipe_tvec_log,\n",
    "                      param_grid=pipe_tvec_log_params,\n",
    "                      cv=5)\n",
    "\n",
    "# Fit GridSearch to training data.\n",
    "gs_tvec_log.fit(X_train,y_train)\n",
    "\n",
    "gs_tvec_log.best_params_\n",
    "\n",
    "# Score model on training set.\n",
    "gs_tvec_log.score(X_train,y_train)\n",
    "\n",
    "# Score model on testing set.\n",
    "gs_tvec_log.score(X_test,y_test)\n",
    "\n",
    "# Prediction\n",
    "y_preds_tvec_log = gs_tvec_log.predict(X_test)\n",
    "\n",
    "# Probability \n",
    "pred_proba_tvec_log = gs_tvec_log.predict_proba(X_test)\n",
    "\n",
    "# Save model score to score dataframe\n",
    "modelscore(gs_tvec_log, \"TfidfVectorizer\", \"Logistic\", \"Excluded\")"
   ]
  },
  {
   "cell_type": "code",
   "execution_count": 101,
   "id": "655dd418",
   "metadata": {},
   "outputs": [
    {
     "data": {
      "text/html": [
       "<div>\n",
       "<style scoped>\n",
       "    .dataframe tbody tr th:only-of-type {\n",
       "        vertical-align: middle;\n",
       "    }\n",
       "\n",
       "    .dataframe tbody tr th {\n",
       "        vertical-align: top;\n",
       "    }\n",
       "\n",
       "    .dataframe thead th {\n",
       "        text-align: right;\n",
       "    }\n",
       "</style>\n",
       "<table border=\"1\" class=\"dataframe\">\n",
       "  <thead>\n",
       "    <tr style=\"text-align: right;\">\n",
       "      <th></th>\n",
       "      <th>Transformer</th>\n",
       "      <th>Model</th>\n",
       "      <th>Cheat Word</th>\n",
       "      <th>Train Score</th>\n",
       "      <th>Test Score</th>\n",
       "    </tr>\n",
       "  </thead>\n",
       "  <tbody>\n",
       "    <tr>\n",
       "      <th>0</th>\n",
       "      <td>CountVectorizer</td>\n",
       "      <td>MultinomialNB</td>\n",
       "      <td>Excluded</td>\n",
       "      <td>0.917994</td>\n",
       "      <td>0.845011</td>\n",
       "    </tr>\n",
       "    <tr>\n",
       "      <th>1</th>\n",
       "      <td>TfidfVectorizer</td>\n",
       "      <td>MultinomialNB</td>\n",
       "      <td>Excluded</td>\n",
       "      <td>0.926752</td>\n",
       "      <td>0.846072</td>\n",
       "    </tr>\n",
       "    <tr>\n",
       "      <th>2</th>\n",
       "      <td>CountVectorizer</td>\n",
       "      <td>Logistic</td>\n",
       "      <td>Excluded</td>\n",
       "      <td>0.967887</td>\n",
       "      <td>0.907643</td>\n",
       "    </tr>\n",
       "    <tr>\n",
       "      <th>3</th>\n",
       "      <td>TfidfVectorizer</td>\n",
       "      <td>Logistic</td>\n",
       "      <td>Excluded</td>\n",
       "      <td>0.957272</td>\n",
       "      <td>0.892781</td>\n",
       "    </tr>\n",
       "  </tbody>\n",
       "</table>\n",
       "</div>"
      ],
      "text/plain": [
       "       Transformer          Model Cheat Word  Train Score  Test Score\n",
       "0  CountVectorizer  MultinomialNB   Excluded     0.917994    0.845011\n",
       "1  TfidfVectorizer  MultinomialNB   Excluded     0.926752    0.846072\n",
       "2  CountVectorizer       Logistic   Excluded     0.967887    0.907643\n",
       "3  TfidfVectorizer       Logistic   Excluded     0.957272    0.892781"
      ]
     },
     "execution_count": 101,
     "metadata": {},
     "output_type": "execute_result"
    }
   ],
   "source": [
    "score_df"
   ]
  },
  {
   "cell_type": "markdown",
   "id": "33ec555d",
   "metadata": {},
   "source": [
    "**Error Analysis**"
   ]
  },
  {
   "cell_type": "code",
   "execution_count": 102,
   "id": "7954e11b",
   "metadata": {},
   "outputs": [
    {
     "data": {
      "text/html": [
       "<div>\n",
       "<style scoped>\n",
       "    .dataframe tbody tr th:only-of-type {\n",
       "        vertical-align: middle;\n",
       "    }\n",
       "\n",
       "    .dataframe tbody tr th {\n",
       "        vertical-align: top;\n",
       "    }\n",
       "\n",
       "    .dataframe thead th {\n",
       "        text-align: right;\n",
       "    }\n",
       "</style>\n",
       "<table border=\"1\" class=\"dataframe\">\n",
       "  <thead>\n",
       "    <tr style=\"text-align: right;\">\n",
       "      <th></th>\n",
       "      <th>subreddit</th>\n",
       "      <th>target</th>\n",
       "      <th>title</th>\n",
       "      <th>title_clean</th>\n",
       "    </tr>\n",
       "  </thead>\n",
       "  <tbody>\n",
       "    <tr>\n",
       "      <th>0</th>\n",
       "      <td>Mario</td>\n",
       "      <td>1</td>\n",
       "      <td>Super Mario Movie Trailer MEGATHREAD</td>\n",
       "      <td>megathread</td>\n",
       "    </tr>\n",
       "    <tr>\n",
       "      <th>1</th>\n",
       "      <td>Mario</td>\n",
       "      <td>1</td>\n",
       "      <td>Karma farming posts get removed, egregious rep...</td>\n",
       "      <td>karma farming post get removed egregious repos...</td>\n",
       "    </tr>\n",
       "    <tr>\n",
       "      <th>2</th>\n",
       "      <td>Mario</td>\n",
       "      <td>1</td>\n",
       "      <td>If there are power ups in the movie, how do yo...</td>\n",
       "      <td>if there are power ups in the how do you think...</td>\n",
       "    </tr>\n",
       "    <tr>\n",
       "      <th>3</th>\n",
       "      <td>Mario</td>\n",
       "      <td>1</td>\n",
       "      <td>I'm still thinking about the Mario Movie so I ...</td>\n",
       "      <td>i m still thinking about the so penguin scene ...</td>\n",
       "    </tr>\n",
       "    <tr>\n",
       "      <th>4</th>\n",
       "      <td>Mario</td>\n",
       "      <td>1</td>\n",
       "      <td>I understand the disappointment of Charles Mar...</td>\n",
       "      <td>i understand the disappointment of not voicing...</td>\n",
       "    </tr>\n",
       "    <tr>\n",
       "      <th>...</th>\n",
       "      <td>...</td>\n",
       "      <td>...</td>\n",
       "      <td>...</td>\n",
       "      <td>...</td>\n",
       "    </tr>\n",
       "    <tr>\n",
       "      <th>4705</th>\n",
       "      <td>zelda</td>\n",
       "      <td>0</td>\n",
       "      <td>[TotK] Nintendo clears up confusion over Zelda...</td>\n",
       "      <td>nintendo clear up confusion over tear of the s...</td>\n",
       "    </tr>\n",
       "    <tr>\n",
       "      <th>4706</th>\n",
       "      <td>zelda</td>\n",
       "      <td>0</td>\n",
       "      <td>[BoTW] [TotK] Zelda and Link. (By @softp3ach_)</td>\n",
       "      <td>and by softpach</td>\n",
       "    </tr>\n",
       "    <tr>\n",
       "      <th>4707</th>\n",
       "      <td>zelda</td>\n",
       "      <td>0</td>\n",
       "      <td>[TP] [SS] - Which Zelda game is better? Twilig...</td>\n",
       "      <td>which is better for wii or</td>\n",
       "    </tr>\n",
       "    <tr>\n",
       "      <th>4708</th>\n",
       "      <td>zelda</td>\n",
       "      <td>0</td>\n",
       "      <td>[BoTW] Mid 20s problems for Zelda players</td>\n",
       "      <td>mid problem for player</td>\n",
       "    </tr>\n",
       "    <tr>\n",
       "      <th>4709</th>\n",
       "      <td>zelda</td>\n",
       "      <td>0</td>\n",
       "      <td>[MM] Majora's Mask: How They Made The Clock To...</td>\n",
       "      <td>s how they made the clock tower bell sound</td>\n",
       "    </tr>\n",
       "  </tbody>\n",
       "</table>\n",
       "<p>4710 rows × 4 columns</p>\n",
       "</div>"
      ],
      "text/plain": [
       "     subreddit  target                                              title  \\\n",
       "0        Mario       1               Super Mario Movie Trailer MEGATHREAD   \n",
       "1        Mario       1  Karma farming posts get removed, egregious rep...   \n",
       "2        Mario       1  If there are power ups in the movie, how do yo...   \n",
       "3        Mario       1  I'm still thinking about the Mario Movie so I ...   \n",
       "4        Mario       1  I understand the disappointment of Charles Mar...   \n",
       "...        ...     ...                                                ...   \n",
       "4705     zelda       0  [TotK] Nintendo clears up confusion over Zelda...   \n",
       "4706     zelda       0     [BoTW] [TotK] Zelda and Link. (By @softp3ach_)   \n",
       "4707     zelda       0  [TP] [SS] - Which Zelda game is better? Twilig...   \n",
       "4708     zelda       0          [BoTW] Mid 20s problems for Zelda players   \n",
       "4709     zelda       0  [MM] Majora's Mask: How They Made The Clock To...   \n",
       "\n",
       "                                            title_clean  \n",
       "0                                            megathread  \n",
       "1     karma farming post get removed egregious repos...  \n",
       "2     if there are power ups in the how do you think...  \n",
       "3     i m still thinking about the so penguin scene ...  \n",
       "4     i understand the disappointment of not voicing...  \n",
       "...                                                 ...  \n",
       "4705  nintendo clear up confusion over tear of the s...  \n",
       "4706                                    and by softpach  \n",
       "4707                         which is better for wii or  \n",
       "4708                             mid problem for player  \n",
       "4709         s how they made the clock tower bell sound  \n",
       "\n",
       "[4710 rows x 4 columns]"
      ]
     },
     "execution_count": 102,
     "metadata": {},
     "output_type": "execute_result"
    }
   ],
   "source": [
    "df"
   ]
  },
  {
   "cell_type": "code",
   "execution_count": 103,
   "id": "b8c36477",
   "metadata": {},
   "outputs": [],
   "source": [
    "# Instantiate Model\n",
    "cvec = CountVectorizer(stop_words = \"english\")"
   ]
  },
  {
   "cell_type": "markdown",
   "id": "c2dd47e1",
   "metadata": {},
   "source": [
    "'cvec__max_df': 0.9, 'cvec__max_features': 5000, 'cvec__min_df': 2, 'cvec__ngram_range': (1, 2), 'cvec__stop_words': None"
   ]
  },
  {
   "cell_type": "code",
   "execution_count": 104,
   "id": "0b9ee2f3",
   "metadata": {},
   "outputs": [
    {
     "data": {
      "text/html": [
       "<style>#sk-container-id-6 {color: black;background-color: white;}#sk-container-id-6 pre{padding: 0;}#sk-container-id-6 div.sk-toggleable {background-color: white;}#sk-container-id-6 label.sk-toggleable__label {cursor: pointer;display: block;width: 100%;margin-bottom: 0;padding: 0.3em;box-sizing: border-box;text-align: center;}#sk-container-id-6 label.sk-toggleable__label-arrow:before {content: \"▸\";float: left;margin-right: 0.25em;color: #696969;}#sk-container-id-6 label.sk-toggleable__label-arrow:hover:before {color: black;}#sk-container-id-6 div.sk-estimator:hover label.sk-toggleable__label-arrow:before {color: black;}#sk-container-id-6 div.sk-toggleable__content {max-height: 0;max-width: 0;overflow: hidden;text-align: left;background-color: #f0f8ff;}#sk-container-id-6 div.sk-toggleable__content pre {margin: 0.2em;color: black;border-radius: 0.25em;background-color: #f0f8ff;}#sk-container-id-6 input.sk-toggleable__control:checked~div.sk-toggleable__content {max-height: 200px;max-width: 100%;overflow: auto;}#sk-container-id-6 input.sk-toggleable__control:checked~label.sk-toggleable__label-arrow:before {content: \"▾\";}#sk-container-id-6 div.sk-estimator input.sk-toggleable__control:checked~label.sk-toggleable__label {background-color: #d4ebff;}#sk-container-id-6 div.sk-label input.sk-toggleable__control:checked~label.sk-toggleable__label {background-color: #d4ebff;}#sk-container-id-6 input.sk-hidden--visually {border: 0;clip: rect(1px 1px 1px 1px);clip: rect(1px, 1px, 1px, 1px);height: 1px;margin: -1px;overflow: hidden;padding: 0;position: absolute;width: 1px;}#sk-container-id-6 div.sk-estimator {font-family: monospace;background-color: #f0f8ff;border: 1px dotted black;border-radius: 0.25em;box-sizing: border-box;margin-bottom: 0.5em;}#sk-container-id-6 div.sk-estimator:hover {background-color: #d4ebff;}#sk-container-id-6 div.sk-parallel-item::after {content: \"\";width: 100%;border-bottom: 1px solid gray;flex-grow: 1;}#sk-container-id-6 div.sk-label:hover label.sk-toggleable__label {background-color: #d4ebff;}#sk-container-id-6 div.sk-serial::before {content: \"\";position: absolute;border-left: 1px solid gray;box-sizing: border-box;top: 0;bottom: 0;left: 50%;z-index: 0;}#sk-container-id-6 div.sk-serial {display: flex;flex-direction: column;align-items: center;background-color: white;padding-right: 0.2em;padding-left: 0.2em;position: relative;}#sk-container-id-6 div.sk-item {position: relative;z-index: 1;}#sk-container-id-6 div.sk-parallel {display: flex;align-items: stretch;justify-content: center;background-color: white;position: relative;}#sk-container-id-6 div.sk-item::before, #sk-container-id-6 div.sk-parallel-item::before {content: \"\";position: absolute;border-left: 1px solid gray;box-sizing: border-box;top: 0;bottom: 0;left: 50%;z-index: -1;}#sk-container-id-6 div.sk-parallel-item {display: flex;flex-direction: column;z-index: 1;position: relative;background-color: white;}#sk-container-id-6 div.sk-parallel-item:first-child::after {align-self: flex-end;width: 50%;}#sk-container-id-6 div.sk-parallel-item:last-child::after {align-self: flex-start;width: 50%;}#sk-container-id-6 div.sk-parallel-item:only-child::after {width: 0;}#sk-container-id-6 div.sk-dashed-wrapped {border: 1px dashed gray;margin: 0 0.4em 0.5em 0.4em;box-sizing: border-box;padding-bottom: 0.4em;background-color: white;}#sk-container-id-6 div.sk-label label {font-family: monospace;font-weight: bold;display: inline-block;line-height: 1.2em;}#sk-container-id-6 div.sk-label-container {text-align: center;}#sk-container-id-6 div.sk-container {/* jupyter's `normalize.less` sets `[hidden] { display: none; }` but bootstrap.min.css set `[hidden] { display: none !important; }` so we also need the `!important` here to be able to override the default hidden behavior on the sphinx rendered scikit-learn.org. See: https://github.com/scikit-learn/scikit-learn/issues/21755 */display: inline-block !important;position: relative;}#sk-container-id-6 div.sk-text-repr-fallback {display: none;}</style><div id=\"sk-container-id-6\" class=\"sk-top-container\"><div class=\"sk-text-repr-fallback\"><pre>CountVectorizer(stop_words=&#x27;english&#x27;)</pre><b>In a Jupyter environment, please rerun this cell to show the HTML representation or trust the notebook. <br />On GitHub, the HTML representation is unable to render, please try loading this page with nbviewer.org.</b></div><div class=\"sk-container\" hidden><div class=\"sk-item\"><div class=\"sk-estimator sk-toggleable\"><input class=\"sk-toggleable__control sk-hidden--visually\" id=\"sk-estimator-id-9\" type=\"checkbox\" checked><label for=\"sk-estimator-id-9\" class=\"sk-toggleable__label sk-toggleable__label-arrow\">CountVectorizer</label><div class=\"sk-toggleable__content\"><pre>CountVectorizer(stop_words=&#x27;english&#x27;)</pre></div></div></div></div></div>"
      ],
      "text/plain": [
       "CountVectorizer(stop_words='english')"
      ]
     },
     "execution_count": 104,
     "metadata": {},
     "output_type": "execute_result"
    }
   ],
   "source": [
    "# Fit\n",
    "cvec.fit(X_train)"
   ]
  },
  {
   "cell_type": "code",
   "execution_count": 105,
   "id": "339124b4",
   "metadata": {},
   "outputs": [],
   "source": [
    "# Transform the corpus\n",
    "X_train = cvec.transform(X_train)"
   ]
  },
  {
   "cell_type": "code",
   "execution_count": 106,
   "id": "7f7581cc",
   "metadata": {},
   "outputs": [],
   "source": [
    "train_df = pd.DataFrame(X_train.todense(), \n",
    "                        columns=cvec.get_feature_names_out())"
   ]
  },
  {
   "cell_type": "code",
   "execution_count": 107,
   "id": "91ab948c",
   "metadata": {},
   "outputs": [],
   "source": [
    "train_df[\"target\"] = y_train.values"
   ]
  },
  {
   "cell_type": "code",
   "execution_count": 108,
   "id": "f3fb948c",
   "metadata": {},
   "outputs": [
    {
     "data": {
      "image/png": "[encoded data removed]",
      "text/plain": [
       "<Figure size 432x288 with 1 Axes>"
      ]
     },
     "metadata": {
      "needs_background": "light"
     },
     "output_type": "display_data"
    }
   ],
   "source": [
    "train_df.groupby('target').sum()\\\n",
    ".T.sort_values(1, ascending=True).tail(20).plot.barh();"
   ]
  },
  {
   "cell_type": "markdown",
   "id": "a5be9053",
   "metadata": {},
   "source": [
    "## Evaluation "
   ]
  },
  {
   "cell_type": "markdown",
   "id": "566fe1ad",
   "metadata": {},
   "source": [
    "Evaluation of the best model to"
   ]
  },
  {
   "cell_type": "code",
   "execution_count": 109,
   "id": "cf042ea8",
   "metadata": {},
   "outputs": [],
   "source": [
    "cm = confusion_matrix(y_test, y_preds_cvec_log)"
   ]
  },
  {
   "cell_type": "code",
   "execution_count": 110,
   "id": "470214c7",
   "metadata": {},
   "outputs": [],
   "source": [
    "tn, fp, fn, tp = confusion_matrix(y_test, y_preds_cvec_log).ravel()"
   ]
  },
  {
   "cell_type": "code",
   "execution_count": 111,
   "id": "ef82b958",
   "metadata": {},
   "outputs": [
    {
     "data": {
      "image/png": "[encoded data removed]",
      "text/plain": [
       "<Figure size 432x288 with 2 Axes>"
      ]
     },
     "metadata": {
      "needs_background": "light"
     },
     "output_type": "display_data"
    }
   ],
   "source": [
    "ConfusionMatrixDisplay(cm, display_labels=gs_tvec_log.classes_).plot();"
   ]
  },
  {
   "cell_type": "code",
   "execution_count": 112,
   "id": "9eda30e4",
   "metadata": {},
   "outputs": [
    {
     "data": {
      "text/plain": [
       "53"
      ]
     },
     "execution_count": 112,
     "metadata": {},
     "output_type": "execute_result"
    }
   ],
   "source": [
    "fp"
   ]
  },
  {
   "cell_type": "code",
   "execution_count": null,
   "id": "4130002f",
   "metadata": {},
   "outputs": [],
   "source": [
    "%%"
   ]
  },
  {
   "cell_type": "code",
   "execution_count": 113,
   "id": "40ac9fbc",
   "metadata": {},
   "outputs": [
    {
     "data": {
      "text/plain": [
       "array([[0.71316487, 0.28683513],\n",
       "       [0.59414195, 0.40585805],\n",
       "       [0.69327566, 0.30672434],\n",
       "       ...,\n",
       "       [0.98986882, 0.01013118],\n",
       "       [0.04570985, 0.95429015],\n",
       "       [0.30112926, 0.69887074]])"
      ]
     },
     "execution_count": 113,
     "metadata": {},
     "output_type": "execute_result"
    }
   ],
   "source": [
    "pred_proba_cvec_log"
   ]
  },
  {
   "cell_type": "code",
   "execution_count": 114,
   "id": "e11c4f2a",
   "metadata": {},
   "outputs": [
    {
     "data": {
      "text/html": [
       "<div>\n",
       "<style scoped>\n",
       "    .dataframe tbody tr th:only-of-type {\n",
       "        vertical-align: middle;\n",
       "    }\n",
       "\n",
       "    .dataframe tbody tr th {\n",
       "        vertical-align: top;\n",
       "    }\n",
       "\n",
       "    .dataframe thead th {\n",
       "        text-align: right;\n",
       "    }\n",
       "</style>\n",
       "<table border=\"1\" class=\"dataframe\">\n",
       "  <thead>\n",
       "    <tr style=\"text-align: right;\">\n",
       "      <th></th>\n",
       "      <th>true_values</th>\n",
       "      <th>pred_probs</th>\n",
       "    </tr>\n",
       "  </thead>\n",
       "  <tbody>\n",
       "    <tr>\n",
       "      <th>3130</th>\n",
       "      <td>0</td>\n",
       "      <td>0.074456</td>\n",
       "    </tr>\n",
       "    <tr>\n",
       "      <th>2844</th>\n",
       "      <td>0</td>\n",
       "      <td>0.027340</td>\n",
       "    </tr>\n",
       "    <tr>\n",
       "      <th>4296</th>\n",
       "      <td>0</td>\n",
       "      <td>0.394553</td>\n",
       "    </tr>\n",
       "    <tr>\n",
       "      <th>972</th>\n",
       "      <td>1</td>\n",
       "      <td>0.999457</td>\n",
       "    </tr>\n",
       "    <tr>\n",
       "      <th>78</th>\n",
       "      <td>1</td>\n",
       "      <td>0.274863</td>\n",
       "    </tr>\n",
       "  </tbody>\n",
       "</table>\n",
       "</div>"
      ],
      "text/plain": [
       "      true_values  pred_probs\n",
       "3130            0    0.074456\n",
       "2844            0    0.027340\n",
       "4296            0    0.394553\n",
       "972             1    0.999457\n",
       "78              1    0.274863"
      ]
     },
     "execution_count": 114,
     "metadata": {},
     "output_type": "execute_result"
    }
   ],
   "source": [
    "pred_proba = [i[1] for i in gs.predict_proba(X_test)]\n",
    "\n",
    "pred_df = pd.DataFrame({'true_values': y_test,\n",
    "                        'pred_probs':pred_proba})\n",
    "\n",
    "pred_df.head()"
   ]
  },
  {
   "cell_type": "code",
   "execution_count": 115,
   "id": "bdb41c34",
   "metadata": {},
   "outputs": [],
   "source": [
    "test_df = pd.DataFrame(X_test)\n",
    "test_df['actual_class'] = y_test\n",
    "test_df['predict_class'] = y_preds_cvec_log\n",
    "pred_proba = [i[0] for i in gs.predict_proba(X_test)]\n",
    "test_df['probability'] = pred_proba"
   ]
  },
  {
   "cell_type": "code",
   "execution_count": 116,
   "id": "9a48144d",
   "metadata": {
    "scrolled": true
   },
   "outputs": [
    {
     "data": {
      "text/html": [
       "<div>\n",
       "<style scoped>\n",
       "    .dataframe tbody tr th:only-of-type {\n",
       "        vertical-align: middle;\n",
       "    }\n",
       "\n",
       "    .dataframe tbody tr th {\n",
       "        vertical-align: top;\n",
       "    }\n",
       "\n",
       "    .dataframe thead th {\n",
       "        text-align: right;\n",
       "    }\n",
       "</style>\n",
       "<table border=\"1\" class=\"dataframe\">\n",
       "  <thead>\n",
       "    <tr style=\"text-align: right;\">\n",
       "      <th></th>\n",
       "      <th>title_clean</th>\n",
       "      <th>actual_class</th>\n",
       "      <th>predict_class</th>\n",
       "      <th>probability</th>\n",
       "    </tr>\n",
       "  </thead>\n",
       "  <tbody>\n",
       "    <tr>\n",
       "      <th>3130</th>\n",
       "      <td>alttp i hate the freaking swamp palace</td>\n",
       "      <td>0</td>\n",
       "      <td>0</td>\n",
       "      <td>0.925544</td>\n",
       "    </tr>\n",
       "    <tr>\n",
       "      <th>2844</th>\n",
       "      <td>i accidently did the glitch while getting fish</td>\n",
       "      <td>0</td>\n",
       "      <td>0</td>\n",
       "      <td>0.972660</td>\n",
       "    </tr>\n",
       "    <tr>\n",
       "      <th>4296</th>\n",
       "      <td>some fanart by me always had my favorite desig...</td>\n",
       "      <td>0</td>\n",
       "      <td>0</td>\n",
       "      <td>0.605447</td>\n",
       "    </tr>\n",
       "    <tr>\n",
       "      <th>972</th>\n",
       "      <td>also some of the criticizers could be a little...</td>\n",
       "      <td>1</td>\n",
       "      <td>1</td>\n",
       "      <td>0.000543</td>\n",
       "    </tr>\n",
       "    <tr>\n",
       "      <th>78</th>\n",
       "      <td>the best or</td>\n",
       "      <td>1</td>\n",
       "      <td>1</td>\n",
       "      <td>0.725137</td>\n",
       "    </tr>\n",
       "    <tr>\n",
       "      <th>...</th>\n",
       "      <td>...</td>\n",
       "      <td>...</td>\n",
       "      <td>...</td>\n",
       "      <td>...</td>\n",
       "    </tr>\n",
       "    <tr>\n",
       "      <th>3397</th>\n",
       "      <td>wwoc doing linktober this year and today s pro...</td>\n",
       "      <td>0</td>\n",
       "      <td>0</td>\n",
       "      <td>1.000000</td>\n",
       "    </tr>\n",
       "    <tr>\n",
       "      <th>3318</th>\n",
       "      <td>by winterregalia</td>\n",
       "      <td>0</td>\n",
       "      <td>0</td>\n",
       "      <td>0.861393</td>\n",
       "    </tr>\n",
       "    <tr>\n",
       "      <th>2259</th>\n",
       "      <td>all which of these creeped you the most in</td>\n",
       "      <td>0</td>\n",
       "      <td>0</td>\n",
       "      <td>0.956870</td>\n",
       "    </tr>\n",
       "    <tr>\n",
       "      <th>1656</th>\n",
       "      <td>who s ready to ruin this for their kid</td>\n",
       "      <td>1</td>\n",
       "      <td>1</td>\n",
       "      <td>0.003627</td>\n",
       "    </tr>\n",
       "    <tr>\n",
       "      <th>1938</th>\n",
       "      <td>spider by thegreyzen</td>\n",
       "      <td>1</td>\n",
       "      <td>1</td>\n",
       "      <td>0.643368</td>\n",
       "    </tr>\n",
       "  </tbody>\n",
       "</table>\n",
       "<p>942 rows × 4 columns</p>\n",
       "</div>"
      ],
      "text/plain": [
       "                                            title_clean  actual_class  \\\n",
       "3130             alttp i hate the freaking swamp palace             0   \n",
       "2844     i accidently did the glitch while getting fish             0   \n",
       "4296  some fanart by me always had my favorite desig...             0   \n",
       "972   also some of the criticizers could be a little...             1   \n",
       "78                                          the best or             1   \n",
       "...                                                 ...           ...   \n",
       "3397  wwoc doing linktober this year and today s pro...             0   \n",
       "3318                                   by winterregalia             0   \n",
       "2259         all which of these creeped you the most in             0   \n",
       "1656             who s ready to ruin this for their kid             1   \n",
       "1938                               spider by thegreyzen             1   \n",
       "\n",
       "      predict_class  probability  \n",
       "3130              0     0.925544  \n",
       "2844              0     0.972660  \n",
       "4296              0     0.605447  \n",
       "972               1     0.000543  \n",
       "78                1     0.725137  \n",
       "...             ...          ...  \n",
       "3397              0     1.000000  \n",
       "3318              0     0.861393  \n",
       "2259              0     0.956870  \n",
       "1656              1     0.003627  \n",
       "1938              1     0.643368  \n",
       "\n",
       "[942 rows x 4 columns]"
      ]
     },
     "execution_count": 116,
     "metadata": {},
     "output_type": "execute_result"
    }
   ],
   "source": [
    "test_df"
   ]
  },
  {
   "cell_type": "code",
   "execution_count": 117,
   "id": "0cb79c28",
   "metadata": {},
   "outputs": [
    {
     "data": {
      "text/html": [
       "<div>\n",
       "<style scoped>\n",
       "    .dataframe tbody tr th:only-of-type {\n",
       "        vertical-align: middle;\n",
       "    }\n",
       "\n",
       "    .dataframe tbody tr th {\n",
       "        vertical-align: top;\n",
       "    }\n",
       "\n",
       "    .dataframe thead th {\n",
       "        text-align: right;\n",
       "    }\n",
       "</style>\n",
       "<table border=\"1\" class=\"dataframe\">\n",
       "  <thead>\n",
       "    <tr style=\"text-align: right;\">\n",
       "      <th></th>\n",
       "      <th>title_clean</th>\n",
       "      <th>actual_class</th>\n",
       "      <th>predict_class</th>\n",
       "      <th>probability</th>\n",
       "    </tr>\n",
       "  </thead>\n",
       "  <tbody>\n",
       "    <tr>\n",
       "      <th>4079</th>\n",
       "      <td>totka zelink fan animation the want some atten...</td>\n",
       "      <td>0</td>\n",
       "      <td>1</td>\n",
       "      <td>0.044652</td>\n",
       "    </tr>\n",
       "    <tr>\n",
       "      <th>3021</th>\n",
       "      <td>wwtp jeff grubb apologizes for mistaken port r...</td>\n",
       "      <td>0</td>\n",
       "      <td>1</td>\n",
       "      <td>0.881611</td>\n",
       "    </tr>\n",
       "    <tr>\n",
       "      <th>991</th>\n",
       "      <td>ay lakituman where s the fricking art by scott...</td>\n",
       "      <td>1</td>\n",
       "      <td>0</td>\n",
       "      <td>0.898454</td>\n",
       "    </tr>\n",
       "    <tr>\n",
       "      <th>4240</th>\n",
       "      <td>and we never saw it again</td>\n",
       "      <td>0</td>\n",
       "      <td>1</td>\n",
       "      <td>0.007468</td>\n",
       "    </tr>\n",
       "    <tr>\n",
       "      <th>1283</th>\n",
       "      <td>all right the title wa revealed let ago</td>\n",
       "      <td>1</td>\n",
       "      <td>0</td>\n",
       "      <td>0.680941</td>\n",
       "    </tr>\n",
       "    <tr>\n",
       "      <th>3109</th>\n",
       "      <td>what is the point in these stone i see them ev...</td>\n",
       "      <td>0</td>\n",
       "      <td>1</td>\n",
       "      <td>0.833215</td>\n",
       "    </tr>\n",
       "    <tr>\n",
       "      <th>663</th>\n",
       "      <td>my pitch for a spin off</td>\n",
       "      <td>1</td>\n",
       "      <td>0</td>\n",
       "      <td>0.701827</td>\n",
       "    </tr>\n",
       "    <tr>\n",
       "      <th>1343</th>\n",
       "      <td>corporate would like you to find the differenc...</td>\n",
       "      <td>1</td>\n",
       "      <td>0</td>\n",
       "      <td>0.899535</td>\n",
       "    </tr>\n",
       "    <tr>\n",
       "      <th>3845</th>\n",
       "      <td>to defeat for the fifth lol</td>\n",
       "      <td>0</td>\n",
       "      <td>1</td>\n",
       "      <td>0.080361</td>\n",
       "    </tr>\n",
       "    <tr>\n",
       "      <th>4139</th>\n",
       "      <td>and</td>\n",
       "      <td>0</td>\n",
       "      <td>1</td>\n",
       "      <td>0.586904</td>\n",
       "    </tr>\n",
       "  </tbody>\n",
       "</table>\n",
       "</div>"
      ],
      "text/plain": [
       "                                            title_clean  actual_class  \\\n",
       "4079  totka zelink fan animation the want some atten...             0   \n",
       "3021  wwtp jeff grubb apologizes for mistaken port r...             0   \n",
       "991   ay lakituman where s the fricking art by scott...             1   \n",
       "4240                          and we never saw it again             0   \n",
       "1283            all right the title wa revealed let ago             1   \n",
       "3109  what is the point in these stone i see them ev...             0   \n",
       "663                             my pitch for a spin off             1   \n",
       "1343  corporate would like you to find the differenc...             1   \n",
       "3845                        to defeat for the fifth lol             0   \n",
       "4139                                                and             0   \n",
       "\n",
       "      predict_class  probability  \n",
       "4079              1     0.044652  \n",
       "3021              1     0.881611  \n",
       "991               0     0.898454  \n",
       "4240              1     0.007468  \n",
       "1283              0     0.680941  \n",
       "3109              1     0.833215  \n",
       "663               0     0.701827  \n",
       "1343              0     0.899535  \n",
       "3845              1     0.080361  \n",
       "4139              1     0.586904  "
      ]
     },
     "execution_count": 117,
     "metadata": {},
     "output_type": "execute_result"
    }
   ],
   "source": [
    "false_df = test_df[test_df['actual_class'] != \n",
    "                   test_df['predict_class']]\n",
    "false_df.head(10)"
   ]
  },
  {
   "cell_type": "markdown",
   "id": "2d470de5",
   "metadata": {},
   "source": [
    "## Discussion and Limitation"
   ]
  },
  {
   "cell_type": "markdown",
   "id": "791745eb",
   "metadata": {},
   "source": [
    "- We should use more data from other social media platforms to better understand the difference between Mario and Zelda fans so that we could target advertising campaigns accordingly. \n",
    "- Additionally, gamers on different platforms tend to display a unique pattern of behaviour to fit in with the group.\n",
    "- Future models would include “cheat words” and character names for classifying fan email classification for the design team to better understand characteristics and improve on weak characters."
   ]
  },
  {
   "cell_type": "code",
   "execution_count": 118,
   "id": "95dfd341",
   "metadata": {},
   "outputs": [
    {
     "data": {
      "text/plain": [
       "array([[0.790482, 0.209518]])"
      ]
     },
     "execution_count": 118,
     "metadata": {},
     "output_type": "execute_result"
    }
   ],
   "source": [
    "gs_cvec_log.predict_proba([\"I want to play adventure game\"])\n",
    "# The model predict Zelda game correctly."
   ]
  },
  {
   "cell_type": "code",
   "execution_count": 119,
   "id": "df8657f1",
   "metadata": {},
   "outputs": [
    {
     "data": {
      "text/plain": [
       "array([[0.35319688, 0.64680312]])"
      ]
     },
     "execution_count": 119,
     "metadata": {},
     "output_type": "execute_result"
    }
   ],
   "source": [
    "gs_cvec_log.predict_proba([\"best.\"])\n",
    "# The model predict post with the word \"best\" to Mario reddit."
   ]
  },
  {
   "cell_type": "code",
   "execution_count": 120,
   "id": "fb564fe2",
   "metadata": {},
   "outputs": [
    {
     "data": {
      "text/plain": [
       "array([[0.34184149, 0.65815851]])"
      ]
     },
     "execution_count": 120,
     "metadata": {},
     "output_type": "execute_result"
    }
   ],
   "source": [
    "gs_cvec_log.predict_proba([\"This palace drawing is the best.\"])\n",
    "# The model incorrectly predict Mario as it predicts post with the word \"best\" to Mario reddit."
   ]
  },
  {
   "cell_type": "markdown",
   "id": "dc14ad06",
   "metadata": {},
   "source": [
    "There are a few issues for this model:\n",
    "1. The model uses Reddit title posts which are likely to have 10 or fewer words. This could result in insufficient context for prediction. So, we should remove posts with less than 10 words.\n",
    "2. The misprediction is likely to be considerably higher when implement in other social media as the model does not learn enough characteristics of the game. We should combine multiple data sources to fix this."
   ]
  },
  {
   "cell_type": "markdown",
   "id": "d9d1026f",
   "metadata": {},
   "source": [
    "## Conclusion"
   ]
  },
  {
   "cell_type": "markdown",
   "id": "a28e819c",
   "metadata": {},
   "source": [
    "- Mario's and Zelda's Reddit is quite different and easy to identify as the model can predict with an **accuracy of over 90%** after removing characters' names, game titles and movie-related words.\n",
    "- **Mario Reddit** is more focused on the looks of **characters and memes**. Moreover, there are considerable numbers of designs and fans for the franchise.\n",
    "- **Zelda Reddit** is more focused on **art** with the community-led event of the \"linktober\". Moreover, there are considerable discussions on **gameplay**-specific topics such as a boss event, seasonal event and story.\n"
   ]
  },
  {
   "cell_type": "markdown",
   "id": "4d4daa6f",
   "metadata": {},
   "source": [
    "## Recommendation"
   ]
  },
  {
   "cell_type": "markdown",
   "id": "a10fc026",
   "metadata": {},
   "source": [
    "- We should use more data from other social media platforms to better understand the difference between Mario and Zelda fans so that we could target advertising campaigns accordingly. \n",
    "- Additionally, gamers on different platforms tend to display a unique pattern of behaviour to fit in with the group."
   ]
  }
 ],
 "metadata": {
  "kernelspec": {
   "display_name": "Python 3 (ipykernel)",
   "language": "python",
   "name": "python3"
  },
  "language_info": {
   "codemirror_mode": {
    "name": "ipython",
    "version": 3
   },
   "file_extension": ".py",
   "mimetype": "text/x-python",
   "name": "python",
   "nbconvert_exporter": "python",
   "pygments_lexer": "ipython3",
   "version": "3.9.12"
  },
  "toc": {
   "base_numbering": 1,
   "nav_menu": {},
   "number_sections": true,
   "sideBar": true,
   "skip_h1_title": false,
   "title_cell": "Table of Contents",
   "title_sidebar": "Contents",
   "toc_cell": false,
   "toc_position": {},
   "toc_section_display": true,
   "toc_window_display": false
  }
 },
 "nbformat": 4,
 "nbformat_minor": 5
}
